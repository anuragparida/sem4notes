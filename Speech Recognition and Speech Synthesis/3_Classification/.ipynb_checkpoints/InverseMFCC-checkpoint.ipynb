{
 "cells": [
  {
   "cell_type": "markdown",
   "id": "6395a012-b73f-4c2a-8762-20bc8f5810e4",
   "metadata": {},
   "source": [
    "# Inversion of MFCC\n",
    "Voice control algorithms usually transform a spectrogram into MFCC and use these as input feature for a classification algorithm. If it would be possible to estimate a spectrogram out of the MFCC, it would be possible to transform a text into a spectrogram and also into a time domain signal. By this, a simple text to speech algorithm can be defined."
   ]
  },
  {
   "cell_type": "code",
   "execution_count": 7,
   "id": "26263242-7c33-4219-9389-9fe82bdd7092",
   "metadata": {},
   "outputs": [],
   "source": [
    "import numpy as np\n",
    "import tensorflow as tf\n",
    "from tqdm import tqdm\n",
    "import os\n",
    "os.chdir('../Python')\n",
    "\n",
    "import TrainingsDataInterface\n",
    "import Constants\n",
    "import RTISI\n",
    "import WaveInterface\n",
    "import TrainingsInterface\n",
    "import StreamToBlockConverter\n",
    "import BlockToSpectrogramConverter\n",
    "import AutomaticGainControl\n",
    "import MFCC\n",
    "import PsychoAcousticSpectrogram\n",
    "\n",
    "TempFolder = \"NeuralNetworks/InverseMFCC\"\n",
    "FilenameData = TempFolder + '/Data.npz'\n",
    "try:\n",
    "    os.mkdir(TempFolder)\n",
    "except:\n",
    "    pass"
   ]
  },
  {
   "cell_type": "code",
   "execution_count": 8,
   "id": "faf25c94-3ced-4b2f-9064-01842d014fe0",
   "metadata": {},
   "outputs": [],
   "source": [
    "#x, Fs, bits = WaveInterface.ReadWave('../Audio/P501_D_EN_fm_SWB_48k.wav')\n",
    "x, Fs, bits = WaveInterface.ReadWave('../Audio/Malmsheimer48kHz.wav')\n",
    "#x, Fs, bits = ATrainingsDataInterface.GetWaveOfCommandInstance(0, 0)\n",
    "if x.shape[0] > 4*Fs: x = x[0:4*Fs]"
   ]
  },
  {
   "cell_type": "code",
   "execution_count": 9,
   "id": "9c314525-f4c7-4f56-b46f-8eac2e78bcb8",
   "metadata": {},
   "outputs": [
    {
     "name": "stdout",
     "output_type": "stream",
     "text": [
      "(38, 399)\n"
     ]
    }
   ],
   "source": [
    "def EvalMFCC(x, Fs):\n",
    "    ListOfSignalBlocks = []\n",
    "    ListOfSignalBlocks.append(StreamToBlockConverter.CStreamToBlockConverter())\n",
    "    ListOfSignalBlocks.append(BlockToSpectrogramConverter.CBlockToSpectrogramConverter())\n",
    "    ListOfSignalBlocks.append(AutomaticGainControl.CAbsoluteValues())\n",
    "    ListOfSignalBlocks.append(PsychoAcousticSpectrogram.CPsychoacousticWeighting())\n",
    "    ListOfSignalBlocks.append(MFCC.CMelFilterbank())\n",
    "    ListOfSignalBlocks.append(MFCC.CLogarithmAsSignalFlowBlock())\n",
    "    ListOfSignalBlocks.append(MFCC.CMFCC())\n",
    "    for i in range(len(ListOfSignalBlocks) - 1):\n",
    "        ListOfSignalBlocks[i].RegisterOutput(ListOfSignalBlocks[i + 1])\n",
    "    ListOfSignalBlocks[0].Initialize(Fs)\n",
    "    ListOfSignalBlocks[0].Start()\n",
    "    ListOfSignalBlocks[0].InputConnector(x)\n",
    "    return ListOfSignalBlocks[-1].GetLastOutput()\n",
    "\n",
    "Y = EvalMFCC(x, Fs)\n",
    "print(Y.shape)"
   ]
  },
  {
   "cell_type": "code",
   "execution_count": 10,
   "id": "f9698058-f68b-42b1-9e37-bda9a40f0cfb",
   "metadata": {},
   "outputs": [
    {
     "name": "stdout",
     "output_type": "stream",
     "text": [
      "(38, 399)\n"
     ]
    }
   ],
   "source": [
    "def EvalSpectrogram(x, Fs):\n",
    "    ListOfSignalBlocks = []\n",
    "    ListOfSignalBlocks.append(StreamToBlockConverter.CStreamToBlockConverter())\n",
    "    ListOfSignalBlocks.append(BlockToSpectrogramConverter.CBlockToSpectrogramConverter())\n",
    "    ListOfSignalBlocks.append(AutomaticGainControl.CAbsoluteValues())\n",
    "    ListOfSignalBlocks.append(PsychoAcousticSpectrogram.CPsychoacousticWeighting())\n",
    "    ListOfSignalBlocks.append(MFCC.CMelFilterbank())\n",
    "    for i in range(len(ListOfSignalBlocks) - 1):\n",
    "        ListOfSignalBlocks[i].RegisterOutput(ListOfSignalBlocks[i + 1])\n",
    "    ListOfSignalBlocks[0].Initialize(Fs)\n",
    "    ListOfSignalBlocks[0].Start()\n",
    "    ListOfSignalBlocks[0].InputConnector(x)\n",
    "    return ListOfSignalBlocks[-1].GetLastOutput()\n",
    "\n",
    "X = EvalSpectrogram(x, Fs)\n",
    "print(X.shape)"
   ]
  },
  {
   "cell_type": "code",
   "execution_count": 12,
   "id": "26364ded-1089-4075-abf1-bad8c85a024e",
   "metadata": {},
   "outputs": [
    {
     "name": "stderr",
     "output_type": "stream",
     "text": [
      "100%|███████████████████████████████████████████| 15/15 [02:08<00:00,  8.57s/it]\n"
     ]
    }
   ],
   "source": [
    "TimeMemoryOfInput = 3\n",
    "IsTestMode = False\n",
    "\n",
    "def GetAudioWithConstantLength(x, Fs):\n",
    "    AudioDataLengthInMilliseconds = 500\n",
    "    LengthInSamples = int(AudioDataLengthInMilliseconds * Fs / 1000)\n",
    "    if x.shape[0] < LengthInSamples:\n",
    "        y = np.concatenate((x, np.zeros((LengthInSamples - x.shape[0]))), axis = 0)\n",
    "    else:\n",
    "        E_cumsum = np.cumsum(x**2)\n",
    "        tmp = E_cumsum[LengthInSamples:]\n",
    "        tmp -= E_cumsum[:tmp.shape[0]]\n",
    "        MaxIndex = np.argmax(tmp)\n",
    "        y = x[MaxIndex:MaxIndex + LengthInSamples]\n",
    "    assert np.abs(y.shape[0] - LengthInSamples) < 1e-1, 'wrong output length'\n",
    "    return y\n",
    "\n",
    "def EvaluateAllData():\n",
    "    TrainingsCounter = 0\n",
    "    Input = None\n",
    "    ATrainingsDataInterface = TrainingsDataInterface.CTrainingsDataInterface()\n",
    "    for CommandIndex in tqdm(range(15)):#range(ATrainingsDataInterface.GetNumberOfCommands()):\n",
    "        MaxInstanceIndex = ATrainingsDataInterface.GetNumberOfCommandInstances(CommandIndex)\n",
    "        if IsTestMode and (MaxInstanceIndex > 10): MaxInstanceIndex = 10\n",
    "        for InstanceIndex in range(MaxInstanceIndex):\n",
    "            x, Fs, bits = ATrainingsDataInterface.GetWaveOfCommandInstance(CommandIndex, InstanceIndex)\n",
    "            y = GetAudioWithConstantLength(x, Fs)\n",
    "            X = EvalSpectrogram(y, Fs)\n",
    "            Y = EvalMFCC(y, Fs)\n",
    "            assert np.amin(X) >= 0.0, 'spectrogram should be greater or equal zero'   \n",
    "            if Input is None:\n",
    "                Input = np.zeros((250000, Y.shape[0], TimeMemoryOfInput))\n",
    "                Output = np.zeros((Input.shape[0], X.shape[0]))\n",
    "            idx1 = 0\n",
    "            idx2 = Input.shape[2]\n",
    "            while idx2 < Y.shape[1]:\n",
    "                Input[TrainingsCounter, :, :] = Y[:, idx1:idx2]\n",
    "                Output[TrainingsCounter, :] = X[:, idx2]\n",
    "                idx1 += 1\n",
    "                idx2 += 1\n",
    "                TrainingsCounter += 1\n",
    "    \n",
    "    # partitioning in training, validation, test\n",
    "    PercentageTraining = 0.8\n",
    "    PercentageValidation = 0.1\n",
    "    PercentageTest = 1.0 - PercentageTraining - PercentageValidation\n",
    "    assert PercentageTest > 0.0, 'wrong partitioning between training, validation and test'\n",
    "    LastIndexTraining = int(TrainingsCounter * PercentageTraining)\n",
    "    LastIndexValidation = int(TrainingsCounter * (PercentageTraining + PercentageValidation))\n",
    "    Input_Training = Input[:LastIndexTraining, ...]\n",
    "    Output_Training = Output[:LastIndexTraining, ...]\n",
    "    Input_Validation = Input[LastIndexTraining:LastIndexValidation, ...]\n",
    "    Output_Validation = Output[LastIndexTraining:LastIndexValidation, ...]\n",
    "    Input_Test = Input[LastIndexValidation:TrainingsCounter, ...]\n",
    "    Output_Test = Output[LastIndexValidation:TrainingsCounter, ...]\n",
    "    del Input\n",
    "    del Output\n",
    "    return Input_Training, Output_Training, Input_Validation, Output_Validation, Input_Test, Output_Test\n",
    "\n",
    "Input_Training, Output_Training, Input_Validation, Output_Validation, Input_Test, Output_Test = EvaluateAllData()\n",
    "np.savez(FilenameData, x0 = Input_Training, x1 = Output_Training, x2 = Input_Test, x3 = Output_Test, x4 = Input_Validation, x5 = Output_Validation)\n"
   ]
  },
  {
   "cell_type": "code",
   "execution_count": 13,
   "id": "a355aaa8-96a5-4d88-bde3-22804fd02579",
   "metadata": {},
   "outputs": [
    {
     "name": "stdout",
     "output_type": "stream",
     "text": [
      "number of trainings samples:  137448\n",
      "number of validation samples:  17181\n",
      "number of test samples:  17181\n"
     ]
    }
   ],
   "source": [
    "def GetAllData():    \n",
    "    try:\n",
    "        data = np.load(FilenameData)\n",
    "        Input_Training = data['x0']\n",
    "        Output_Training = data['x1']\n",
    "        Input_Test = data['x2']\n",
    "        Output_Test = data['x3']\n",
    "        Input_Validation = data['x4']\n",
    "        Output_Validation = data['x5']\n",
    "    except:\n",
    "        Input_Training, Output_Training, Input_Validation, Output_Validation, Input_Test, Output_Test = EvaluateAllData()\n",
    "        np.savez(FilenameData, x0 = Input_Training, x1 = Output_Training, x2 = Input_Test, x3 = Output_Test, x4 = Input_Validation, x5 = Output_Validation)\n",
    "    return Input_Training, Output_Training, Input_Validation, Output_Validation, Input_Test, Output_Test\n",
    "\n",
    "Input_Training, Output_Training, Input_Validation, Output_Validation, Input_Test, Output_Test = GetAllData()\n",
    "print('number of trainings samples: ', Input_Training.shape[0])\n",
    "print('number of validation samples: ', Input_Validation.shape[0])\n",
    "print('number of test samples: ', Input_Test.shape[0])"
   ]
  },
  {
   "cell_type": "code",
   "execution_count": 14,
   "id": "92e92dbb-e6dc-4c1a-ba98-2f36837d3f3b",
   "metadata": {},
   "outputs": [
    {
     "name": "stderr",
     "output_type": "stream",
     "text": [
      "2023-12-03 12:43:36.251998: I external/local_xla/xla/stream_executor/cuda/cuda_executor.cc:901] successful NUMA node read from SysFS had negative value (-1), but there must be at least one NUMA node, so returning NUMA node zero. See more at https://github.com/torvalds/linux/blob/v6.0/Documentation/ABI/testing/sysfs-bus-pci#L344-L355\n",
      "2023-12-03 12:43:36.350307: W tensorflow/core/common_runtime/gpu/gpu_device.cc:2256] Cannot dlopen some GPU libraries. Please make sure the missing libraries mentioned above are installed properly if you would like to use GPU. Follow the guide at https://www.tensorflow.org/install/gpu for how to download and setup the required libraries for your platform.\n",
      "Skipping registering GPU devices...\n"
     ]
    }
   ],
   "source": [
    "model = tf.keras.Sequential([\n",
    "    tf.keras.layers.Flatten(input_shape=(Input_Training.shape[1], Input_Training.shape[2])),\n",
    "    tf.keras.layers.BatchNormalization(),\n",
    "    tf.keras.layers.Dense(500, activation='LeakyReLU'),\n",
    "    tf.keras.layers.Dense(200, activation='LeakyReLU'),\n",
    "    tf.keras.layers.Dense(50, activation='LeakyReLU'),\n",
    "    tf.keras.layers.Dense(Output_Training.shape[1], activation='ReLU')\n",
    "])\n",
    "\n",
    "model.compile(optimizer='adam',\n",
    "              loss=tf.keras.losses.MeanSquaredError())"
   ]
  },
  {
   "cell_type": "code",
   "execution_count": 15,
   "id": "96be3442-0ab3-48e3-9e0c-8a06c9efb69c",
   "metadata": {},
   "outputs": [
    {
     "name": "stdout",
     "output_type": "stream",
     "text": [
      "problem loading old weights, starting with scratch new network\n"
     ]
    }
   ],
   "source": [
    "checkpoint_path = TempFolder + \"/cp.ckpt\"\n",
    "checkpoint_dir = os.path.dirname(checkpoint_path)\n",
    "cbCheckpoints = tf.keras.callbacks.ModelCheckpoint(filepath=checkpoint_path,\n",
    "                                                 save_weights_only=True,\n",
    "                                                 verbose=1)\n",
    "cbEarlyStopping = tf.keras.callbacks.EarlyStopping(monitor='val_loss', patience=5)\n",
    "\n",
    "try:\n",
    "    model.load_weights(checkpoint_path)\n",
    "except:\n",
    "    print('problem loading old weights, starting with scratch new network')"
   ]
  },
  {
   "cell_type": "code",
   "execution_count": 16,
   "id": "5790cde4-fc58-4a41-9adb-4717a18565d0",
   "metadata": {},
   "outputs": [
    {
     "name": "stdout",
     "output_type": "stream",
     "text": [
      "Epoch 1/1000\n"
     ]
    },
    {
     "name": "stderr",
     "output_type": "stream",
     "text": [
      "2023-12-03 12:43:39.567479: W external/local_tsl/tsl/framework/cpu_allocator_impl.cc:83] Allocation of 62676288 exceeds 10% of free system memory.\n"
     ]
    },
    {
     "name": "stdout",
     "output_type": "stream",
     "text": [
      "4291/4296 [============================>.] - ETA: 0s - loss: 5.7888e-07\n",
      "Epoch 1: saving model to NeuralNetworks/InverseMFCC/cp.ckpt\n",
      "4296/4296 [==============================] - 10s 2ms/step - loss: 5.7833e-07 - val_loss: 2.3956e-08\n",
      "Epoch 2/1000\n",
      "4276/4296 [============================>.] - ETA: 0s - loss: 3.0379e-08\n",
      "Epoch 2: saving model to NeuralNetworks/InverseMFCC/cp.ckpt\n",
      "4296/4296 [==============================] - 9s 2ms/step - loss: 3.0391e-08 - val_loss: 2.6874e-08\n",
      "Epoch 3/1000\n",
      "4283/4296 [============================>.] - ETA: 0s - loss: 3.4347e-08\n",
      "Epoch 3: saving model to NeuralNetworks/InverseMFCC/cp.ckpt\n",
      "4296/4296 [==============================] - 10s 2ms/step - loss: 3.4348e-08 - val_loss: 2.4967e-08\n",
      "Epoch 4/1000\n",
      "4293/4296 [============================>.] - ETA: 0s - loss: 3.0384e-08\n",
      "Epoch 4: saving model to NeuralNetworks/InverseMFCC/cp.ckpt\n",
      "4296/4296 [==============================] - 9s 2ms/step - loss: 3.0394e-08 - val_loss: 2.3963e-08\n",
      "Epoch 5/1000\n",
      "4291/4296 [============================>.] - ETA: 0s - loss: 3.0411e-08\n",
      "Epoch 5: saving model to NeuralNetworks/InverseMFCC/cp.ckpt\n",
      "4296/4296 [==============================] - 9s 2ms/step - loss: 3.0407e-08 - val_loss: 2.3657e-08\n",
      "Epoch 6/1000\n",
      "4292/4296 [============================>.] - ETA: 0s - loss: 3.0370e-08\n",
      "Epoch 6: saving model to NeuralNetworks/InverseMFCC/cp.ckpt\n",
      "4296/4296 [==============================] - 10s 2ms/step - loss: 3.0372e-08 - val_loss: 2.3657e-08\n",
      "Epoch 7/1000\n",
      "4273/4296 [============================>.] - ETA: 0s - loss: 3.0343e-08\n",
      "Epoch 7: saving model to NeuralNetworks/InverseMFCC/cp.ckpt\n",
      "4296/4296 [==============================] - 10s 2ms/step - loss: 3.0372e-08 - val_loss: 2.3657e-08\n",
      "Epoch 8/1000\n",
      "4291/4296 [============================>.] - ETA: 0s - loss: 3.0366e-08\n",
      "Epoch 8: saving model to NeuralNetworks/InverseMFCC/cp.ckpt\n",
      "4296/4296 [==============================] - 9s 2ms/step - loss: 3.0372e-08 - val_loss: 2.3657e-08\n",
      "Epoch 9/1000\n",
      "4287/4296 [============================>.] - ETA: 0s - loss: 3.0379e-08\n",
      "Epoch 9: saving model to NeuralNetworks/InverseMFCC/cp.ckpt\n",
      "4296/4296 [==============================] - 9s 2ms/step - loss: 3.0372e-08 - val_loss: 2.3657e-08\n",
      "Epoch 10/1000\n",
      "4282/4296 [============================>.] - ETA: 0s - loss: 3.0377e-08\n",
      "Epoch 10: saving model to NeuralNetworks/InverseMFCC/cp.ckpt\n",
      "4296/4296 [==============================] - 11s 2ms/step - loss: 3.0372e-08 - val_loss: 2.3657e-08\n",
      "training finished after  10  epochs\n"
     ]
    }
   ],
   "source": [
    "history = model.fit(Input_Training, Output_Training, epochs=1000,\n",
    "                    validation_data=(Input_Validation, Output_Validation),\n",
    "                    callbacks=[cbEarlyStopping, cbCheckpoints], verbose = 1)\n",
    "print('training finished after ', len(history.history['loss']), ' epochs')"
   ]
  },
  {
   "cell_type": "code",
   "execution_count": 18,
   "id": "55cb3387-7cfd-4c36-97e2-a7a6f240daaa",
   "metadata": {},
   "outputs": [
    {
     "name": "stdout",
     "output_type": "stream",
     "text": [
      "537/537 [==============================] - 0s 861us/step\n",
      "mean SNR of prediction =  0.0  dB\n"
     ]
    }
   ],
   "source": [
    "SNR = 0.0\n",
    "y = model.predict(Input_Test)\n",
    "for SampleIndex in range(Input_Test.shape[0]):\n",
    "    x = Output_Test[SampleIndex, :]\n",
    "    SNR += 10*np.log10(np.sum(x**2) / np.sum((x-y[SampleIndex, :])**2))\n",
    "SNR /= Input_Test.shape[0]\n",
    "print('mean SNR of prediction = ', SNR, ' dB')"
   ]
  },
  {
   "cell_type": "markdown",
   "id": "401dd3c0-c529-4b1c-8d96-76ec2d799c5c",
   "metadata": {},
   "source": [
    "## Programming exercise\n",
    "\n",
    "Try different model architectures in order to increase the accuracy of the model:\n",
    "\n",
    "1) Try to increase the number of layers by inserting new layers:\n",
    "   \n",
    "   tf.keras.layers.Dense(units = NumberOfNeurons, activation='LeakyReLU').\n",
    "\n",
    "2) Try to increase the number of neurons per layer by increasing the parameter units:\n",
    "\n",
    "   tf.keras.layers.Dense(units = NumberOfNeurons, activation='LeakyReLU').\n",
    "\n",
    "3) Try to insert regularization layers, e.g.\n",
    "\n",
    "   tf.keras.layers.Dropout(.2),\n",
    "\n",
    "   tf.keras.layers.BatchNormalization() or others.\n",
    "\n",
    "4) Try to modify the dense layers with weight regularizers, as shown in the following:\n",
    "\n",
    "    tf.keras.layers.Dense(\n",
    "    units=NumberOfNeurons,\n",
    "    kernel_regularizer=regularizers.L1L2(l1=1e-5, l2=1e-4),\n",
    "    bias_regularizer=regularizers.L2(1e-4),\n",
    "    activity_regularizer=regularizers.L2(1e-5)\n",
    ")"
   ]
  },
  {
   "cell_type": "markdown",
   "id": "16d8200d-dd43-48d3-b95d-d414456283e7",
   "metadata": {},
   "source": [
    "## Exam preparation\n",
    "\n",
    "1) Can you invert a linear operation $y_j=T\\cdot x_i=sum_{i=0}^{I-1}T(j,i)\\cdot x_i$ for $0\\leq j<J$? Yes, if $I=J$ and if the matrix $T$ is invertible. Otherwise, only the pseudo inverse can be used for inverting the linear operation.\n",
    "\n",
    "2) Is the evaluation of the MFCC a linear operation?"
   ]
  }
 ],
 "metadata": {
  "kernelspec": {
   "display_name": "Python 3 (ipykernel)",
   "language": "python",
   "name": "python3"
  },
  "language_info": {
   "codemirror_mode": {
    "name": "ipython",
    "version": 3
   },
   "file_extension": ".py",
   "mimetype": "text/x-python",
   "name": "python",
   "nbconvert_exporter": "python",
   "pygments_lexer": "ipython3",
   "version": "3.10.12"
  }
 },
 "nbformat": 4,
 "nbformat_minor": 5
}
