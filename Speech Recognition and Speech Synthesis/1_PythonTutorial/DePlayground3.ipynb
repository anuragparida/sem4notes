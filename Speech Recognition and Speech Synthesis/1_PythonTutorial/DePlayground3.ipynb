{
 "cells": [
  {
   "cell_type": "code",
   "execution_count": 4,
   "id": "de6cdd70-486a-47e4-b9a0-16b018f59888",
   "metadata": {},
   "outputs": [
    {
     "name": "stdout",
     "output_type": "stream",
     "text": [
      "38.48451000647496\n",
      "78.53981633974483\n"
     ]
    }
   ],
   "source": [
    "# Procedures\n",
    "# zusammenfassen von code\n",
    "import numpy as np\n",
    "\n",
    "radius = 3.5\n",
    "Area1 = np.pi*(radius**2)\n",
    "print(Area1)\n",
    "\n",
    "radius = 5\n",
    "Area2 = np.pi*(radius**2)\n",
    "print(Area2)\n",
    "\n",
    "# sehr schlechter Code: weil Codezeilen wiederholt werden\n",
    "# Grundregel: DRY - Dont repeat yourself"
   ]
  },
  {
   "cell_type": "code",
   "execution_count": 9,
   "id": "a0e19bc8-fb52-4571-ba89-1dc545ee0bb3",
   "metadata": {},
   "outputs": [
    {
     "name": "stdout",
     "output_type": "stream",
     "text": [
      "38.48451000647496\n",
      "78.53981633974483\n"
     ]
    }
   ],
   "source": [
    "def EvalAreaCircle(radius):\n",
    "    Area = np.pi * (radius**2)\n",
    "    return Area\n",
    "\n",
    "print(EvalAreaCircle(3.5))\n",
    "print(EvalAreaCircle(5.0))"
   ]
  },
  {
   "cell_type": "code",
   "execution_count": 16,
   "id": "e108e419-c0d2-4ef9-a5aa-487e659f707e",
   "metadata": {},
   "outputs": [
    {
     "name": "stdout",
     "output_type": "stream",
     "text": [
      "8\n",
      "4\n",
      "1\n",
      "-5\n"
     ]
    }
   ],
   "source": [
    "def MySum(a = 0, b = 1):\n",
    "    return a + b\n",
    "\n",
    "print(MySum(3,5))\n",
    "print(MySum(3))\n",
    "print(MySum())\n",
    "\n",
    "def MyDiff(a = 0, b = 5):\n",
    "    return a - b\n",
    "\n",
    "print(MyDiff(b = 5))"
   ]
  },
  {
   "cell_type": "code",
   "execution_count": 26,
   "id": "c9e35db9-f068-4df9-a8d8-504e662ff72d",
   "metadata": {},
   "outputs": [
    {
     "name": "stdout",
     "output_type": "stream",
     "text": [
      "153\n"
     ]
    }
   ],
   "source": [
    "# loops in Prozeduren\n",
    "def CumulatedSumUntilN(N):\n",
    "    result = 0\n",
    "    # for loop zum aufaddieren\n",
    "    for n in range(N+1):\n",
    "        result += n\n",
    "    return result\n",
    "\n",
    "print(CumulatedSumUntilN(17))"
   ]
  },
  {
   "cell_type": "code",
   "execution_count": 29,
   "id": "101e4fa9-119f-43fb-851f-fc76878713ef",
   "metadata": {},
   "outputs": [
    {
     "name": "stdout",
     "output_type": "stream",
     "text": [
      "97.03537555513248\n"
     ]
    }
   ],
   "source": [
    "# loops in Prozeduren\n",
    "# Clean Code / sauberer Code: Prozedurennamen müssen verständlich sein\n",
    "# und natürlich zu dem Inhalt passen.\n",
    "def SumUp5SquaredNumbers(N):\n",
    "    result = 0.0\n",
    "    # for loop zum aufaddieren\n",
    "    for n in range(N):\n",
    "        IntermediateSum = 0.0\n",
    "        for m in range(5):\n",
    "            IntermediateSum += m**2\n",
    "            IntermediateSum -= n\n",
    "            IntermediateSum += np.pi\n",
    "        result += IntermediateSum\n",
    "    return result\n",
    "\n",
    "print(SumUp5SquaredNumbers(17))"
   ]
  },
  {
   "cell_type": "code",
   "execution_count": 28,
   "id": "290a48a9-92ce-4fc1-9799-cb735d354ea3",
   "metadata": {},
   "outputs": [],
   "source": [
    "# automatisches Tests: assert\n",
    "# (utopisches) Ziel: 50:50 Business Code und asserts\n",
    "# assert Boolean Expression, error message\n",
    "assert np.abs(CumulatedSumUntilN(3) - 6) < 1e-10, 'error in CumulatedSumUntilN(3)==6'"
   ]
  },
  {
   "cell_type": "code",
   "execution_count": 30,
   "id": "d497381c-496c-4b37-a6ac-9b197e65232c",
   "metadata": {},
   "outputs": [
    {
     "name": "stdout",
     "output_type": "stream",
     "text": [
      "97.03537555513248\n"
     ]
    }
   ],
   "source": [
    "# nie zu viele Einrückungen verwenden\n",
    "# Tipp: jede Einrückung kann fast immer wie eine Prozedur betrachtet werden\n",
    "def EvalIntermediateSum(n):\n",
    "    IntermediateSum = 0.0\n",
    "    for m in range(5):\n",
    "        IntermediateSum += m**2\n",
    "        IntermediateSum -= n\n",
    "        IntermediateSum += np.pi  \n",
    "    return IntermediateSum\n",
    "\n",
    "def SumUp5SquaredNumbers(N):\n",
    "    result = 0.0\n",
    "    # for loop zum aufaddieren\n",
    "    for n in range(N):\n",
    "        result += EvalIntermediateSum(n)\n",
    "    return result\n",
    "\n",
    "print(SumUp5SquaredNumbers(17))"
   ]
  },
  {
   "cell_type": "code",
   "execution_count": 36,
   "id": "7ac416ac-4fdc-4779-9e27-f9b9a6a1c690",
   "metadata": {},
   "outputs": [
    {
     "name": "stdout",
     "output_type": "stream",
     "text": [
      "         43 function calls in 1.379 seconds\n",
      "\n",
      "   Ordered by: standard name\n",
      "\n",
      "   ncalls  tottime  percall  cumtime  percall filename:lineno(function)\n",
      "        1    0.000    0.000    1.379    1.379 3663630034.py:1(DoMatrixStuff)\n",
      "        1    0.000    0.000    1.329    1.329 <__array_function__ internals>:177(lstsq)\n",
      "        1    0.000    0.000    1.379    1.379 <string>:1(<module>)\n",
      "        1    0.000    0.000    0.000    0.000 getlimits.py:476(__new__)\n",
      "        1    0.000    0.000    0.000    0.000 linalg.py:107(get_linalg_error_extobj)\n",
      "        2    0.000    0.000    0.000    0.000 linalg.py:112(_makearray)\n",
      "        3    0.000    0.000    0.000    0.000 linalg.py:117(isComplexType)\n",
      "        3    0.000    0.000    0.000    0.000 linalg.py:130(_realType)\n",
      "        1    0.000    0.000    0.000    0.000 linalg.py:136(_commonType)\n",
      "        1    0.000    0.000    0.000    0.000 linalg.py:174(_assert_2d)\n",
      "        1    0.000    0.000    0.000    0.000 linalg.py:2146(_lstsq_dispatcher)\n",
      "        1    1.329    1.329    1.329    1.329 linalg.py:2150(lstsq)\n",
      "        1    0.000    0.000    1.379    1.379 {built-in method builtins.exec}\n",
      "        2    0.000    0.000    0.000    0.000 {built-in method builtins.getattr}\n",
      "        5    0.000    0.000    0.000    0.000 {built-in method builtins.issubclass}\n",
      "        1    0.000    0.000    0.000    0.000 {built-in method builtins.max}\n",
      "        1    0.000    0.000    0.000    0.000 {built-in method numpy.array}\n",
      "        2    0.000    0.000    0.000    0.000 {built-in method numpy.asarray}\n",
      "        1    0.000    0.000    1.329    1.329 {built-in method numpy.core._multiarray_umath.implement_array_function}\n",
      "        2    0.000    0.000    0.000    0.000 {method '__array_prepare__' of 'numpy.ndarray' objects}\n",
      "        3    0.000    0.000    0.000    0.000 {method 'astype' of 'numpy.ndarray' objects}\n",
      "        1    0.000    0.000    0.000    0.000 {method 'disable' of '_lsprof.Profiler' objects}\n",
      "        4    0.000    0.000    0.000    0.000 {method 'get' of 'dict' objects}\n",
      "        2    0.050    0.025    0.050    0.025 {method 'randn' of 'numpy.random.mtrand.RandomState' objects}\n",
      "        1    0.000    0.000    0.000    0.000 {method 'squeeze' of 'numpy.ndarray' objects}\n",
      "\n",
      "\n"
     ]
    },
    {
     "ename": "TypeError",
     "evalue": "unsupported operand type(s) for ** or pow(): 'tuple' and 'float'",
     "output_type": "error",
     "traceback": [
      "\u001b[1;31m---------------------------------------------------------------------------\u001b[0m",
      "\u001b[1;31mTypeError\u001b[0m                                 Traceback (most recent call last)",
      "Cell \u001b[1;32mIn[36], line 13\u001b[0m\n\u001b[0;32m      9\u001b[0m \u001b[38;5;66;03m#DoMatrixStuff(10)\u001b[39;00m\n\u001b[0;32m     10\u001b[0m \n\u001b[0;32m     11\u001b[0m \u001b[38;5;66;03m# testen auf Laufzeit\u001b[39;00m\n\u001b[0;32m     12\u001b[0m \u001b[38;5;28;01mimport\u001b[39;00m \u001b[38;5;21;01mcProfile\u001b[39;00m\n\u001b[1;32m---> 13\u001b[0m \u001b[43mcProfile\u001b[49m\u001b[38;5;241;43m.\u001b[39;49m\u001b[43mrun\u001b[49m\u001b[43m(\u001b[49m\u001b[38;5;124;43m'\u001b[39;49m\u001b[38;5;124;43mDoMatrixStuff(1000)\u001b[39;49m\u001b[38;5;124;43m'\u001b[39;49m\u001b[43m)\u001b[49m\n",
      "File \u001b[1;32m~\\AppData\\Local\\Programs\\Python\\Python311\\Lib\\cProfile.py:17\u001b[0m, in \u001b[0;36mrun\u001b[1;34m(statement, filename, sort)\u001b[0m\n\u001b[0;32m     16\u001b[0m \u001b[38;5;28;01mdef\u001b[39;00m \u001b[38;5;21mrun\u001b[39m(statement, filename\u001b[38;5;241m=\u001b[39m\u001b[38;5;28;01mNone\u001b[39;00m, sort\u001b[38;5;241m=\u001b[39m\u001b[38;5;241m-\u001b[39m\u001b[38;5;241m1\u001b[39m):\n\u001b[1;32m---> 17\u001b[0m     \u001b[38;5;28;01mreturn\u001b[39;00m \u001b[43m_pyprofile\u001b[49m\u001b[38;5;241;43m.\u001b[39;49m\u001b[43m_Utils\u001b[49m\u001b[43m(\u001b[49m\u001b[43mProfile\u001b[49m\u001b[43m)\u001b[49m\u001b[38;5;241;43m.\u001b[39;49m\u001b[43mrun\u001b[49m\u001b[43m(\u001b[49m\u001b[43mstatement\u001b[49m\u001b[43m,\u001b[49m\u001b[43m \u001b[49m\u001b[43mfilename\u001b[49m\u001b[43m,\u001b[49m\u001b[43m \u001b[49m\u001b[43msort\u001b[49m\u001b[43m)\u001b[49m\n",
      "File \u001b[1;32m~\\AppData\\Local\\Programs\\Python\\Python311\\Lib\\profile.py:54\u001b[0m, in \u001b[0;36m_Utils.run\u001b[1;34m(self, statement, filename, sort)\u001b[0m\n\u001b[0;32m     52\u001b[0m prof \u001b[38;5;241m=\u001b[39m \u001b[38;5;28mself\u001b[39m\u001b[38;5;241m.\u001b[39mprofiler()\n\u001b[0;32m     53\u001b[0m \u001b[38;5;28;01mtry\u001b[39;00m:\n\u001b[1;32m---> 54\u001b[0m     \u001b[43mprof\u001b[49m\u001b[38;5;241;43m.\u001b[39;49m\u001b[43mrun\u001b[49m\u001b[43m(\u001b[49m\u001b[43mstatement\u001b[49m\u001b[43m)\u001b[49m\n\u001b[0;32m     55\u001b[0m \u001b[38;5;28;01mexcept\u001b[39;00m \u001b[38;5;167;01mSystemExit\u001b[39;00m:\n\u001b[0;32m     56\u001b[0m     \u001b[38;5;28;01mpass\u001b[39;00m\n",
      "File \u001b[1;32m~\\AppData\\Local\\Programs\\Python\\Python311\\Lib\\cProfile.py:96\u001b[0m, in \u001b[0;36mProfile.run\u001b[1;34m(self, cmd)\u001b[0m\n\u001b[0;32m     94\u001b[0m \u001b[38;5;28;01mimport\u001b[39;00m \u001b[38;5;21;01m__main__\u001b[39;00m\n\u001b[0;32m     95\u001b[0m \u001b[38;5;28mdict\u001b[39m \u001b[38;5;241m=\u001b[39m __main__\u001b[38;5;241m.\u001b[39m\u001b[38;5;18m__dict__\u001b[39m\n\u001b[1;32m---> 96\u001b[0m \u001b[38;5;28;01mreturn\u001b[39;00m \u001b[38;5;28;43mself\u001b[39;49m\u001b[38;5;241;43m.\u001b[39;49m\u001b[43mrunctx\u001b[49m\u001b[43m(\u001b[49m\u001b[43mcmd\u001b[49m\u001b[43m,\u001b[49m\u001b[43m \u001b[49m\u001b[38;5;28;43mdict\u001b[39;49m\u001b[43m,\u001b[49m\u001b[43m \u001b[49m\u001b[38;5;28;43mdict\u001b[39;49m\u001b[43m)\u001b[49m\n",
      "File \u001b[1;32m~\\AppData\\Local\\Programs\\Python\\Python311\\Lib\\cProfile.py:101\u001b[0m, in \u001b[0;36mProfile.runctx\u001b[1;34m(self, cmd, globals, locals)\u001b[0m\n\u001b[0;32m     99\u001b[0m \u001b[38;5;28mself\u001b[39m\u001b[38;5;241m.\u001b[39menable()\n\u001b[0;32m    100\u001b[0m \u001b[38;5;28;01mtry\u001b[39;00m:\n\u001b[1;32m--> 101\u001b[0m     \u001b[43mexec\u001b[49m\u001b[43m(\u001b[49m\u001b[43mcmd\u001b[49m\u001b[43m,\u001b[49m\u001b[43m \u001b[49m\u001b[38;5;28;43mglobals\u001b[39;49m\u001b[43m,\u001b[49m\u001b[43m \u001b[49m\u001b[38;5;28;43mlocals\u001b[39;49m\u001b[43m)\u001b[49m\n\u001b[0;32m    102\u001b[0m \u001b[38;5;28;01mfinally\u001b[39;00m:\n\u001b[0;32m    103\u001b[0m     \u001b[38;5;28mself\u001b[39m\u001b[38;5;241m.\u001b[39mdisable()\n",
      "File \u001b[1;32m<string>:1\u001b[0m\n",
      "Cell \u001b[1;32mIn[36], line 5\u001b[0m, in \u001b[0;36mDoMatrixStuff\u001b[1;34m(N)\u001b[0m\n\u001b[0;32m      3\u001b[0m b \u001b[38;5;241m=\u001b[39m np\u001b[38;5;241m.\u001b[39mrandom\u001b[38;5;241m.\u001b[39mrandn(N)\n\u001b[0;32m      4\u001b[0m x \u001b[38;5;241m=\u001b[39m np\u001b[38;5;241m.\u001b[39mlinalg\u001b[38;5;241m.\u001b[39mlstsq(A, b, rcond \u001b[38;5;241m=\u001b[39m \u001b[38;5;28;01mNone\u001b[39;00m)\n\u001b[1;32m----> 5\u001b[0m x_tmp \u001b[38;5;241m=\u001b[39m \u001b[43mx\u001b[49m\u001b[38;5;241;43m*\u001b[39;49m\u001b[38;5;241;43m*\u001b[39;49m\u001b[38;5;241;43m3.21\u001b[39;49m\n\u001b[0;32m      6\u001b[0m y \u001b[38;5;241m=\u001b[39m np\u001b[38;5;241m.\u001b[39mmatmul(A, x_tmp)\n\u001b[0;32m      7\u001b[0m \u001b[38;5;28;01mreturn\u001b[39;00m x\n",
      "\u001b[1;31mTypeError\u001b[0m: unsupported operand type(s) for ** or pow(): 'tuple' and 'float'"
     ]
    }
   ],
   "source": [
    "def DoMatrixStuff(N):\n",
    "    A = np.random.randn(N, N)\n",
    "    b = np.random.randn(N)\n",
    "    x = np.linalg.lstsq(A, b, rcond = None)\n",
    "    x_tmp = x**3.21\n",
    "    y = np.matmul(A, x_tmp)\n",
    "    return x\n",
    "\n",
    "#DoMatrixStuff(10)\n",
    "\n",
    "# testen auf Laufzeit\n",
    "import cProfile\n",
    "cProfile.run('DoMatrixStuff(1000)')"
   ]
  },
  {
   "cell_type": "code",
   "execution_count": null,
   "id": "a08d53db-21df-4972-a714-89476bce4dda",
   "metadata": {},
   "outputs": [],
   "source": []
  }
 ],
 "metadata": {
  "kernelspec": {
   "display_name": "Python 3 (ipykernel)",
   "language": "python",
   "name": "python3"
  },
  "language_info": {
   "codemirror_mode": {
    "name": "ipython",
    "version": 3
   },
   "file_extension": ".py",
   "mimetype": "text/x-python",
   "name": "python",
   "nbconvert_exporter": "python",
   "pygments_lexer": "ipython3",
   "version": "3.11.4"
  }
 },
 "nbformat": 4,
 "nbformat_minor": 5
}
