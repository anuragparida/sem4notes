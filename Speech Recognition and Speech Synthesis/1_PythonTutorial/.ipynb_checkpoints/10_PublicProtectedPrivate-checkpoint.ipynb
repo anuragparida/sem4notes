{
 "cells": [
  {
   "cell_type": "markdown",
   "id": "9ec71203",
   "metadata": {},
   "source": [
    "# Public, Protected and Private\n",
    "Class variables can be private, protected or public.\n",
    "Private variables are marked with two leading underscores.\n",
    "Protected variables are marked with one leading underscore.\n",
    "Public variables have no leading underscore.\n",
    "In the following Radius is private, Height is protected and Weight is public."
   ]
  },
  {
   "cell_type": "code",
   "execution_count": 3,
   "id": "ad198c1c",
   "metadata": {},
   "outputs": [
    {
     "name": "stdout",
     "output_type": "stream",
     "text": [
      "The radius of the object is:  1.0\n",
      "The height of the object is:  2.0\n",
      "The weight of the object is:  3.0\n"
     ]
    }
   ],
   "source": [
    "class CGeometricalObject(object):\n",
    "    \n",
    "    def __init__(self):\n",
    "        self.__Radius = 1.0\n",
    "        self._Height = 2.0\n",
    "        self.Weight = 3.0\n",
    "    \n",
    "    def GetRadius(self):\n",
    "        return self.__Radius\n",
    "    \n",
    "    def GetHeight(self):\n",
    "        return self._Height\n",
    "    \n",
    "    def GetWeight(self):\n",
    "        return self.Weight\n",
    "    \n",
    "AGeometricalObject = CGeometricalObject()\n",
    "print('The radius of the object is: ', AGeometricalObject.GetRadius())\n",
    "print('The height of the object is: ', AGeometricalObject.GetHeight())\n",
    "print('The weight of the object is: ', AGeometricalObject.GetWeight())"
   ]
  },
  {
   "cell_type": "markdown",
   "id": "48ea645c",
   "metadata": {},
   "source": [
    "It is not possible to access a private variable from outside a class:"
   ]
  },
  {
   "cell_type": "code",
   "execution_count": 4,
   "id": "530cfda0",
   "metadata": {},
   "outputs": [
    {
     "ename": "AttributeError",
     "evalue": "'CGeometricalObject' object has no attribute '__Radius'",
     "output_type": "error",
     "traceback": [
      "\u001b[1;31m---------------------------------------------------------------------------\u001b[0m",
      "\u001b[1;31mAttributeError\u001b[0m                            Traceback (most recent call last)",
      "Cell \u001b[1;32mIn[4], line 1\u001b[0m\n\u001b[1;32m----> 1\u001b[0m \u001b[38;5;28mprint\u001b[39m(\u001b[38;5;124m'\u001b[39m\u001b[38;5;124mtrying direct access to a private variable: \u001b[39m\u001b[38;5;124m'\u001b[39m, \u001b[43mAGeometricalObject\u001b[49m\u001b[38;5;241;43m.\u001b[39;49m\u001b[43m__Radius\u001b[49m)\n",
      "\u001b[1;31mAttributeError\u001b[0m: 'CGeometricalObject' object has no attribute '__Radius'"
     ]
    }
   ],
   "source": [
    "print('trying direct access to a private variable: ', AGeometricalObject.__Radius)"
   ]
  },
  {
   "cell_type": "markdown",
   "id": "3db63d7e",
   "metadata": {},
   "source": [
    "It is possible to access a public variable from outside a class.\n",
    "As long as you are in the same script (as here in this case), it is also possible to access a protected variable."
   ]
  },
  {
   "cell_type": "code",
   "execution_count": 5,
   "id": "57c70306",
   "metadata": {},
   "outputs": [
    {
     "name": "stdout",
     "output_type": "stream",
     "text": [
      "trying direct access to a protected variable:  2.0\n",
      "trying direct access to a public variable:  3.0\n"
     ]
    }
   ],
   "source": [
    "print('trying direct access to a protected variable: ', AGeometricalObject._Height)\n",
    "print('trying direct access to a public variable: ', AGeometricalObject.Weight)"
   ]
  },
  {
   "cell_type": "markdown",
   "id": "977b5c20",
   "metadata": {},
   "source": [
    "Additionally, it is possible to define procedures of a class as private, protected and public:"
   ]
  },
  {
   "cell_type": "code",
   "execution_count": 6,
   "id": "d82705d8",
   "metadata": {},
   "outputs": [],
   "source": [
    "class CGeometricalObject(object):\n",
    "    \n",
    "    def __init__(self):\n",
    "        self.__Radius = 1.0\n",
    "        self._Height = 2.0\n",
    "        self.Weight = 3.0\n",
    "    \n",
    "    def GetRadius(self):\n",
    "        return self.__Radius\n",
    "    \n",
    "    def GetHeight(self):\n",
    "        return self._Height\n",
    "    \n",
    "    def GetWeight(self):\n",
    "        return self.Weight\n",
    "    \n",
    "    def __EvaluateVolume(self):\n",
    "        return np.pi*(self.__Radius**2)*self._Height\n",
    "    \n",
    "    def GetVolume(self):\n",
    "        return self.__EvaluateVolume()\n",
    "    \n",
    "    def GetDensity(self):\n",
    "        return self.__EvaluateVolume() / self.Weight"
   ]
  },
  {
   "cell_type": "markdown",
   "id": "d53bc109",
   "metadata": {},
   "source": [
    "As a general coding paradigma, classes should restrict the access to their internal structure as much as possible in order to avoid any unwanted changes in the internal data structure.\n",
    "\n",
    "If you program your class interface, such that all internal variables are private and hidden from the user and only a few procedures are available from outside the class, the usage of this class should be simpler to understand for an external user."
   ]
  },
  {
   "cell_type": "code",
   "execution_count": 10,
   "id": "332a20eb",
   "metadata": {},
   "outputs": [
    {
     "name": "stdout",
     "output_type": "stream",
     "text": [
      "Surrounding =  18.84955592153876\n",
      "Surrounding =  10\n"
     ]
    }
   ],
   "source": [
    "import numpy as np\n",
    "\n",
    "class CGeometricalObject(object):\n",
    "\n",
    "    def __init__(self, Name = ''):\n",
    "        self.__Name = Name\n",
    "        self._Surrounding = 0.0\n",
    "        self._Area = 0.0\n",
    "\n",
    "    def GetSurrounding(self):\n",
    "        return self._Surrounding\n",
    "\n",
    "    def GetArea(self):\n",
    "        return self._Area\n",
    "\n",
    "    def GetName(self):\n",
    "        return self.__Name\n",
    "\n",
    "class CCircle(CGeometricalObject):\n",
    "\n",
    "    def __init__(self, Radius):\n",
    "        super().__init__('Circle')\n",
    "        self._Surrounding = 2*np.pi*Radius\n",
    "        self._Area = np.pi * (Radius**2)\n",
    "\n",
    "class CRectangle(CGeometricalObject):\n",
    "\n",
    "    def __init__(self, a, b):\n",
    "        super().__init__('Rectangle')\n",
    "        self._Surrounding = 2*(a+b)\n",
    "        self._Area = a*b        \n",
    "\n",
    "AListOfObjects = []\n",
    "AListOfObjects.append(CCircle(Radius = 3.0))\n",
    "AListOfObjects.append(CRectangle(a = 4, b = 1))\n",
    "for GeometricalObject in AListOfObjects:\n",
    "    print('Surrounding = ', GeometricalObject.GetSurrounding())"
   ]
  },
  {
   "cell_type": "code",
   "execution_count": null,
   "id": "5a56adbf-0539-4c3a-84fc-9ba286cbe63c",
   "metadata": {},
   "outputs": [],
   "source": []
  }
 ],
 "metadata": {
  "kernelspec": {
   "display_name": "Python 3 (ipykernel)",
   "language": "python",
   "name": "python3"
  },
  "language_info": {
   "codemirror_mode": {
    "name": "ipython",
    "version": 3
   },
   "file_extension": ".py",
   "mimetype": "text/x-python",
   "name": "python",
   "nbconvert_exporter": "python",
   "pygments_lexer": "ipython3",
   "version": "3.11.4"
  }
 },
 "nbformat": 4,
 "nbformat_minor": 5
}
