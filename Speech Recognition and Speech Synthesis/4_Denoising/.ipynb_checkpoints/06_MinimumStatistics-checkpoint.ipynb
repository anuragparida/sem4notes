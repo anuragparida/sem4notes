{
 "cells": [
  {
   "cell_type": "markdown",
   "id": "0e7e28cc-6619-403d-a786-137a0e2574c8",
   "metadata": {},
   "source": [
    "# Minimum Statistic\n",
    "The minimum statistic denoiser is described in the book Digitale Sprachsignalverarbeitung of Prof. Vary et.al.\n",
    "The basic assumption of this kind of denoiser is stationary noise and an instationary speech signal."
   ]
  },
  {
   "cell_type": "code",
   "execution_count": 1,
   "id": "9b20e7dc-26e3-47d7-9fc3-071ec3a554ba",
   "metadata": {},
   "outputs": [],
   "source": [
    "import matplotlib.pyplot as plt\n",
    "\n",
    "import wave\n",
    "import numpy as np\n",
    "import os\n",
    "os.chdir('../Python')\n",
    "\n",
    "Filename = 'OldenburgerSatztest.wav'\n",
    "with wave.open(Filename, 'rb') as wave_datei:\n",
    "    rawdata = wave_datei.readframes(wave_datei.getnframes())\n",
    "    Fs = wave_datei.getframerate()\n",
    "    x = np.frombuffer(rawdata, dtype=np.int16) / (2**15)"
   ]
  },
  {
   "cell_type": "code",
   "execution_count": 2,
   "id": "4a538d87-45d0-4b05-9905-0b28a7c15ec1",
   "metadata": {},
   "outputs": [],
   "source": [
    "hs_in_ms = 10\n",
    "hs = int(hs_in_ms * Fs / 1000)\n",
    "ws = 2*hs\n",
    "FFTLen = int(2**np.ceil(np.log2(ws)))\n",
    "w = (1-np.cos(2*np.pi*(np.arange(ws)+0.5)/ws)) * 0.5\n",
    "w = np.sqrt(w)\n",
    "NyquistIndex = FFTLen // 2 + 1\n",
    "\n",
    "def GetIndices(col):\n",
    "    idx1 = col*hs\n",
    "    idx2 = idx1+ws\n",
    "    return idx1, idx2\n",
    "\n",
    "def STFT(x):\n",
    "    NumberOfColumns = (x.shape[0] - ws) // hs + 1\n",
    "    X = np.zeros((NyquistIndex, NumberOfColumns), dtype=complex)\n",
    "    for col in range(NumberOfColumns):\n",
    "        idx1, idx2 = GetIndices(col)\n",
    "        x_w = x[idx1:idx2] * w\n",
    "        X[:, col] = np.fft.rfft(x_w, n=FFTLen)\n",
    "    return X\n",
    "\n",
    "def ISTFT(X):\n",
    "    x = np.zeros((X.shape[1] * hs + ws - hs))\n",
    "    for col in range(X.shape[1]):\n",
    "        idx1, idx2 = GetIndices(col)\n",
    "        x_w = np.fft.irfft(X[:, col])\n",
    "        x[idx1:idx2] += x_w[0:ws] * w\n",
    "    return x\n",
    "\n",
    "x_tmp = np.copy(x)\n",
    "X = STFT(x_tmp)\n",
    "y_tmp = ISTFT(X)\n",
    "x_tmp = x_tmp[hs:]\n",
    "y_tmp = y_tmp[hs:-hs]\n",
    "x_tmp = x_tmp[:y_tmp.shape[0]]\n",
    "SNR = 10*np.log10(np.sum(x_tmp**2) / np.sum((x_tmp-y_tmp)**2))\n",
    "assert SNR > 200, 'error in STFT / ISTFT'"
   ]
  },
  {
   "cell_type": "markdown",
   "id": "15ec1093-7e8a-4ab5-bbf4-3dc66f550ca2",
   "metadata": {},
   "source": [
    "## Noise model\n",
    "The noise model is again additive white Gaussian noise (AWGN):\n",
    "\n",
    "$y(n)=x(n)+d(n)$"
   ]
  },
  {
   "cell_type": "code",
   "execution_count": 3,
   "id": "c8112df8-44d0-4f04-b9d1-ee47b805f4ff",
   "metadata": {},
   "outputs": [],
   "source": [
    "TargetSNR = 5\n",
    "d = np.random.randn(x.shape[0])\n",
    "noise_gain = np.sqrt(np.sum(x**2)/(np.sum(d**2)*(10**(TargetSNR/10))))\n",
    "d *= noise_gain\n",
    "y = x + d\n",
    "RealSNR = 10*np.log10(np.sum(x**2) / np.sum((x-y)**2))\n",
    "assert np.abs(RealSNR - TargetSNR) < 0.1, 'wrong noise level'"
   ]
  },
  {
   "cell_type": "markdown",
   "id": "fbdfb046-7e20-4d28-a7f6-1253e04fdd71",
   "metadata": {},
   "source": [
    "AWGN is not correlated with the speech signal. Therefore, the following is true:\n",
    "\n",
    "$\\varphi_{xd}\\approx 0$"
   ]
  },
  {
   "cell_type": "code",
   "execution_count": 4,
   "id": "e49f72df-afc2-4035-ab5c-35b673598d58",
   "metadata": {},
   "outputs": [
    {
     "name": "stdout",
     "output_type": "stream",
     "text": [
      "phi =  0.0017675702344241398\n"
     ]
    }
   ],
   "source": [
    "phi = np.sum(x*d) / np.sqrt(np.sum(x**2) * np.sum(d**2))\n",
    "print('phi = ', phi)"
   ]
  },
  {
   "cell_type": "markdown",
   "id": "895aac85-7a2b-47c9-b6bc-b55924ff355b",
   "metadata": {},
   "source": [
    "If the additive noise and the speech signal has nearly no correlation, the power spectra are roughly added:\n",
    "\n",
    "$\\left|Y\\right|^2\\approx\\left|X\\right|^2+\\left|D\\right|^2$"
   ]
  },
  {
   "cell_type": "code",
   "execution_count": 5,
   "id": "2be1aa16-6c5a-4aa1-8172-dbb83fe9a85d",
   "metadata": {},
   "outputs": [
    {
     "name": "stdout",
     "output_type": "stream",
     "text": [
      "relative error =  0.004195312705385785\n"
     ]
    }
   ],
   "source": [
    "X = STFT(x)\n",
    "Y = STFT(y)\n",
    "D = STFT(d)\n",
    "\n",
    "P_Y = np.abs(Y)**2\n",
    "P_X = np.abs(X)**2\n",
    "P_D = np.abs(D)**2\n",
    "\n",
    "P_Y_hat = P_X + P_D\n",
    "\n",
    "RelativeSquaredError = np.sum((P_Y - P_Y_hat)**2) / np.sum(P_Y**2)\n",
    "print('relative error = ', RelativeSquaredError)"
   ]
  },
  {
   "cell_type": "markdown",
   "id": "e8120a2a-3d16-4176-9271-163200054ca9",
   "metadata": {},
   "source": [
    "## Motivations for the Minimum Statistics Denoiser\n",
    "$\\left|D\\right|^2$ is a matrix with non-negative elements. Therefore, it can be assumed, that the denoising can be done by subtracting a non-negative value. The largest value, which can be subtracted without violating the non-negativity of the magnitude Spectrogram $\\left| X\\right|$ is reducing the minimum position of $\\left| X\\right|$ to zero."
   ]
  },
  {
   "cell_type": "code",
   "execution_count": 6,
   "id": "3cff26e0-65dd-46f1-95a2-3c84301a90fe",
   "metadata": {},
   "outputs": [
    {
     "name": "stdout",
     "output_type": "stream",
     "text": [
      "SNR before denoiser =  5.233304948891224\n",
      "SNR after denoiser =  5.631661921027719\n"
     ]
    }
   ],
   "source": [
    "Y_abs = np.abs(Y)\n",
    "Minimum = np.amin(Y_abs)\n",
    "Y_abs -= Minimum\n",
    "Z = Y_abs * np.exp(1j*np.angle(X))\n",
    "\n",
    "SNR_BeforeDenoiser = 10*np.log10(np.sum(np.abs(X)**2) / np.sum((np.abs(X - Y))**2))\n",
    "SNR_AfterDenoiser  = 10*np.log10(np.sum(np.abs(X)**2) / np.sum((np.abs(X - Z))**2))\n",
    "print('SNR before denoiser = ', SNR_BeforeDenoiser)\n",
    "print('SNR after denoiser = ', SNR_AfterDenoiser)"
   ]
  },
  {
   "cell_type": "markdown",
   "id": "049a6772-4251-4629-895e-7bc65224a2b9",
   "metadata": {},
   "source": [
    "A better estimation of the noise can be done, by subtracting the minimum for each spectral bin."
   ]
  },
  {
   "cell_type": "code",
   "execution_count": 7,
   "id": "5f7ac4e1-5b2c-42bc-affc-0e451db29465",
   "metadata": {},
   "outputs": [
    {
     "name": "stdout",
     "output_type": "stream",
     "text": [
      "SNR before denoiser =  5.233304948891224\n",
      "SNR after denoiser =  6.019843170021527\n"
     ]
    }
   ],
   "source": [
    "Y_abs = np.abs(Y)\n",
    "Minimum = np.amin(Y_abs, axis = 1)\n",
    "for column in range(Y_abs.shape[1]):\n",
    "    Y_abs[:, column] -= Minimum\n",
    "Z = Y_abs * np.exp(1j*np.angle(X))\n",
    "\n",
    "SNR_BeforeDenoiser = 10*np.log10(np.sum(np.abs(X)**2) / np.sum((np.abs(X - Y))**2))\n",
    "SNR_AfterDenoiser  = 10*np.log10(np.sum(np.abs(X)**2) / np.sum((np.abs(X - Z))**2))\n",
    "print('SNR before denoiser = ', SNR_BeforeDenoiser)\n",
    "print('SNR after denoiser = ', SNR_AfterDenoiser)"
   ]
  },
  {
   "cell_type": "markdown",
   "id": "858cd2aa-7993-431a-9d7b-1b1afac81021",
   "metadata": {},
   "source": [
    "## Implementation of the minimum statistic denoiser\n",
    "The final minimum statistic denoiser estimates the noise on a local buffer, defined by the memory length. By this, the noise estimation is per frequency bin and is adaptive over the time axis."
   ]
  },
  {
   "cell_type": "code",
   "execution_count": 8,
   "id": "474e6248-2fb3-4022-9857-4dacfb391a12",
   "metadata": {},
   "outputs": [
    {
     "name": "stdout",
     "output_type": "stream",
     "text": [
      "SNR before denoiser =  5.233304948891224\n",
      "SNR after denoiser =  6.658374984964421\n"
     ]
    }
   ],
   "source": [
    "MemoryLengthInMs = 500\n",
    "MemoryLengthInColumns = int(MemoryLengthInMs / hs_in_ms)\n",
    "def ApplyMinimumStatisticDenoiser(X):\n",
    "    X_abs = np.abs(X)\n",
    "    Y = np.zeros(X.shape, dtype = complex)\n",
    "    Buffer = np.zeros((X.shape[0], MemoryLengthInColumns))\n",
    "    OldestColumnInBuffer = 0\n",
    "    for col in range(X.shape[0]):\n",
    "        Buffer[:, OldestColumnInBuffer] = np.copy(X_abs[:, col])\n",
    "        OldestColumnInBuffer = np.mod(OldestColumnInBuffer + 1, Buffer.shape[1])\n",
    "        Noise = np.min(Buffer, axis = 1)\n",
    "        Y[:, col] = X_abs[:, col] - Noise\n",
    "    Y *= np.exp(1j*np.angle(X))\n",
    "    return Y\n",
    "\n",
    "Z = ApplyMinimumStatisticDenoiser(Y)\n",
    "\n",
    "SNR_BeforeDenoiser = 10*np.log10(np.sum(np.abs(X)**2) / np.sum((np.abs(X - Y))**2))\n",
    "SNR_AfterDenoiser  = 10*np.log10(np.sum(np.abs(X)**2) / np.sum((np.abs(X - Z))**2))\n",
    "print('SNR before denoiser = ', SNR_BeforeDenoiser)\n",
    "print('SNR after denoiser = ', SNR_AfterDenoiser)"
   ]
  },
  {
   "cell_type": "markdown",
   "id": "ab09757e-4593-498f-9463-02991c2286e3",
   "metadata": {},
   "source": [
    "## Programming Exercise\n",
    "\n",
    "The minimum statistic denoiser decreases the offset of a signal locally to zero. Therefore, it can be interpreted as a lowpass filter. Estimate the impulse response of the minimum statistic denoiser for each frequency band by either the least squares approach or the NLMS algorithm.\n",
    "Transform this impulse response into the transfer function.\n",
    "Is the transfer function a lowpass, a bandpass, a highpass oder an allpass?"
   ]
  },
  {
   "cell_type": "code",
   "execution_count": null,
   "id": "3cbe0fdd-29dc-44be-b4ad-b9054e8bd474",
   "metadata": {},
   "outputs": [],
   "source": []
  }
 ],
 "metadata": {
  "kernelspec": {
   "display_name": "Python 3 (ipykernel)",
   "language": "python",
   "name": "python3"
  },
  "language_info": {
   "codemirror_mode": {
    "name": "ipython",
    "version": 3
   },
   "file_extension": ".py",
   "mimetype": "text/x-python",
   "name": "python",
   "nbconvert_exporter": "python",
   "pygments_lexer": "ipython3",
   "version": "3.11.4"
  }
 },
 "nbformat": 4,
 "nbformat_minor": 5
}
