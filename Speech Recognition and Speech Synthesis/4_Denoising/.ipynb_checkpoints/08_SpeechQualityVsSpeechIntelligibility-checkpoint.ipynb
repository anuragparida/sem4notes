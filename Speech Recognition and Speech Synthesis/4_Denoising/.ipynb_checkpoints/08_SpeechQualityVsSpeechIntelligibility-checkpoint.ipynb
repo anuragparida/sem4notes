{
 "cells": [
  {
   "cell_type": "markdown",
   "id": "9da2b786-ad27-48f8-ac91-15c46582c2f0",
   "metadata": {},
   "source": [
    "# Speech Quality vs. Speech Intelligibility\n",
    "\n",
    "So far, three denoising algorithms are introduced:\n",
    "1) Wiener Filter\n",
    "2) Minimum Statistics\n",
    "3) Denoising with TensorFlow\n",
    "\n",
    "All three denoiser are evaluated by speech quality. The signal to noise ratio (SNR) is a simple measure for signal quality."
   ]
  },
  {
   "cell_type": "markdown",
   "id": "91804fcd-161b-47c9-99ce-d4553abd6b33",
   "metadata": {},
   "source": [
    "## Speech Intelligibility\n",
    "\n",
    "In speech to text scenarios (STT), the speech quality is not of any interest.\n",
    "\n",
    "The only evaluation measure of interest is the number of errors in the detected text compared to the spoken test. In the case of human listeners this is called speech intelligibility.\n",
    "\n",
    "The speech intelligibility evaluated with human listeners is very expensive regarding time consumption."
   ]
  },
  {
   "cell_type": "markdown",
   "id": "c0cfbc79-b981-49ee-aa00-6aada484d834",
   "metadata": {},
   "source": [
    "## Approximation of Speech Intelligibilty by objective measures\n",
    "The Levenshtein distance between the spoken text and the detected text is a very simple algorithm for evaluating the number of errors in the detected text. The lower the Levenshtein distance, the better the speech to text algorithm is working.\n",
    "\n",
    "A second approach is the speech transmission index (STI) evaluated on the input wave and the output wave as an approximation of the number of errors and the speech intelligibility."
   ]
  },
  {
   "cell_type": "markdown",
   "id": "7f305fcd-0c60-4ddc-99da-ba5f28ed0a2d",
   "metadata": {},
   "source": [
    "## Programming Exercise\n",
    "\n",
    "1) Generate a sentence of the Oldenburger Satztest as a string and as a wave.\n",
    "2) Use an AWGN channel with a defined signal to noise ratio.\n",
    "3) Apply the three known denoiser algorithms of this chapter, in order to apply three output signals.\n",
    "4) Evaluate the Levenshtein distance, the STI and the SNR for the three output signals.\n",
    "5) Repeat steps 2) to 4) for the SNR range from $-15$ up to $15$.\n",
    "6) Plot the STI over the SNR, plot the Levenshtein distance over the SNR."
   ]
  },
  {
   "cell_type": "markdown",
   "id": "88bb868c-d642-4c26-8d44-84255f7ebf65",
   "metadata": {},
   "source": [
    "## Exam preparation\n",
    "1) Give other examples beside Speech-To-Text-Scenarios, where speech intelligibility is more important than speech quality."
   ]
  }
 ],
 "metadata": {
  "kernelspec": {
   "display_name": "Python 3 (ipykernel)",
   "language": "python",
   "name": "python3"
  },
  "language_info": {
   "codemirror_mode": {
    "name": "ipython",
    "version": 3
   },
   "file_extension": ".py",
   "mimetype": "text/x-python",
   "name": "python",
   "nbconvert_exporter": "python",
   "pygments_lexer": "ipython3",
   "version": "3.11.4"
  }
 },
 "nbformat": 4,
 "nbformat_minor": 5
}
