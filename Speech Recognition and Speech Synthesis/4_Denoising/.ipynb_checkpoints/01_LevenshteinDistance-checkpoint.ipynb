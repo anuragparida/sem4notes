{
 "cells": [
  {
   "cell_type": "markdown",
   "id": "65c632c7-4970-4754-abd9-3578abb62611",
   "metadata": {},
   "source": [
    "# Levenshtein Distance\n",
    "In a speech to text scenario (STT) three different kind of errors may occur:\n",
    "\n",
    "1) Insertion (kitten -> kiatten)\n",
    "\n",
    "2) Deletion (kitten -> kiten)\n",
    "\n",
    "3) Substitution (kitten -> kisten)\n",
    "\n",
    "The Levenshtein distance is a simple algorithm used for evaluating the distance between two different strings by adding up the insertions, deletions and substitutions.\n",
    "\n",
    "A detailled description of the Levenshtein distance can be found under:\n",
    "\n",
    "https://en.wikipedia.org/wiki/Levenshtein_distance\n",
    "\n",
    "In the following, three implementations of the Levenshtein distance are introduced:\n",
    "\n",
    "For better understanding, the first implementation is described in detail:\n",
    "\n",
    "The Levenshtein distance is implemented by a distance matrix, through which the shortest path of errors should be found.\n",
    "\n",
    "A movement to the right direction corresponds to an additional deletion from string 1 to string 2.\n",
    "\n",
    "A movement to the down direction corresponds to an additional insertion from string 1 to string 2.\n",
    "\n",
    "A diagonal movement is an substitution, if both positions in both strings are not identical.\n",
    "\n",
    "The updated cost for the current position is the minimum of these three options. By this step, the minimum path or minimum distance is evaluated throughout this matrix.\n",
    "\n",
    "The final Levenshtein distance is the last element of the distance matrix."
   ]
  },
  {
   "cell_type": "code",
   "execution_count": 8,
   "id": "bf92079f-7653-42cb-b7f2-ad2a8789ccd9",
   "metadata": {},
   "outputs": [
    {
     "name": "stdout",
     "output_type": "stream",
     "text": [
      "The Levenshtein-Distance between 'kitten' and 'skitting' is 3.0.\n"
     ]
    }
   ],
   "source": [
    "import numpy as np\n",
    "from Levenshtein import distance as lev\n",
    "\n",
    "# implementation by the lab team\n",
    "def LevenshteinDistance(s1, s2):\n",
    "    # definition of an identical starting position, in order to find correct\n",
    "    # insertions and deletions at the starting positions of the strings\n",
    "    s1 = '#' + str(s1)\n",
    "    s2 = '#' + str(s2)\n",
    "    DistanceMatrix = np.zeros((len(s1), len(s2)))\n",
    "    DistanceMatrix[0, :] = np.arange(DistanceMatrix.shape[1])\n",
    "    DistanceMatrix[:, 0] = np.arange(DistanceMatrix.shape[0])\n",
    "    Predecessor = np.zeros((3))\n",
    "    for row in range(1, DistanceMatrix.shape[0]):        \n",
    "        for col in range(1, DistanceMatrix.shape[1]):\n",
    "            Predecessor[0] = DistanceMatrix[row-1, col] + 1 # insertion\n",
    "            Predecessor[1] = DistanceMatrix[row, col-1] + 1 # deletion\n",
    "            Predecessor[2] = DistanceMatrix[row-1, col-1] \n",
    "            if not (s1[row] == s2[col]):\n",
    "                Predecessor[2] += 1 # substitution\n",
    "            DistanceMatrix[row, col] = np.amin(Predecessor) # evaluate the updated cost for this position\n",
    "    return DistanceMatrix[-1, -1]\n",
    "\n",
    "# example\n",
    "s1 = \"kitten\"\n",
    "s2 = \"skitting\"\n",
    "d1 = LevenshteinDistance(s1, s2)\n",
    "print(f\"The Levenshtein-Distance between '{s1}' and '{s2}' is {d1}.\")\n",
    "# test\n",
    "d0 = lev(s1, s2)\n",
    "assert np.abs(d1-d0)<1e-1, 'error in evaluation of levenshtein distance'"
   ]
  },
  {
   "cell_type": "code",
   "execution_count": 9,
   "id": "f37fa2a6-8dc0-4e14-b6bf-469b70d8702f",
   "metadata": {},
   "outputs": [
    {
     "name": "stdout",
     "output_type": "stream",
     "text": [
      "The Levenshtein-Distance between 'kitten' and 'skitting' is 3.\n"
     ]
    }
   ],
   "source": [
    "# implementation by ChatGPT\n",
    "def levenshtein_distance(s1, s2):\n",
    "    if len(s1) < len(s2):\n",
    "        return levenshtein_distance(s2, s1)\n",
    "\n",
    "    if len(s2) == 0:\n",
    "        return len(s1)\n",
    "\n",
    "    previous_row = range(len(s2) + 1)\n",
    "\n",
    "    for i, c1 in enumerate(s1):\n",
    "        current_row = [i + 1]\n",
    "\n",
    "        for j, c2 in enumerate(s2):\n",
    "            insertions = previous_row[j + 1] + 1\n",
    "            deletions = current_row[j] + 1\n",
    "            substitutions = previous_row[j] + (c1 != c2)\n",
    "            current_row.append(min(insertions, deletions, substitutions))\n",
    "\n",
    "        previous_row = current_row\n",
    "\n",
    "    return previous_row[-1]\n",
    "\n",
    "d2 = levenshtein_distance(s1, s2)\n",
    "print(f\"The Levenshtein-Distance between '{s1}' and '{s2}' is {d2}.\")\n",
    "# test\n",
    "d0 = lev(s1, s2)\n",
    "assert np.abs(d2-d0)<1e-1, 'error in evaluation of levenshtein distance'"
   ]
  },
  {
   "cell_type": "code",
   "execution_count": 10,
   "id": "d4854155-7c2e-4e7c-a27f-e024fa9e66f7",
   "metadata": {},
   "outputs": [],
   "source": [
    "WordList0 = ['Peter', 'Kerstin', 'Tanja', 'Ulrich', 'Britta', 'Wolfgang', 'Stefan', 'Thomas', 'Doris', 'Nina']\n",
    "WordList1 = ['bekommt', 'sieht', 'kauft', 'gibt', 'schenkt', 'verleiht', 'hat', 'gewann', 'nahm', 'malt']\n",
    "WordList2 = ['drei', 'neun', 'sieben', 'acht', 'vier', 'fünf', 'zwei', 'achtzehn', 'zwölf', 'elf']\n",
    "WordList3 = ['große', 'kleine', 'alte', 'nasse', 'schwere', 'grüne', 'teure', 'schöne', 'rote', 'weiße']\n",
    "WordList4 = ['Blumen', 'Tassen', 'Autos', 'Bilder', 'Dosen', 'Sessel', 'Messer', 'Schuhe', 'Steine', 'Ringe']\n",
    "ListOfLists = [WordList0, WordList1, WordList2, WordList3, WordList4]\n",
    "\n",
    "def GetSentenceString():\n",
    "    s = ''\n",
    "    for n in range(len(ListOfLists)):\n",
    "        idx = np.random.randint(len(ListOfLists[n]))\n",
    "        s += ListOfLists[n][idx]\n",
    "        if n < (len(ListOfLists) - 1):\n",
    "            s += ' '\n",
    "        else:\n",
    "            s += '.'\n",
    "    return s\n",
    "\n",
    "s1 = GetSentenceString()\n",
    "s2 = GetSentenceString()\n",
    "\n",
    "d1 = LevenshteinDistance(s1, s2)\n",
    "d2 = levenshtein_distance(s1, s2)\n",
    "# implementation by the library 'Levenshtein'\n",
    "d3 = lev(s1, s2)\n",
    "assert np.abs(d2-d3) < 1e-2, 'd2 and d3 differs'\n",
    "assert np.abs(d1-d2) < 1e-2, 'd1 and d2 differs'"
   ]
  },
  {
   "cell_type": "markdown",
   "id": "f06f59f2-e131-4a62-82c8-b4f325193b68",
   "metadata": {},
   "source": [
    "## Exam Preparation\n",
    "1) Evaluate the Levenshtein distance between the two strings s1='Pferde schnauben nicht die Nase' and s2='Pferde staufen Nachts die Nasse'. How many deletions, insertions and substitions occur."
   ]
  },
  {
   "cell_type": "code",
   "execution_count": null,
   "id": "ad01facd-c050-422b-af61-7c90319be91c",
   "metadata": {},
   "outputs": [],
   "source": []
  }
 ],
 "metadata": {
  "kernelspec": {
   "display_name": "Python 3 (ipykernel)",
   "language": "python",
   "name": "python3"
  },
  "language_info": {
   "codemirror_mode": {
    "name": "ipython",
    "version": 3
   },
   "file_extension": ".py",
   "mimetype": "text/x-python",
   "name": "python",
   "nbconvert_exporter": "python",
   "pygments_lexer": "ipython3",
   "version": "3.11.4"
  }
 },
 "nbformat": 4,
 "nbformat_minor": 5
}
