{
 "cells": [
  {
   "cell_type": "markdown",
   "id": "1b3e0814",
   "metadata": {},
   "source": [
    "# Loops\n",
    "If you want to add the first 10 numbers, this can be done with basic operators in a simple way:"
   ]
  },
  {
   "cell_type": "code",
   "execution_count": 1,
   "id": "ff27e446",
   "metadata": {},
   "outputs": [
    {
     "name": "stdout",
     "output_type": "stream",
     "text": [
      "45\n"
     ]
    }
   ],
   "source": [
    "x = 0 + 1 + 2 + 3 + 4 + 5 + 6 + 7 + 8 + 9\n",
    "print(x)"
   ]
  },
  {
   "cell_type": "markdown",
   "id": "806a4038",
   "metadata": {},
   "source": [
    "Unfortunately, such a code is not very handsome. Additionally, if you want to add up the first 100 numbers, the code becomes very ugly.\n",
    "\n",
    "If you want to execute the same code a lot of times, you can use loops.\n",
    "The first kind of loops is the for-loop.\n",
    "It starts with the keyword \"for\" and ends with a \":\".\n",
    "The whole block of code, which should be executed in the for-loop is indented. "
   ]
  },
  {
   "cell_type": "code",
   "execution_count": 3,
   "id": "c28d7bd5",
   "metadata": {},
   "outputs": [
    {
     "name": "stdout",
     "output_type": "stream",
     "text": [
      "45\n"
     ]
    }
   ],
   "source": [
    "x = 0\n",
    "for iter in range(10):\n",
    "    x += iter\n",
    "\n",
    "print(x)"
   ]
  },
  {
   "cell_type": "markdown",
   "id": "16930ff7",
   "metadata": {},
   "source": [
    "The second type of loop is the while loop:"
   ]
  },
  {
   "cell_type": "code",
   "execution_count": 4,
   "id": "14ae6596",
   "metadata": {},
   "outputs": [
    {
     "name": "stdout",
     "output_type": "stream",
     "text": [
      "45\n"
     ]
    }
   ],
   "source": [
    "x = 0\n",
    "iter = 0\n",
    "while iter < 10:\n",
    "    x += iter\n",
    "    iter += 1\n",
    "print(x)"
   ]
  },
  {
   "cell_type": "markdown",
   "id": "b2a1b2f8",
   "metadata": {},
   "source": [
    "Python is not using brackets or keywords like 'begin' or 'end' to mark the beginning or the ending of the code beloning inside the loop.\n",
    "\n",
    "Instead, python uses indention. All code with the same indention level belongs to the same control structure.\n",
    "\n",
    "(Until now, we have only loops as structures. In the future, further structures will be used.)"
   ]
  },
  {
   "cell_type": "code",
   "execution_count": 5,
   "id": "9e136cf8",
   "metadata": {},
   "outputs": [
    {
     "name": "stdout",
     "output_type": "stream",
     "text": [
      "1.1\n",
      "2.3100000000000005\n",
      "3.641000000000001\n",
      "5.105100000000001\n",
      "6.715610000000002\n",
      "8.487171000000002\n",
      "10.435888100000003\n",
      "12.579476910000004\n",
      "14.937424601000005\n",
      "17.531167061100007\n",
      "22.531167061100007\n"
     ]
    }
   ],
   "source": [
    "x = 0\n",
    "for iter in range(10):\n",
    "    x += 1\n",
    "    x *= 1.1\n",
    "    print(x)\n",
    "\n",
    "x += 5\n",
    "print(x)"
   ]
  },
  {
   "cell_type": "markdown",
   "id": "982b6aa2",
   "metadata": {},
   "source": [
    "If the indention level defines the loop structure, several loops can be combined together:"
   ]
  },
  {
   "cell_type": "code",
   "execution_count": 1,
   "id": "380db2b2",
   "metadata": {},
   "outputs": [
    {
     "name": "stdout",
     "output_type": "stream",
     "text": [
      "0  *  0  =  0\n",
      "0  *  1  =  0\n",
      "0  *  2  =  0\n",
      "1  *  0  =  0\n",
      "1  *  1  =  1\n",
      "1  *  2  =  2\n",
      "2  *  0  =  0\n",
      "2  *  1  =  2\n",
      "2  *  2  =  4\n"
     ]
    }
   ],
   "source": [
    "for n in range(3):\n",
    "    for m in range(3):\n",
    "        print(n, ' * ', m, ' = ', n*m)"
   ]
  },
  {
   "cell_type": "markdown",
   "id": "9d5fb94b",
   "metadata": {},
   "source": [
    "## Exercise:\n",
    "\n",
    "Program a loop which evaluates the faculty $N!$ of a number $N$:\n",
    "\n",
    "$N! = \\Pi_{n=1}^N n$"
   ]
  },
  {
   "cell_type": "code",
   "execution_count": null,
   "id": "8e11f033",
   "metadata": {},
   "outputs": [],
   "source": []
  }
 ],
 "metadata": {
  "kernelspec": {
   "display_name": "Python 3 (ipykernel)",
   "language": "python",
   "name": "python3"
  },
  "language_info": {
   "codemirror_mode": {
    "name": "ipython",
    "version": 3
   },
   "file_extension": ".py",
   "mimetype": "text/x-python",
   "name": "python",
   "nbconvert_exporter": "python",
   "pygments_lexer": "ipython3",
   "version": "3.9.7"
  }
 },
 "nbformat": 4,
 "nbformat_minor": 5
}
