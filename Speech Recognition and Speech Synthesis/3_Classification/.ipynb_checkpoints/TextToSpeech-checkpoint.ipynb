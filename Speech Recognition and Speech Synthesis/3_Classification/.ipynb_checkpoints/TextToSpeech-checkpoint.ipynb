{
 "cells": [
  {
   "cell_type": "markdown",
   "id": "3feffe92",
   "metadata": {},
   "source": [
    "# Text to speech\n",
    "Text to speech systems (TTS) transforms written text into a waveform with the corresponding spoken text.\n",
    "\n",
    "There exist a set of commercial products for this task, e.g. eleven labs https://beta.elevenlabs.io/ (last visited on June 2023).\n",
    "\n",
    "One of the simplest ways to use text to speech in python is the module pyttsx3:\n",
    "\n",
    "https://pypi.org/project/pyttsx3/\n",
    "\n",
    "This module is a wrapper for the os-internal text to speech system-. At least for Windows, the results are satisfying."
   ]
  },
  {
   "cell_type": "code",
   "execution_count": 2,
   "id": "13059d51",
   "metadata": {},
   "outputs": [],
   "source": [
    "import pyttsx3\n",
    "import time\n",
    "\n",
    "Filename = 'output.wav'\n",
    "\n",
    "StartTime = time.time()\n",
    "# Initialisiere den Sprachsynthesizer\n",
    "engine = pyttsx3.init()\n",
    "\n",
    "# Setze die Sprache auf Deutsch\n",
    "engine.setProperty('voice', 'german')\n",
    "\n",
    "# Der Satz, der gesprochen werden soll\n",
    "sentence = \"Pferde schnauben nicht die Nase.\"\n",
    "\n",
    "# Verwende den Sprachsynthesizer, um den Satz zu sprechen\n",
    "#engine.say(sentence)\n",
    "engine.save_to_file(sentence, Filename)\n",
    "\n",
    "# Warte, bis die Sprachsynthese abgeschlossen ist, bevor das Programm beendet wird\n",
    "engine.runAndWait()\n",
    "\n",
    "StopTime = time.time()\n"
   ]
  },
  {
   "cell_type": "markdown",
   "id": "4b73905f",
   "metadata": {},
   "source": [
    "## Latency and real-time capability\n",
    "In order to measure the real-time capability of the algorithm on the used hardware, the length of the output waveform and the duration of evaluation is measured.\n",
    "\n",
    "If the length of the output waveform is longer than the duraction of evaluation, the algorithm is real-time capable."
   ]
  },
  {
   "cell_type": "code",
   "execution_count": 5,
   "id": "eda8b229",
   "metadata": {},
   "outputs": [
    {
     "name": "stdout",
     "output_type": "stream",
     "text": [
      "4.274149659863945  seconds of audio generated in  0.07871198654174805  seconds\n"
     ]
    }
   ],
   "source": [
    "import sys\n",
    "sys.path.insert(0, '../Python')\n",
    "import WaveInterface\n",
    "\n",
    "x, Fs, bits = WaveInterface.ReadWave(Filename)\n",
    "\n",
    "print(str(x.shape[0] / Fs), ' seconds of audio generated in ', str(StopTime - StartTime), ' seconds')"
   ]
  },
  {
   "cell_type": "code",
   "execution_count": null,
   "id": "b3ecd104-5b71-49f0-abae-77004a3dd4b7",
   "metadata": {},
   "outputs": [],
   "source": []
  }
 ],
 "metadata": {
  "kernelspec": {
   "display_name": "Python 3 (ipykernel)",
   "language": "python",
   "name": "python3"
  },
  "language_info": {
   "codemirror_mode": {
    "name": "ipython",
    "version": 3
   },
   "file_extension": ".py",
   "mimetype": "text/x-python",
   "name": "python",
   "nbconvert_exporter": "python",
   "pygments_lexer": "ipython3",
   "version": "3.11.4"
  }
 },
 "nbformat": 4,
 "nbformat_minor": 5
}
