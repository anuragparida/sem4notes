{
 "cells": [
  {
   "cell_type": "markdown",
   "id": "4b666de8",
   "metadata": {},
   "source": [
    "# Gradient descent\n",
    "\n",
    "In a supervised learning scenario, the loss defines the difference between the wanted true output $o$ of a neural network and the current output during the learning process $z$. If the loss approaches zero, there is no more difference between the current learned output and the true wanted output: the learning is finished with a perfect result.\n",
    "\n",
    "In order to minimize the loss, typically the gradient descent is used.\n",
    "\n",
    "For gradient descent, only the first derivative $\\frac{dL}{dz}$ of the loss function $L(z)$:"
   ]
  },
  {
   "cell_type": "code",
   "execution_count": 3,
   "id": "d7ff9d82",
   "metadata": {},
   "outputs": [
    {
     "data": {
      "image/png": "[encoded data removed]",
      "text/plain": [
       "<Figure size 432x288 with 1 Axes>"
      ]
     },
     "metadata": {
      "needs_background": "light"
     },
     "output_type": "display_data"
    }
   ],
   "source": [
    "import numpy as np\n",
    "import matplotlib.pyplot as plt\n",
    "\n",
    "def MyFunction(x):\n",
    "    a = 3\n",
    "    b = -5\n",
    "    c = 1\n",
    "    f = a*x*x+b*x+c\n",
    "    dfdx = 2*a*x+b\n",
    "    return f, dfdx\n",
    "\n",
    "x = (np.arange(100)/100)*5 - 1\n",
    "y, dydx = MyFunction(x)\n",
    "\n",
    "plt.plot(x, y)\n",
    "plt.show()"
   ]
  },
  {
   "cell_type": "markdown",
   "id": "54352a97",
   "metadata": {},
   "source": [
    "The algorithm starts at an arbitrary starting position $x$.\n",
    "\n",
    "The iterative algorithm works as follows:\n",
    "\n",
    "1) The function value $f(x)$ and the first derivative $\\frac{df}{dx}$ are evaluated.\n",
    "\n",
    "2) x is updated by the following equation:\n",
    "\n",
    "$x \\leftarrow x -\\mu\\cdot\\frac{df}{dx}$\n",
    "\n",
    "3) if not enough iterations are performed start again with step 1).\n",
    "\n",
    "By this iterative algorithm, the procedure walks in small steps $\\mu$ in the direction of the negative gradient. This behaviour is the reason for the naming: gradient descent."
   ]
  },
  {
   "cell_type": "code",
   "execution_count": 19,
   "id": "da8d856a",
   "metadata": {},
   "outputs": [
    {
     "name": "stdout",
     "output_type": "stream",
     "text": [
      "n =  0 , x =  0.0 , f(x) =  1.0\n",
      "n =  1 , x =  0.5 , f(x) =  -0.75\n",
      "n =  2 , x =  0.7 , f(x) =  -1.0300000000000002\n",
      "n =  3 , x =  0.78 , f(x) =  -1.0748000000000006\n",
      "n =  4 , x =  0.812 , f(x) =  -1.0819680000000007\n",
      "n =  5 , x =  0.8248000000000001 , f(x) =  -1.0831148800000001\n",
      "n =  6 , x =  0.8299200000000001 , f(x) =  -1.0832983807999996\n",
      "n =  7 , x =  0.831968 , f(x) =  -1.0833277409279995\n",
      "n =  8 , x =  0.8327872 , f(x) =  -1.0833324385484797\n",
      "n =  9 , x =  0.83311488 , f(x) =  -1.0833331901677568\n",
      "n =  10 , x =  0.8332459520000001 , f(x) =  -1.0833333104268408\n",
      "n =  11 , x =  0.8332983808 , f(x) =  -1.083333329668295\n",
      "n =  12 , x =  0.83331935232 , f(x) =  -1.0833333327469274\n",
      "n =  13 , x =  0.833327740928 , f(x) =  -1.083333333239509\n",
      "n =  14 , x =  0.8333310963712 , f(x) =  -1.083333333318322\n",
      "n =  15 , x =  0.83333243854848 , f(x) =  -1.0833333333309314\n",
      "n =  16 , x =  0.833332975419392 , f(x) =  -1.0833333333329493\n",
      "n =  17 , x =  0.8333331901677568 , f(x) =  -1.0833333333332718\n",
      "n =  18 , x =  0.8333332760671027 , f(x) =  -1.0833333333333233\n",
      "n =  19 , x =  0.8333333104268411 , f(x) =  -1.0833333333333317\n",
      "n =  20 , x =  0.8333333241707365 , f(x) =  -1.0833333333333335\n",
      "n =  21 , x =  0.8333333296682947 , f(x) =  -1.083333333333333\n",
      "n =  22 , x =  0.8333333318673178 , f(x) =  -1.083333333333333\n",
      "n =  23 , x =  0.8333333327469271 , f(x) =  -1.083333333333333\n",
      "n =  24 , x =  0.8333333330987708 , f(x) =  -1.0833333333333335\n",
      "n =  25 , x =  0.8333333332395083 , f(x) =  -1.083333333333334\n",
      "n =  26 , x =  0.8333333332958034 , f(x) =  -1.0833333333333335\n",
      "n =  27 , x =  0.8333333333183214 , f(x) =  -1.0833333333333335\n",
      "n =  28 , x =  0.8333333333273286 , f(x) =  -1.083333333333333\n",
      "n =  29 , x =  0.8333333333309314 , f(x) =  -1.0833333333333335\n",
      "n =  30 , x =  0.8333333333323726 , f(x) =  -1.083333333333333\n",
      "n =  31 , x =  0.833333333332949 , f(x) =  -1.083333333333333\n",
      "n =  32 , x =  0.8333333333331796 , f(x) =  -1.083333333333333\n",
      "n =  33 , x =  0.8333333333332718 , f(x) =  -1.0833333333333335\n",
      "n =  34 , x =  0.8333333333333087 , f(x) =  -1.083333333333333\n",
      "n =  35 , x =  0.8333333333333235 , f(x) =  -1.083333333333333\n",
      "n =  36 , x =  0.8333333333333294 , f(x) =  -1.083333333333333\n",
      "n =  37 , x =  0.8333333333333318 , f(x) =  -1.083333333333333\n",
      "n =  38 , x =  0.8333333333333327 , f(x) =  -1.083333333333333\n",
      "n =  39 , x =  0.833333333333333 , f(x) =  -1.0833333333333335\n",
      "n =  40 , x =  0.8333333333333333 , f(x) =  -1.083333333333333\n",
      "n =  41 , x =  0.8333333333333333 , f(x) =  -1.083333333333333\n",
      "n =  42 , x =  0.8333333333333333 , f(x) =  -1.083333333333333\n",
      "n =  43 , x =  0.8333333333333333 , f(x) =  -1.083333333333333\n",
      "n =  44 , x =  0.8333333333333333 , f(x) =  -1.083333333333333\n",
      "n =  45 , x =  0.8333333333333333 , f(x) =  -1.083333333333333\n",
      "n =  46 , x =  0.8333333333333333 , f(x) =  -1.083333333333333\n",
      "n =  47 , x =  0.8333333333333333 , f(x) =  -1.083333333333333\n",
      "n =  48 , x =  0.8333333333333333 , f(x) =  -1.083333333333333\n",
      "n =  49 , x =  0.8333333333333333 , f(x) =  -1.083333333333333\n"
     ]
    },
    {
     "data": {
      "text/plain": [
       "(0.8333333333333333, -1.083333333333333)"
      ]
     },
     "execution_count": 19,
     "metadata": {},
     "output_type": "execute_result"
    }
   ],
   "source": [
    "def GradientDescent(FunctionPointer, x = 0.0, verbose = False):\n",
    "    mu = 1e-1\n",
    "\n",
    "    for n in range(50):\n",
    "        y, dydx = FunctionPointer(x)\n",
    "        if verbose: print('n = ', n, ', x = ', str(x), ', f(x) = ', str(y))\n",
    "        x -= mu * dydx\n",
    "    return x, y\n",
    "\n",
    "GradientDescent(MyFunction, x = 0.0, verbose = True)"
   ]
  },
  {
   "cell_type": "markdown",
   "id": "cada9a42",
   "metadata": {},
   "source": [
    "# Exercise:\n",
    "\n",
    "What happens, if the function has several minima, e.g. the cosine-function. Try out, which minimum the algorithm finds for different starting positions in the range $0 < x < 10$.\n",
    "\n",
    "How large must $\\mu$ be, such that not the minimum next to the starting position is found."
   ]
  },
  {
   "cell_type": "code",
   "execution_count": 20,
   "id": "6433d57f",
   "metadata": {},
   "outputs": [
    {
     "name": "stdout",
     "output_type": "stream",
     "text": [
      "starting position =  1 , next minimimum at  3.1211484150181676  with f(x) =  -0.9997420117707242\n",
      "starting position =  2 , next minimimum at  3.1348454003423143  with f(x) =  -0.9999718980750659\n",
      "starting position =  3 , next minimimum at  3.1408614880262054  with f(x) =  -0.9999996699981242\n",
      "starting position =  4 , next minimimum at  3.146360604452308  with f(x) =  -0.9999859671119583\n",
      "starting position =  5 , next minimimum at  3.156191950210419  with f(x) =  -0.9998684365980852\n",
      "starting position =  6 , next minimimum at  3.2307258930046747  with f(x) =  -0.9951016267580339\n",
      "starting position =  7 , next minimimum at  9.393953630895728  with f(x) =  -0.999413577053265\n",
      "starting position =  8 , next minimimum at  9.415595607967235  with f(x) =  -0.9999479539836165\n",
      "starting position =  9 , next minimimum at  9.422549520474957  with f(x) =  -0.9999969346034068\n"
     ]
    }
   ],
   "source": [
    "### solution\n",
    "# the gradient descent is only capable to find the minimum next to the starting position, the so called local minimum.\n",
    "def MyCos(x):\n",
    "    f = np.cos(x)\n",
    "    dfdx = -np.sin(x)\n",
    "    return f, dfdx\n",
    "\n",
    "for x0 in range(1, 10):\n",
    "    x, y = GradientDescent(MyCos, x0)\n",
    "    print('starting position = ', x0, ', next minimimum at ', x, ' with f(x) = ', y)"
   ]
  }
 ],
 "metadata": {
  "kernelspec": {
   "display_name": "Python 3 (ipykernel)",
   "language": "python",
   "name": "python3"
  },
  "language_info": {
   "codemirror_mode": {
    "name": "ipython",
    "version": 3
   },
   "file_extension": ".py",
   "mimetype": "text/x-python",
   "name": "python",
   "nbconvert_exporter": "python",
   "pygments_lexer": "ipython3",
   "version": "3.11.4"
  }
 },
 "nbformat": 4,
 "nbformat_minor": 5
}
