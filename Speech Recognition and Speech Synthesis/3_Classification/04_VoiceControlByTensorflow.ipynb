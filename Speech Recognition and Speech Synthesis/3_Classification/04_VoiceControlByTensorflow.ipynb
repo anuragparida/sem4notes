{
 "cells": [
  {
   "cell_type": "markdown",
   "id": "2dceb08c-4c62-4bb9-954a-d339fa9b5bff",
   "metadata": {},
   "source": [
    "# Classification for voice control\n",
    "The current implementation of the MOPS uses a combination of Hidden Markov Models (HMM) and Gaussian Mixture Models (GMM) to classify the commands detected by the voice activity detection. In this notebook, Tensorflow should be used instead, in order to get practice in applying Tensorflow to classification tasks."
   ]
  },
  {
   "cell_type": "code",
   "execution_count": 1,
   "id": "bcd18fc0-945c-4102-bdc1-65ad9d20cef5",
   "metadata": {},
   "outputs": [
    {
     "name": "stdout",
     "output_type": "stream",
     "text": [
      "installed version of Tensorflow:  2.14.0\n"
     ]
    }
   ],
   "source": [
    "import tensorflow as tf\n",
    "import numpy as np\n",
    "import matplotlib.pyplot as plt\n",
    "from tqdm import tqdm\n",
    "\n",
    "import os\n",
    "os.chdir('../Python')\n",
    "import TrainingsDataInterface\n",
    "import TrainingsInterface\n",
    "import Train\n",
    "import DatasetAugmentation\n",
    "import Constants\n",
    "\n",
    "TempFolder = \"NeuralNetworks/VoiceControlByTensorflow\"\n",
    "FilenameData = TempFolder + '/Data.npz'\n",
    "try:\n",
    "    os.mkdir(TempFolder)\n",
    "except:\n",
    "    pass\n",
    "\n",
    "print('installed version of Tensorflow: ', tf.__version__)"
   ]
  },
  {
   "cell_type": "markdown",
   "id": "2124e492-4251-4dab-84b3-3c92c3b88938",
   "metadata": {},
   "source": [
    "## Evaluate the input data\n",
    "In the following codeblock, the software of the MOPS is used to perform the following three steps:\n",
    "\n",
    "1) Read the audio data: x, Fs, bits = ATrainingsDataInterface.GetWaveOfCommandInstance(CommandIndex, InstanceIndex)\n",
    "\n",
    "2) Optionally apply dataset augmentation: y, Timestretchfactor = ADatasetAugmentation.GenerateSingleDistortion(DistortionIndex)\n",
    "\n",
    "3) Evaluate the MFCC, $\\Delta$MFCC und $\\Delta\\Delta$MFCC: Feature = TrainingsInterface.SamplesToFeature(z, Fs)\n",
    "\n",
    "The evaluated features are stored in three different datasets:\n",
    "\n",
    "1) train_images,\n",
    "\n",
    "2) validation_images and\n",
    "\n",
    "3) test_images.\n",
    "\n",
    "The corresponding indices of the commands is stored in the ground truth\n",
    "\n",
    "1) train_labels,\n",
    "\n",
    "2) validation_labels and\n",
    "\n",
    "3) test_labels.\n",
    "\n",
    "Warning: This Code is slow. It need to be called only if the trainingsdata need to be re-evaluated. Otherwise, everything is loaded in the next code block directly from the hard disk."
   ]
  },
  {
   "cell_type": "code",
   "execution_count": 2,
   "id": "25c0aca6-7e0c-4e5c-9161-dd7e5bc5fff4",
   "metadata": {},
   "outputs": [
    {
     "name": "stderr",
     "output_type": "stream",
     "text": [
      "100%|██████████████████████████████████████████████████████████████████████████████████| 47/47 [01:13<00:00,  1.56s/it]\n"
     ]
    }
   ],
   "source": [
    "AudioDataLengthInMilliseconds = Constants.theConstants.getWordLengthInMilliseconds()\n",
    "NumberOfTestSamples = 20\n",
    "NumberOfValidationSamples = 20\n",
    "\n",
    "ATrainingsDataInterface = TrainingsDataInterface.CTrainingsDataInterface()\n",
    "def GetNumberOfTrainingsData():\n",
    "    res = 0\n",
    "    for CommandIndex in range(ATrainingsDataInterface.GetNumberOfCommands()):\n",
    "        command = ATrainingsDataInterface.GetCommandString(CommandIndex)\n",
    "        if command in Train.VOCABULARY:\n",
    "            NewSamples = ATrainingsDataInterface.GetNumberOfCommandInstances(CommandIndex)\n",
    "            NewSamples -= NumberOfTestSamples\n",
    "            NewSamples -= NumberOfValidationSamples\n",
    "            assert NewSamples > 0, str('not enough training samples for command ' + command)\n",
    "            res += NewSamples\n",
    "    return res\n",
    "\n",
    "def GetAudioWithConstantLength(x, Fs):\n",
    "    LengthInSamples = int(AudioDataLengthInMilliseconds * Fs / 1000)\n",
    "    if x.shape[0] < LengthInSamples:\n",
    "        y = np.concatenate((x, np.zeros((LengthInSamples - x.shape[0]))), axis = 0)\n",
    "    else:\n",
    "        E_cumsum = np.cumsum(x**2)\n",
    "        tmp = E_cumsum[LengthInSamples:]\n",
    "        tmp -= E_cumsum[:tmp.shape[0]]\n",
    "        MaxIndex = np.argmax(tmp)\n",
    "        y = x[MaxIndex:MaxIndex + LengthInSamples]\n",
    "    assert np.abs(y.shape[0] - LengthInSamples) < 1e-1, 'wrong output length'\n",
    "    return y\n",
    "\n",
    "def IsTraining(InstanceIndex):\n",
    "    return not (IsTest(InstanceIndex) or IsValidation(InstanceIndex))\n",
    "\n",
    "def IsValidation(InstanceIndex):\n",
    "    return (not IsTest(InstanceIndex)) and (InstanceIndex < (NumberOfTestSamples + NumberOfValidationSamples))\n",
    "\n",
    "def IsTest(InstanceIndex):\n",
    "    return InstanceIndex < NumberOfTestSamples\n",
    "\n",
    "def EvaluateAllData():\n",
    "    Constants.theConstants.SetUseVAD(False)\n",
    "    train_images = None\n",
    "    train_counter = 0\n",
    "    test_counter = 0\n",
    "    validation_counter = 0\n",
    "    for CommandIndex in tqdm(range(ATrainingsDataInterface.GetNumberOfCommands())):\n",
    "        command = ATrainingsDataInterface.GetCommandString(CommandIndex)\n",
    "        if command in Train.VOCABULARY:\n",
    "            for n in range(len(Train.VOCABULARY)):\n",
    "                if Train.VOCABULARY[n] == command:\n",
    "                    commandlabel = n\n",
    "            for InstanceIndex in range(ATrainingsDataInterface.GetNumberOfCommandInstances(CommandIndex)):\n",
    "                x, Fs, bits = ATrainingsDataInterface.GetWaveOfCommandInstance(CommandIndex, InstanceIndex)\n",
    "                assert np.abs(Constants.theConstants.getSamplingFrequencyMicrofone() - Fs) < 1e-3, 'wrong sampling rate'\n",
    "                ADatasetAugmentation = DatasetAugmentation.CAudioDatasetAugmentation(x, Fs)\n",
    "                NumberOfDistortions = 1#ADatasetAugmentation.GetNumberOfResults()\n",
    "                if IsTraining(InstanceIndex):\n",
    "                    MaxDistortionIndex = NumberOfDistortions\n",
    "                else:\n",
    "                    MaxDistortionIndex = 1\n",
    "                for DistortionIndex in range(MaxDistortionIndex):\n",
    "                    y, Timestretchfactor = ADatasetAugmentation.GenerateSingleDistortion(DistortionIndex)\n",
    "                    z = GetAudioWithConstantLength(y, Fs)\n",
    "                    Feature = TrainingsInterface.SamplesToFeature(z, Fs)\n",
    "                    if train_images is None:\n",
    "                        train_images = np.zeros((GetNumberOfTrainingsData()*NumberOfDistortions, Feature.shape[0], Feature.shape[1]))\n",
    "                        test_images = np.zeros((NumberOfTestSamples*len(Train.VOCABULARY), Feature.shape[0], Feature.shape[1]))\n",
    "                        validation_images = np.zeros((NumberOfValidationSamples*len(Train.VOCABULARY), Feature.shape[0], Feature.shape[1]))\n",
    "                        train_labels = np.zeros((train_images.shape[0]))\n",
    "                        test_labels = np.zeros((test_images.shape[0]))\n",
    "                        validation_labels = np.zeros((validation_images.shape[0]))\n",
    "                    if IsTraining(InstanceIndex):\n",
    "                        train_images[train_counter, :, :] = Feature\n",
    "                        train_labels[train_counter] = commandlabel\n",
    "                        train_counter += 1   \n",
    "                    elif IsTest(InstanceIndex):\n",
    "                        test_images[test_counter, :, :] = Feature\n",
    "                        test_labels[test_counter] = commandlabel\n",
    "                        test_counter += 1   \n",
    "                    else:\n",
    "                        validation_images[validation_counter, :, :] = Feature\n",
    "                        validation_labels[validation_counter] = commandlabel\n",
    "                        validation_counter += 1                         \n",
    "    return train_images, train_labels, test_images, test_labels, validation_images, validation_labels\n",
    "\n",
    "train_images, train_labels, test_images, test_labels, validation_images, validation_labels = EvaluateAllData()\n",
    "np.savez(FilenameData, x0 = train_images, x1 = train_labels, x2 = test_images, x3 = test_labels, x4 = validation_images, x5 = validation_labels)"
   ]
  },
  {
   "cell_type": "markdown",
   "id": "08dbb5ec-a06d-4b15-acc4-7f59a8a47969",
   "metadata": {},
   "source": [
    "## Load the data\n",
    "In the following code block the pre-evaluated trainings-, validation- and testdata is loaded."
   ]
  },
  {
   "cell_type": "code",
   "execution_count": 3,
   "id": "44f750b2-3808-407d-8384-88e4a30bbfd4",
   "metadata": {},
   "outputs": [
    {
     "name": "stdout",
     "output_type": "stream",
     "text": [
      "number of trainings samples:  1565\n",
      "number of validation samples:  180\n",
      "number of test samples:  180\n"
     ]
    }
   ],
   "source": [
    "def GetAllData():    \n",
    "    try:\n",
    "        data = np.load(FilenameData)\n",
    "        train_images = data['x0']\n",
    "        train_labels = data['x1']\n",
    "        test_images = data['x2']\n",
    "        test_labels = data['x3']\n",
    "        validation_images = data['x4']\n",
    "        validation_labels = data['x5']\n",
    "    except:\n",
    "        train_images, train_labels, test_images, test_labels, validation_images, validation_labels = EvaluateAllData()\n",
    "        np.savez(Filename, x0 = train_images, x1 = train_labels, x2 = test_images, x3 = test_labels, x4 = validation_images, x5 = validation_labels)\n",
    "    return train_images, train_labels, test_images, test_labels, validation_images, validation_labels\n",
    "\n",
    "train_images, train_labels, test_images, test_labels, validation_images, validation_labels = GetAllData()\n",
    "print('number of trainings samples: ', train_images.shape[0])\n",
    "print('number of validation samples: ', validation_images.shape[0])\n",
    "print('number of test samples: ', test_images.shape[0])"
   ]
  },
  {
   "cell_type": "markdown",
   "id": "42202a5d-2dac-4fc4-9ee5-7161977f8d7e",
   "metadata": {},
   "source": [
    "## Output and loss\n",
    "In a classification task, you want to have a last layer in your neural network, which outputs values, which can be interpreted as a probability distribution. This is done by the so called softmax layer:\n",
    "\n",
    "a) Evaluate the exponential function.\n",
    "\n",
    "b) Normalize the output values to a sum of $1$.\n",
    "\n",
    "$y_j = \\frac{e^{x_j}}{\\sum_{l=0}^{J-1} e^{x_l}}$\n",
    "\n",
    "The softmax layer is usually combined with the cross entropy as loss function:\n",
    "\n",
    "$L=-\\sum_j o_j\\cdot\\log z_j$"
   ]
  },
  {
   "cell_type": "markdown",
   "id": "c5153f5f-3f24-4438-8657-c88d110bd1f9",
   "metadata": {},
   "source": [
    "## Model architecture\n",
    "In the following block, the model architecture is defined:"
   ]
  },
  {
   "cell_type": "code",
   "execution_count": 4,
   "id": "67b360eb-0b4b-4fbc-9211-7ad8cdaa45de",
   "metadata": {},
   "outputs": [],
   "source": [
    "model = tf.keras.Sequential([\n",
    "    tf.keras.layers.Flatten(input_shape=(train_images.shape[1], train_images.shape[2])),\n",
    "    tf.keras.layers.Dense(units = 100, activation='LeakyReLU'),\n",
    "    tf.keras.layers.Dense(units = 50, activation='LeakyReLU'),\n",
    "    tf.keras.layers.Dense(len(Train.VOCABULARY), activation='softmax')\n",
    "])\n",
    "\n",
    "model.compile(optimizer='adam',\n",
    "              loss=tf.keras.losses.SparseCategoricalCrossentropy(from_logits=False),\n",
    "              metrics=['accuracy'])"
   ]
  },
  {
   "cell_type": "markdown",
   "id": "814aacca-e43d-46bb-9c8a-fa4d86d8667d",
   "metadata": {},
   "source": [
    "## Callbacks\n",
    "The training should stop, when the accuracy is no longer increasing. For this, the early stopping callback can be used. The accuracy of the trainingsdata is usually strictly increasing. Therefore, the validation accuracy is a good control measure for early stopping.\n",
    "\n",
    "As an additional callback, the training process is stored in so called checkpoints, which can be reloaded for future usage."
   ]
  },
  {
   "cell_type": "code",
   "execution_count": 5,
   "id": "84250bac-7ef4-40c1-8938-1b1b96208077",
   "metadata": {},
   "outputs": [
    {
     "name": "stdout",
     "output_type": "stream",
     "text": [
      "problem loading old weights, starting with scratch new network\n"
     ]
    }
   ],
   "source": [
    "checkpoint_path = TempFolder + \"/cp.ckpt\"\n",
    "checkpoint_dir = os.path.dirname(checkpoint_path)\n",
    "cbCheckpoints = tf.keras.callbacks.ModelCheckpoint(filepath=checkpoint_path,\n",
    "                                                 save_weights_only=True,\n",
    "                                                 verbose=1)\n",
    "cbEarlyStopping = tf.keras.callbacks.EarlyStopping(monitor='val_accuracy', patience=5)\n",
    "\n",
    "try:\n",
    "    model.load_weights(checkpoint_path)\n",
    "except:\n",
    "    print('problem loading old weights, starting with scratch new network')"
   ]
  },
  {
   "cell_type": "markdown",
   "id": "7e46543c-d7e7-4961-ab4c-f27238bdb82c",
   "metadata": {},
   "source": [
    "## Training\n",
    "The training can be applied to a very large number of epochs, due to the usage of the early stopping callback. After finishing the training, the test accuracy is evaluated:\n",
    "\n",
    "The test data is not seen by the algorithm during the training process. Therefore, the test accuracy is a good measure of fit."
   ]
  },
  {
   "cell_type": "code",
   "execution_count": 6,
   "id": "29ebdcb6-ca51-497c-882b-9e91907242bb",
   "metadata": {},
   "outputs": [
    {
     "name": "stdout",
     "output_type": "stream",
     "text": [
      "Epoch 1/1000\n",
      "45/49 [==========================>...] - ETA: 0s - loss: 2.1788 - accuracy: 0.1618\n",
      "Epoch 1: saving model to NeuralNetworks/VoiceControlByTensorflow\\cp.ckpt\n",
      "49/49 [==============================] - 2s 22ms/step - loss: 2.1770 - accuracy: 0.1661 - val_loss: 2.1658 - val_accuracy: 0.2333\n",
      "Epoch 2/1000\n",
      "46/49 [===========================>..] - ETA: 0s - loss: 2.0796 - accuracy: 0.2568\n",
      "Epoch 2: saving model to NeuralNetworks/VoiceControlByTensorflow\\cp.ckpt\n",
      "49/49 [==============================] - 1s 17ms/step - loss: 2.0711 - accuracy: 0.2645 - val_loss: 2.0610 - val_accuracy: 0.2944\n",
      "Epoch 3/1000\n",
      "48/49 [============================>.] - ETA: 0s - loss: 1.8262 - accuracy: 0.4473\n",
      "Epoch 3: saving model to NeuralNetworks/VoiceControlByTensorflow\\cp.ckpt\n",
      "49/49 [==============================] - 1s 14ms/step - loss: 1.8228 - accuracy: 0.4460 - val_loss: 1.8926 - val_accuracy: 0.3111\n",
      "Epoch 4/1000\n",
      "47/49 [===========================>..] - ETA: 0s - loss: 1.6322 - accuracy: 0.4694\n",
      "Epoch 4: saving model to NeuralNetworks/VoiceControlByTensorflow\\cp.ckpt\n",
      "49/49 [==============================] - 1s 19ms/step - loss: 1.6272 - accuracy: 0.4728 - val_loss: 1.7526 - val_accuracy: 0.4000\n",
      "Epoch 5/1000\n",
      "48/49 [============================>.] - ETA: 0s - loss: 1.4344 - accuracy: 0.5716\n",
      "Epoch 5: saving model to NeuralNetworks/VoiceControlByTensorflow\\cp.ckpt\n",
      "49/49 [==============================] - 1s 15ms/step - loss: 1.4297 - accuracy: 0.5738 - val_loss: 1.6558 - val_accuracy: 0.4389\n",
      "Epoch 6/1000\n",
      "44/49 [=========================>....] - ETA: 0s - loss: 1.2683 - accuracy: 0.6250\n",
      "Epoch 6: saving model to NeuralNetworks/VoiceControlByTensorflow\\cp.ckpt\n",
      "49/49 [==============================] - 1s 14ms/step - loss: 1.2667 - accuracy: 0.6300 - val_loss: 1.5114 - val_accuracy: 0.5444\n",
      "Epoch 7/1000\n",
      "43/49 [=========================>....] - ETA: 0s - loss: 1.1557 - accuracy: 0.6570\n",
      "Epoch 7: saving model to NeuralNetworks/VoiceControlByTensorflow\\cp.ckpt\n",
      "49/49 [==============================] - 1s 11ms/step - loss: 1.1388 - accuracy: 0.6633 - val_loss: 1.4122 - val_accuracy: 0.5444\n",
      "Epoch 8/1000\n",
      "42/49 [========================>.....] - ETA: 0s - loss: 1.0381 - accuracy: 0.6957\n",
      "Epoch 8: saving model to NeuralNetworks/VoiceControlByTensorflow\\cp.ckpt\n",
      "49/49 [==============================] - 0s 9ms/step - loss: 1.0309 - accuracy: 0.6978 - val_loss: 1.4312 - val_accuracy: 0.5222\n",
      "Epoch 9/1000\n",
      "46/49 [===========================>..] - ETA: 0s - loss: 0.9629 - accuracy: 0.7188\n",
      "Epoch 9: saving model to NeuralNetworks/VoiceControlByTensorflow\\cp.ckpt\n",
      "49/49 [==============================] - 1s 13ms/step - loss: 0.9586 - accuracy: 0.7176 - val_loss: 1.2398 - val_accuracy: 0.6056\n",
      "Epoch 10/1000\n",
      "47/49 [===========================>..] - ETA: 0s - loss: 0.8607 - accuracy: 0.7407\n",
      "Epoch 10: saving model to NeuralNetworks/VoiceControlByTensorflow\\cp.ckpt\n",
      "49/49 [==============================] - 0s 10ms/step - loss: 0.8656 - accuracy: 0.7374 - val_loss: 1.2079 - val_accuracy: 0.5889\n",
      "Epoch 11/1000\n",
      "45/49 [==========================>...] - ETA: 0s - loss: 0.8045 - accuracy: 0.7576\n",
      "Epoch 11: saving model to NeuralNetworks/VoiceControlByTensorflow\\cp.ckpt\n",
      "49/49 [==============================] - 1s 12ms/step - loss: 0.8037 - accuracy: 0.7572 - val_loss: 1.2492 - val_accuracy: 0.5944\n",
      "Epoch 12/1000\n",
      "47/49 [===========================>..] - ETA: 0s - loss: 0.7446 - accuracy: 0.7859\n",
      "Epoch 12: saving model to NeuralNetworks/VoiceControlByTensorflow\\cp.ckpt\n",
      "49/49 [==============================] - 0s 10ms/step - loss: 0.7486 - accuracy: 0.7827 - val_loss: 1.2557 - val_accuracy: 0.5944\n",
      "Epoch 13/1000\n",
      "43/49 [=========================>....] - ETA: 0s - loss: 0.7060 - accuracy: 0.7812\n",
      "Epoch 13: saving model to NeuralNetworks/VoiceControlByTensorflow\\cp.ckpt\n",
      "49/49 [==============================] - 1s 13ms/step - loss: 0.7069 - accuracy: 0.7802 - val_loss: 1.1733 - val_accuracy: 0.6278\n",
      "Epoch 14/1000\n",
      "48/49 [============================>.] - ETA: 0s - loss: 0.6710 - accuracy: 0.7910\n",
      "Epoch 14: saving model to NeuralNetworks/VoiceControlByTensorflow\\cp.ckpt\n",
      "49/49 [==============================] - 1s 11ms/step - loss: 0.6728 - accuracy: 0.7911 - val_loss: 1.1423 - val_accuracy: 0.5778\n",
      "Epoch 15/1000\n",
      "48/49 [============================>.] - ETA: 0s - loss: 0.6109 - accuracy: 0.8275\n",
      "Epoch 15: saving model to NeuralNetworks/VoiceControlByTensorflow\\cp.ckpt\n",
      "49/49 [==============================] - 1s 15ms/step - loss: 0.6131 - accuracy: 0.8249 - val_loss: 1.0371 - val_accuracy: 0.6389\n",
      "Epoch 16/1000\n",
      "42/49 [========================>.....] - ETA: 0s - loss: 0.5710 - accuracy: 0.8318\n",
      "Epoch 16: saving model to NeuralNetworks/VoiceControlByTensorflow\\cp.ckpt\n",
      "49/49 [==============================] - 1s 17ms/step - loss: 0.5842 - accuracy: 0.8288 - val_loss: 1.0549 - val_accuracy: 0.6389\n",
      "Epoch 17/1000\n",
      "42/49 [========================>.....] - ETA: 0s - loss: 0.5473 - accuracy: 0.8371\n",
      "Epoch 17: saving model to NeuralNetworks/VoiceControlByTensorflow\\cp.ckpt\n",
      "49/49 [==============================] - 1s 15ms/step - loss: 0.5579 - accuracy: 0.8351 - val_loss: 1.0230 - val_accuracy: 0.6333\n",
      "Epoch 18/1000\n",
      "42/49 [========================>.....] - ETA: 0s - loss: 0.5424 - accuracy: 0.8304\n",
      "Epoch 18: saving model to NeuralNetworks/VoiceControlByTensorflow\\cp.ckpt\n",
      "49/49 [==============================] - 1s 11ms/step - loss: 0.5395 - accuracy: 0.8313 - val_loss: 1.0346 - val_accuracy: 0.6389\n",
      "Epoch 19/1000\n",
      "49/49 [==============================] - ETA: 0s - loss: 0.5018 - accuracy: 0.8460\n",
      "Epoch 19: saving model to NeuralNetworks/VoiceControlByTensorflow\\cp.ckpt\n",
      "49/49 [==============================] - 1s 11ms/step - loss: 0.5018 - accuracy: 0.8460 - val_loss: 1.0748 - val_accuracy: 0.6278\n",
      "Epoch 20/1000\n",
      "44/49 [=========================>....] - ETA: 0s - loss: 0.4923 - accuracy: 0.8580\n",
      "Epoch 20: saving model to NeuralNetworks/VoiceControlByTensorflow\\cp.ckpt\n",
      "49/49 [==============================] - 1s 11ms/step - loss: 0.4959 - accuracy: 0.8530 - val_loss: 1.2118 - val_accuracy: 0.6278\n",
      "training finished after  20  epochs\n",
      "6/6 - 0s - loss: 1.0292 - accuracy: 0.6167 - 68ms/epoch - 11ms/step\n",
      "\n",
      "Test accuracy: 0.6166666746139526\n"
     ]
    }
   ],
   "source": [
    "history = model.fit(train_images, train_labels, epochs=1000,\n",
    "                    validation_data=(validation_images, validation_labels),\n",
    "                    callbacks=[cbEarlyStopping, cbCheckpoints], verbose = 1)\n",
    "print('training finished after ', len(history.history['loss']), ' epochs')\n",
    "\n",
    "test_loss, test_acc = model.evaluate(test_images,  test_labels, verbose=2)\n",
    "\n",
    "print('\\nTest accuracy:', test_acc)"
   ]
  },
  {
   "cell_type": "markdown",
   "id": "a9e5849b-6348-47a5-9592-e56ae2cc6a74",
   "metadata": {},
   "source": [
    "## Programming exercise\n",
    "\n",
    "The log-mel spectrogram as input feature can be interpreted as an image. Search the web for standard image classification layers and models. Implement model as a sequential set of layers for typical image classification tasks.\n",
    "Compile model and fit it in order to increase the test-accuracy to the maximum possible value."
   ]
  },
  {
   "cell_type": "code",
   "execution_count": 7,
   "id": "b9396a3b-4c6f-4825-b591-4490017c7155",
   "metadata": {},
   "outputs": [
    {
     "name": "stdout",
     "output_type": "stream",
     "text": [
      "Epoch 1/1000\n",
      "49/49 [==============================] - ETA: 0s - loss: 2.1865 - accuracy: 0.1284\n",
      "Epoch 1: saving model to NeuralNetworks/VoiceControlByTensorflow\\cp.ckpt\n",
      "49/49 [==============================] - 8s 139ms/step - loss: 2.1865 - accuracy: 0.1284 - val_loss: 2.1836 - val_accuracy: 0.2556\n",
      "Epoch 2/1000\n",
      "49/49 [==============================] - ETA: 0s - loss: 2.0899 - accuracy: 0.2799\n",
      "Epoch 2: saving model to NeuralNetworks/VoiceControlByTensorflow\\cp.ckpt\n",
      "49/49 [==============================] - 5s 93ms/step - loss: 2.0899 - accuracy: 0.2799 - val_loss: 2.0238 - val_accuracy: 0.3278\n",
      "Epoch 3/1000\n",
      "49/49 [==============================] - ETA: 0s - loss: 1.7166 - accuracy: 0.4422\n",
      "Epoch 3: saving model to NeuralNetworks/VoiceControlByTensorflow\\cp.ckpt\n",
      "49/49 [==============================] - 5s 106ms/step - loss: 1.7166 - accuracy: 0.4422 - val_loss: 1.7396 - val_accuracy: 0.3333\n",
      "Epoch 4/1000\n",
      "49/49 [==============================] - ETA: 0s - loss: 1.2833 - accuracy: 0.6288\n",
      "Epoch 4: saving model to NeuralNetworks/VoiceControlByTensorflow\\cp.ckpt\n",
      "49/49 [==============================] - 4s 92ms/step - loss: 1.2833 - accuracy: 0.6288 - val_loss: 1.3627 - val_accuracy: 0.5444\n",
      "Epoch 5/1000\n",
      "49/49 [==============================] - ETA: 0s - loss: 1.0304 - accuracy: 0.6882\n",
      "Epoch 5: saving model to NeuralNetworks/VoiceControlByTensorflow\\cp.ckpt\n",
      "49/49 [==============================] - 5s 98ms/step - loss: 1.0304 - accuracy: 0.6882 - val_loss: 1.1376 - val_accuracy: 0.6611\n",
      "Epoch 6/1000\n",
      "49/49 [==============================] - ETA: 0s - loss: 0.8611 - accuracy: 0.7419\n",
      "Epoch 6: saving model to NeuralNetworks/VoiceControlByTensorflow\\cp.ckpt\n",
      "49/49 [==============================] - 4s 87ms/step - loss: 0.8611 - accuracy: 0.7419 - val_loss: 0.9906 - val_accuracy: 0.6778\n",
      "Epoch 7/1000\n",
      "49/49 [==============================] - ETA: 0s - loss: 0.7198 - accuracy: 0.7859\n",
      "Epoch 7: saving model to NeuralNetworks/VoiceControlByTensorflow\\cp.ckpt\n",
      "49/49 [==============================] - 5s 98ms/step - loss: 0.7198 - accuracy: 0.7859 - val_loss: 0.9581 - val_accuracy: 0.6833\n",
      "Epoch 8/1000\n",
      "48/49 [============================>.] - ETA: 0s - loss: 0.6545 - accuracy: 0.7975\n",
      "Epoch 8: saving model to NeuralNetworks/VoiceControlByTensorflow\\cp.ckpt\n",
      "49/49 [==============================] - 3s 69ms/step - loss: 0.6637 - accuracy: 0.7942 - val_loss: 0.8626 - val_accuracy: 0.7111\n",
      "Epoch 9/1000\n",
      "49/49 [==============================] - ETA: 0s - loss: 0.5919 - accuracy: 0.8300\n",
      "Epoch 9: saving model to NeuralNetworks/VoiceControlByTensorflow\\cp.ckpt\n",
      "49/49 [==============================] - 4s 83ms/step - loss: 0.5919 - accuracy: 0.8300 - val_loss: 0.8686 - val_accuracy: 0.6889\n",
      "Epoch 10/1000\n",
      "49/49 [==============================] - ETA: 0s - loss: 0.5530 - accuracy: 0.8403\n",
      "Epoch 10: saving model to NeuralNetworks/VoiceControlByTensorflow\\cp.ckpt\n",
      "49/49 [==============================] - 5s 98ms/step - loss: 0.5530 - accuracy: 0.8403 - val_loss: 0.8433 - val_accuracy: 0.7222\n",
      "Epoch 11/1000\n",
      "48/49 [============================>.] - ETA: 0s - loss: 0.5242 - accuracy: 0.8496\n",
      "Epoch 11: saving model to NeuralNetworks/VoiceControlByTensorflow\\cp.ckpt\n",
      "49/49 [==============================] - 5s 96ms/step - loss: 0.5281 - accuracy: 0.8479 - val_loss: 0.8407 - val_accuracy: 0.7111\n",
      "Epoch 12/1000\n",
      "49/49 [==============================] - ETA: 0s - loss: 0.4728 - accuracy: 0.8690\n",
      "Epoch 12: saving model to NeuralNetworks/VoiceControlByTensorflow\\cp.ckpt\n",
      "49/49 [==============================] - 5s 110ms/step - loss: 0.4728 - accuracy: 0.8690 - val_loss: 0.6926 - val_accuracy: 0.7833\n",
      "Epoch 13/1000\n",
      "49/49 [==============================] - ETA: 0s - loss: 0.4313 - accuracy: 0.8760\n",
      "Epoch 13: saving model to NeuralNetworks/VoiceControlByTensorflow\\cp.ckpt\n",
      "49/49 [==============================] - 5s 96ms/step - loss: 0.4313 - accuracy: 0.8760 - val_loss: 0.6820 - val_accuracy: 0.7667\n",
      "Epoch 14/1000\n",
      "49/49 [==============================] - ETA: 0s - loss: 0.4421 - accuracy: 0.8792\n",
      "Epoch 14: saving model to NeuralNetworks/VoiceControlByTensorflow\\cp.ckpt\n",
      "49/49 [==============================] - 4s 73ms/step - loss: 0.4421 - accuracy: 0.8792 - val_loss: 0.7145 - val_accuracy: 0.7667\n",
      "Epoch 15/1000\n",
      "49/49 [==============================] - ETA: 0s - loss: 0.3920 - accuracy: 0.8767\n",
      "Epoch 15: saving model to NeuralNetworks/VoiceControlByTensorflow\\cp.ckpt\n",
      "49/49 [==============================] - 5s 102ms/step - loss: 0.3920 - accuracy: 0.8767 - val_loss: 0.7153 - val_accuracy: 0.7667\n",
      "Epoch 16/1000\n",
      "49/49 [==============================] - ETA: 0s - loss: 0.3713 - accuracy: 0.8933\n",
      "Epoch 16: saving model to NeuralNetworks/VoiceControlByTensorflow\\cp.ckpt\n",
      "49/49 [==============================] - 5s 92ms/step - loss: 0.3713 - accuracy: 0.8933 - val_loss: 0.6291 - val_accuracy: 0.8111\n",
      "Epoch 17/1000\n",
      "49/49 [==============================] - ETA: 0s - loss: 0.3655 - accuracy: 0.8920\n",
      "Epoch 17: saving model to NeuralNetworks/VoiceControlByTensorflow\\cp.ckpt\n",
      "49/49 [==============================] - 4s 83ms/step - loss: 0.3655 - accuracy: 0.8920 - val_loss: 0.6631 - val_accuracy: 0.8000\n",
      "Epoch 18/1000\n",
      "49/49 [==============================] - ETA: 0s - loss: 0.3629 - accuracy: 0.8927\n",
      "Epoch 18: saving model to NeuralNetworks/VoiceControlByTensorflow\\cp.ckpt\n",
      "49/49 [==============================] - 5s 108ms/step - loss: 0.3629 - accuracy: 0.8927 - val_loss: 0.7325 - val_accuracy: 0.7833\n",
      "Epoch 19/1000\n",
      "49/49 [==============================] - ETA: 0s - loss: 0.3296 - accuracy: 0.9003\n",
      "Epoch 19: saving model to NeuralNetworks/VoiceControlByTensorflow\\cp.ckpt\n",
      "49/49 [==============================] - 4s 77ms/step - loss: 0.3296 - accuracy: 0.9003 - val_loss: 0.5575 - val_accuracy: 0.8222\n",
      "Epoch 20/1000\n",
      "49/49 [==============================] - ETA: 0s - loss: 0.2985 - accuracy: 0.9150\n",
      "Epoch 20: saving model to NeuralNetworks/VoiceControlByTensorflow\\cp.ckpt\n",
      "49/49 [==============================] - 3s 55ms/step - loss: 0.2985 - accuracy: 0.9150 - val_loss: 0.5759 - val_accuracy: 0.8278\n",
      "Epoch 21/1000\n",
      "49/49 [==============================] - ETA: 0s - loss: 0.3062 - accuracy: 0.9118\n",
      "Epoch 21: saving model to NeuralNetworks/VoiceControlByTensorflow\\cp.ckpt\n",
      "49/49 [==============================] - 2s 48ms/step - loss: 0.3062 - accuracy: 0.9118 - val_loss: 0.5695 - val_accuracy: 0.8056\n",
      "Epoch 22/1000\n",
      "49/49 [==============================] - ETA: 0s - loss: 0.2712 - accuracy: 0.9227\n",
      "Epoch 22: saving model to NeuralNetworks/VoiceControlByTensorflow\\cp.ckpt\n",
      "49/49 [==============================] - 2s 51ms/step - loss: 0.2712 - accuracy: 0.9227 - val_loss: 0.6266 - val_accuracy: 0.7944\n",
      "Epoch 23/1000\n",
      "48/49 [============================>.] - ETA: 0s - loss: 0.2825 - accuracy: 0.9082\n",
      "Epoch 23: saving model to NeuralNetworks/VoiceControlByTensorflow\\cp.ckpt\n",
      "49/49 [==============================] - 3s 56ms/step - loss: 0.2821 - accuracy: 0.9086 - val_loss: 0.5105 - val_accuracy: 0.8444\n",
      "Epoch 24/1000\n",
      "48/49 [============================>.] - ETA: 0s - loss: 0.2624 - accuracy: 0.9238\n",
      "Epoch 24: saving model to NeuralNetworks/VoiceControlByTensorflow\\cp.ckpt\n",
      "49/49 [==============================] - 3s 55ms/step - loss: 0.2617 - accuracy: 0.9240 - val_loss: 0.5611 - val_accuracy: 0.8333\n",
      "Epoch 25/1000\n",
      "48/49 [============================>.] - ETA: 0s - loss: 0.2396 - accuracy: 0.9251\n",
      "Epoch 25: saving model to NeuralNetworks/VoiceControlByTensorflow\\cp.ckpt\n",
      "49/49 [==============================] - 3s 53ms/step - loss: 0.2472 - accuracy: 0.9227 - val_loss: 0.5917 - val_accuracy: 0.8000\n",
      "Epoch 26/1000\n",
      "48/49 [============================>.] - ETA: 0s - loss: 0.2442 - accuracy: 0.9251\n",
      "Epoch 26: saving model to NeuralNetworks/VoiceControlByTensorflow\\cp.ckpt\n",
      "49/49 [==============================] - 2s 49ms/step - loss: 0.2438 - accuracy: 0.9252 - val_loss: 0.5250 - val_accuracy: 0.8389\n",
      "Epoch 27/1000\n",
      "49/49 [==============================] - ETA: 0s - loss: 0.2315 - accuracy: 0.9329\n",
      "Epoch 27: saving model to NeuralNetworks/VoiceControlByTensorflow\\cp.ckpt\n",
      "49/49 [==============================] - 3s 54ms/step - loss: 0.2315 - accuracy: 0.9329 - val_loss: 0.5575 - val_accuracy: 0.7944\n",
      "Epoch 28/1000\n",
      "48/49 [============================>.] - ETA: 0s - loss: 0.2216 - accuracy: 0.9375\n",
      "Epoch 28: saving model to NeuralNetworks/VoiceControlByTensorflow\\cp.ckpt\n",
      "49/49 [==============================] - 3s 52ms/step - loss: 0.2249 - accuracy: 0.9367 - val_loss: 0.5527 - val_accuracy: 0.8278\n"
     ]
    },
    {
     "name": "stderr",
     "output_type": "stream",
     "text": [
      "test_1 (__main__.TestProgrammingExercise.test_1) ... "
     ]
    },
    {
     "name": "stdout",
     "output_type": "stream",
     "text": [
      "training finished after  28  epochs\n",
      "6/6 - 0s - loss: 0.4073 - accuracy: 0.8944 - 246ms/epoch - 41ms/step\n"
     ]
    },
    {
     "name": "stderr",
     "output_type": "stream",
     "text": [
      "ok\n",
      "\n",
      "----------------------------------------------------------------------\n",
      "Ran 1 test in 0.336s\n",
      "\n",
      "OK\n"
     ]
    },
    {
     "name": "stdout",
     "output_type": "stream",
     "text": [
      "\n",
      "Test accuracy: 0.894444465637207\n"
     ]
    },
    {
     "data": {
      "text/plain": [
       "<unittest.main.TestProgram at 0x1fa60782710>"
      ]
     },
     "execution_count": 7,
     "metadata": {},
     "output_type": "execute_result"
    }
   ],
   "source": [
    "model = None\n",
    "### solution begins\n",
    "\n",
    "### solution ends\n",
    "\n",
    "import unittest\n",
    "\n",
    "class TestProgrammingExercise(unittest.TestCase):\n",
    "\n",
    "    def test_1(self):\n",
    "        test_loss, test_acc = model.evaluate(test_images,  test_labels, verbose=2)\n",
    "        print('\\nTest accuracy:', test_acc)        \n",
    "        self.assertGreater(test_acc, 0.8)\n",
    "\n",
    "unittest.main(argv=[''], verbosity=2, exit=False)"
   ]
  },
  {
   "cell_type": "markdown",
   "id": "58c2181e-1255-4d13-bde4-0f8bd242d72c",
   "metadata": {},
   "source": [
    "## Exam preparation\n",
    "\n",
    "1) Assuming a dataset with nine different classes and the corresponding counts: label0: 136 times, label1: 180 times, label2: 180 times, label3: 180 times, label4: 180 times, label5: 213 times, label6: 180 times, label7: 136 times and label 8: 180 times. Evaluate the accuracy of the simplest possible classificator. Is the dataset balanced?\n",
    "\n",
    "2) Evaluate the derivative of the softmax layer: $\\frac{dy_j}{dx_i}$.\n",
    "\n",
    "3) Evaluate the derivative of the loss given by the cross entropy to the input of the softmax layer: $\\frac{dL}{dx_i}=\\frac{dL}{dy_j}\\cdot\\frac{dy_j}{dx_i}$."
   ]
  },
  {
   "cell_type": "code",
   "execution_count": null,
   "id": "2da51364-e9f3-4fd7-8030-eb1842d0aa33",
   "metadata": {},
   "outputs": [],
   "source": []
  }
 ],
 "metadata": {
  "kernelspec": {
   "display_name": "Python 3 (ipykernel)",
   "language": "python",
   "name": "python3"
  },
  "language_info": {
   "codemirror_mode": {
    "name": "ipython",
    "version": 3
   },
   "file_extension": ".py",
   "mimetype": "text/x-python",
   "name": "python",
   "nbconvert_exporter": "python",
   "pygments_lexer": "ipython3",
   "version": "3.11.4"
  }
 },
 "nbformat": 4,
 "nbformat_minor": 5
}
