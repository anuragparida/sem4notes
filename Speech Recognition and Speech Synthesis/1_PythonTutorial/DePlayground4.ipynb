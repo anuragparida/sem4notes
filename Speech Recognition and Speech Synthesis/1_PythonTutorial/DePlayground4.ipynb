{
 "cells": [
  {
   "cell_type": "code",
   "execution_count": 7,
   "id": "e982f15a-2b75-4057-aed8-0b790496c53d",
   "metadata": {},
   "outputs": [
    {
     "name": "stdout",
     "output_type": "stream",
     "text": [
      "78.53981633974483\n",
      "78.53981633974483\n",
      "78.53981633974483\n",
      "78.53981633974483\n",
      "78.53981633974483\n",
      "78.53981633974483\n",
      "78.53981633974483\n",
      "78.53981633974483\n",
      "78.53981633974483\n",
      "78.53981633974483\n",
      "78.53981633974483\n"
     ]
    }
   ],
   "source": [
    "# class\n",
    "import numpy as np\n",
    "\n",
    "class CCircle(object): # von object abgeleitet\n",
    "\n",
    "    # xyz public\n",
    "    # _xyz protected\n",
    "    # __xyz private\n",
    "    def __init__(self): # constructor deklaration\n",
    "        self.radius = 5\n",
    "        pass # pass überspringt alle Aktionen in dieser Prozedur\n",
    "\n",
    "    def EvalArea(self): # jede Prozedur einer Klasse bekommt als erstes Argument \"self\"\n",
    "        return np.pi*(self.radius**2)\n",
    "\n",
    "ACircle1 = CCircle() # hier wird der Konstruktor aufgerufen\n",
    "print(ACircle1.EvalArea())\n",
    "AlistOfGeometricalObjects = []\n",
    "for n in range(10):\n",
    "    # konstruktor wird aufgerufen\n",
    "    # objekt wird in die Liste eingehängt\n",
    "    AlistOfGeometricalObjects.append(CCircle())\n",
    "\n",
    "AlistOfGeometricalObjects[3].radius = 5\n",
    "\n",
    "for ACircle in AlistOfGeometricalObjects:\n",
    "    print(ACircle.EvalArea())"
   ]
  },
  {
   "cell_type": "code",
   "execution_count": 27,
   "id": "dc0711f6-ba0d-401c-863f-934e3ef1747a",
   "metadata": {},
   "outputs": [
    {
     "name": "stdout",
     "output_type": "stream",
     "text": [
      "radius =  0\n",
      "area =  0.0\n",
      "surrounding =  0.0\n",
      "radius =  1\n",
      "area =  3.141592653589793\n",
      "surrounding =  6.283185307179586\n",
      "radius =  2\n",
      "area =  12.566370614359172\n",
      "surrounding =  12.566370614359172\n",
      "radius =  3\n",
      "area =  28.274333882308138\n",
      "surrounding =  18.84955592153876\n",
      "radius =  4\n",
      "area =  50.26548245743669\n",
      "surrounding =  25.132741228718345\n",
      "radius =  5\n",
      "area =  78.53981633974483\n",
      "surrounding =  31.41592653589793\n",
      "radius =  6\n",
      "area =  113.09733552923255\n",
      "surrounding =  37.69911184307752\n",
      "radius =  7\n",
      "area =  153.93804002589985\n",
      "surrounding =  43.982297150257104\n",
      "radius =  8\n",
      "area =  201.06192982974676\n",
      "surrounding =  50.26548245743669\n",
      "radius =  9\n",
      "area =  254.46900494077323\n",
      "surrounding =  56.548667764616276\n"
     ]
    }
   ],
   "source": [
    "# class\n",
    "import numpy as np\n",
    "\n",
    "class CCircleExtended(object): # von object abgeleitet\n",
    "\n",
    "    # xyz public\n",
    "    # _xyz protected\n",
    "    # __xyz private\n",
    "\n",
    "    # programmierstil:\n",
    "    # Konstruktoren müssen immer schnell sein:\n",
    "    # keine großen Speicherbereiche anlegen\n",
    "    # keine Festplattenzugriffe\n",
    "    # keine Netzwerkzugriffe\n",
    "    #...\n",
    "    # Konstruktoren müssen immer funktionieren\n",
    "    # keine asserts (hier verletzt)\n",
    "    def __init__(self, radius): # constructor deklaration\n",
    "        #assert radius >= 0, 'negative radius not allowed'\n",
    "        #self.__radius = radius # clean code: klassenvariablen immer private\n",
    "        self.SetRadius(radius) # strenggenommen sollen in einem Konstruktor keine asserts vorkommen\n",
    "        # generell alles in einer Klasse so private wie möglich\n",
    "        pass # pass überspringt alle Aktionen in dieser Prozedur\n",
    "\n",
    "    def __EvalPiRadius(self):\n",
    "        return np.pi*self.__radius\n",
    "    \n",
    "    def EvalArea(self): # jede Prozedur einer Klasse bekommt als erstes Argument \"self\"\n",
    "        #return np.pi*(self.__radius**2)\n",
    "        return self.__EvalPiRadius() * self.__radius\n",
    "\n",
    "    def EvalSurrounding(self):\n",
    "        #return 2*np.pi*self.__radius\n",
    "        return 2*self.__EvalPiRadius()\n",
    "\n",
    "    # getter liefern interne Variablen nach außen, machen sie lesbar\n",
    "    def GetRadius(self):\n",
    "        return self.__radius\n",
    "\n",
    "    # setter ermöglichen das editieren von internen Variablen\n",
    "    def SetRadius(self, NewRadius):\n",
    "        assert NewRadius >= 0, 'NewRadius must be greater or equal 0'\n",
    "        self.__radius = NewRadius\n",
    "\n",
    "AlistOfGeometricalObjects = []\n",
    "for n in range(10):\n",
    "    # konstruktor wird aufgerufen\n",
    "    # objekt wird in die Liste eingehängt\n",
    "    AlistOfGeometricalObjects.append(CCircleExtended(n))\n",
    "\n",
    "#AlistOfGeometricalObjects[3].SetRadius(-2)\n",
    "\n",
    "for ACircle in AlistOfGeometricalObjects:\n",
    "    print('radius = ', ACircle.GetRadius())\n",
    "    print('area = ', ACircle.EvalArea())\n",
    "    print('surrounding = ', ACircle.EvalSurrounding())"
   ]
  },
  {
   "cell_type": "code",
   "execution_count": null,
   "id": "593aa261-1cbf-448e-b9cc-9bdf1def6bb7",
   "metadata": {},
   "outputs": [],
   "source": [
    "class CImageSensor(object):\n",
    "\n",
    "    def __init__(self, Width, Height):\n",
    "        #self.__pixelmatrix = np.zeros((Width, Height))\n",
    "        self.__pixelmatrix = None # lazy initialization\n",
    "        self.__Width = Width\n",
    "        self.__Height = Height\n",
    "\n",
    "    def __Initialization(self):\n",
    "        if self.__pixelmatrix is None:\n",
    "            self.__pixelmatrix = np.zeros((self.__Width, self.__Height))\n",
    "\n",
    "    def GetSinglePixel(self, n, m):\n",
    "        self.__Initialization()\n",
    "        return self.__pixelmatrix[n, m]"
   ]
  },
  {
   "cell_type": "code",
   "execution_count": 38,
   "id": "0b543f34-1471-4652-8ea6-5f91e48c39e1",
   "metadata": {},
   "outputs": [
    {
     "name": "stdout",
     "output_type": "stream",
     "text": [
      "[0 1 2 3 4]\n",
      "[ 0  1  4  9 16]\n",
      "range(0, 5)\n",
      "[ 0.07301528 -0.28050626  1.02055955]\n"
     ]
    }
   ],
   "source": [
    "# unterschied range und arange\n",
    "import numpy as np\n",
    "print(np.arange(5))\n",
    "x = np.arange(5)\n",
    "print(x**2)\n",
    "\n",
    "print(range(5))\n",
    "x=range(5)\n",
    "#print(x**2)\n",
    "noise = np.random.randn(3)\n",
    "print(noise)\n",
    "\n",
    "from numpy import *\n",
    "noise2 = random.randn(3)\n"
   ]
  },
  {
   "cell_type": "code",
   "execution_count": null,
   "id": "660bc77b-9054-48c4-a92b-190bc65b150f",
   "metadata": {},
   "outputs": [],
   "source": []
  }
 ],
 "metadata": {
  "kernelspec": {
   "display_name": "Python 3 (ipykernel)",
   "language": "python",
   "name": "python3"
  },
  "language_info": {
   "codemirror_mode": {
    "name": "ipython",
    "version": 3
   },
   "file_extension": ".py",
   "mimetype": "text/x-python",
   "name": "python",
   "nbconvert_exporter": "python",
   "pygments_lexer": "ipython3",
   "version": "3.11.4"
  }
 },
 "nbformat": 4,
 "nbformat_minor": 5
}
