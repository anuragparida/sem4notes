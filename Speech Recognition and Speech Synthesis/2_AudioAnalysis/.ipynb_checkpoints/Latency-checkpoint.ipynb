{
 "cells": [
  {
   "cell_type": "markdown",
   "id": "b5e2737e-93c4-4f1c-aa15-43b6e47ffd6a",
   "metadata": {},
   "source": [
    "# Latency\n",
    "Latency is the delay introduced by an algorithm or limitations in computational complexity."
   ]
  },
  {
   "cell_type": "code",
   "execution_count": 7,
   "id": "2a695b73-cdb2-4b24-b662-24d52fee5543",
   "metadata": {},
   "outputs": [
    {
     "name": "stdout",
     "output_type": "stream",
     "text": [
      "10\n",
      "(90,)\n",
      "(90,)\n",
      "18\n",
      "(82,)\n",
      "(82,)\n",
      "5\n",
      "(95,)\n",
      "(95,)\n",
      "0\n",
      "(100,)\n",
      "(0,)\n"
     ]
    },
    {
     "ename": "ValueError",
     "evalue": "could not broadcast input array from shape (0,) into shape (100,)",
     "output_type": "error",
     "traceback": [
      "\u001b[1;31m---------------------------------------------------------------------------\u001b[0m",
      "\u001b[1;31mValueError\u001b[0m                                Traceback (most recent call last)",
      "Cell \u001b[1;32mIn[7], line 23\u001b[0m\n\u001b[0;32m     21\u001b[0m \u001b[38;5;28mprint\u001b[39m(y[T:]\u001b[38;5;241m.\u001b[39mshape)\n\u001b[0;32m     22\u001b[0m \u001b[38;5;28mprint\u001b[39m(x[\u001b[38;5;241m0\u001b[39m:\u001b[38;5;241m-\u001b[39mT]\u001b[38;5;241m.\u001b[39mshape)\n\u001b[1;32m---> 23\u001b[0m \u001b[43my\u001b[49m\u001b[43m[\u001b[49m\u001b[43mT\u001b[49m\u001b[43m:\u001b[49m\u001b[43m]\u001b[49m \u001b[38;5;241m=\u001b[39m x[\u001b[38;5;241m0\u001b[39m:\u001b[38;5;241m-\u001b[39mT]\n\u001b[0;32m     24\u001b[0m \u001b[38;5;28;01massert\u001b[39;00m np\u001b[38;5;241m.\u001b[39mabs(T \u001b[38;5;241m-\u001b[39m EstimateDelay(x, y)) \u001b[38;5;241m<\u001b[39m \u001b[38;5;241m1e-2\u001b[39m, \u001b[38;5;124m'\u001b[39m\u001b[38;5;124merror in delay evaluation\u001b[39m\u001b[38;5;124m'\u001b[39m\n\u001b[0;32m     25\u001b[0m \u001b[38;5;28;01mif\u001b[39;00m T_min \u001b[38;5;241m>\u001b[39m T: T_min \u001b[38;5;241m=\u001b[39m T\n",
      "\u001b[1;31mValueError\u001b[0m: could not broadcast input array from shape (0,) into shape (100,)"
     ]
    }
   ],
   "source": [
    "import numpy as np\n",
    "\n",
    "def EvaluateCrossCorrelation(x, y):\n",
    "    fftlen = np.maximum(x.shape[0], y.shape[0]) * 2\n",
    "    phi = np.fft.ifft(np.fft.fft(y, fftlen) * np.conj(np.fft.fft(x, fftlen))).real\n",
    "    return phi\n",
    "\n",
    "def EstimateDelay(x, y):\n",
    "    phi = EvaluateCrossCorrelation(x, y)\n",
    "    T = np.argmax(phi)\n",
    "    return T\n",
    "\n",
    "# test latency evaluation\n",
    "T_min = np.Inf\n",
    "T_max = -1\n",
    "for n in range(100):\n",
    "    x = np.random.randn(100)    \n",
    "    T = np.random.randint(x.shape[0] // 4)\n",
    "    if T > 0:\n",
    "        y = np.zeros(x.shape)\n",
    "        y[T:] = x[0:-T]\n",
    "    else:\n",
    "        y = np.copy(x)\n",
    "    assert np.abs(T - EstimateDelay(x, y)) < 1e-2, 'error in delay evaluation'\n",
    "    if T_min > T: T_min = T\n",
    "    if T_max < T: T_max = T\n",
    "assert T_min >= 0, 'delay = 0 not tested'\n",
    "assert T_max > 0, 'no delays > 0 tested'"
   ]
  },
  {
   "cell_type": "code",
   "execution_count": null,
   "id": "235456cd-6674-4b9a-9193-8a73009603d4",
   "metadata": {},
   "outputs": [],
   "source": []
  }
 ],
 "metadata": {
  "kernelspec": {
   "display_name": "Python 3 (ipykernel)",
   "language": "python",
   "name": "python3"
  },
  "language_info": {
   "codemirror_mode": {
    "name": "ipython",
    "version": 3
   },
   "file_extension": ".py",
   "mimetype": "text/x-python",
   "name": "python",
   "nbconvert_exporter": "python",
   "pygments_lexer": "ipython3",
   "version": "3.11.4"
  }
 },
 "nbformat": 4,
 "nbformat_minor": 5
}
