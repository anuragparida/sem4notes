{
 "cells": [
  {
   "cell_type": "code",
   "execution_count": 1,
   "id": "32eafb6e-c3bf-409c-8f12-da0a6847eaac",
   "metadata": {},
   "outputs": [
    {
     "name": "stdout",
     "output_type": "stream",
     "text": [
      "Hello World\n"
     ]
    }
   ],
   "source": [
    "print('Hello World')"
   ]
  },
  {
   "cell_type": "code",
   "execution_count": 6,
   "id": "1f510019-e1df-4fcc-a0db-1faa299bbf6c",
   "metadata": {},
   "outputs": [
    {
     "name": "stdout",
     "output_type": "stream",
     "text": [
      "8\n",
      "2\n",
      "15\n",
      "125\n",
      "2.23606797749979\n"
     ]
    }
   ],
   "source": [
    "x = 5\n",
    "y = 3\n",
    "print(x + y)\n",
    "print(x -y)\n",
    "print(x*y)\n",
    "print(x**3)\n",
    "print(x**0.5)"
   ]
  },
  {
   "cell_type": "code",
   "execution_count": 3,
   "id": "c0cbe4d4-ff3e-46fe-8e40-0f23fbe3f6d5",
   "metadata": {},
   "outputs": [
    {
     "data": {
      "text/plain": [
       "'Hello World'"
      ]
     },
     "execution_count": 3,
     "metadata": {},
     "output_type": "execute_result"
    }
   ],
   "source": [
    "x = 'Hello '\n",
    "y = 'World'\n",
    "x+y"
   ]
  },
  {
   "cell_type": "code",
   "execution_count": 16,
   "id": "fd549951-96e7-4460-82d5-c3919344135c",
   "metadata": {},
   "outputs": [
    {
     "name": "stdout",
     "output_type": "stream",
     "text": [
      "[1 2 3]\n",
      "[0. 0. 0.]\n",
      "[-0.42627577 -0.95886597  0.7322823 ]\n",
      "[0 1 2 3 4]\n"
     ]
    }
   ],
   "source": [
    "import numpy as np # numerical python\n",
    "# definition of vectors in numpy\n",
    "x = np.array([1, 2, 3])\n",
    "print(x)\n",
    "y = np.zeros((3))\n",
    "print(y)\n",
    "z = np.random.randn(3)\n",
    "print(z)\n",
    "n = np.arange(5)\n",
    "print(n)"
   ]
  },
  {
   "cell_type": "code",
   "execution_count": 12,
   "id": "2665880d-920b-4531-89e5-17b8ff01a8b7",
   "metadata": {},
   "outputs": [
    {
     "data": {
      "text/plain": [
       "'\\nfrom numpy import *\\ny = array([2,3,4])\\nprint(y)\\n'"
      ]
     },
     "execution_count": 12,
     "metadata": {},
     "output_type": "execute_result"
    }
   ],
   "source": [
    "'''\n",
    "from numpy import *\n",
    "y = array([2,3,4])\n",
    "print(y)\n",
    "'''"
   ]
  },
  {
   "cell_type": "code",
   "execution_count": 20,
   "id": "07d3550f-4087-4c9f-b311-d5b90744d7dd",
   "metadata": {},
   "outputs": [
    {
     "name": "stdout",
     "output_type": "stream",
     "text": [
      "2.0\n",
      "6\n",
      "[1 4 9]\n",
      "[0.84147098 0.90929743 0.14112001]\n"
     ]
    }
   ],
   "source": [
    "print(np.mean(x))\n",
    "print(np.sum(x))\n",
    "print(x**2)\n",
    "print(np.sin(x))"
   ]
  },
  {
   "cell_type": "code",
   "execution_count": 39,
   "id": "f32c2940-3d27-48a1-9022-19e755f20a42",
   "metadata": {},
   "outputs": [
    {
     "name": "stdout",
     "output_type": "stream",
     "text": [
      "[[ 0.76589639  0.47441179 -0.38116574 -0.15331739]\n",
      " [-0.69077759 -1.00906736  0.58501555  0.33774126]\n",
      " [ 1.87997336 -0.13180951  1.35442304  1.05022695]\n",
      " [-0.90634018  0.73312802 -0.42602181 -1.61219594]]\n",
      "[-1.94564987  0.837083    0.96125164 -1.07044072]\n",
      "7\n",
      "3\n"
     ]
    }
   ],
   "source": [
    "A = np.random.randn(4,4)\n",
    "b = np.random.randn(4)\n",
    "print(A)\n",
    "print(b)\n",
    "x = np.linalg.lstsq(A,b, rcond = None)\n",
    "\n",
    "A = np.random.randn(7, 3)\n",
    "print(A.shape[0])\n",
    "print(A.shape[1])"
   ]
  },
  {
   "cell_type": "code",
   "execution_count": 29,
   "id": "ed48dc18-6259-4ae6-810a-f4ac2ce9b106",
   "metadata": {},
   "outputs": [
    {
     "name": "stdout",
     "output_type": "stream",
     "text": [
      "[-0.54906702 -1.0148177   0.03026897  1.84648147  0.68266907]\n",
      "-0.5490670228924871\n",
      "-1.0148176992611448\n",
      "0.030268973948846506\n",
      "1.8464814654227264\n",
      "0.6826690744776058\n",
      "0.9955347916955468\n"
     ]
    }
   ],
   "source": [
    "x = np.random.randn(5)\n",
    "print(x)\n",
    "\n",
    "MySum = 0.0\n",
    "for n in range(5):\n",
    "    print(x[n])\n",
    "    MySum = MySum + x[n]\n",
    "\n",
    "print(MySum)"
   ]
  },
  {
   "cell_type": "code",
   "execution_count": 30,
   "id": "420ccfa8-a536-469b-be63-591f61cdc8a1",
   "metadata": {},
   "outputs": [
    {
     "data": {
      "image/png": "[encoded data removed]",
      "text/plain": [
       "<Figure size 640x480 with 1 Axes>"
      ]
     },
     "metadata": {},
     "output_type": "display_data"
    }
   ],
   "source": [
    "import matplotlib.pyplot as plt\n",
    "\n",
    "r = 48000\n",
    "n = np.arange(1000)\n",
    "t = n / r\n",
    "x = np.sin(2*np.pi*100*t)\n",
    "\n",
    "plt.plot(t, x, 'b')\n",
    "plt.show()"
   ]
  },
  {
   "cell_type": "code",
   "execution_count": 33,
   "id": "0272bd25-0673-4e6c-bbf0-509463751854",
   "metadata": {},
   "outputs": [
    {
     "name": "stdout",
     "output_type": "stream",
     "text": [
      "50.26548245743669\n",
      "113.09733552923255\n",
      "50.26548245743669\n",
      "113.09733552923255\n"
     ]
    }
   ],
   "source": [
    "# procedures \n",
    "Radius = 4\n",
    "Area1 = np.pi*(Radius**2)\n",
    "print(Area1)\n",
    "Radius = 6\n",
    "Area2 = np.pi*(Radius**2)\n",
    "print(Area2)\n",
    "\n",
    "def EvalAreaOfCircle(Radius):\n",
    "    Area = np.pi*(Radius**2)\n",
    "    return Area\n",
    "\n",
    "print(EvalAreaOfCircle(4))\n",
    "print(EvalAreaOfCircle(6))"
   ]
  },
  {
   "cell_type": "code",
   "execution_count": 38,
   "id": "e257a09a-2f74-48e6-b36b-1ff336b5af4a",
   "metadata": {},
   "outputs": [
    {
     "name": "stdout",
     "output_type": "stream",
     "text": [
      "5.0\n",
      "3.1622776601683795\n",
      "1.0\n",
      "11.40175425099138\n",
      "5.0\n"
     ]
    }
   ],
   "source": [
    "def EvaluateThirdSide(a = 0.0, b = 1.0):\n",
    "    c = (a**2 + b**2)**0.5\n",
    "    return c\n",
    "\n",
    "print(EvaluateThirdSide(3, 4))\n",
    "print(EvaluateThirdSide(3))\n",
    "print(EvaluateThirdSide())\n",
    "print(EvaluateThirdSide(7, 9))\n",
    "print(EvaluateThirdSide(b = 5))"
   ]
  },
  {
   "cell_type": "code",
   "execution_count": 42,
   "id": "4fa1ab78-2774-4da3-b54f-bc6f4cc88bb4",
   "metadata": {},
   "outputs": [
    {
     "name": "stdout",
     "output_type": "stream",
     "text": [
      "21.0\n"
     ]
    }
   ],
   "source": [
    "def EvalCumulatedSum(x):\n",
    "    result = 0.0\n",
    "    for n in range(x.shape[0]):\n",
    "        result += x[n]\n",
    "    return result\n",
    "\n",
    "x = np.arange(7)\n",
    "print(EvalCumulatedSum(x))"
   ]
  },
  {
   "cell_type": "code",
   "execution_count": 45,
   "id": "a8e29b5a-eb40-484a-8af7-e6709078d705",
   "metadata": {},
   "outputs": [
    {
     "name": "stdout",
     "output_type": "stream",
     "text": [
      "4\n",
      "2\n",
      "17\n",
      "0\n",
      "1\n",
      "4\n",
      "4\n",
      "2\n",
      "17\n",
      "0\n",
      "1\n",
      "4\n"
     ]
    }
   ],
   "source": [
    "# define an empty list:\n",
    "AList = []\n",
    "AList.append(4)\n",
    "AList.append(2)\n",
    "AList.append(17)\n",
    "for n in range(3):\n",
    "    AList.append(n**2)\n",
    "\n",
    "for n in range(len(AList)):\n",
    "    print(AList[n])\n",
    "\n",
    "for ListElement in AList:\n",
    "    print(ListElement)"
   ]
  },
  {
   "cell_type": "code",
   "execution_count": 56,
   "id": "baaf01d4-5cbe-4ec4-81fa-df7d20cff97f",
   "metadata": {},
   "outputs": [
    {
     "name": "stdout",
     "output_type": "stream",
     "text": [
      "area =  0.0\n",
      "surrounding =  0.0\n",
      "name =  circle\n",
      "name =  Godzilla\n",
      "name =  17\n",
      "radius =  0.0\n",
      "surrounding =  31.41592653589793\n"
     ]
    },
    {
     "ename": "AssertionError",
     "evalue": "NewRadius should be integer or float",
     "output_type": "error",
     "traceback": [
      "\u001b[1;31m---------------------------------------------------------------------------\u001b[0m",
      "\u001b[1;31mAssertionError\u001b[0m                            Traceback (most recent call last)",
      "Cell \u001b[1;32mIn[56], line 36\u001b[0m\n\u001b[0;32m     34\u001b[0m ACircle\u001b[38;5;241m.\u001b[39mSetRadius(\u001b[38;5;241m5\u001b[39m)\n\u001b[0;32m     35\u001b[0m \u001b[38;5;28mprint\u001b[39m(\u001b[38;5;124m'\u001b[39m\u001b[38;5;124msurrounding = \u001b[39m\u001b[38;5;124m'\u001b[39m, ACircle\u001b[38;5;241m.\u001b[39mEvalSurrounding())\n\u001b[1;32m---> 36\u001b[0m \u001b[43mACircle\u001b[49m\u001b[38;5;241;43m.\u001b[39;49m\u001b[43mSetRadius\u001b[49m\u001b[43m(\u001b[49m\u001b[38;5;124;43m'\u001b[39;49m\u001b[38;5;124;43mGodzilla\u001b[39;49m\u001b[38;5;124;43m'\u001b[39;49m\u001b[43m)\u001b[49m\n\u001b[0;32m     37\u001b[0m \u001b[38;5;28mprint\u001b[39m(\u001b[38;5;124m'\u001b[39m\u001b[38;5;124msurrounding = \u001b[39m\u001b[38;5;124m'\u001b[39m, ACircle\u001b[38;5;241m.\u001b[39mEvalSurrounding())\n",
      "Cell \u001b[1;32mIn[56], line 20\u001b[0m, in \u001b[0;36mCCircle.SetRadius\u001b[1;34m(self, NewRadius)\u001b[0m\n\u001b[0;32m     18\u001b[0m \u001b[38;5;28;01mdef\u001b[39;00m \u001b[38;5;21mSetRadius\u001b[39m(\u001b[38;5;28mself\u001b[39m, NewRadius):\n\u001b[0;32m     19\u001b[0m     InputType \u001b[38;5;241m=\u001b[39m \u001b[38;5;28mtype\u001b[39m(NewRadius)\n\u001b[1;32m---> 20\u001b[0m     \u001b[38;5;28;01massert\u001b[39;00m (InputType \u001b[38;5;129;01mis\u001b[39;00m \u001b[38;5;28mfloat\u001b[39m) \u001b[38;5;129;01mor\u001b[39;00m (InputType \u001b[38;5;129;01mis\u001b[39;00m \u001b[38;5;28mint\u001b[39m), \u001b[38;5;124m'\u001b[39m\u001b[38;5;124mNewRadius should be integer or float\u001b[39m\u001b[38;5;124m'\u001b[39m\n\u001b[0;32m     21\u001b[0m     \u001b[38;5;28;01massert\u001b[39;00m NewRadius \u001b[38;5;241m>\u001b[39m\u001b[38;5;241m=\u001b[39m \u001b[38;5;241m0\u001b[39m, \u001b[38;5;124m'\u001b[39m\u001b[38;5;124mradius should never be negative\u001b[39m\u001b[38;5;124m'\u001b[39m\n\u001b[0;32m     22\u001b[0m     \u001b[38;5;28mself\u001b[39m\u001b[38;5;241m.\u001b[39m__radius \u001b[38;5;241m=\u001b[39m NewRadius\n",
      "\u001b[1;31mAssertionError\u001b[0m: NewRadius should be integer or float"
     ]
    }
   ],
   "source": [
    "class CCircle(object):\n",
    "\n",
    "    def __init__(self):\n",
    "        self.__radius = 0.0 # private\n",
    "        self.name = 'circle' # public: should never be done\n",
    "\n",
    "    def EvalArea(self):\n",
    "        return np.pi*(self.__radius**2)\n",
    "\n",
    "    def EvalSurrounding(self):\n",
    "        return 2*np.pi*self.__radius\n",
    "\n",
    "    # reading access to private variables always with getter-procedures\n",
    "    def GetRadius(self):\n",
    "        return self.__radius\n",
    "\n",
    "    # writing access of private variables with setter-procedures\n",
    "    def SetRadius(self, NewRadius):\n",
    "        InputType = type(NewRadius)\n",
    "        assert (InputType is float) or (InputType is int), 'NewRadius should be integer or float'\n",
    "        assert NewRadius >= 0, 'radius should never be negative'\n",
    "        self.__radius = NewRadius\n",
    "\n",
    "ACircle = CCircle() # calling the constructor\n",
    "print('area = ', ACircle.EvalArea())\n",
    "print('surrounding = ', ACircle.EvalSurrounding())\n",
    "print('name = ', ACircle.name)\n",
    "ACircle.name = 'Godzilla'\n",
    "print('name = ', ACircle.name)\n",
    "ACircle.name = 17\n",
    "print('name = ', ACircle.name)\n",
    "print('radius = ', ACircle.GetRadius())\n",
    "\n",
    "ACircle.SetRadius(5)\n",
    "print('surrounding = ', ACircle.EvalSurrounding())\n",
    "ACircle.SetRadius('Godzilla')\n",
    "print('surrounding = ', ACircle.EvalSurrounding())"
   ]
  },
  {
   "cell_type": "code",
   "execution_count": null,
   "id": "c7f432ef-2e4d-478b-ae6b-beb484c29c5f",
   "metadata": {},
   "outputs": [],
   "source": [
    "x = 5\n",
    "x = x * 1.1\n",
    "x *= 1.1"
   ]
  },
  {
   "cell_type": "code",
   "execution_count": 1,
   "id": "8f89764d-85b7-4e80-9102-4938bf7c74a9",
   "metadata": {},
   "outputs": [
    {
     "name": "stdout",
     "output_type": "stream",
     "text": [
      "7\n",
      "3\n"
     ]
    }
   ],
   "source": [
    "AList = []\n",
    "AList.append(7)\n",
    "AList.append(3)\n",
    "\n",
    "for AElement in AList:\n",
    "    print(AElement)"
   ]
  },
  {
   "cell_type": "code",
   "execution_count": null,
   "id": "08689f49-a41c-469c-ac80-0356875a0741",
   "metadata": {},
   "outputs": [],
   "source": []
  }
 ],
 "metadata": {
  "kernelspec": {
   "display_name": "Python 3 (ipykernel)",
   "language": "python",
   "name": "python3"
  },
  "language_info": {
   "codemirror_mode": {
    "name": "ipython",
    "version": 3
   },
   "file_extension": ".py",
   "mimetype": "text/x-python",
   "name": "python",
   "nbconvert_exporter": "python",
   "pygments_lexer": "ipython3",
   "version": "3.11.4"
  }
 },
 "nbformat": 4,
 "nbformat_minor": 5
}
