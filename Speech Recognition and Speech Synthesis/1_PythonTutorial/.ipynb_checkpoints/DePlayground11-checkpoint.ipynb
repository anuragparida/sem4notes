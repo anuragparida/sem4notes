{
 "cells": [
  {
   "cell_type": "code",
   "execution_count": 4,
   "id": "25b19005-d3e5-4024-be0c-c14d408ca7c6",
   "metadata": {},
   "outputs": [
    {
     "name": "stdout",
     "output_type": "stream",
     "text": [
      "0.0\n",
      "0.0\n",
      "78.53981633974483\n",
      "0.0\n",
      "0.0\n"
     ]
    }
   ],
   "source": [
    "import numpy as np\n",
    "\n",
    "class CCircle(object):\n",
    "\n",
    "    def __init__(self):\n",
    "        self.__radius = 0.0\n",
    "\n",
    "    def SetRadius(self, NewRadius):\n",
    "        self.__radius = NewRadius\n",
    "\n",
    "    def GetArea(self):\n",
    "        return np.pi*(self.__radius**2)\n",
    "\n",
    "    @staticmethod\n",
    "    def GetSurrounding(radius):\n",
    "        return np.pi*2*radius\n",
    "\n",
    "ACircleList = []\n",
    "for n in range(5):\n",
    "    ACircleList.append(CCircle())\n",
    "\n",
    "print(CCircle.GetSurrounding(3.5))\n",
    "\n",
    "ACircleList[2].SetRadius(5.0)\n",
    "for n in range(len(ACircleList)):\n",
    "    print(ACircleList[n].GetArea())"
   ]
  },
  {
   "cell_type": "code",
   "execution_count": null,
   "id": "c4a23522-b7ac-4636-9d22-1b77d5f887d4",
   "metadata": {},
   "outputs": [],
   "source": [
    "class CHMMSingleCommand(object):\n",
    "\n",
    "    def __init__(self, commandstring):\n",
    "        self.__cs = commandstring\n",
    "        self.__FileInterface = None\n",
    "        self.__HMMTrainer = None\n",
    "        self.__HMMPredictor = None\n",
    "\n",
    "    def __GetHMMTrainer(self):\n",
    "        if self.__HMMTrainer is None:\n",
    "            self.__HMMTrainer = CHMMTrainer()\n",
    "        return self.__HMMTrainer\n",
    "\n",
    "    def __GetHMMPredictor(self):\n",
    "        if self.__HMMPredictor is None:\n",
    "            self.__HMMPredictor = CHMMPredictor()\n",
    "        return self.__HMMPredictor\n",
    "\n",
    "    def Predict(self, x):\n",
    "        return self.__GetHMMPredictor().Predict(x)\n",
    "\n",
    "    def Train(self, y):\n",
    "        pass"
   ]
  }
 ],
 "metadata": {
  "kernelspec": {
   "display_name": "Python 3 (ipykernel)",
   "language": "python",
   "name": "python3"
  },
  "language_info": {
   "codemirror_mode": {
    "name": "ipython",
    "version": 3
   },
   "file_extension": ".py",
   "mimetype": "text/x-python",
   "name": "python",
   "nbconvert_exporter": "python",
   "pygments_lexer": "ipython3",
   "version": "3.11.4"
  }
 },
 "nbformat": 4,
 "nbformat_minor": 5
}
