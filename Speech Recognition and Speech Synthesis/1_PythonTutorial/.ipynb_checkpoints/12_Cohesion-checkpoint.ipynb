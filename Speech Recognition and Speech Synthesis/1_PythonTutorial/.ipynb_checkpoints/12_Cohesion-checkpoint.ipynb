{
 "cells": [
  {
   "cell_type": "markdown",
   "id": "1bbab9c5",
   "metadata": {},
   "source": [
    "# Cohesion\n",
    "When you write your own code, it may happen, that an additional feature is implemented in any class, already existing. This supports the lazyness of each programmer to avoid creating new classes. The big disadvantage of this scenario is, that the existing classes grow bigger and bigger and serve a lot of tasks. In this case, the class is called a 'god class', because it can serve any purpose. This makes your classes hard to maintain and hard for bug fixing.\n",
    "\n",
    "In order to avoid these 'god classes', one design principle for programming is the single-responsibility principle:\n",
    "Each class, procedure or module should have only a single purpose.\n",
    "\n",
    "In the following, a class is shown, whichs serves only a single purpose. The physical parameters of a cylinder are stored (radius, height, density) and depending parameters (volume and weight) can be evaluated by getters:"
   ]
  },
  {
   "cell_type": "code",
   "execution_count": 7,
   "id": "3d75fc65",
   "metadata": {},
   "outputs": [],
   "source": [
    "import numpy as np\n",
    "\n",
    "class MyCylinder():\n",
    "    \n",
    "    def __init__(self, ARadiusInCm = 1.0, AHeightInCm = 1.0, ADensityInGramPerCCM = 1.0):\n",
    "        self.__RadiusInCm = ARadiusInCm\n",
    "        self.__HeightInCm = AHeightInCm\n",
    "        self.__DensityInGramPerCCM = ADensityInGramPerCCM\n",
    "        \n",
    "    def GetRadiusInCm(self):\n",
    "        return self.__RadiusInCm\n",
    "    \n",
    "    def GetHeightInCm(self):\n",
    "        return self.__HeightInCm\n",
    "    \n",
    "    def GetVolumeInCCM(self):\n",
    "        return (self.__RadiusInCm**2) * np.pi * self.__HeightInCm\n",
    "    \n",
    "    def GetWeightInGram(self):\n",
    "        return self.GetVolumeInCCM() * self.__DensityInGramPerCCM\n",
    "    \n",
    "    def IsFloating(self):\n",
    "        return self.__DensityInGramPerCCM < 1.0\n",
    "    \n",
    "ACylinder = MyCylinder(1, 1, 1)\n",
    "assert np.abs(ACylinder.GetVolumeInCCM() - np.pi) < 1e-10, 'error in evaluation the volume of a cylinder'"
   ]
  },
  {
   "cell_type": "markdown",
   "id": "0f3927a6",
   "metadata": {},
   "source": [
    "As a counter example, a class which serves two different is shown in the following.\n",
    "\n",
    "Obviously, this class handles geometrical properties of a cylinder and additionally it stores properties of the geometrical object which belongs to the look and feel of this object."
   ]
  },
  {
   "cell_type": "code",
   "execution_count": null,
   "id": "e293c60c",
   "metadata": {},
   "outputs": [],
   "source": [
    "class MyCylinderExtended(object):\n",
    "    \n",
    "    def __init__(self, ARadiusInCm = 1.0, AHeightInCm = 1.0, ADensityInGramPerCCM = 1.0):\n",
    "        self.__RadiusInCm = ARadiusInCm\n",
    "        self.__HeightInCm = AHeightInCm\n",
    "        self.__DensityInGramPerCCM = ADensityInGramPerCCM\n",
    "        self.__Color = 'red'\n",
    "        self.__Texture = 'Leather'\n",
    "    \n",
    "    def SetColor(self, NewColor):\n",
    "        self.__Color = NewColor\n",
    "        \n",
    "    def GetColor(self):\n",
    "        return self.__Color\n",
    "    \n",
    "    def SetTexture(self, NewTexture):\n",
    "        self.__Texture = NewTexture\n",
    "        \n",
    "    def GetTexture(self):\n",
    "        return self.__Texture\n",
    "    \n",
    "    def GetRadiusInCm(self):\n",
    "        return self.__RadiusInCm\n",
    "    \n",
    "    def GetHeightInCm(self):\n",
    "        return self.__HeightInCm\n",
    "    \n",
    "    def GetVolumeInCCM(self):\n",
    "        return (self.__RadiusInCm**2) * np.pi * self.__HeightInCm\n",
    "    \n",
    "    def GetWeightInGram(self):\n",
    "        return self.GetVolumeInCCM() * self.__DensityInGramPerCCM\n",
    "    \n",
    "    def IsFloating(self):\n",
    "        return self.__DensityInGramPerCCM < 1.0\n",
    "    \n",
    "ACylinder = MyCylinder(1, 1, 1)\n",
    "assert np.abs(ACylinder.GetVolumeInCCM() - np.pi) < 1e-10, 'error in evaluation the volume of a cylinder'"
   ]
  },
  {
   "cell_type": "markdown",
   "id": "e39d37c8",
   "metadata": {},
   "source": [
    "A solution for such a situation would be:\n",
    "\n",
    "Redefine the extended cylinder as a collection of two classes:"
   ]
  },
  {
   "cell_type": "code",
   "execution_count": 1,
   "id": "a83bc8a9",
   "metadata": {},
   "outputs": [],
   "source": [
    "class CGeometricalObjectLookAndFeel(object):\n",
    "    \n",
    "    def __init__(self):\n",
    "        self.__Color = 'red'\n",
    "        self.__Texture = 'Leather'\n",
    "        \n",
    "    def SetColor(self, NewColor):\n",
    "        self.__Color = NewColor\n",
    "        \n",
    "    def GetColor(self):\n",
    "        return self.__Color\n",
    "    \n",
    "    def SetTexture(self, NewTexture):\n",
    "        self.__Texture = NewTexture\n",
    "        \n",
    "    def GetTexture(self):\n",
    "        return self.__Texture\n",
    "    \n",
    "class MyCylinderExtendedWithBetterCohesion(object):\n",
    "    \n",
    "    def __init__(self):\n",
    "        self.__Cylinder = MyCylinder()\n",
    "        self.__LookAndFeel = CGeometricalObjectLookAndFeel()\n",
    "        \n",
    "    def GetGeometricProperties(self):\n",
    "        return self.__Cylinder\n",
    "\n",
    "    def GetLookAndFeel(self):\n",
    "        return self.__LookAndFeel"
   ]
  },
  {
   "cell_type": "code",
   "execution_count": null,
   "id": "edb0098f",
   "metadata": {},
   "outputs": [],
   "source": []
  }
 ],
 "metadata": {
  "kernelspec": {
   "display_name": "Python 3 (ipykernel)",
   "language": "python",
   "name": "python3"
  },
  "language_info": {
   "codemirror_mode": {
    "name": "ipython",
    "version": 3
   },
   "file_extension": ".py",
   "mimetype": "text/x-python",
   "name": "python",
   "nbconvert_exporter": "python",
   "pygments_lexer": "ipython3",
   "version": "3.11.4"
  }
 },
 "nbformat": 4,
 "nbformat_minor": 5
}
