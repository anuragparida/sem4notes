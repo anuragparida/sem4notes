{
 "cells": [
  {
   "cell_type": "markdown",
   "id": "c29f2982",
   "metadata": {},
   "source": [
    "# Don't repeat yourself\n",
    "DRY is a coding principle. It means Dont repeat yourself. According to coding the meaning is: never write the same line of code twice.\n",
    "\n",
    "In the following class, the evaluation of the volume is done twice:"
   ]
  },
  {
   "cell_type": "code",
   "execution_count": 4,
   "id": "9c82a593",
   "metadata": {},
   "outputs": [],
   "source": [
    "import numpy as np\n",
    "\n",
    "class MyCylinder():\n",
    "    \n",
    "    def __init__(self, ARadiusInCm = 1.0, AHeightInCm = 1.0, ADensityInGramPerCCM = 1.0):\n",
    "        self.__RadiusInCm = ARadiusInCm\n",
    "        self.__HeightInCm = AHeightInCm\n",
    "        self.__DensityInGramPerCCM = ADensityInGramPerCCM\n",
    "        \n",
    "    def GetRadiusInCm(self):\n",
    "        return self.__RadiusInCm\n",
    "    \n",
    "    def GetHeightInCm(self):\n",
    "        return self.__HeightInCm\n",
    "    \n",
    "    def GetVolumeInCCM(self):\n",
    "        return (self.__RadiusInCm**2) * np.pi * self.__HeightInCm\n",
    "    \n",
    "    def GetWeightInGram(self):\n",
    "        return (self.__RadiusInCm**2) * np.pi * self.__HeightInCm * self.__DensityInGramPerCCM\n",
    "    \n",
    "    def IsFloating(self):\n",
    "        return self.__DensityInGramPerCCM < 1.0"
   ]
  },
  {
   "cell_type": "markdown",
   "id": "fa4615a5",
   "metadata": {},
   "source": [
    "According to the DRY principle, the getter GetVolumeInCCM is reused for the getter of the weight:"
   ]
  },
  {
   "cell_type": "code",
   "execution_count": 3,
   "id": "2f84e031",
   "metadata": {},
   "outputs": [],
   "source": [
    "class MyCylinder():\n",
    "    \n",
    "    def __init__(self, ARadiusInCm = 1.0, AHeightInCm = 1.0, ADensityInGramPerCCM = 1.0):\n",
    "        self.__RadiusInCm = ARadiusInCm\n",
    "        self.__HeightInCm = AHeightInCm\n",
    "        self.__DensityInGramPerCCM = ADensityInGramPerCCM\n",
    "        \n",
    "    def GetRadiusInCm(self):\n",
    "        return self.__RadiusInCm\n",
    "    \n",
    "    def GetHeightInCm(self):\n",
    "        return self.__HeightInCm\n",
    "    \n",
    "    def GetVolumeInCCM(self):\n",
    "        return (self.__RadiusInCm**2) * np.pi * self.__HeightInCm\n",
    "    \n",
    "    def GetWeightInGram(self):\n",
    "        return self.GetVolumeInCCM() * self.__DensityInGramPerCCM\n",
    "    \n",
    "    def IsFloating(self):\n",
    "        return self.__DensityInGramPerCCM < 1.0"
   ]
  },
  {
   "cell_type": "markdown",
   "id": "e3934e98",
   "metadata": {},
   "source": [
    "The reasons for this coding principle are:\n",
    "\n",
    "Make your code as compact as possible.\n",
    "\n",
    "Make your code as readable and understandable as possible.\n",
    "\n",
    "If you fix an error in your code, the DRY principle ensures, that this error is (most probably) only at one place in the whole software."
   ]
  },
  {
   "cell_type": "markdown",
   "id": "f442cc42",
   "metadata": {},
   "source": [
    "## Exercise:\n",
    "\n",
    "Rewrite the following class according to the DRY principle:"
   ]
  },
  {
   "cell_type": "code",
   "execution_count": null,
   "id": "5459ec4e",
   "metadata": {},
   "outputs": [],
   "source": [
    "class CMeasureStatistics(object):\n",
    "    \n",
    "    def __init__(self):\n",
    "        self.__SumOfAllValues = 0.0\n",
    "        self.__SquaredSumOfAllValues = 0.0\n",
    "        self.__Counter = 0\n",
    "        \n",
    "    def ProcessNewValues(self, x):\n",
    "        self.__SumOfAllValues += np.sum(x)\n",
    "        self.__SquaredSumOfAllValues += np.sum(x**2)\n",
    "        self.__Counter += x.shape[0]\n",
    "    \n",
    "    def GetMean(self):\n",
    "        return self.__SumOfAllValues / self.__Counter\n",
    "    \n",
    "    def GetStandardDeviation(self):\n",
    "        return self.__SquaredSumOfAllValues / self.__Counter - (self.__SumOfAllValues / self.__Counter)**2\n",
    "    \n",
    "    def Reset(self):\n",
    "        self.__SumOfAllValues = 0.0\n",
    "        self.__SquaredSumOfAllValues = 0.0\n",
    "        self.__Counter = 0       "
   ]
  }
 ],
 "metadata": {
  "kernelspec": {
   "display_name": "Python 3 (ipykernel)",
   "language": "python",
   "name": "python3"
  },
  "language_info": {
   "codemirror_mode": {
    "name": "ipython",
    "version": 3
   },
   "file_extension": ".py",
   "mimetype": "text/x-python",
   "name": "python",
   "nbconvert_exporter": "python",
   "pygments_lexer": "ipython3",
   "version": "3.9.7"
  }
 },
 "nbformat": 4,
 "nbformat_minor": 5
}
