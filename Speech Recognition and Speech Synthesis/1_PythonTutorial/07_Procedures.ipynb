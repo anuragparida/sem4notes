{
 "cells": [
  {
   "cell_type": "markdown",
   "id": "a8cd5b2f",
   "metadata": {},
   "source": [
    "# Procedures\n",
    "Procedures enable the code-writer to make code more readable.\n",
    "In its simplest form, a procedure is a set of commands, which should be executed together:"
   ]
  },
  {
   "cell_type": "code",
   "execution_count": 1,
   "id": "162fc4bf",
   "metadata": {},
   "outputs": [
    {
     "name": "stdout",
     "output_type": "stream",
     "text": [
      "square root of  0  =  0.0\n",
      "square root of  1  =  1.0\n",
      "square root of  2  =  1.414213562373095\n",
      "square root of  3  =  1.7320508075688772\n",
      "square root of  4  =  2.0\n",
      "square root of  5  =  2.23606797749979\n",
      "square root of  6  =  2.449489742783178\n",
      "square root of  7  =  2.6457513110645907\n",
      "square root of  8  =  2.82842712474619\n",
      "square root of  9  =  3.0\n"
     ]
    }
   ],
   "source": [
    "import numpy as np\n",
    "\n",
    "def EvaluateSquareRootByNewton(x):\n",
    "    assert x >= 0, 'input should be greater or equal to zero'\n",
    "    if x < 1e-16:\n",
    "        return 0.0\n",
    "    else:\n",
    "        y = x / 2\n",
    "        for n in range(10):\n",
    "            y = 0.5 * (y + x / y)\n",
    "        return y\n",
    "\n",
    "for n in range(10):\n",
    "    print('square root of ', n, ' = ', EvaluateSquareRootByNewton(n))"
   ]
  },
  {
   "cell_type": "markdown",
   "id": "892a1c1d",
   "metadata": {},
   "source": [
    "Analogue to the indentions of loops and control structures, the code belonging to the procedure is defined by indention.\n",
    "In the beginning of the procedure, the indention is incremented.\n",
    "At the end of the procedure, the indention is decremented:"
   ]
  },
  {
   "cell_type": "code",
   "execution_count": 2,
   "id": "6ee6acd5",
   "metadata": {},
   "outputs": [
    {
     "name": "stdout",
     "output_type": "stream",
     "text": [
      "World\n",
      "Hello\n"
     ]
    }
   ],
   "source": [
    "def PrintSomething():\n",
    "    print('Hello')\n",
    "print('World')\n",
    "\n",
    "PrintSomething()"
   ]
  },
  {
   "cell_type": "markdown",
   "id": "387113a6",
   "metadata": {},
   "source": [
    "The arguments of the procedure are not typesafe, which can cause unwanted behaviour."
   ]
  },
  {
   "cell_type": "code",
   "execution_count": 3,
   "id": "55350534",
   "metadata": {},
   "outputs": [
    {
     "name": "stdout",
     "output_type": "stream",
     "text": [
      "sum of 3 and 4 =  7\n",
      "python is not type-safe:  Hello World\n"
     ]
    }
   ],
   "source": [
    "def EvaluateSum(a, b):\n",
    "    return a + b\n",
    "\n",
    "print('sum of 3 and 4 = ', EvaluateSum(3, 4))\n",
    "print('python is not type-safe: ', EvaluateSum('Hello ', 'World'))"
   ]
  },
  {
   "cell_type": "markdown",
   "id": "68533773",
   "metadata": {},
   "source": [
    "Arguments of a procedure can have default values. The order of the arguments must be: First, the arguments without default values, second all arguments with default arguments."
   ]
  },
  {
   "cell_type": "code",
   "execution_count": 4,
   "id": "173bef56",
   "metadata": {},
   "outputs": [
    {
     "name": "stdout",
     "output_type": "stream",
     "text": [
      "division of 3 by 4 =  0.75\n",
      "division of 3 by 1 =  3.0\n",
      "division of 3 by default denominator =  3.0\n"
     ]
    }
   ],
   "source": [
    "def EvaluateDivision(Numerator, Denominator = 1):\n",
    "    return Numerator / Denominator\n",
    "\n",
    "assert np.abs(EvaluateDivision(4, 2) - 2) < 1e-10, 'error in EvaluateDivision(4,2)'\n",
    "print('division of 3 by 4 = ', EvaluateDivision(3, 4))\n",
    "print('division of 3 by 1 = ', EvaluateDivision(3, 1))\n",
    "print('division of 3 by default denominator = ', EvaluateDivision(3))"
   ]
  },
  {
   "cell_type": "markdown",
   "id": "8cf5db77",
   "metadata": {},
   "source": [
    "Procedures should be as compact as possible:\n",
    "\n",
    "They should be readable on the screen without scrolling. In the best case, this is true even for small screens. By enforcing this, the programmer has a better chance to understand the procedure with all its inputs, algorithms and outputs.\n",
    "\n",
    "If you have a lot of indention levels, you should define new procedures for the inner indention levels. By enforcing this, the loops and control structures becomes more readable.\n",
    "\n",
    "In the following a simple procedure is shown, which implements a matrix multiplication.\n",
    "It uses three levels of indention (three for-loops). Combined with the indention level of the procedure itself, the code becomes relatively complex. It is hard to see, what each indention level is used for."
   ]
  },
  {
   "cell_type": "code",
   "execution_count": 5,
   "id": "6c50afe6",
   "metadata": {},
   "outputs": [],
   "source": [
    "def MyMatrixMultiplication(A, B):\n",
    "    assert A.shape[1] == B.shape[0], 'wrong shapes of input matrices'\n",
    "    result = np.zeros((A.shape[0], B.shape[1]))\n",
    "    for row in range(result.shape[0]):\n",
    "        for col in range(result.shape[1]):\n",
    "            for n in range(A.shape[1]):\n",
    "                result[row, col] += A[row, n] * B[n, col]\n",
    "    return result\n",
    "\n",
    "A = np.random.randn(7, 5)\n",
    "B = np.random.randn(5, 6)\n",
    "C = MyMatrixMultiplication(A, B)"
   ]
  },
  {
   "cell_type": "markdown",
   "id": "d877b500",
   "metadata": {},
   "source": [
    "If you have a large number of indention levels, typically the inner indention levels can be encapsulated by a procedure:"
   ]
  },
  {
   "cell_type": "code",
   "execution_count": 6,
   "id": "eaf18354",
   "metadata": {},
   "outputs": [],
   "source": [
    "def MyDotProduct(x, y):\n",
    "    assert x.shape[0] == y.shape[0], 'wrong shapes of input vectors'\n",
    "    result = 0.0\n",
    "    for n in range(x.shape[0]):\n",
    "        result += x[n]*y[n]\n",
    "    return result\n",
    "\n",
    "def MyMatrixMultiplicationWithLessIndention(A, B):\n",
    "    \n",
    "    result = np.zeros((A.shape[0], B.shape[1]))\n",
    "    for row in range(result.shape[0]):\n",
    "        for col in range(result.shape[1]):\n",
    "            result[row, col] = MyDotProduct(A[row, :], B[:, col])\n",
    "    return result\n",
    "\n",
    "D = MyMatrixMultiplicationWithLessIndention(A, B)\n",
    "assert np.sum(np.abs(C- D)) < 1e-10, 'error in evaluation of dot product'"
   ]
  },
  {
   "cell_type": "markdown",
   "id": "995391bf",
   "metadata": {},
   "source": [
    "## Recursion\n",
    "If a procedure calls itself, this algorithm is called a recursion. This can be shown very simple by the evaluation of the factorial:\n",
    "\n",
    "$N! = \\Pi_{n=1}^N n$"
   ]
  },
  {
   "cell_type": "code",
   "execution_count": 9,
   "id": "3afb5f7a",
   "metadata": {},
   "outputs": [
    {
     "name": "stdout",
     "output_type": "stream",
     "text": [
      "1\n",
      "1\n",
      "2\n",
      "6\n",
      "24\n",
      "120\n",
      "720\n",
      "5040\n",
      "40320\n",
      "362880\n"
     ]
    }
   ],
   "source": [
    "def FactorialIterative(N):\n",
    "    result = 1\n",
    "    for n in range(2, N+1):\n",
    "        result *= n\n",
    "    return result\n",
    "\n",
    "def FactorialRecursive(N):\n",
    "    if N < 2:\n",
    "        return 1\n",
    "    else:\n",
    "        return N * FactorialRecursive(N-1)\n",
    "    \n",
    "for N in range(10):\n",
    "    assert FactorialIterative(N) == FactorialRecursive(N), 'iterative and recursive are unequal'"
   ]
  },
  {
   "cell_type": "markdown",
   "id": "923f2525",
   "metadata": {},
   "source": [
    "## Exercise:\n",
    "\n",
    "Write a procedure, which uses the input argument radius to evaluate the area of a circle.\n",
    "Check the input argument inside the procedure with an assertion to be greater or equal zero.\n",
    "Check the procedure with an assertion, if the area for the radius 1 is equal to pi."
   ]
  },
  {
   "cell_type": "code",
   "execution_count": null,
   "id": "3a087215",
   "metadata": {},
   "outputs": [],
   "source": []
  }
 ],
 "metadata": {
  "kernelspec": {
   "display_name": "Python 3 (ipykernel)",
   "language": "python",
   "name": "python3"
  },
  "language_info": {
   "codemirror_mode": {
    "name": "ipython",
    "version": 3
   },
   "file_extension": ".py",
   "mimetype": "text/x-python",
   "name": "python",
   "nbconvert_exporter": "python",
   "pygments_lexer": "ipython3",
   "version": "3.9.7"
  }
 },
 "nbformat": 4,
 "nbformat_minor": 5
}
