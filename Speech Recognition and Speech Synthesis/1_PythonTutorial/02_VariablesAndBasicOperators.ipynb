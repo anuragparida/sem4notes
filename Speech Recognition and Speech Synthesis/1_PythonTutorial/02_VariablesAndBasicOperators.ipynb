{
 "cells": [
  {
   "cell_type": "markdown",
   "id": "7fe048d4",
   "metadata": {},
   "source": [
    "# Variables and operators\n",
    "In a python program, you can define variables whereever you want.\n",
    "Basic operators are additions (+), subtractions (-), multiplications (*) and divisions (/).\n",
    "In order to evaluate the power of something, use $**$.\n",
    "E.g. the square of 3 is 9: $3**2==9$"
   ]
  },
  {
   "cell_type": "code",
   "execution_count": 7,
   "id": "5f691b1f",
   "metadata": {},
   "outputs": [
    {
     "name": "stdout",
     "output_type": "stream",
     "text": [
      "9\n",
      "5\n",
      "14\n",
      "3.5\n",
      "49\n"
     ]
    }
   ],
   "source": [
    "a = 7\n",
    "b = 2\n",
    "print(a + b)\n",
    "print(a - b)\n",
    "print(a * b)\n",
    "print(a / b)\n",
    "print(a ** b)"
   ]
  },
  {
   "cell_type": "markdown",
   "id": "12962905",
   "metadata": {},
   "source": [
    "In a jupyter notebook, the variables declared anywhere, are available in all cells of the jupyter notebook.\n",
    "For example, the variable b is reused in the code box below:"
   ]
  },
  {
   "cell_type": "code",
   "execution_count": 8,
   "id": "e7e7666a",
   "metadata": {},
   "outputs": [
    {
     "data": {
      "text/plain": [
       "6"
      ]
     },
     "execution_count": 8,
     "metadata": {},
     "output_type": "execute_result"
    }
   ],
   "source": [
    "b+4"
   ]
  },
  {
   "cell_type": "markdown",
   "id": "5f0438a6",
   "metadata": {},
   "source": [
    "Unfortunately, python is not type safe.\n",
    "In the following example, two variables are initialised as integers and are added together.\n",
    "In the next step, both variables are redefined as strings and are also added together."
   ]
  },
  {
   "cell_type": "code",
   "execution_count": 10,
   "id": "3e4eef3c",
   "metadata": {},
   "outputs": [
    {
     "name": "stdout",
     "output_type": "stream",
     "text": [
      "integer addition result:  7\n",
      "string addition result:  Hello world\n"
     ]
    }
   ],
   "source": [
    "a = 3\n",
    "b = 4\n",
    "print('integer addition result: ', a + b)\n",
    "\n",
    "a = 'Hello'\n",
    "b = ' world'\n",
    "print('string addition result: ', a + b)"
   ]
  },
  {
   "cell_type": "markdown",
   "id": "f3ad325d",
   "metadata": {},
   "source": [
    "Incrementing a variable by a certain value is a very typical operation in many algorithms.\n",
    "Therefore, a very short implementation exist (x += 3):"
   ]
  },
  {
   "cell_type": "code",
   "execution_count": 15,
   "id": "bfb8591a",
   "metadata": {},
   "outputs": [
    {
     "name": "stdout",
     "output_type": "stream",
     "text": [
      "3\n",
      "6\n"
     ]
    }
   ],
   "source": [
    "x = 0\n",
    "x = x + 3\n",
    "print(x)\n",
    "x += 3\n",
    "print(x)"
   ]
  },
  {
   "cell_type": "markdown",
   "id": "ce0954f3",
   "metadata": {},
   "source": [
    "## Exercise:\n",
    "Evaluate the square root of 2 in the cell below with the basic operators learnt in this notebook."
   ]
  },
  {
   "cell_type": "code",
   "execution_count": null,
   "id": "63717c2b",
   "metadata": {},
   "outputs": [],
   "source": []
  }
 ],
 "metadata": {
  "kernelspec": {
   "display_name": "Python 3 (ipykernel)",
   "language": "python",
   "name": "python3"
  },
  "language_info": {
   "codemirror_mode": {
    "name": "ipython",
    "version": 3
   },
   "file_extension": ".py",
   "mimetype": "text/x-python",
   "name": "python",
   "nbconvert_exporter": "python",
   "pygments_lexer": "ipython3",
   "version": "3.11.4"
  }
 },
 "nbformat": 4,
 "nbformat_minor": 5
}
