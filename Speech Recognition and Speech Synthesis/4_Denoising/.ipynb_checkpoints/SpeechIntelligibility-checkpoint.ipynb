{
 "cells": [
  {
   "cell_type": "markdown",
   "id": "9da2b786-ad27-48f8-ac91-15c46582c2f0",
   "metadata": {},
   "source": [
    "# Speech Intelligibility\n",
    "So far, three denoising algorithms are introduced:\n",
    "1) Wiener Filter\n",
    "2) Minimum Statistics\n",
    "3) Denoising with TensorFlow\n",
    "\n",
    "All three denoiser are evaluated by signal to noise ratio (SNR)."
   ]
  }
 ],
 "metadata": {
  "kernelspec": {
   "display_name": "Python 3 (ipykernel)",
   "language": "python",
   "name": "python3"
  },
  "language_info": {
   "codemirror_mode": {
    "name": "ipython",
    "version": 3
   },
   "file_extension": ".py",
   "mimetype": "text/x-python",
   "name": "python",
   "nbconvert_exporter": "python",
   "pygments_lexer": "ipython3",
   "version": "3.11.4"
  }
 },
 "nbformat": 4,
 "nbformat_minor": 5
}
