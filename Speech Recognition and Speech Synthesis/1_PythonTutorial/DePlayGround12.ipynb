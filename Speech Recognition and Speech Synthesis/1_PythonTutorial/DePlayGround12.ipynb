{
 "cells": [
  {
   "cell_type": "code",
   "execution_count": null,
   "id": "3708f177-f643-4036-a35c-85ce084ecc52",
   "metadata": {},
   "outputs": [],
   "source": [
    "class CClass(object):\n",
    "\n",
    "    def __init__(self):\n",
    "        pass\n",
    "\n",
    "    def Procedure1(self):\n",
    "        return 17\n",
    "\n",
    "TheClass = CClass() # Singleton / globale Instanz\n",
    "\n",
    "class CClass2(object):\n",
    "\n",
    "    def __init__(self):\n",
    "        pass\n",
    "\n",
    "    def Procedure2(self):\n",
    "        AClass = CClass()\n",
    "\n",
    "### main-Block\n",
    "if True:\n",
    "    TheClass = CClass()\n",
    "    TheClass.Procedure1()"
   ]
  }
 ],
 "metadata": {
  "kernelspec": {
   "display_name": "Python 3 (ipykernel)",
   "language": "python",
   "name": "python3"
  },
  "language_info": {
   "codemirror_mode": {
    "name": "ipython",
    "version": 3
   },
   "file_extension": ".py",
   "mimetype": "text/x-python",
   "name": "python",
   "nbconvert_exporter": "python",
   "pygments_lexer": "ipython3",
   "version": "3.11.4"
  }
 },
 "nbformat": 4,
 "nbformat_minor": 5
}
