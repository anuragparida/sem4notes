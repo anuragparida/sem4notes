{
 "cells": [
  {
   "cell_type": "code",
   "execution_count": 2,
   "id": "654222ce-f9b7-4e25-803a-0614ea8dd68a",
   "metadata": {},
   "outputs": [
    {
     "name": "stdout",
     "output_type": "stream",
     "text": [
      "<function GetDataStorage at 0x00000195AE38FEC0>\n",
      "<function GetDataStorage at 0x00000195AE38FEC0>\n"
     ]
    },
    {
     "data": {
      "text/plain": [
       "array([-1.54085337,  1.29392573,  0.31482841, ..., -1.09911121,\n",
       "        1.93727492, -0.99395077])"
      ]
     },
     "execution_count": 2,
     "metadata": {},
     "output_type": "execute_result"
    }
   ],
   "source": [
    "import numpy as np\n",
    "x = np.random.randn(40000)\n",
    "\n",
    "def GetDataStorage():\n",
    "    return x\n",
    "\n",
    "print(GetDataStorage)\n",
    "\n",
    "def Generate(MyfunctionPointer):\n",
    "    print(MyfunctionPointer)\n",
    "    return MyfunctionPointer()*2\n",
    "\n",
    "Generate(GetDataStorage)"
   ]
  },
  {
   "cell_type": "code",
   "execution_count": null,
   "id": "bf480d35-8cd3-4c10-97f3-a2eb6bc5ac07",
   "metadata": {},
   "outputs": [],
   "source": [
    "class CRowWiseNormalizer(object):\n",
    "\n",
    "    def EvalNormalization(self, x):\n",
    "        y = np.zeros((x.shape[0]))\n",
    "        for row in range(x.shape[0]):\n",
    "            y[row] = x[row, :] / np.sum(x[row,:])  \n",
    "        return y\n",
    "\n",
    "class COverallNormalizer(object):\n",
    "\n",
    "    def EvalNormalization(self, x)\n",
    "        y = x / np.sum(x)\n",
    "        return y\n",
    "    \n",
    "class CNormalizer(object):\n",
    "\n",
    "    def __init__(self, RowWise = True):\n",
    "        self.__RowWise = RowWise\n",
    "        if RowWise:\n",
    "            ANormalizer = CRowWiseNormalizer()\n",
    "        else:\n",
    "            ANormalizer = COverallNormalizer()\n",
    "\n",
    "    def EvalNormalization(self, x):\n",
    "        return ANormalizer.EvalNormalization(x)"
   ]
  }
 ],
 "metadata": {
  "kernelspec": {
   "display_name": "Python 3 (ipykernel)",
   "language": "python",
   "name": "python3"
  },
  "language_info": {
   "codemirror_mode": {
    "name": "ipython",
    "version": 3
   },
   "file_extension": ".py",
   "mimetype": "text/x-python",
   "name": "python",
   "nbconvert_exporter": "python",
   "pygments_lexer": "ipython3",
   "version": "3.11.4"
  }
 },
 "nbformat": 4,
 "nbformat_minor": 5
}
