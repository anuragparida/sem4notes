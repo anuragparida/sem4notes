{
 "cells": [
  {
   "cell_type": "markdown",
   "id": "3feffe92",
   "metadata": {},
   "source": [
    "# Text to speech\n",
    "Text to speech systems (TTS) transforms written text into a waveform with the corresponding spoken text.\n",
    "\n",
    "There exist a set of commercial products for this task, e.g. eleven labs https://beta.elevenlabs.io/ (last visited on June 2023).\n",
    "\n",
    "One of the simplest ways to use text to speech in python is the module pyttsx3:\n",
    "\n",
    "https://pypi.org/project/pyttsx3/\n",
    "\n",
    "This module is a wrapper for the os-internal text to speech system-. At least for Windows, the results are satisfying."
   ]
  },
  {
   "cell_type": "code",
   "execution_count": 1,
   "id": "13059d51",
   "metadata": {},
   "outputs": [
    {
     "name": "stdout",
     "output_type": "stream",
     "text": [
      "Voice: Microsoft Hedda Desktop - German\n",
      " - ID: HKEY_LOCAL_MACHINE\\SOFTWARE\\Microsoft\\Speech\\Voices\\Tokens\\TTS_MS_DE-DE_HEDDA_11.0\n",
      " - Languages: []\n",
      " - Gender: None\n",
      " - Age: None\n",
      "\n",
      "\n",
      "Voice: Microsoft Zira Desktop - English (United States)\n",
      " - ID: HKEY_LOCAL_MACHINE\\SOFTWARE\\Microsoft\\Speech\\Voices\\Tokens\\TTS_MS_EN-US_ZIRA_11.0\n",
      " - Languages: []\n",
      " - Gender: None\n",
      " - Age: None\n",
      "\n",
      "\n"
     ]
    }
   ],
   "source": [
    "import pyttsx3\n",
    "import time\n",
    "import os\n",
    "os.chdir('../Python')\n",
    "import WaveInterface\n",
    "\n",
    "Filename = 'output.wav'\n",
    "\n",
    "# initialize the speech synthesizer\n",
    "engine = pyttsx3.init()\n",
    "\n",
    "rate = engine.getProperty('rate')   # getting details of current speaking rate\n",
    "engine.setProperty('rate', 125)     # setting up new voice rate\n",
    "\n",
    "# https://ichi.pro/de/eine-einfuhrung-in-pyttsx3-ein-text-zu-sprache-konverter-fur-python-81905511310787\n",
    "voices = engine.getProperty('voices')       #getting details of current voice\n",
    "for voice in voices:\n",
    "    print(\"Voice: %s\" % voice.name)\n",
    "    print(\" - ID: %s\" % voice.id)\n",
    "    print(\" - Languages: %s\" % voice.languages)\n",
    "    print(\" - Gender: %s\" % voice.gender)\n",
    "    print(\" - Age: %s\" % voice.age)\n",
    "    print(\"\\n\")\n",
    "\n",
    "engine.setProperty('voice', voices[0].id)  #changing index, changes voices. 0 for german female\n",
    "#engine.setProperty('voice', voices[1].id)   #changing index, changes voices. 1 for english female\n",
    "\n",
    "# select the language\n",
    "engine.setProperty('voice', 'german')\n",
    "\n",
    "# select the text\n",
    "sentence = \"Lassen Sie die Ente zu Wasser.\""
   ]
  },
  {
   "cell_type": "code",
   "execution_count": 2,
   "id": "583e00bf-0f09-430b-9c14-caa2a61310d1",
   "metadata": {},
   "outputs": [],
   "source": [
    "StartTime = time.time()\n",
    "# use the synthesizer to say the sentence\n",
    "#engine.say(sentence)\n",
    "# use the synthesizer to save the wave form to a file\n",
    "engine.save_to_file(sentence, Filename)\n",
    "\n",
    "# wait until everything is finished\n",
    "engine.runAndWait()\n",
    "\n",
    "StopTime = time.time()"
   ]
  },
  {
   "cell_type": "markdown",
   "id": "4b73905f",
   "metadata": {},
   "source": [
    "## Latency and real-time capability\n",
    "In order to measure the real-time capability of the algorithm on the used hardware, the length of the output waveform and the duration of evaluation is measured.\n",
    "\n",
    "If the length of the output waveform is longer than the duraction of evaluation, the algorithm is real-time capable."
   ]
  },
  {
   "cell_type": "code",
   "execution_count": 3,
   "id": "eda8b229",
   "metadata": {},
   "outputs": [
    {
     "name": "stdout",
     "output_type": "stream",
     "text": [
      "3.075691609977324  seconds of audio generated in  0.21684479713439941  seconds\n"
     ]
    }
   ],
   "source": [
    "x, Fs, bits = WaveInterface.ReadWave(Filename)\n",
    "\n",
    "print(str(x.shape[0] / Fs), ' seconds of audio generated in ', str(StopTime - StartTime), ' seconds')"
   ]
  },
  {
   "cell_type": "markdown",
   "id": "b29ffa99-b425-42be-af8a-9f80c1305fc1",
   "metadata": {},
   "source": [
    "## Programming exercise\n",
    "\n",
    "Use the given text to speech system to create one wave-file for each command listed in the folder ../Python/Commands. The naming convention for these wave files should be command_UUID.wav, with command corresponding to the current command-string and UUID corresponding to a unique hexadecimal string. Search the web for creating a UUID in python."
   ]
  },
  {
   "cell_type": "code",
   "execution_count": 18,
   "id": "ee2f6e16-0bba-4a73-b620-c7d7c69d737a",
   "metadata": {},
   "outputs": [
    {
     "name": "stdout",
     "output_type": "stream",
     "text": [
      "0 created\n",
      "1 created\n",
      "10 created\n",
      "2 created\n",
      "3 created\n",
      "4 created\n",
      "5 created\n",
      "6 created\n",
      "7 created\n",
      "8 created\n",
      "9 created\n",
      "Aktion created\n",
      "Attacke created\n",
      "Hallo created\n",
      "MOPS created\n",
      "Schau created\n",
      "Start created\n",
      "Stopp created\n",
      "Wende created\n",
      "an created\n",
      "auf created\n",
      "aus created\n",
      "blau created\n",
      "drehe created\n",
      "fest created\n",
      "gehe created\n",
      "gruen created\n",
      "halt created\n",
      "hinauf created\n",
      "hinunter created\n",
      "hoch created\n",
      "ja created\n",
      "langsam created\n",
      "lauf created\n",
      "links created\n",
      "los created\n",
      "nein created\n",
      "rechts created\n",
      "rot created\n",
      "rueckwaerts created\n",
      "runter created\n",
      "schnell created\n",
      "vor created\n"
     ]
    },
    {
     "name": "stderr",
     "output_type": "stream",
     "text": [
      "test_1 (__main__.TestProgrammingExercise.test_1) ... "
     ]
    },
    {
     "name": "stdout",
     "output_type": "stream",
     "text": [
      "vorwaerts created\n",
      "weiss created\n",
      "zu created\n",
      "zurueck created\n"
     ]
    },
    {
     "name": "stderr",
     "output_type": "stream",
     "text": [
      "ok\n",
      "test_2 (__main__.TestProgrammingExercise.test_2) ... ok\n",
      "test_3 (__main__.TestProgrammingExercise.test_3) ... ok\n",
      "test_4 (__main__.TestProgrammingExercise.test_4) ... ok\n",
      "test_5 (__main__.TestProgrammingExercise.test_5) ... ok\n",
      "test_6 (__main__.TestProgrammingExercise.test_6) ... ok\n",
      "test_7 (__main__.TestProgrammingExercise.test_7) ... ok\n",
      "test_8 (__main__.TestProgrammingExercise.test_8) ... ok\n",
      "\n",
      "----------------------------------------------------------------------\n",
      "Ran 8 tests in 0.525s\n",
      "\n",
      "OK\n"
     ]
    },
    {
     "data": {
      "text/plain": [
       "<unittest.main.TestProgram at 0x231d4398bd0>"
      ]
     },
     "execution_count": 18,
     "metadata": {},
     "output_type": "execute_result"
    }
   ],
   "source": [
    "\n",
    "\n",
    "def GetCommandList():\n",
    "    CommandList = []\n",
    "    ### solution begins\n",
    "\n",
    "    ### solution ends\n",
    "    return CommandList\n",
    "\n",
    "def CommandToFilename(command):\n",
    "    ### solution begins\n",
    "\n",
    "    ### solution ends\n",
    "    return Filename\n",
    "\n",
    "def CreateWaveFile(command):\n",
    "    ### solution begins\n",
    "\n",
    "    ### solution ends\n",
    "    return Filename\n",
    "\n",
    "import unittest\n",
    "import numpy as np\n",
    "from os.path import exists\n",
    "\n",
    "CommandList = GetCommandList()\n",
    "for command in CommandList:\n",
    "    Filename = CreateWaveFile(command)\n",
    "    assert exists(Filename), 'error in file creation: file not existing'\n",
    "\n",
    "class TestProgrammingExercise(unittest.TestCase):\n",
    "\n",
    "    def test_1(self):\n",
    "        CommandList = GetCommandList()\n",
    "        self.assertEqual(len(CommandList), 47)\n",
    "\n",
    "    def test_2(self):\n",
    "        CommandList = GetCommandList()\n",
    "        output = []\n",
    "        for x in CommandList:\n",
    "            if x not in output:\n",
    "                output.append(x)\n",
    "        self.assertEqual(len(CommandList), len(output))\n",
    "\n",
    "    def test_3(self):\n",
    "        CommandList = GetCommandList()\n",
    "        output = []\n",
    "        for x in CommandList:\n",
    "            self.assertTrue(isinstance(x, str))\n",
    "\n",
    "    def test_4(self):\n",
    "        s = 'random' + str(np.random.randint(10))\n",
    "        Filename = CommandToFilename(s)\n",
    "        self.assertEqual(Filename[-4:], '.wav')\n",
    "\n",
    "    def test_5(self):\n",
    "        s = 'random' + str(np.random.randint(10))\n",
    "        Filename = CommandToFilename(s)\n",
    "        self.assertEqual(Filename[:len(s)], s)\n",
    "\n",
    "    def test_6(self):\n",
    "        s = 'random' + str(np.random.randint(10))\n",
    "        Filename = CommandToFilename(s)\n",
    "        self.assertEqual(Filename[len(s)], '_')\n",
    "\n",
    "    def test_7(self):\n",
    "        s = 'random' + str(np.random.randint(10))\n",
    "        Filename = CommandToFilename(s)\n",
    "        self.assertTrue(isinstance(Filename, str))\n",
    "\n",
    "    def test_8(self):\n",
    "        from uuid import UUID\n",
    "        s = 'random' + str(np.random.randint(10))\n",
    "        Filename = CommandToFilename(s)\n",
    "        try:\n",
    "            uuid_obj = UUID(Filename[len(s)+1:-4])\n",
    "            IsUUID = True\n",
    "        except ValueError:\n",
    "            IsUUID = False\n",
    "        self.assertTrue(IsUUID)\n",
    "\n",
    "unittest.main(argv=[''], verbosity=2, exit=False)"
   ]
  },
  {
   "cell_type": "markdown",
   "id": "2f941470-e561-424b-b322-38bcdbb7a70f",
   "metadata": {},
   "source": [
    "## Exam preparation\n",
    "\n",
    "1) A simple text to speech (TTS) system can be implemented by recording all words spoken by a single person. With this set of recordings a TTS can be defined by concatenating the recordings of the target words. What problems arise with this implementation?\n",
    "\n",
    "2) The probability of words in a language can be estimated by the Zipf theorem: If you consider the $N$ words with highest probability, the probability of the word with position $n$ can be evaluated by $p(n)\\approx\\frac{1}{n\\cdot\\ln\\left(1.78\\cdot N\\right)}$. Evaluate the probabilities of the five words with highest probability 'der', 'die', 'und', 'in' and 'den' according to 'Häufigkeitswörterbuch von F. W. Kaeding, 1897' assuming a set of words of $N=10^5$. How many words do you need, in order to represent $50$ % of the words used in a language according to Zipf theorem."
   ]
  },
  {
   "cell_type": "code",
   "execution_count": 7,
   "id": "fbf082b0-c37e-402b-acdd-6f4941d2ff79",
   "metadata": {},
   "outputs": [
    {
     "name": "stdout",
     "output_type": "stream",
     "text": [
      "238  words have a probability of  0.5\n"
     ]
    }
   ],
   "source": [
    "### solution\n",
    "import numpy as np\n",
    "\n",
    "TargetProbability = 0.5\n",
    "NumberOfWordsInALanguage = 1e5\n",
    "sum = 0.0\n",
    "n = 1\n",
    "while sum < (np.log(1.78*NumberOfWordsInALanguage) * TargetProbability):\n",
    "    sum += 1/n\n",
    "    n += 1\n",
    "print(n, ' words have a probability of ', TargetProbability)"
   ]
  },
  {
   "cell_type": "code",
   "execution_count": null,
   "id": "b1392734-cd0f-404b-82d7-7058a1cf947b",
   "metadata": {},
   "outputs": [],
   "source": []
  }
 ],
 "metadata": {
  "kernelspec": {
   "display_name": "Python 3 (ipykernel)",
   "language": "python",
   "name": "python3"
  },
  "language_info": {
   "codemirror_mode": {
    "name": "ipython",
    "version": 3
   },
   "file_extension": ".py",
   "mimetype": "text/x-python",
   "name": "python",
   "nbconvert_exporter": "python",
   "pygments_lexer": "ipython3",
   "version": "3.11.4"
  }
 },
 "nbformat": 4,
 "nbformat_minor": 5
}
