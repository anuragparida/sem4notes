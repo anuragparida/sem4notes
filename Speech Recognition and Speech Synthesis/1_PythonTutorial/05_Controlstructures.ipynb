{
 "cells": [
  {
   "cell_type": "markdown",
   "id": "79f7a37f",
   "metadata": {},
   "source": [
    "# Control Structures\n",
    "In a program, decisions has to be done and conditions has to be checked.\n",
    "If you want to program a random bit generator, you can use the following code, which checks the sign of a random number:"
   ]
  },
  {
   "cell_type": "code",
   "execution_count": 4,
   "id": "407b6e85",
   "metadata": {},
   "outputs": [
    {
     "name": "stdout",
     "output_type": "stream",
     "text": [
      "the random number is:  [-0.14207884]\n",
      "the resulting random bit is:  1\n"
     ]
    }
   ],
   "source": [
    "import numpy as np\n",
    "\n",
    "# random number with gaussian distribution\n",
    "x = np.random.randn(1)\n",
    "if x < 0.0:\n",
    "    result = 1\n",
    "else:\n",
    "    result = 0\n",
    "    \n",
    "print('the random number is: ', x)\n",
    "print('the resulting random bit is: ', result)"
   ]
  },
  {
   "cell_type": "markdown",
   "id": "9059dcac",
   "metadata": {},
   "source": [
    "With elif you are able to make more decisions:"
   ]
  },
  {
   "cell_type": "code",
   "execution_count": 5,
   "id": "53f9757e",
   "metadata": {},
   "outputs": [
    {
     "name": "stdout",
     "output_type": "stream",
     "text": [
      "the random number is:  [0.91579831]\n",
      "x is greater than 0.5\n"
     ]
    }
   ],
   "source": [
    "# random number with uniform distribuion in the range 0..1\n",
    "x = np.random.rand(1)\n",
    "if x < 0.1:\n",
    "    result = 'x is smaller than 0.1'\n",
    "elif x < 0.5:\n",
    "    result = 'x is in the range 0.1..0.5'\n",
    "else:\n",
    "    result = 'x is greater than 0.5'\n",
    "    \n",
    "print('the random number is: ', x)\n",
    "print(result)"
   ]
  },
  {
   "cell_type": "markdown",
   "id": "d2025e1b",
   "metadata": {},
   "source": [
    "With different levels of indention decision trees are possible:"
   ]
  },
  {
   "cell_type": "code",
   "execution_count": 13,
   "id": "5db625ae",
   "metadata": {},
   "outputs": [
    {
     "name": "stdout",
     "output_type": "stream",
     "text": [
      "x1 =  [ True]\n",
      "x2 =  [False]\n",
      "x1 xor x2 =  True\n"
     ]
    }
   ],
   "source": [
    "# generate two random bits:\n",
    "x1 = np.random.randn(1) < 0.0\n",
    "x2 = np.random.randn(1) < 0.0\n",
    "\n",
    "# evaluate the xor function:\n",
    "if x1:\n",
    "    if x2:\n",
    "        result = False\n",
    "    else:\n",
    "        result = True\n",
    "else:\n",
    "    if x2:\n",
    "        result = True\n",
    "    else:\n",
    "        result = False\n",
    "\n",
    "print('x1 = ', x1)\n",
    "print('x2 = ', x2)\n",
    "print('x1 xor x2 = ', result)"
   ]
  },
  {
   "cell_type": "markdown",
   "id": "b73c3a31",
   "metadata": {},
   "source": [
    "The if-clause can combine different boolean statements, e.g. and, or, ...:"
   ]
  },
  {
   "cell_type": "code",
   "execution_count": 12,
   "id": "0d1ebfc8",
   "metadata": {},
   "outputs": [
    {
     "name": "stdout",
     "output_type": "stream",
     "text": [
      "x1 =  [False]\n",
      "x2 =  [False]\n",
      "x1 xor x2 =  False\n"
     ]
    }
   ],
   "source": [
    "# generate two random bits:\n",
    "x1 = np.random.randn(1) < 0.0\n",
    "x2 = np.random.randn(1) < 0.0\n",
    "\n",
    "# evaluate the xor-function in another way:\n",
    "if x1 and x2:\n",
    "    result = False\n",
    "elif (not x1) and (not x2):\n",
    "    result = False\n",
    "else:\n",
    "    result = True\n",
    "    \n",
    "print('x1 = ', x1)\n",
    "print('x2 = ', x2)\n",
    "print('x1 xor x2 = ', result)"
   ]
  },
  {
   "cell_type": "markdown",
   "id": "83439c9b",
   "metadata": {},
   "source": [
    "The following code combines different loops and control structures in order to find prime numbers:"
   ]
  },
  {
   "cell_type": "code",
   "execution_count": 10,
   "id": "12295e72",
   "metadata": {},
   "outputs": [
    {
     "name": "stdout",
     "output_type": "stream",
     "text": [
      "2  is a prime numer.\n",
      "3  is a prime numer.\n",
      "5  is a prime numer.\n",
      "7  is a prime numer.\n",
      "11  is a prime numer.\n",
      "13  is a prime numer.\n",
      "17  is a prime numer.\n",
      "19  is a prime numer.\n",
      "23  is a prime numer.\n",
      "29  is a prime numer.\n",
      "31  is a prime numer.\n",
      "37  is a prime numer.\n",
      "41  is a prime numer.\n",
      "43  is a prime numer.\n",
      "47  is a prime numer.\n",
      "53  is a prime numer.\n",
      "59  is a prime numer.\n",
      "61  is a prime numer.\n",
      "67  is a prime numer.\n",
      "71  is a prime numer.\n",
      "73  is a prime numer.\n",
      "79  is a prime numer.\n",
      "83  is a prime numer.\n",
      "89  is a prime numer.\n",
      "97  is a prime numer.\n"
     ]
    }
   ],
   "source": [
    "for n in range(2, 100):\n",
    "    IsPrime = True\n",
    "    Limit = n**0.5\n",
    "    m = 2\n",
    "    while IsPrime and (m <= Limit):\n",
    "        if (n % m) == 0:\n",
    "            IsPrime = False\n",
    "        m += 1\n",
    "    if IsPrime:\n",
    "        print(n, ' is a prime numer.')"
   ]
  },
  {
   "cell_type": "markdown",
   "id": "e595240b",
   "metadata": {},
   "source": [
    "## Exercise:\n",
    "\n",
    "Write code, which generates two random data bits and evaluates the corresponding parity bit with if-statements.\n",
    "A parity bit is True, if there is an odd number of True values over all data bits.\n",
    "A parity bit is False, if there is an even number of True values over all data bits."
   ]
  },
  {
   "cell_type": "code",
   "execution_count": null,
   "id": "dc02d82e",
   "metadata": {},
   "outputs": [],
   "source": []
  }
 ],
 "metadata": {
  "kernelspec": {
   "display_name": "Python 3 (ipykernel)",
   "language": "python",
   "name": "python3"
  },
  "language_info": {
   "codemirror_mode": {
    "name": "ipython",
    "version": 3
   },
   "file_extension": ".py",
   "mimetype": "text/x-python",
   "name": "python",
   "nbconvert_exporter": "python",
   "pygments_lexer": "ipython3",
   "version": "3.9.7"
  }
 },
 "nbformat": 4,
 "nbformat_minor": 5
}
