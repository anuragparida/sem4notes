{
 "cells": [
  {
   "cell_type": "code",
   "execution_count": 2,
   "id": "56d08efa-084c-4095-9148-11268ee12cff",
   "metadata": {},
   "outputs": [],
   "source": [
    "import numpy as np\n",
    "\n",
    "class CGeometricalObject(object):\n",
    "\n",
    "    def __init__(self):\n",
    "        self._area = 5.0\n",
    "        self._color = 'red'\n",
    "\n",
    "    def GetColor(self):\n",
    "        self.__paint()\n",
    "        return self._color\n",
    "\n",
    "    def _paint(self):\n",
    "        pass\n",
    "\n",
    "class CCircle(CGeometricalObject):\n",
    "\n",
    "    def GetRadius(self):\n",
    "        print(self._color)\n",
    "        super()._paint()\n",
    "        return np.sqrt(self._area/np.pi)"
   ]
  },
  {
   "cell_type": "code",
   "execution_count": 14,
   "id": "eb259468-b1d2-4a91-bc09-ae059ddeefc5",
   "metadata": {},
   "outputs": [
    {
     "name": "stdout",
     "output_type": "stream",
     "text": [
      "[  17   34   68  136  272  544 1088 2176 4352]\n",
      "[  17.   34.   68.  136.  272.  544. 1088.]\n"
     ]
    }
   ],
   "source": [
    "def Slow(minf, maxf):\n",
    "    result = np.array([minf])\n",
    "    f = minf\n",
    "    while f < maxf:\n",
    "        f *= 2\n",
    "        result = np.append(result, f)\n",
    "    return result\n",
    "\n",
    "def Fast(minf, maxf):\n",
    "    NumOfSteps = int(np.log2(maxf/minf))\n",
    "    result = np.zeros((NumOfSteps))\n",
    "    f = minf\n",
    "    for n in range(NumOfSteps):\n",
    "        result[n] = f\n",
    "        f *= 2\n",
    "    return result\n",
    "\n",
    "print(Slow(17, 3000))\n",
    "print(Fast(17 , 3000))\n",
    "\n",
    "r1 = Slow(17, 3000)\n",
    "r2 = Fast(17, 3000)\n",
    "assert r1.shape==r2.shape, 'error 1'\n",
    "for n in range(r1.shape[0]):\n",
    "    assert np.abs(r1[n] - r2[n]) < 1e-3, 'error2'"
   ]
  },
  {
   "cell_type": "code",
   "execution_count": null,
   "id": "17832008-31af-4566-9a25-6fe44b7850cd",
   "metadata": {},
   "outputs": [],
   "source": [
    "class COctaveBuffer(object):\n",
    "\n",
    "    def __init__(self, minf, maxf):\n",
    "        self.__minf = minf\n",
    "        self.__maxf = maxf\n",
    "        self.__BufferIsValid = False\n",
    "\n",
    "    def GetOctaveBuffer(self):\n",
    "        if not self.__BufferIsValid:\n",
    "            NumOfSteps = int(np.log2(maxf/minf))\n",
    "            result = np.zeros((NumOfSteps))\n",
    "            f = minf\n",
    "            for n in range(NumOfSteps):\n",
    "                result[n] = f\n",
    "                f *= 2\n",
    "            self.__BufferIsValid = True\n",
    "        return self.__OctaveBuffer\n",
    "\n",
    "    def SetMinF(self, minf):\n",
    "        self.__minf = minf\n",
    "        self.__BufferIsValid = False"
   ]
  },
  {
   "cell_type": "code",
   "execution_count": null,
   "id": "4ae55002-0fc3-407a-916a-8ce1df25b210",
   "metadata": {},
   "outputs": [],
   "source": [
    "class CEvalSingleCommand(object):\n",
    "\n",
    "    def __init__(self):\n",
    "        self.__var1 = 0\n",
    "        self.__var2 = 0\n",
    "        self.__var3 = 0\n",
    "\n",
    "    def Eval(self, commandindex):\n",
    "        # business code\n",
    "        self.__var1 = 13\n",
    "        self.__var2 = 1\n",
    "        self.__var3 = 7\n",
    "\n",
    "    def GetVar1(self):\n",
    "        return self.__var1\n",
    "\n",
    "var1 = 0\n",
    "for commandindex in range(100):\n",
    "    AEvalSingleCommand = CEvalSingleCommand(commandindex)\n",
    "    AEvalSingleCommand.Eval()\n",
    "    var1 += AEvalSingleCommand.GetVar1()"
   ]
  },
  {
   "cell_type": "code",
   "execution_count": 15,
   "id": "f446744d-2080-4b0b-977e-be3e1e87fbdb",
   "metadata": {},
   "outputs": [],
   "source": [
    "def Procedure1(x, y):\n",
    "    x = 3\n",
    "    return x*x+y\n",
    "'''\n",
    "def Procedure1(x, y):\n",
    "    return x*x+y\n",
    "x = np.random.randn(1)\n",
    "y = np.random.randn(1)\n",
    "z = Procedure1(x, y)\n",
    "np.savez(x, y, z, 'BBT1.npz')\n",
    "'''\n",
    "x, y, z = np.load('BBT1.npz')\n",
    "z2 = Procedure1(x, y)\n",
    "assert np.abs(z-z2), 'error in BBT1'"
   ]
  },
  {
   "cell_type": "code",
   "execution_count": null,
   "id": "79d70743-2c5c-4966-83bc-acd3d36f9c9a",
   "metadata": {},
   "outputs": [],
   "source": []
  }
 ],
 "metadata": {
  "kernelspec": {
   "display_name": "Python 3 (ipykernel)",
   "language": "python",
   "name": "python3"
  },
  "language_info": {
   "codemirror_mode": {
    "name": "ipython",
    "version": 3
   },
   "file_extension": ".py",
   "mimetype": "text/x-python",
   "name": "python",
   "nbconvert_exporter": "python",
   "pygments_lexer": "ipython3",
   "version": "3.11.4"
  }
 },
 "nbformat": 4,
 "nbformat_minor": 5
}
