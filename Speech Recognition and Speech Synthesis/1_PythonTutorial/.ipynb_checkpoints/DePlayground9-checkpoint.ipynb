{
 "cells": [
  {
   "cell_type": "code",
   "execution_count": null,
   "id": "56d08efa-084c-4095-9148-11268ee12cff",
   "metadata": {},
   "outputs": [],
   "source": [
    "import numpy as np\n",
    "\n",
    "class CGeometricalObject(object):\n",
    "\n",
    "    def __init__(self):\n",
    "        self._area = 5.0\n",
    "        self._color = 'red'\n",
    "\n",
    "    def GetColor(self):\n",
    "        self.__paint()\n",
    "        return self._color\n",
    "\n",
    "    def _paint(self):\n",
    "        pass\n",
    "\n",
    "class CCircle(CGeometricalObject):\n",
    "\n",
    "    def GetRadius(self):\n",
    "        print(self._color)\n",
    "        super()._paint()\n",
    "        return np.sqrt(self._area/np.pi)"
   ]
  }
 ],
 "metadata": {
  "kernelspec": {
   "display_name": "Python 3 (ipykernel)",
   "language": "python",
   "name": "python3"
  },
  "language_info": {
   "codemirror_mode": {
    "name": "ipython",
    "version": 3
   },
   "file_extension": ".py",
   "mimetype": "text/x-python",
   "name": "python",
   "nbconvert_exporter": "python",
   "pygments_lexer": "ipython3",
   "version": "3.11.4"
  }
 },
 "nbformat": 4,
 "nbformat_minor": 5
}
