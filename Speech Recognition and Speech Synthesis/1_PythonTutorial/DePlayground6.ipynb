{
 "cells": [
  {
   "cell_type": "code",
   "execution_count": null,
   "id": "5291d3c4-d5ab-4c3f-bb9d-e99f7f946e06",
   "metadata": {},
   "outputs": [],
   "source": [
    "class CLoggingFile(object):\n",
    "\n",
    "    def __init__(self, Filename = 'tmp.txt'):\n",
    "        self.__Filename = Filename\n",
    "        self.__LoggingFile = None\n",
    "\n",
    "    def __GetLoggingFile(self):\n",
    "        if self.__LoggingFile is None:\n",
    "            self.__LoggingFile = open()\n",
    "        return self.__LoggingFile\n",
    "\n",
    "    def AppendLoggingString(self, NewString):\n",
    "        self.__GetLoggingFile().append(NewString)\n",
    "\n",
    "    def GetLastLine(self):\n",
    "        return self.__GetLoggingFile()[-1]"
   ]
  },
  {
   "cell_type": "code",
   "execution_count": null,
   "id": "18785a11-2b75-4df6-b20b-46fe4c25a3ea",
   "metadata": {},
   "outputs": [],
   "source": [
    "# a\n",
    "InputSum = a * InputSum + (1-a) * np.mean(stream, axis = 1)\n",
    "InputPower = a*InputPower + (1-a) * np.mean(stream**2, axis = 1)\n",
    "# b \n",
    "InputSum = a * InputSum + (1-a) * np.mean(stream)\n",
    "InputPower = a*InputPower + (1-a) * np.mean(stream**2)\n",
    "\n",
    "class CHandleA(object):\n",
    "\n",
    "    def __init__(self, MaximumA):\n",
    "        self.__MaximumA = MaximumA\n",
    "        self.__TransferFunctionCounter = 0\n",
    "\n",
    "    def CallTransfercuntion(self):\n",
    "        self.__TransferFunctionCounter = self.__TransferFunctionCounter + 1\n",
    "\n",
    "    def GetCurrentA(self):\n",
    "        a = self.__TransferFunctionCounter / (self.__TransferFunctionCounter + 1)\n",
    "        if a > self.__MaximumA:\n",
    "            a = self.__MaximumA\n",
    "        return a\n",
    "\n",
    "class CLowpassFilteredSumAndPower(object):\n",
    "\n",
    "    def __init__(self):\n",
    "        self.__InputSum = 0.0\n",
    "        self.__InputPower = 0.0\n",
    "\n",
    "    def Update(self, stream, a):\n",
    "        self.__InputSum = a * self.__InputSum + (1-a) * np.mean(stream)\n",
    "        self.__InputPower = a*self.__InputPower + (1-a) * np.mean(stream**2)\n",
    "\n",
    "    def GetInputSum(self):\n",
    "        return self.__InputSum\n",
    "\n",
    "    def GetInputPower(self):\n",
    "        return self.__InputPower\n",
    "\n",
    "class CLowpassFilteredSumAndPowerChannelNormalizer(CLowpassFilteredSumAndPower):\n",
    "\n",
    "    def Update(self, stream, a):\n",
    "        self.__InputSum = a * self.__InputSum + (1-a) * np.mean(stream, axis = 1)\n",
    "        self.__InputPower = a*self.__InputPower + (1-a) * np.mean(stream**2, axis = 1)\n"
   ]
  }
 ],
 "metadata": {
  "kernelspec": {
   "display_name": "Python 3 (ipykernel)",
   "language": "python",
   "name": "python3"
  },
  "language_info": {
   "codemirror_mode": {
    "name": "ipython",
    "version": 3
   },
   "file_extension": ".py",
   "mimetype": "text/x-python",
   "name": "python",
   "nbconvert_exporter": "python",
   "pygments_lexer": "ipython3",
   "version": "3.11.4"
  }
 },
 "nbformat": 4,
 "nbformat_minor": 5
}
