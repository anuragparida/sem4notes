{
 "cells": [
  {
   "cell_type": "markdown",
   "id": "b5e2737e-93c4-4f1c-aa15-43b6e47ffd6a",
   "metadata": {},
   "source": [
    "# Latency\n",
    "Latency is the delay introduced by an algorithm or limitations in computational complexity.\n",
    "The latency is described in the following by the simple example of linear time invariant (LTI) filter.\n",
    "LTI filter can be described by their impulse response $h(n)$. The output of the filter can be described by the convolution:\n",
    "\n",
    "$y(n) = h(n)*x(n)$ .\n",
    "\n",
    "The underlying signal model of the latency is: The output signal $y(n)$ is approximately described by the input signal $x(n)$ delayed by a delay / latency $T$:\n",
    "\n",
    "$y(n)\\approx x\\left(n-T\\right)$ ."
   ]
  },
  {
   "cell_type": "code",
   "execution_count": 1,
   "id": "94e2eef1-4280-4c65-86a1-4cd04178890c",
   "metadata": {},
   "outputs": [],
   "source": [
    "import numpy as np\n",
    "import matplotlib.pyplot as plt\n",
    "\n",
    "r = 48000\n",
    "fc = 3000"
   ]
  },
  {
   "cell_type": "markdown",
   "id": "84d9234f-7193-4e6a-9cbd-6b8fa001fd0b",
   "metadata": {},
   "source": [
    "## IIR lowpass\n",
    "In the following, a simple lowpass is defined by the equation:\n",
    "\n",
    "$y(n)=a\\cdot y(n-1) + (1-a)\\cdot x(n)$ .\n",
    "\n",
    "The corresponding impulse response is:\n",
    "\n",
    "$h(n)=(1-a)\\cdot a^n$ ."
   ]
  },
  {
   "cell_type": "code",
   "execution_count": 2,
   "id": "1c1e2f7f-dc7c-439f-809a-32e9a152c8fe",
   "metadata": {},
   "outputs": [
    {
     "data": {
      "image/png": "[encoded data removed]",
      "text/plain": [
       "<Figure size 640x480 with 1 Axes>"
      ]
     },
     "metadata": {},
     "output_type": "display_data"
    }
   ],
   "source": [
    "def CutoffFrequency2DampingParameter(fc, r):\n",
    "    assert fc > 0, 'cutoff frequency must be greater 0'\n",
    "    assert 2*fc < r, 'cutoff frequency must be smaller r/2'\n",
    "    p = 2*np.cos(2*np.pi*fc/r)-4\n",
    "    return -p/2 - np.sqrt((p/2)**2-1)\n",
    "\n",
    "def GetIIRImpulseResponse(a = CutoffFrequency2DampingParameter(fc, r)):\n",
    "    LengthUntilVanishes = int(-5 / np.log(a)) + 1\n",
    "    h = np.zeros(LengthUntilVanishes)\n",
    "    h[0] = 1-a\n",
    "    for n in range(1, h.shape[0]):\n",
    "        h[n] = a * h[n-1]\n",
    "    return h\n",
    "\n",
    "h_IIR = GetIIRImpulseResponse()\n",
    "plt.stem(h_IIR)\n",
    "plt.show()"
   ]
  },
  {
   "cell_type": "markdown",
   "id": "5499d903-5676-4a7c-a0de-6d6b81653f52",
   "metadata": {},
   "source": [
    "## FIR lowpass\n",
    "\n",
    "Additionally, a FIR lowpass is defined in order to show the differences between IIR filters and FIR filters regarding the delays."
   ]
  },
  {
   "cell_type": "code",
   "execution_count": 3,
   "id": "7b3d550a-5f1b-4af5-8da4-8cd1581f04a2",
   "metadata": {},
   "outputs": [
    {
     "data": {
      "image/png": "[encoded data removed]",
      "text/plain": [
       "<Figure size 640x480 with 1 Axes>"
      ]
     },
     "metadata": {},
     "output_type": "display_data"
    }
   ],
   "source": [
    "def GetFIRImpulseResponse(fc, r):\n",
    "    assert fc < r/2, 'violation of sampling theorem'\n",
    "    NumberOfZeroCrossings = 3\n",
    "    LengthOfFilterInSamples = NumberOfZeroCrossings*r/fc-1\n",
    "    n = np.arange(LengthOfFilterInSamples) - np.floor(LengthOfFilterInSamples / 2)\n",
    "    t = n / r\n",
    "    h_LP = np.sinc(2 * fc * t)\n",
    "    w = 0.5 * (1 + np.cos(np.pi * n / LengthOfFilterInSamples)) # Hann-Window\n",
    "    h = w * h_LP\n",
    "    return h\n",
    "\n",
    "h_FIR = GetFIRImpulseResponse(fc, r)\n",
    "plt.stem(h_FIR)\n",
    "plt.show()"
   ]
  },
  {
   "cell_type": "markdown",
   "id": "a2babf9d-14a2-462d-84d3-325aa9879067",
   "metadata": {},
   "source": [
    "## Latency estimation by Maximum-method\n",
    "The simplest way of defining the latency of a filter is the Maximum-Method:\n",
    "\n",
    "Assuming a filter $h(n)$ has its maximum absolute amplitude at the position $n_\\text{max}$.\n",
    "\n",
    "In this case, the delay is defined by $T=n_\\text{max}$."
   ]
  },
  {
   "cell_type": "code",
   "execution_count": 4,
   "id": "36198326-5f53-4765-8f25-983c88b73d76",
   "metadata": {},
   "outputs": [
    {
     "name": "stdout",
     "output_type": "stream",
     "text": [
      "Maximum method - IIR\n",
      "delay in samples =  0\n",
      "delay in milliseconds =  0.0\n",
      "Maximum method - FIR\n",
      "delay in samples =  23\n",
      "delay in milliseconds =  0.4791666666666667\n"
     ]
    }
   ],
   "source": [
    "def EvaluateDelayByMaximumMethod(h):\n",
    "    DelayInSamples = np.argmax(np.abs(h))\n",
    "    DelayInMilliseconds = DelayInSamples *1000 / r\n",
    "    print('delay in samples = ', int(DelayInSamples))\n",
    "    print('delay in milliseconds = ', DelayInMilliseconds)\n",
    "\n",
    "print('Maximum method - IIR')\n",
    "EvaluateDelayByMaximumMethod(h_IIR)\n",
    "print('Maximum method - FIR')\n",
    "EvaluateDelayByMaximumMethod(h_FIR)"
   ]
  },
  {
   "cell_type": "markdown",
   "id": "6d8bc810-75d5-4f8a-9227-0302cf977f4e",
   "metadata": {},
   "source": [
    "## Latency estimation by Center-of-mass-method\n",
    "\n",
    "Generally, a more precise methode for estimating the delay of a filter defined by the impulse response $h(n)$ is the center of mass.\n",
    "For a time-continuous impulse response $h(t)$ the center of mass is defined by:\n",
    "\n",
    "$T = \\frac{\\int_{-\\infty}^\\infty t\\cdot \\left|h(t)\\right|}{\\int_{-\\infty}^\\infty \\left|h(t)\\right|}$ .\n",
    "\n",
    "For a time-discrete impulse response $h(n)$ the center of mass is definde by:\n",
    "\n",
    "$T = \\frac{\\sum_n n\\cdot \\left|h(n)\\right|}{\\sum_n \\left|h(n)\\right|}$ ."
   ]
  },
  {
   "cell_type": "code",
   "execution_count": 5,
   "id": "cadd0a18-a2a9-4304-8e12-48b3386b7f97",
   "metadata": {},
   "outputs": [
    {
     "name": "stdout",
     "output_type": "stream",
     "text": [
      "Center of mass method - IIR\n",
      "delay in samples =  2\n",
      "delay in milliseconds =  0.04222054415108061\n",
      "Center of mass method - FIR\n",
      "delay in samples =  23\n",
      "delay in milliseconds =  0.4791666666666665\n"
     ]
    }
   ],
   "source": [
    "def EvaluateDelayByCenterOfMassMethod(h):\n",
    "    n_vector = np.arange(h.shape[0])\n",
    "    DelayInSamples = np.sum(n_vector*np.abs(h)) / np.sum(np.abs(h))\n",
    "    DelayInMilliseconds = DelayInSamples *1000 / r\n",
    "    print('delay in samples = ', int(np.round(DelayInSamples)))\n",
    "    print('delay in milliseconds = ', DelayInMilliseconds)\n",
    "\n",
    "print('Center of mass method - IIR')\n",
    "EvaluateDelayByCenterOfMassMethod(h_IIR)\n",
    "print('Center of mass method - FIR')\n",
    "EvaluateDelayByCenterOfMassMethod(h_FIR)"
   ]
  },
  {
   "cell_type": "markdown",
   "id": "5c6f4348-512a-4bbd-ba03-d6bb5f005070",
   "metadata": {},
   "source": [
    "## Latency measurement\n",
    "\n",
    "The latency introduced by an impulse response can be measured by comparison of input and output signals:"
   ]
  },
  {
   "cell_type": "code",
   "execution_count": 6,
   "id": "1509a713-51b1-4662-ac69-e6a17ad0569f",
   "metadata": {},
   "outputs": [
    {
     "name": "stdout",
     "output_type": "stream",
     "text": [
      "Measurement method - IIR\n",
      "delay in samples =  2\n",
      "delay in milliseconds =  0.04222054415108061\n",
      "Measurement method - FIR\n",
      "delay in samples =  23\n",
      "delay in milliseconds =  0.4791666666666665\n"
     ]
    }
   ],
   "source": [
    "def EvaluateCrossCorrelation(x, y):\n",
    "    fftlen = np.maximum(x.shape[0], y.shape[0]) * 2\n",
    "    phi = np.fft.ifft(np.fft.fft(y, fftlen) * np.conj(np.fft.fft(x, fftlen))).real\n",
    "    return phi\n",
    "\n",
    "def EstimateDelay(x, y):\n",
    "    phi = EvaluateCrossCorrelation(x, y)\n",
    "    T = np.argmax(np.abs(phi[0:(phi.shape[0]//2)]))\n",
    "    return T\n",
    "\n",
    "# test latency evaluation\n",
    "MaxIter = 20\n",
    "for T in range(MaxIter):\n",
    "    x = np.random.randn(MaxIter*4)    \n",
    "    if T > 0:\n",
    "        y = np.zeros(x.shape)\n",
    "        y[T:] = x[0:-T]\n",
    "    else:\n",
    "        y = np.copy(x)\n",
    "    assert np.abs(T - EstimateDelay(x, y)) < 1e-2, 'error in delay evaluation'\n",
    "\n",
    "def EvaluateDelayByMeasurement(h):\n",
    "    x = np.random.randn(10*h.shape[0])\n",
    "    y = np.convolve(x, h)\n",
    "    DelayInSamples = EstimateDelay(x, y)\n",
    "    DelayInMilliseconds = DelayInSamples *1000 / r\n",
    "    print('delay in samples = ', int(DelayInSamples))\n",
    "    print('delay in milliseconds = ', DelayInMilliseconds)\n",
    "\n",
    "print('Measurement method - IIR')\n",
    "EvaluateDelayByCenterOfMassMethod(h_IIR)\n",
    "print('Measurement method - FIR')\n",
    "EvaluateDelayByCenterOfMassMethod(h_FIR)"
   ]
  },
  {
   "cell_type": "markdown",
   "id": "5ecbdc48-6675-4193-8f18-8ef33ee50084",
   "metadata": {},
   "source": [
    "## Programming Exercise\n",
    "Another approach to evaluate the latency of an impulse response is the phase delay:\n",
    "\n",
    "$T=-\\frac{\\varphi(f)}{2\\pi f}$\n",
    "\n",
    "1) Implement the procedure EvaluateFourierTransform based on the z-Transform.\n",
    "2) Implement the procedure TransferFunction2Phase, which evaluates the phase of the complex transfer function $H$. Keep in mind, that the phase is periodical with $2\\pi$. In order to evaluate the correct phase delay, the phase must be unwrapped (the $2\\pi$-periodicity must be inversed.\n",
    "3) Implement the procedure PhaseDelay according to the function $T(f)=-\\frac{\\varphi(f)}{2\\pi f}$. In order to avoid a division by zero, the delay $T$ for frequency $f=0$ should be defined as $T(f=0) = 0$."
   ]
  },
  {
   "cell_type": "code",
   "execution_count": 8,
   "id": "a29d74c5-7842-477d-b2fe-e91c93682215",
   "metadata": {},
   "outputs": [
    {
     "name": "stderr",
     "output_type": "stream",
     "text": [
      "test_EvaluateFourierTransform (__main__.TestProgrammingExercise.test_EvaluateFourierTransform) ... ok\n",
      "test_PhaseDelay (__main__.TestProgrammingExercise.test_PhaseDelay) ... ERROR\n",
      "test_PhaseDelayDC (__main__.TestProgrammingExercise.test_PhaseDelayDC) ... FAIL\n",
      "test_TransferFunction2Phase1 (__main__.TestProgrammingExercise.test_TransferFunction2Phase1) ... ok\n",
      "test_TransferFunction2Phase2 (__main__.TestProgrammingExercise.test_TransferFunction2Phase2) ... ok\n",
      "test_TransferFunction2Phase3 (__main__.TestProgrammingExercise.test_TransferFunction2Phase3) ... ok\n",
      "\n",
      "======================================================================\n",
      "ERROR: test_PhaseDelay (__main__.TestProgrammingExercise.test_PhaseDelay)\n",
      "----------------------------------------------------------------------\n",
      "Traceback (most recent call last):\n",
      "  File \"C:\\Users\\spiertz\\AppData\\Local\\Temp\\ipykernel_20948\\1954747171.py\", line 64, in test_PhaseDelay\n",
      "    self.assertAlmostEqual(np.amax(T[1:fc_index-1]), T_True, delta = 1e-2)\n",
      "                                   ~^^^^^^^^^^^^^^\n",
      "TypeError: 'int' object is not subscriptable\n",
      "\n",
      "======================================================================\n",
      "FAIL: test_PhaseDelayDC (__main__.TestProgrammingExercise.test_PhaseDelayDC)\n",
      "----------------------------------------------------------------------\n",
      "Traceback (most recent call last):\n",
      "  File \"C:\\Users\\spiertz\\AppData\\Local\\Temp\\ipykernel_20948\\1954747171.py\", line 69, in test_PhaseDelayDC\n",
      "    self.assertAlmostEqual(T, 0.0, delta = 1e-15)\n",
      "AssertionError: 19 != 0.0 within 1e-15 delta (19.0 difference)\n",
      "\n",
      "----------------------------------------------------------------------\n",
      "Ran 6 tests in 0.378s\n",
      "\n",
      "FAILED (failures=1, errors=1)\n"
     ]
    },
    {
     "data": {
      "text/plain": [
       "<unittest.main.TestProgram at 0x26a63ae5550>"
      ]
     },
     "execution_count": 8,
     "metadata": {},
     "output_type": "execute_result"
    }
   ],
   "source": [
    "import unittest\n",
    "\n",
    "f = np.arange(r//2)\n",
    "\n",
    "def EvaluateFourierTransform(h, f):\n",
    "    H = np.zeros(f.shape, dtype = complex)\n",
    "    ### solution begins\n",
    "    for n in range(h.shape[0]):\n",
    "        H += h[n] * np.exp(-1j*2*np.pi*f*n/r)\n",
    "\n",
    "    ### solution ends\n",
    "    return H\n",
    "\n",
    "def TransferFunction2Phase(H):\n",
    "    ### solution begins\n",
    "\n",
    "    ### solution ends\n",
    "    return angle\n",
    "\n",
    "def PhaseDelay(H, f):\n",
    "    ### solution begins\n",
    "\n",
    "    ### solution ends\n",
    "    return T\n",
    "\n",
    "class TestProgrammingExercise(unittest.TestCase):\n",
    "\n",
    "    def test_EvaluateFourierTransform(self):\n",
    "        H = EvaluateFourierTransform(h_FIR, f)\n",
    "        H_abs = np.abs(H)\n",
    "        fc_index = np.argmin(np.abs(f - fc))\n",
    "        self.assertGreater(np.amin(H_abs[:fc_index]), H_abs[fc_index])\n",
    "        self.assertLess(np.amax(H_abs[fc_index+1:]), H_abs[fc_index])\n",
    "        self.assertAlmostEqual(H[42], 8.1750 - 1.0393j, delta = 1e-2)\n",
    "\n",
    "    def test_TransferFunction2Phase1(self):\n",
    "        h = np.random.randn(99)\n",
    "        h += np.flip(h)\n",
    "        for n in range(h.shape[0]):\n",
    "            self.assertAlmostEqual(h[n], h[h.shape[0]-1-n], delta = 1e-2)\n",
    "        H = EvaluateFourierTransform(h, f)\n",
    "        angle = TransferFunction2Phase(H*np.exp(1j*2*np.pi*f*(h.shape[0]//2)/r))\n",
    "        Testpattern = np.sin(np.diff(angle))\n",
    "        self.assertAlmostEqual(np.amax(Testpattern), 0.0, delta = 1e-2)\n",
    "        self.assertAlmostEqual(np.amin(Testpattern), 0.0, delta = 1e-2)\n",
    "\n",
    "    def test_TransferFunction2Phase2(self):\n",
    "        H = EvaluateFourierTransform(h_FIR, f)\n",
    "        angle = TransferFunction2Phase(H)\n",
    "        nc = np.argmin(np.abs(fc - f))\n",
    "        Dangle = np.diff(angle)\n",
    "        self.assertAlmostEqual(np.amax(Dangle[:nc]), np.amin(Dangle[:nc]), delta = 1e-10)\n",
    "\n",
    "    def test_TransferFunction2Phase3(self):\n",
    "        H = EvaluateFourierTransform(h_FIR, f)\n",
    "        angle = TransferFunction2Phase(H)\n",
    "        self.assertGreater(-2*np.pi, np.amin(angle))\n",
    "    \n",
    "    def test_PhaseDelay(self):\n",
    "        H = EvaluateFourierTransform(h_FIR, f)\n",
    "        T = PhaseDelay(H, f)\n",
    "        fc_index = np.argmin(np.abs(f - fc))\n",
    "        T_True = (h_FIR.shape[0] // 2) / r\n",
    "        self.assertAlmostEqual(np.amax(T[1:fc_index-1]), T_True, delta = 1e-2)\n",
    "        self.assertAlmostEqual(np.amin(T[1:fc_index-1]), T_True, delta = 1e-2)   \n",
    "\n",
    "    def test_PhaseDelayDC(self):\n",
    "        T = PhaseDelay(H = np.ones((1)), f = np.zeros((1)))\n",
    "        self.assertAlmostEqual(T, 0.0, delta = 1e-15)\n",
    "    \n",
    "# https://stackoverflow.com/questions/40172281/unit-tests-for-functions-in-a-jupyter-notebook\n",
    "unittest.main(argv=[''], verbosity=2, exit=False)"
   ]
  },
  {
   "cell_type": "markdown",
   "id": "c2af279a-51f1-4418-a419-906e9157ceb0",
   "metadata": {},
   "source": [
    "## Exam preparation\n",
    "\n",
    "1) What is the meaning of the abbreviation LTI?\n",
    "\n",
    "2) A speaker has a distance of $20$ m to the listener. Evaluate the latency of the voice transmission through the air. Assume a sound of speed of $343$ m/s.\n",
    "\n",
    "3) Evaluate the latency/delay in milliseconds of a FIR lowpass filter with length $N=501$ samples for a sampling rate of $r=48$ kHz. For this evaluation, the same procedures as above are assumed, to generate the lowpass filter.\n",
    "\n",
    "4) A time-continuous impulse response is given: $h(t)=\\varepsilon(t)\\cdot\\frac{1}{\\tau}\\cdot e^{-t/\\tau}$. with the unit step $\\varepsilon\\left(x\\right)$ defined as follows:\n",
    "\n",
    "$\\varepsilon(x) = \\begin{cases}\n",
    "        1 & \\text{if } x \\geq 0\\\\\n",
    "        0 & \\text{else}\n",
    "    \\end{cases}$. Evaluate the latency introduced by the given impulse response with the center of mass method. \n",
    "\n",
    "5) A time-discrete impulse response is given: $h(n)=[1, 2, 4, 2, 1]$. Evaluate the latency introduced by the given impulse response with the center of mass method."
   ]
  },
  {
   "cell_type": "code",
   "execution_count": null,
   "id": "f1b52abf-076d-44bb-a386-b453d0767817",
   "metadata": {},
   "outputs": [],
   "source": []
  }
 ],
 "metadata": {
  "kernelspec": {
   "display_name": "Python 3 (ipykernel)",
   "language": "python",
   "name": "python3"
  },
  "language_info": {
   "codemirror_mode": {
    "name": "ipython",
    "version": 3
   },
   "file_extension": ".py",
   "mimetype": "text/x-python",
   "name": "python",
   "nbconvert_exporter": "python",
   "pygments_lexer": "ipython3",
   "version": "3.11.4"
  }
 },
 "nbformat": 4,
 "nbformat_minor": 5
}
