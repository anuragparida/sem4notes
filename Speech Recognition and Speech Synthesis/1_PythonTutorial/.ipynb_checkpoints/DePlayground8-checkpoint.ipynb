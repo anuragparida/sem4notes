{
 "cells": [
  {
   "cell_type": "code",
   "execution_count": 4,
   "id": "07e942ff-7eea-4b63-aedd-02e737066861",
   "metadata": {},
   "outputs": [],
   "source": [
    "import numpy as np\n",
    "\n",
    "class CSlow(object):\n",
    "\n",
    "    def __init__(self):\n",
    "        pass\n",
    "\n",
    "    def Eval(self, Spectrum):\n",
    "        result = 0.0\n",
    "        for n in range(Spectrum.shape[0]):\n",
    "            result += Spectrum[n]\n",
    "        return result\n",
    "\n",
    "class CFast(object):\n",
    "\n",
    "    def Eval(self, Spectrum):\n",
    "        return np.sum(Spectrum)\n",
    "\n",
    "class CFrequencyMasking(object):\n",
    "\n",
    "    def __init__(self, MaskingEvaluator = CFast()):\n",
    "        self.__MaskingEvaluator = MaskingEvaluator\n",
    "\n",
    "    def EvalSomething(self, Spectrum):\n",
    "        ### code schnipsel\n",
    "        result = self.__MaskingEvaluator.Eval(Spectrum)\n",
    "        ### code schnipsel\n",
    "        return result\n",
    "\n",
    "### main-block\n",
    "Spectrum = np.random.rand(513)\n",
    "AFrequencyMaskingSlow = CFrequencyMasking(CSlow())\n",
    "AFrequencyMaskingFast = CFrequencyMasking(CFast())\n",
    "ResultSlow = AFrequencyMaskingSlow.EvalSomething(Spectrum)\n",
    "ResultFast = AFrequencyMaskingFast.EvalSomething(Spectrum)\n",
    "assert np.sum(np.abs(ResultSlow - ResultFast)) < 1e-6, 'error in evaluation'\n",
    "\n",
    "AFrequencyMaskingFast = CFrequencyMasking()"
   ]
  },
  {
   "cell_type": "code",
   "execution_count": null,
   "id": "d413c29c-601c-4cc4-b406-e7fe12d7f7ae",
   "metadata": {},
   "outputs": [],
   "source": []
  }
 ],
 "metadata": {
  "kernelspec": {
   "display_name": "Python 3 (ipykernel)",
   "language": "python",
   "name": "python3"
  },
  "language_info": {
   "codemirror_mode": {
    "name": "ipython",
    "version": 3
   },
   "file_extension": ".py",
   "mimetype": "text/x-python",
   "name": "python",
   "nbconvert_exporter": "python",
   "pygments_lexer": "ipython3",
   "version": "3.11.4"
  }
 },
 "nbformat": 4,
 "nbformat_minor": 5
}
