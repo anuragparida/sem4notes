{
 "cells": [
  {
   "cell_type": "markdown",
   "id": "45b74120",
   "metadata": {},
   "source": [
    "# Speech to text\n",
    "Modern speech to text systems are based on transformer networks.\n",
    "\n",
    "The model whisper is very simple to install and to use. It can work without any web connectivity.\n",
    "\n",
    "The only disadvantage of the whisper is the relatively high computational complexity."
   ]
  },
  {
   "cell_type": "markdown",
   "id": "874ea660",
   "metadata": {},
   "source": [
    "## Scientific publication\n",
    "Publication of the whisper: Robust Speech Recognition via Large-ScaleWeak Supervision\n",
    "\n",
    "## Installation\n",
    "The installation can be done in the following three steps:\n",
    "\n",
    "1) install ffmpeg\n",
    "\n",
    "2) install git: https://learn.microsoft.com/en-us/devops/develop/git/install-and-set-up-git\n",
    "\n",
    "3) install whisper: pip install git+https://github.com/openai/whisper.git\n",
    "\n",
    "or simply by\n",
    "\n",
    "pip install -U openai-whisper"
   ]
  },
  {
   "cell_type": "markdown",
   "id": "3f140c42-31d8-4722-aa36-dfe480ebea02",
   "metadata": {},
   "source": [
    "## Configuration\n",
    "The whisper can use different languages and model sizes:\n",
    "\n",
    "<table>\n",
    "<tr><td>Size</td><td>Parameters</td><td>English-only model</td><td>Multilingual model</td><td>Required VRAM</td><td>Relative speed</td></tr>\n",
    "<tr><td>tiny</td><td>39 M</td><td>tiny.en</td><td>tiny</td><td>~1 GB</td><td>~32x</td></tr>\n",
    "<tr><td>base</td><td>74 M</td><td>base.en</td><td>base</td><td>~1 GB</td><td>~16x</td></tr>\n",
    "<tr><td>small</td><td>244 M</td><td>small.en</td><td>small</td><td>~2 GB</td><td>~6x</td></tr>\n",
    "<tr><td>medium</td><td>769 M</td><td>medium.en</td><td>medium</td><td>~5 GB</td><td>~2x</td></tr>\n",
    "<tr><td>large</td><td>1550 M</td><td>N/A</td><td>large</td><td>~10 GB</td><td>1x</td></tr>\n",
    "</table>\n",
    "Source: https://github.com/openai/whisper\n"
   ]
  },
  {
   "cell_type": "code",
   "execution_count": 12,
   "id": "45abefce",
   "metadata": {},
   "outputs": [],
   "source": [
    "ModelSize = \"small\" # [\"tiny\", \"base\", \"small\", \"medium\", \"large\"]\n",
    "Language = 'German' # [\"German\", \"English\"]"
   ]
  },
  {
   "cell_type": "markdown",
   "id": "7b8be00e-dc4c-4116-8185-107201487975",
   "metadata": {},
   "source": [
    "## Calling the whisper\n",
    "The whisper can be started by the following code:"
   ]
  },
  {
   "cell_type": "code",
   "execution_count": 13,
   "id": "f762faf3-ac4d-4eef-8942-5b5a63611794",
   "metadata": {},
   "outputs": [],
   "source": [
    "import whisper\n",
    "import torch\n",
    "import numpy as np\n",
    "#import pyaudio\n",
    "#import wave\n",
    "import time\n",
    "import sounddevice as sd\n",
    "import soundfile as sf\n",
    "import matplotlib.pyplot as plt\n",
    "import librosa\n",
    "\n",
    "import os\n",
    "os.chdir('../Python')\n",
    "import TrainingsDataInterface\n",
    "import WaveInterface\n",
    "\n",
    "SamplingRateWhisper = 16000 # the sampling rate should always be 16 kHz\n",
    "devices = torch.device(\"cuda:0\" if torch.cuda.is_available() else \"cpu\") # source: https://github.com/openai/whisper/discussions/373\n",
    "model = whisper.load_model(ModelSize, device = devices)  \n",
    "\n",
    "def DoResampling(x, OriginalSamplingRate):\n",
    "    if np.abs(SamplingRateWhisper - OriginalSamplingRate) > 1:\n",
    "        y = librosa.resample(x, orig_sr = OriginalSamplingRate, target_sr = SamplingRateWhisper)\n",
    "        y *= (np.max(np.abs(x)) / np.max(np.abs(y)))\n",
    "        return y\n",
    "    else:\n",
    "        return x\n",
    "\n",
    "def CallWhisper(x, OriginalSamplingRate):\n",
    "    y = DoResampling(x, OriginalSamplingRate)\n",
    "    result = model.transcribe(y.astype(np.float32), language=Language, verbose=0)\n",
    "    return result[\"text\"]"
   ]
  },
  {
   "cell_type": "markdown",
   "id": "75f085ef-6037-4716-9140-3811baa61e91",
   "metadata": {},
   "source": [
    "## Demo\n",
    "In the following, a small example for the usage of the whisper is shown.\n",
    "\n",
    "The so called real time factor is computational time or running time divided by the audio length. A real time factor below 1 means, that the algorithm is capable of working in real time.\n",
    "\n",
    "The latency is the length of the audio recording plus the running time. The latency measurement starts with the beginning of the audio recording and ends with printing out the result."
   ]
  },
  {
   "cell_type": "code",
   "execution_count": 14,
   "id": "9a0c652f-0321-48b3-925f-c11ec6479e99",
   "metadata": {},
   "outputs": [
    {
     "name": "stdout",
     "output_type": "stream",
     "text": [
      " Pferdeschnauben nicht die Nase.\n",
      "runtime: 3.151479721069336 s\n",
      "audio length:2.0638095238095238 s\n",
      "real time factor: 1.5270206308826964\n",
      "latency: 5.21528924487886 s\n"
     ]
    }
   ],
   "source": [
    "x, Fs, bits = WaveInterface.ReadWave('../Audio/PferdeSchnaubenNichtDieNase.wav')\n",
    "\n",
    "start = time.time()\n",
    "result = CallWhisper(x, Fs)\n",
    "stop = time.time()\n",
    "print(result)\n",
    "RunTime = stop-start\n",
    "AudioLength = x.shape[0] / Fs\n",
    "RealTimeFactor = RunTime / AudioLength\n",
    "print(\"runtime: \" + str(RunTime) + \" s\")\n",
    "print(\"audio length:\" + str(AudioLength) + \" s\")\n",
    "print(\"real time factor: \" + str(RealTimeFactor))\n",
    "print(\"latency: \" + str(RunTime + AudioLength) + \" s\")"
   ]
  },
  {
   "cell_type": "markdown",
   "id": "a55618a7-bf5c-47b7-a27a-6d3d1e76b9b7",
   "metadata": {},
   "source": [
    "## Transcription of recording\n",
    "The following code shows, how to record audio and transcribe it by whisper."
   ]
  },
  {
   "cell_type": "code",
   "execution_count": 11,
   "id": "01394510-36dd-48ba-99c3-6c92c2344ccb",
   "metadata": {},
   "outputs": [
    {
     "name": "stdout",
     "output_type": "stream",
     "text": [
      "Recording...\n",
      "Finished recording\n"
     ]
    },
    {
     "data": {
      "image/png": "[encoded data removed]",
      "text/plain": [
       "<Figure size 640x480 with 1 Axes>"
      ]
     },
     "metadata": {},
     "output_type": "display_data"
    },
    {
     "name": "stdout",
     "output_type": "stream",
     "text": [
      " Today the weather is really perfect. I like it.\n",
      "runtime: 3.2027747631073 s\n",
      "audio length:5.0 s\n",
      "real time factor: 0.64055495262146\n",
      "latency: 8.2027747631073 s\n"
     ]
    }
   ],
   "source": [
    "# code-source: https://daehnhardt.com/blog/2023/03/05/python-audio-signal-processing-with-librosa/\n",
    "\n",
    "# Set the sampling frequency and duration of the recording\n",
    "duration = 5  # in seconds\n",
    "filename = 'recording.wav'\n",
    "\n",
    "# Record audio\n",
    "print(\"Recording...\")\n",
    "audio = sd.rec(int(SamplingRateWhisper * duration), samplerate=SamplingRateWhisper, channels=1)\n",
    "sd.wait()  # Wait until recording is finished\n",
    "print(\"Finished recording\")\n",
    "\n",
    "# Save the recorded audio to a WAV file\n",
    "sf.write(filename, audio, SamplingRateWhisper)\n",
    "\n",
    "x, Fs, bits = WaveInterface.ReadWave(filename)\n",
    "x *= 0.99 / np.amax(np.abs(x))\n",
    "t = np.arange(x.shape[0])/SamplingRateWhisper\n",
    "plt.plot(t,x)\n",
    "plt.xlabel('t [s]')\n",
    "plt.show()\n",
    "\n",
    "start = time.time()\n",
    "result = CallWhisper(x, Fs)\n",
    "stop = time.time()\n",
    "print(result)\n",
    "RunTime = stop-start\n",
    "AudioLength = x.shape[0] / Fs\n",
    "RealTimeFactor = RunTime / AudioLength\n",
    "print(\"runtime: \" + str(RunTime) + \" s\")\n",
    "print(\"audio length:\" + str(AudioLength) + \" s\")\n",
    "print(\"real time factor: \" + str(RealTimeFactor))\n",
    "print(\"latency: \" + str(RunTime + AudioLength) + \" s\")"
   ]
  },
  {
   "cell_type": "markdown",
   "id": "51e48f31-0d99-4199-b4f7-e6948f856c2d",
   "metadata": {},
   "source": [
    "## Error rate, SNR and modelsize\n",
    "\n",
    "For evaluating the error rate letter by letter, the Levenshtein distance is used (which will be explained in detail in a future Jupyter Notebook). The higher the distance, the more errors are detected.\n",
    "\n",
    "The following code tests the following statements:\n",
    "\n",
    "1) The lower the SNR, the higher the error rate evaluated by the Levenshtein distance.\n",
    "\n",
    "2) The bigger the model, the lower the error rate evaluated by the Levenshtein distance.\n",
    "\n",
    "3) Is the evaluation time depending on the model size?"
   ]
  },
  {
   "cell_type": "code",
   "execution_count": 5,
   "id": "0a3f0820-df18-4b78-962a-f10335c6a39b",
   "metadata": {},
   "outputs": [
    {
     "data": {
      "image/png": "[encoded data removed]",
      "text/plain": [
       "<Figure size 640x480 with 1 Axes>"
      ]
     },
     "metadata": {},
     "output_type": "display_data"
    },
    {
     "data": {
      "image/png": "[encoded data removed]",
      "text/plain": [
       "<Figure size 640x480 with 1 Axes>"
      ]
     },
     "metadata": {},
     "output_type": "display_data"
    }
   ],
   "source": [
    "from Levenshtein import distance as lev\n",
    "\n",
    "ListOfSentences = []\n",
    "ListOfSentences.append('Heute ist es mir viel zu warm.')\n",
    "ListOfSentences.append('Pferde schnauben nicht die Nase.')\n",
    "ListOfSentences.append('Früher war mehr Lametta.')\n",
    "ListOfSentences.append('Liebeskummer lohnt sich nicht, mein Darling.')\n",
    "\n",
    "def AddNoise(x, TargetdB):\n",
    "    n = np.random.randn(x.shape[0])\n",
    "    a = np.sqrt(np.sum(x**2) / (np.sum(n**2) * 10**(TargetdB/10)))\n",
    "    y = x + a*n\n",
    "    assert np.abs(TargetdB - 10*np.log10(np.sum(x**2) / np.sum((x-y)**2))) < 1e-2, 'error in evaluating TargetdB'\n",
    "    return y\n",
    "\n",
    "def GetWave(n):\n",
    "    assert n >= 0, 'n too small'\n",
    "    assert n < len(ListOfSentences), 'n too big'\n",
    "    Filename = 'tmp_' + str(n) + '.wav'\n",
    "    try:\n",
    "        x, Fs, bits = WaveInterface.ReadWave(Filename)\n",
    "    except:\n",
    "        import pyttsx3\n",
    "        engine = pyttsx3.init()\n",
    "        engine.setProperty('voice', 'german')\n",
    "        engine.save_to_file(ListOfSentences[n], Filename)\n",
    "        engine.runAndWait()\n",
    "        x, Fs, bits = WaveInterface.ReadWave(Filename)\n",
    "    return x, Fs\n",
    "\n",
    "class CModelSetup(object):\n",
    "\n",
    "    def __init__(self, ModelSize, Colour):\n",
    "        self.__ModelSize = ModelSize\n",
    "        self.__Colour = Colour\n",
    "\n",
    "    def GetModelSize(self):\n",
    "        return self.__ModelSize\n",
    "\n",
    "    def GetColour(self):\n",
    "        return self.__Colour\n",
    "\n",
    "ListOfModels = []\n",
    "ListOfModels.append(CModelSetup(\"tiny\", 'r'))\n",
    "ListOfModels.append(CModelSetup(\"base\", 'g'))\n",
    "ListOfModels.append(CModelSetup(\"small\", 'b'))\n",
    "ListOfModels.append(CModelSetup(\"medium\", 'k'))\n",
    "\n",
    "SNRList = [-20, 0, 20]\n",
    "TimeConsumption = np.zeros((len(ListOfModels)))\n",
    "\n",
    "def EvalSingleModel(ModelIndex):\n",
    "    model = whisper.load_model(ListOfModels[ModelIndex].GetModelSize(), device = devices) \n",
    "    d = np.zeros((len(SNRList)))\n",
    "    for i in range(len(ListOfSentences)):\n",
    "        x, Fs = GetWave(i)\n",
    "        for n in range(len(SNRList)):\n",
    "            y = AddNoise(x, SNRList[n])\n",
    "            StartTime = time.time()\n",
    "            TextDetected = CallWhisper(y, Fs)\n",
    "            StopTime = time.time()\n",
    "            TimeConsumption[ModelIndex] += StopTime - StartTime\n",
    "            d[n] += lev(ListOfSentences[i], TextDetected.strip())\n",
    "    return d\n",
    "\n",
    "for ModelIndex in range(len(ListOfModels)):\n",
    "    plt.plot(SNRList, EvalSingleModel(ModelIndex), ListOfModels[ModelIndex].GetColour(), label = ListOfModels[ModelIndex].GetModelSize())\n",
    "plt.xlabel('SNR [dB]')\n",
    "plt.ylabel('Levenshtein distance')\n",
    "plt.legend(loc = \"upper right\")\n",
    "plt.show()\n",
    "\n",
    "plt.plot(TimeConsumption)\n",
    "plt.xlabel('modelsize')\n",
    "plt.ylabel('t [s]')\n",
    "plt.title('time consumption')\n",
    "plt.show()"
   ]
  },
  {
   "cell_type": "markdown",
   "id": "7413fc7d-5b65-4213-ab1d-deb4baa71105",
   "metadata": {},
   "source": [
    "## Programming exercise\n",
    "Evaluate the accuracy for the whisper and the german set of trainings data used in this course.\n",
    "\n",
    "Due to misleading transcriptions, the TranscriptionDictionary must be used. E.g. null and 0 results in the same waveform. In order to evaluate a correct confusion matrix, the TranscriptionDictionary must be filled step by step, by interpreting the output of the code line print('correct: ', command_groundtruth, ', estimated: ', command_estimated).\n",
    "\n",
    "Due to misleading transcriptions, an additional set of rules is necessary, e.g. removing leading and trailing blanks, or removing points or other signs from the detected command, which are usally not spoken, e.g. '.' or '!'. Extend the given set of rules in the procedure ApplySetOfRules, if you notice a confusing output of the code line code line print('correct: ', command_groundtruth, ', estimated: ', command_estimated)."
   ]
  },
  {
   "cell_type": "code",
   "execution_count": 17,
   "id": "76ceabfb",
   "metadata": {},
   "outputs": [
    {
     "name": "stderr",
     "output_type": "stream",
     "text": [
      "  4%|███▌                                                                               | 2/47 [00:26<09:59, 13.31s/it]"
     ]
    },
    {
     "name": "stdout",
     "output_type": "stream",
     "text": [
      "wrong detection: correct:  10 , estimated:  lorenziin\n",
      "wrong detection: correct:  10 , estimated:  seen\n",
      "wrong detection: correct:  10 , estimated:  htsee\n"
     ]
    },
    {
     "name": "stderr",
     "output_type": "stream",
     "text": [
      "  6%|█████▎                                                                             | 3/47 [01:21<23:38, 32.24s/it]"
     ]
    },
    {
     "name": "stdout",
     "output_type": "stream",
     "text": [
      "wrong detection: correct:  10 , estimated:  shot\n",
      "wrong detection: correct:  2 , estimated:  zwoропf\n"
     ]
    },
    {
     "name": "stderr",
     "output_type": "stream",
     "text": [
      "  9%|███████                                                                            | 4/47 [01:48<21:32, 30.05s/it]"
     ]
    },
    {
     "name": "stdout",
     "output_type": "stream",
     "text": [
      "wrong detection: correct:  2 , estimated:  bye\n",
      "wrong detection: correct:  3 , estimated:  \n"
     ]
    },
    {
     "name": "stderr",
     "output_type": "stream",
     "text": [
      " 11%|████████▊                                                                          | 5/47 [02:17<20:50, 29.77s/it]"
     ]
    },
    {
     "name": "stdout",
     "output_type": "stream",
     "text": [
      "wrong detection: correct:  3 , estimated:  socioeckte,\n",
      "wrong detection: correct:  4 , estimated:  hatnochfeuer\n",
      "wrong detection: correct:  4 , estimated:  schpurposeто\n",
      "wrong detection: correct:  4 , estimated:  vielendankfürihreaufmerksamkeit\n"
     ]
    },
    {
     "name": "stderr",
     "output_type": "stream",
     "text": [
      " 13%|██████████▌                                                                        | 6/47 [03:13<26:26, 38.70s/it]"
     ]
    },
    {
     "name": "stdout",
     "output_type": "stream",
     "text": [
      "wrong detection: correct:  4 , estimated:  \n",
      "wrong detection: correct:  5 , estimated:  \n",
      "wrong detection: correct:  5 , estimated:  \n"
     ]
    },
    {
     "name": "stderr",
     "output_type": "stream",
     "text": [
      " 15%|████████████▎                                                                      | 7/47 [03:28<20:37, 30.94s/it]"
     ]
    },
    {
     "name": "stdout",
     "output_type": "stream",
     "text": [
      "wrong detection: correct:  5 , estimated:  dankeschön\n",
      "wrong detection: correct:  6 , estimated:  sex\n"
     ]
    },
    {
     "name": "stderr",
     "output_type": "stream",
     "text": [
      " 17%|██████████████▏                                                                    | 8/47 [04:07<21:53, 33.68s/it]"
     ]
    },
    {
     "name": "stdout",
     "output_type": "stream",
     "text": [
      "wrong detection: correct:  6 , estimated:  nutzi'llmaddam\n",
      "wrong detection: correct:  7 , estimated:  \n"
     ]
    },
    {
     "name": "stderr",
     "output_type": "stream",
     "text": [
      " 19%|███████████████▉                                                                   | 9/47 [04:39<20:56, 33.08s/it]"
     ]
    },
    {
     "name": "stdout",
     "output_type": "stream",
     "text": [
      "wrong detection: correct:  7 , estimated:  itsiepen\n"
     ]
    },
    {
     "name": "stderr",
     "output_type": "stream",
     "text": [
      " 21%|█████████████████▍                                                                | 10/47 [04:54<16:49, 27.28s/it]"
     ]
    },
    {
     "name": "stdout",
     "output_type": "stream",
     "text": [
      "wrong detection: correct:  9 , estimated:  neu-in\n",
      "wrong detection: correct:  9 , estimated:  \n"
     ]
    },
    {
     "name": "stderr",
     "output_type": "stream",
     "text": [
      " 23%|███████████████████▏                                                              | 11/47 [05:14<15:04, 25.13s/it]"
     ]
    },
    {
     "name": "stdout",
     "output_type": "stream",
     "text": [
      "wrong detection: correct:  9 , estimated:  nein\n",
      "wrong detection: correct:  aktion , estimated:  action\n"
     ]
    },
    {
     "name": "stderr",
     "output_type": "stream",
     "text": [
      " 26%|████████████████████▉                                                             | 12/47 [05:28<12:45, 21.88s/it]"
     ]
    },
    {
     "name": "stdout",
     "output_type": "stream",
     "text": [
      "wrong detection: correct:  aktion , estimated:  echtet\n",
      "wrong detection: correct:  attacke , estimated:  attackit\n",
      "wrong detection: correct:  attacke , estimated:  thankyou\n",
      "wrong detection: correct:  attacke , estimated:  danke\n"
     ]
    },
    {
     "name": "stderr",
     "output_type": "stream",
     "text": [
      " 28%|██████████████████████▋                                                           | 13/47 [06:09<15:39, 27.64s/it]"
     ]
    },
    {
     "name": "stdout",
     "output_type": "stream",
     "text": [
      "wrong detection: correct:  attacke , estimated:  a-ta-ke\n"
     ]
    },
    {
     "name": "stderr",
     "output_type": "stream",
     "text": [
      " 32%|██████████████████████████▏                                                       | 15/47 [06:38<11:10, 20.94s/it]"
     ]
    },
    {
     "name": "stdout",
     "output_type": "stream",
     "text": [
      "wrong detection: correct:  schau , estimated:  ciao\n",
      "wrong detection: correct:  schau , estimated:  ciao\n",
      "wrong detection: correct:  schau , estimated:  ciao\n",
      "wrong detection: correct:  schau , estimated:  ciao\n"
     ]
    },
    {
     "name": "stderr",
     "output_type": "stream",
     "text": [
      " 34%|███████████████████████████▉                                                      | 16/47 [06:53<09:48, 18.98s/it]"
     ]
    },
    {
     "name": "stdout",
     "output_type": "stream",
     "text": [
      "wrong detection: correct:  schau , estimated:  ciao\n",
      "wrong detection: correct:  start , estimated:  stadt\n"
     ]
    },
    {
     "name": "stderr",
     "output_type": "stream",
     "text": [
      " 40%|█████████████████████████████████▏                                                | 19/47 [07:37<07:34, 16.23s/it]"
     ]
    },
    {
     "name": "stdout",
     "output_type": "stream",
     "text": [
      "wrong detection: correct:  wende , estimated:  winde\n",
      "wrong detection: correct:  an , estimated:  un\n"
     ]
    },
    {
     "name": "stderr",
     "output_type": "stream",
     "text": [
      " 49%|████████████████████████████████████████▏                                         | 23/47 [08:59<07:20, 18.34s/it]"
     ]
    },
    {
     "name": "stdout",
     "output_type": "stream",
     "text": [
      "wrong detection: correct:  drehe , estimated:  dreihe\n",
      "wrong detection: correct:  drehe , estimated:  3\n"
     ]
    },
    {
     "name": "stderr",
     "output_type": "stream",
     "text": [
      " 51%|█████████████████████████████████████████▊                                        | 24/47 [09:28<08:20, 21.75s/it]"
     ]
    },
    {
     "name": "stdout",
     "output_type": "stream",
     "text": [
      "wrong detection: correct:  drehe , estimated:  trehen\n"
     ]
    },
    {
     "name": "stderr",
     "output_type": "stream",
     "text": [
      " 53%|███████████████████████████████████████████▌                                      | 25/47 [09:43<07:11, 19.64s/it]"
     ]
    },
    {
     "name": "stdout",
     "output_type": "stream",
     "text": [
      "wrong detection: correct:  gehe , estimated:  beeilt\n",
      "wrong detection: correct:  gehe , estimated:  io\n"
     ]
    },
    {
     "name": "stderr",
     "output_type": "stream",
     "text": [
      " 55%|█████████████████████████████████████████████▎                                    | 26/47 [10:37<10:30, 30.03s/it]"
     ]
    },
    {
     "name": "stdout",
     "output_type": "stream",
     "text": [
      "wrong detection: correct:  gehe , estimated:  \n",
      "wrong detection: correct:  gruen , estimated:  grün\n",
      "wrong detection: correct:  gruen , estimated:  grün\n",
      "wrong detection: correct:  gruen , estimated:  grün\n",
      "wrong detection: correct:  gruen , estimated:  tschüss\n"
     ]
    },
    {
     "name": "stderr",
     "output_type": "stream",
     "text": [
      " 57%|███████████████████████████████████████████████                                   | 27/47 [10:54<08:37, 25.88s/it]"
     ]
    },
    {
     "name": "stdout",
     "output_type": "stream",
     "text": [
      "wrong detection: correct:  gruen , estimated:  grün\n",
      "wrong detection: correct:  halt , estimated:  alt\n"
     ]
    },
    {
     "name": "stderr",
     "output_type": "stream",
     "text": [
      " 60%|████████████████████████████████████████████████▊                                 | 28/47 [11:10<07:15, 22.94s/it]"
     ]
    },
    {
     "name": "stdout",
     "output_type": "stream",
     "text": [
      "wrong detection: correct:  hinauf , estimated:  hinau\n",
      "wrong detection: correct:  hinauf , estimated:  genau\n"
     ]
    },
    {
     "name": "stderr",
     "output_type": "stream",
     "text": [
      " 62%|██████████████████████████████████████████████████▌                               | 29/47 [11:26<06:15, 20.84s/it]"
     ]
    },
    {
     "name": "stdout",
     "output_type": "stream",
     "text": [
      "wrong detection: correct:  hinauf , estimated:  hinau\n"
     ]
    },
    {
     "name": "stderr",
     "output_type": "stream",
     "text": [
      " 64%|████████████████████████████████████████████████████▎                             | 30/47 [11:41<05:29, 19.36s/it]"
     ]
    },
    {
     "name": "stdout",
     "output_type": "stream",
     "text": [
      "wrong detection: correct:  hoch , estimated:  hoooette\n"
     ]
    },
    {
     "name": "stderr",
     "output_type": "stream",
     "text": [
      " 70%|█████████████████████████████████████████████████████████▌                        | 33/47 [12:42<04:24, 18.88s/it]"
     ]
    },
    {
     "name": "stdout",
     "output_type": "stream",
     "text": [
      "wrong detection: correct:  lauf , estimated:  love\n",
      "wrong detection: correct:  lauf , estimated:  hae\n",
      "wrong detection: correct:  lauf , estimated:  sending\n"
     ]
    },
    {
     "name": "stderr",
     "output_type": "stream",
     "text": [
      " 72%|███████████████████████████████████████████████████████████▎                      | 34/47 [13:43<06:49, 31.53s/it]"
     ]
    },
    {
     "name": "stdout",
     "output_type": "stream",
     "text": [
      "wrong detection: correct:  lauf , estimated:  遙merryround\n"
     ]
    },
    {
     "name": "stderr",
     "output_type": "stream",
     "text": [
      " 81%|██████████████████████████████████████████████████████████████████▎               | 38/47 [14:46<02:54, 19.43s/it]"
     ]
    },
    {
     "name": "stdout",
     "output_type": "stream",
     "text": [
      "wrong detection: correct:  rot , estimated:  gut\n"
     ]
    },
    {
     "name": "stderr",
     "output_type": "stream",
     "text": [
      " 83%|████████████████████████████████████████████████████████████████████              | 39/47 [15:01<02:25, 18.18s/it]"
     ]
    },
    {
     "name": "stdout",
     "output_type": "stream",
     "text": [
      "wrong detection: correct:  rueckwaerts , estimated:  rückwärts\n",
      "wrong detection: correct:  rueckwaerts , estimated:  rückwärts\n",
      "wrong detection: correct:  rueckwaerts , estimated:  rückwärts\n",
      "wrong detection: correct:  rueckwaerts , estimated:  rückwärts\n"
     ]
    },
    {
     "name": "stderr",
     "output_type": "stream",
     "text": [
      " 85%|█████████████████████████████████████████████████████████████████████▊            | 40/47 [15:17<02:02, 17.50s/it]"
     ]
    },
    {
     "name": "stdout",
     "output_type": "stream",
     "text": [
      "wrong detection: correct:  rueckwaerts , estimated:  rückwärts\n",
      "wrong detection: correct:  runter , estimated:  ronda\n"
     ]
    },
    {
     "name": "stderr",
     "output_type": "stream",
     "text": [
      " 89%|█████████████████████████████████████████████████████████████████████████▎        | 42/47 [15:48<01:22, 16.53s/it]"
     ]
    },
    {
     "name": "stdout",
     "output_type": "stream",
     "text": [
      "wrong detection: correct:  vor , estimated:  fetech\n",
      "wrong detection: correct:  vor , estimated:  4\n",
      "wrong detection: correct:  vor , estimated:  for\n",
      "wrong detection: correct:  vor , estimated:  4\n"
     ]
    },
    {
     "name": "stderr",
     "output_type": "stream",
     "text": [
      " 91%|███████████████████████████████████████████████████████████████████████████       | 43/47 [16:33<01:40, 25.13s/it]"
     ]
    },
    {
     "name": "stdout",
     "output_type": "stream",
     "text": [
      "wrong detection: correct:  vor , estimated:  4\n",
      "wrong detection: correct:  vorwaerts , estimated:  vorwärts\n",
      "wrong detection: correct:  vorwaerts , estimated:  vorwärts\n",
      "wrong detection: correct:  vorwaerts , estimated:  vorwärts\n",
      "wrong detection: correct:  vorwaerts , estimated:  vorwärts\n"
     ]
    },
    {
     "name": "stderr",
     "output_type": "stream",
     "text": [
      " 94%|████████████████████████████████████████████████████████████████████████████▊     | 44/47 [16:49<01:06, 22.33s/it]"
     ]
    },
    {
     "name": "stdout",
     "output_type": "stream",
     "text": [
      "wrong detection: correct:  vorwaerts , estimated:  vorwärts\n",
      "wrong detection: correct:  weiss , estimated:  weiß\n",
      "wrong detection: correct:  weiss , estimated:  weiß\n",
      "wrong detection: correct:  weiss , estimated:  weiß\n",
      "wrong detection: correct:  weiss , estimated:  weiß\n"
     ]
    },
    {
     "name": "stderr",
     "output_type": "stream",
     "text": [
      " 96%|██████████████████████████████████████████████████████████████████████████████▌   | 45/47 [17:04<00:40, 20.24s/it]"
     ]
    },
    {
     "name": "stdout",
     "output_type": "stream",
     "text": [
      "wrong detection: correct:  weiss , estimated:  weiß\n",
      "wrong detection: correct:  zu , estimated:  so\n",
      "wrong detection: correct:  zu , estimated:  zoom\n",
      "wrong detection: correct:  zu , estimated:  so\n"
     ]
    },
    {
     "name": "stderr",
     "output_type": "stream",
     "text": [
      " 98%|████████████████████████████████████████████████████████████████████████████████▎ | 46/47 [17:35<00:23, 23.24s/it]"
     ]
    },
    {
     "name": "stdout",
     "output_type": "stream",
     "text": [
      "wrong detection: correct:  zurueck , estimated:  zurück\n",
      "wrong detection: correct:  zurueck , estimated:  zurück\n",
      "wrong detection: correct:  zurueck , estimated:  zurück\n",
      "wrong detection: correct:  zurueck , estimated:  zurück\n"
     ]
    },
    {
     "name": "stderr",
     "output_type": "stream",
     "text": [
      "100%|██████████████████████████████████████████████████████████████████████████████████| 47/47 [17:50<00:00, 22.78s/it]"
     ]
    },
    {
     "name": "stdout",
     "output_type": "stream",
     "text": [
      "wrong detection: correct:  zurueck , estimated:  zurück\n",
      "accuracy =  0.6340425531914894\n"
     ]
    },
    {
     "name": "stderr",
     "output_type": "stream",
     "text": [
      "\n"
     ]
    }
   ],
   "source": [
    "from tqdm import tqdm\n",
    "\n",
    "FastEvaluation = True\n",
    "\n",
    "TranscriptionDictionary = {}\n",
    "TranscriptionDictionary['null'] = '0'\n",
    "TranscriptionDictionary['eins'] = '1'\n",
    " # solution begins\n",
    "TranscriptionDictionary['zwei'] = '2'\n",
    "TranscriptionDictionary['drei'] = '3'\n",
    "TranscriptionDictionary['vier'] = '4'\n",
    "TranscriptionDictionary['fünf'] = '5'\n",
    "TranscriptionDictionary['sechs'] = '6'\n",
    "TranscriptionDictionary['sieben'] = '7'\n",
    "TranscriptionDictionary['acht'] = '8'\n",
    "TranscriptionDictionary['neun'] = '9'\n",
    "TranscriptionDictionary['zehn'] = '10'\n",
    "# solution ends\n",
    "\n",
    "def ApplySetOfRules(InputString):\n",
    "    InputString = InputString.lower() # transform to lower cases\n",
    "    InputString = InputString.replace(\" \",\"\") # remove blanks\n",
    "    # solution begins\n",
    "    InputString = InputString.replace(\".\",\"\") # remove .\n",
    "    InputString = InputString.replace(\"!\",\"\") # remove .\n",
    "    InputString = InputString.replace(\"?\",\"\") # remove .\n",
    "    InputString = InputString.replace(\"ue\",\"ü\") # remove .\n",
    "    InputString = InputString.replace(\"ae\",\"ä\") # remove .\n",
    "    InputString = InputString.replace(\"oe\",\"ö\") # remove .\n",
    "    InputString = InputString.replace(\"ss\",\"ß\") # remove .\n",
    "    # solution ends\n",
    "    return InputString\n",
    "\n",
    "NumberOfTests = 0\n",
    "NumberOfHits = 0\n",
    "ATrainingsDataInterface = TrainingsDataInterface.CTrainingsDataInterface()\n",
    "for CommandIndex in tqdm(range(ATrainingsDataInterface.GetNumberOfCommands())):\n",
    "    command_groundtruth = ATrainingsDataInterface.GetCommandString(CommandIndex).lower()\n",
    "    if FastEvaluation:\n",
    "        MaxInstanceIndex = 5\n",
    "    else:\n",
    "        MaxInstanceIndex = ATrainingsDataInterface.GetNumberOfCommandInstances(CommandIndex)\n",
    "    for InstanceIndex in range(MaxInstanceIndex):\n",
    "        x, Fs, bits = ATrainingsDataInterface.GetWaveOfCommandInstance(CommandIndex, InstanceIndex)\n",
    "        command_estimated = CallWhisper(x, Fs)\n",
    "        command_estimated = ApplySetOfRules(command_estimated)\n",
    "        \n",
    "        NumberOfTests += 1\n",
    "        if command_estimated in TranscriptionDictionary.keys():\n",
    "            command_estimated = TranscriptionDictionary.get(command_estimated)\n",
    "        if command_estimated == command_groundtruth:\n",
    "            NumberOfHits += 1\n",
    "        else:\n",
    "            print('wrong detection: correct: ', command_groundtruth, ', estimated: ', command_estimated)\n",
    "\n",
    "accuracy = NumberOfHits / NumberOfTests\n",
    "print('accuracy = ', NumberOfHits / NumberOfTests)\n",
    "assert accuracy > 0.6, 'not enough elements in TranscriptionDictionary or not enough rules in procedure ApplySetOfRules'"
   ]
  },
  {
   "cell_type": "markdown",
   "id": "18cb8eaf-cccd-4ec0-a6a3-54b841db3e25",
   "metadata": {},
   "source": [
    "## Exam preparation\n",
    "\n",
    "1) A transcription of $30$ seconds of audio takes $28$ seconds to transcribe to a text. Evaluate the latency and the real time factor. Is the algorithm capable of working in real time?\n",
    "\n",
    "2) For real time appclications in speech to text, a latency of $500$ ms is reasonable. According to your experiments in this jupyter notebook: is the whisper usable in such a real time application?"
   ]
  }
 ],
 "metadata": {
  "kernelspec": {
   "display_name": "Python 3 (ipykernel)",
   "language": "python",
   "name": "python3"
  },
  "language_info": {
   "codemirror_mode": {
    "name": "ipython",
    "version": 3
   },
   "file_extension": ".py",
   "mimetype": "text/x-python",
   "name": "python",
   "nbconvert_exporter": "python",
   "pygments_lexer": "ipython3",
   "version": "3.11.4"
  }
 },
 "nbformat": 4,
 "nbformat_minor": 5
}
