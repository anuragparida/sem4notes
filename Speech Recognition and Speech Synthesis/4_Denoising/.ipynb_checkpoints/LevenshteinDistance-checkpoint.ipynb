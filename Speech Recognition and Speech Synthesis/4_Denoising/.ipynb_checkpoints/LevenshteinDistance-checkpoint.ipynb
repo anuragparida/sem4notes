{
 "cells": [
  {
   "cell_type": "markdown",
   "id": "65c632c7-4970-4754-abd9-3578abb62611",
   "metadata": {},
   "source": [
    "# Levenshtein Distance\n",
    "In a speech to text scenario (STT) three different kind of errors may occur:\n",
    "\n",
    "1) Insertion (kitten -> kiatten)\n",
    "\n",
    "2) Deletion (kitten -> kiten)\n",
    "\n",
    "3) Substitution (kitten -> kisten)\n",
    "\n",
    "The Levenshtein distance is a simple algorithm used for evaluating the distance between two different strings by adding up the insertions, deletions and substitutions.\n",
    "\n",
    "A detailled description of the Levenshtein distance can be found under:\n",
    "\n",
    "https://en.wikipedia.org/wiki/Levenshtein_distance"
   ]
  },
  {
   "cell_type": "code",
   "execution_count": 1,
   "id": "f37fa2a6-8dc0-4e14-b6bf-469b70d8702f",
   "metadata": {},
   "outputs": [
    {
     "name": "stdout",
     "output_type": "stream",
     "text": [
      "Die Levenshtein-Distanz zwischen 'kitten' und 'sitting' beträgt 3.\n"
     ]
    }
   ],
   "source": [
    "def levenshtein_distance(s1, s2):\n",
    "    if len(s1) < len(s2):\n",
    "        return levenshtein_distance(s2, s1)\n",
    "\n",
    "    if len(s2) == 0:\n",
    "        return len(s1)\n",
    "\n",
    "    previous_row = range(len(s2) + 1)\n",
    "\n",
    "    for i, c1 in enumerate(s1):\n",
    "        current_row = [i + 1]\n",
    "\n",
    "        for j, c2 in enumerate(s2):\n",
    "            insertions = previous_row[j + 1] + 1\n",
    "            deletions = current_row[j] + 1\n",
    "            substitutions = previous_row[j] + (c1 != c2)\n",
    "            current_row.append(min(insertions, deletions, substitutions))\n",
    "\n",
    "        previous_row = current_row\n",
    "\n",
    "    return previous_row[-1]\n",
    "\n",
    "# Beispiel\n",
    "word1 = \"kitten\"\n",
    "word2 = \"sitting\"\n",
    "distance = levenshtein_distance(word1, word2)\n",
    "print(f\"Die Levenshtein-Distanz zwischen '{word1}' und '{word2}' beträgt {distance}.\")"
   ]
  },
  {
   "cell_type": "code",
   "execution_count": null,
   "id": "d4854155-7c2e-4e7c-a27f-e024fa9e66f7",
   "metadata": {},
   "outputs": [],
   "source": []
  }
 ],
 "metadata": {
  "kernelspec": {
   "display_name": "Python 3 (ipykernel)",
   "language": "python",
   "name": "python3"
  },
  "language_info": {
   "codemirror_mode": {
    "name": "ipython",
    "version": 3
   },
   "file_extension": ".py",
   "mimetype": "text/x-python",
   "name": "python",
   "nbconvert_exporter": "python",
   "pygments_lexer": "ipython3",
   "version": "3.11.4"
  }
 },
 "nbformat": 4,
 "nbformat_minor": 5
}
