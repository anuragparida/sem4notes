{
 "cells": [
  {
   "cell_type": "markdown",
   "id": "29d8d1d0",
   "metadata": {},
   "source": [
    "# Vocoder\n",
    "Vocoder is an artificial word combined out of voice and encoder.\n",
    "Vocoder is a general word for all algorithms designed to analyse and synthesize speech.\n",
    "For example, they can be used to change the pitch of sound or they can align the time axis for different acoustical signals by time stretching.\n",
    "\n",
    "The vocoder is the ideal software to analyse the properties of speech (pitch, speed, envelope, ...) and to play with these properties in order to get better insights in the topic of digital speech processing. Additionally, it can be checked, which parameters of a vocoder leads to a high quality of speech signals and which parameters leads to an acceptable speech intelligibility. For Speech recogntion software, an acceptable speech intelligibility should a sufficient as feature input for a neural network.\n",
    "\n",
    "In the context of this lesson, the phase vocoder is used. Other vocoder types are ignored.\n",
    "The phase vocoder analyses the spectrogram of the signal.\n",
    "This spectrogram is modified, by e.g. a timestretch or a pitch shift.\n",
    "Than the phase of the modified spectrogram is estimated. In this example, the RTISI algorithm is used for phase estimation."
   ]
  },
  {
   "cell_type": "code",
   "execution_count": 1,
   "id": "62db38bf",
   "metadata": {},
   "outputs": [],
   "source": [
    "import numpy as np\n",
    "import matplotlib.pyplot as plt\n",
    "import sys\n",
    "sys.path.insert(0, '../Python')\n",
    "import WaveInterface"
   ]
  },
  {
   "cell_type": "markdown",
   "id": "ff5a6aa9-d95a-4e25-8dc1-14a0a0924d89",
   "metadata": {},
   "source": [
    "## Initial Bandpass\n",
    "\n",
    "The simplest way of denoising a sensor signal is a bandpass. If the frequency range of the wanted signal is known, all other frequencies can be suppressed. By this simple algorithm, the SNR is increased.\n",
    "\n",
    "For human voice,the relevant frequency range is assumed in the range:\n",
    "\n",
    "$50 \\text{ Hz}< f < 7000 \\text{ Hz}$.\n",
    "\n",
    "The initial bandpass is configured by the parameters CutoffFrequencyBandpassLowInHertz and CutoffFrequencyBandpassHighInHertz."
   ]
  },
  {
   "cell_type": "markdown",
   "id": "e4d07387",
   "metadata": {},
   "source": [
    "## Changing the speed\n",
    "The vocoder can be used to change the speed of the playback. For this, the synthesis windows must use a different hop size than the analysis windows. The speed can be changed by the parameter TimeStretchFactor.\n",
    "\n",
    "## Changing the pitch\n",
    "The class CTransformPitchshift evaluates a linear interpolation between two neighbouring frequency bins of the DFT.\n",
    "This linear interpolation can be expressed by a matrix multiplication with the transform matrix self.__T.\n",
    "\n",
    "The transform Matrix self.__T is evaluated each time, the parameter ShiftByFactor changes. This evaluation is done in the private procedure __EvaluateTransformMatrix.\n",
    "The linear interpolation is implemented as follows: The magnitude spectrogram of the $k$-th frequency bin corresponds to the Targetfrequency $\\Delta_f\\cdot k$ in Hertz. The magnitude of this Targetfrequency should be the same, as the magnitude of the old spectrum $X$ at the Sourcefrequency, which is Targetfrequency changed by the shift factor.\n",
    "Due to the discrete frequency resolution of the DFT, only discrete frequency bins are defined, namely $n\\cdot\\Delta_f$. Therefore, the new magnitude at frequency TargetFrequency cannot be directly taken from the source bin $n$. Instead, a linear interpolation of two neighbouring bins is done.\n",
    "\n",
    "The public procedure TransformPitchshift checks, if the current ShiftByFactor is valid. If not, the transform matrix is updated. Finally, the transform matrix is applied by the call np.matmul(self.__T, X)."
   ]
  },
  {
   "cell_type": "code",
   "execution_count": 2,
   "id": "f33dba8c",
   "metadata": {},
   "outputs": [
    {
     "data": {
      "image/png": "[encoded data removed]",
      "text/plain": [
       "<Figure size 640x480 with 1 Axes>"
      ]
     },
     "metadata": {},
     "output_type": "display_data"
    }
   ],
   "source": [
    "class CTransformPitchshift(object):\n",
    "    \n",
    "    def __init__(self):\n",
    "        self.__ShiftByFactor = -1.0\n",
    "        self.__XShape0 = 0\n",
    "        \n",
    "    def __EvaluateTransformMatrix(self, SamplingRate):\n",
    "        FFTLen = 2*(self.__XShape0-1)\n",
    "        Delta_f = SamplingRate / FFTLen\n",
    "        self.__T = np.zeros((self.__XShape0, self.__XShape0))\n",
    "        for k in range(self.__XShape0):\n",
    "            TargetFrequency = Delta_f * k\n",
    "            SourceFrequency = TargetFrequency / self.__ShiftByFactor\n",
    "            if SourceFrequency < (SamplingRate / 2):\n",
    "                # linear interpolation for neighbouring frequency bins\n",
    "                n = int(SourceFrequency / Delta_f)\n",
    "                self.__T[k, n + 1] = (SourceFrequency - n * Delta_f) / Delta_f\n",
    "                self.__T[k, n + 0] = 1 - self.__T[k, n + 1]\n",
    "\n",
    "    def TransformPitchshift(self, X, SamplingRate, ShiftByFactor):\n",
    "        assert ShiftByFactor > 0, 'only positive shift factors for pitch are reasonable'\n",
    "        SomethingChanged = np.abs(ShiftByFactor - self.__ShiftByFactor) > 1e-3\n",
    "        SomethingChanged = SomethingChanged or (np.abs(self.__XShape0 - X.shape[0]) > 1e-3)\n",
    "        if SomethingChanged:\n",
    "            self.__ShiftByFactor = ShiftByFactor\n",
    "            self.__XShape0 = X.shape[0]\n",
    "            self.__EvaluateTransformMatrix(SamplingRate)\n",
    "        return np.matmul(self.__T, X)\n",
    "\n",
    "SamplingRate = 16000\n",
    "K = 1024\n",
    "NyquistIndex = K // 2 + 1\n",
    "AssumedOriginalSpectrum = np.zeros((NyquistIndex))\n",
    "AssumedOriginalSpectrum[60::60] = 1\n",
    "\n",
    "ShiftByFactor = 1.4\n",
    "ATransformPitchshift = CTransformPitchshift()\n",
    "PitchShiftedSpectrum = ATransformPitchshift.TransformPitchshift(AssumedOriginalSpectrum, SamplingRate, ShiftByFactor)\n",
    "\n",
    "plt.plot(AssumedOriginalSpectrum, 'b')\n",
    "plt.plot(PitchShiftedSpectrum, 'r')\n",
    "plt.show()"
   ]
  },
  {
   "cell_type": "markdown",
   "id": "094a1b99",
   "metadata": {},
   "source": [
    "## Smoothing the spectra\n",
    "The standard audio feature for speech recognition uses a log-log-spectrogram with a logarithmic magnitude and a logarithmic frequency axis.\n",
    "In order to check the intelligibility of human voices after compressed to a logarithmic frequency axis by a Mel-Filterbank, the following procedure ApplyMelFilterbankAndReverse is implemented.\n",
    "\n",
    "In the first implementation, this procedure simply returns the input value.\n",
    "\n",
    "In the programming exercise, this procedure is replaced by the following two steps:\n",
    "\n",
    "1) applying the Mel-Filterbank and\n",
    "2) inverting step 1)."
   ]
  },
  {
   "cell_type": "code",
   "execution_count": 3,
   "id": "93c3fae8",
   "metadata": {},
   "outputs": [],
   "source": [
    "def ApplyMelFilterbankAndReverse(X, SamplingRate):\n",
    "    return X "
   ]
  },
  {
   "cell_type": "markdown",
   "id": "a0c7888c",
   "metadata": {},
   "source": [
    "## Vocoder Configuration\n",
    "The vocoder allows the manipulation of human speech with mathematical algorithms controlled by a set of parameters.\n",
    "The aim of this Jupyter Notebook is to give you a tool, to learn about the influence or the effect of these parameters.\n",
    "\n",
    "Simple toy parameter are TimeStretchFactor and PitchshiftFactor. These parameters are able to change the pitch and the speed of the human voice.\n",
    "\n",
    "Additionally, the initial bandpass can be defined by the parameters CutoffFrequencyBandpassLowInHertz and CutoffFrequencyBandpassHighInHertz. Check, which values for these both parameters leads to a high voice intelligibility."
   ]
  },
  {
   "cell_type": "code",
   "execution_count": 4,
   "id": "cafb98d4",
   "metadata": {},
   "outputs": [
    {
     "name": "stdout",
     "output_type": "stream",
     "text": [
      "Fs =  48000\n",
      "bits =  16\n",
      "duration of input signal =  4.0  s\n"
     ]
    }
   ],
   "source": [
    "# defining the vocoder parameter\n",
    "import RTISI\n",
    "\n",
    "CutoffFrequencyBandpassLowInHertz = 50\n",
    "CutoffFrequencyBandpassHighInHertz = 7000\n",
    "TimeStretchFactor = 1.0\n",
    "PitchshiftFactor = 1.0\n",
    "\n",
    "HopSizeInMilliseconds = 10\n",
    "OverlappingInPercent = 75\n",
    "MinimumFrequencyResolutionInHertz = 20\n",
    "\n",
    "# initializing the necessary classes\n",
    "ATransformPitchshift = CTransformPitchshift()\n",
    "\n",
    "# read the input signal\n",
    "#x, Fs, bits = WaveInterface.ReadWave('../Audio/P501_D_EN_fm_SWB_48k.wav')\n",
    "x, Fs, bits = WaveInterface.ReadWave('../Audio/Malmsheimer48kHz.wav')\n",
    "if x.shape[0] > 4*Fs: x = x[0:4*Fs]\n",
    "print('Fs = ', Fs)\n",
    "print('bits = ', bits)\n",
    "print('duration of input signal = ', x.shape[0] / Fs, ' s')\n",
    "\n",
    "# derived parameters and classes\n",
    "hs = int(Fs * HopSizeInMilliseconds / 1000)\n",
    "ws = int(hs / (1 - OverlappingInPercent/100))\n",
    "w_Rectangular = np.ones((ws))\n",
    "w_Hann = 0.5 - 0.5 * np.cos(2*np.pi*(np.arange(ws)+0.5)/ws)\n",
    "FFTLen = int(Fs / MinimumFrequencyResolutionInHertz)\n",
    "if FFTLen < ws: FFTLen = ws\n",
    "FFTLen = 2*int(2**np.ceil(np.log2(FFTLen)))\n",
    "\n",
    "Delta_f = Fs / FFTLen\n",
    "CutoffIndexLowBandpass = int(CutoffFrequencyBandpassLowInHertz / Delta_f)\n",
    "CutoffIndexHighBandpass = int(CutoffFrequencyBandpassHighInHertz / Delta_f) + 1\n",
    "\n",
    "TargetHopSize = int(hs * TimeStretchFactor)\n",
    "\n",
    "ARTISI = RTISI.CRTISI(TargetHopSize, w_Rectangular, w_Hann)"
   ]
  },
  {
   "cell_type": "markdown",
   "id": "4561b018",
   "metadata": {},
   "source": [
    "## Vocoder Implementation\n",
    "The input signal $x$ is analysed blockwise:\n",
    "\n",
    "A local spectrum SpectrumAnalysis is evaluated.\n",
    "This SpectrumAnalysis is modified by different transformations/modifications, e.g. TransformSpectralEnvelope and TransformPicthshift can be applied.\n",
    "The output of these transformations is the SpectrumSynthesis.\n",
    "The phase estimation algorithm estimates for this new magnitude spectrum SpectrumSynthesis a phase, which is matching the spectra processed earlier.\n",
    "The output signal of the phase estimation algorithm is then added to $y$ at the correct position in a overlap-add procedure."
   ]
  },
  {
   "cell_type": "code",
   "execution_count": 5,
   "id": "d598682f",
   "metadata": {},
   "outputs": [
    {
     "name": "stdout",
     "output_type": "stream",
     "text": [
      "duration of output signal =  4.4  s\n"
     ]
    }
   ],
   "source": [
    "y = np.zeros((int(x.shape[0] * TimeStretchFactor * 1.1)))\n",
    "for NumberOfBlocks in range(int((x.shape[0] - ws) / hs)):\n",
    "    # block analysis\n",
    "    idx1 = NumberOfBlocks * hs\n",
    "    idx2 = idx1 + ws\n",
    "    BlockAnalysis = x[idx1:idx2] * w_Hann\n",
    "    SpectrumAnalysis = np.abs(np.fft.rfft(BlockAnalysis, n = FFTLen))\n",
    "\n",
    "    # bandpass\n",
    "    SpectrumAnalysis[:CutoffIndexLowBandpass] = 0.0\n",
    "    SpectrumAnalysis[CutoffIndexHighBandpass:] = 0.0\n",
    "    \n",
    "    # spectral modifications\n",
    "    SmoothedSpectrum = ApplyMelFilterbankAndReverse(SpectrumAnalysis, Fs)\n",
    "    SpectrumSynthesis = ATransformPitchshift.TransformPitchshift(SmoothedSpectrum, SamplingRate = Fs, ShiftByFactor = PitchshiftFactor)\n",
    "    \n",
    "    # evaluate a good phase for the next audio block\n",
    "    BlockSynthesis = ARTISI.ProcessNewColumnOfSpectrogram(SpectrumSynthesis)\n",
    "    \n",
    "    # overlap add at the target position due to timestretch\n",
    "    idx1 = NumberOfBlocks * TargetHopSize\n",
    "    idx2 = idx1 + ws\n",
    "    y[idx1:idx2] += BlockSynthesis\n",
    "\n",
    "# saving the results\n",
    "#print('Sparseness: ', ASpectralMasking.GetSparsenessFactor())\n",
    "print('duration of output signal = ', y.shape[0] / Fs, ' s')\n",
    "y = y *0.9 / np.amax(np.abs(y))\n",
    "WaveInterface.WriteWave(y, Fs, bits, 'output.wav')\n"
   ]
  },
  {
   "cell_type": "markdown",
   "id": "00500c1c",
   "metadata": {},
   "source": [
    "## Programming exercise:\n",
    "In the Jupyter Notebook you have learned, that the model for human voice production is the Source Filter Model. The filter is described by the spectral envelope. If your parameter NumberOfBandsPerBark is large (the frequency resolution of the human ear is roughly $27$ bands per Bark), than the envelope is modeled very precisely. If you decrease the NumberOfBandsPerBark down to $1$, the voice quality decreases but it should still be understandable.\n",
    "\n",
    "After applying the Mel-Filterbank, the output spectrum has a logarithmic frequency resolution. In order to make listening experiments with the vocoder, the spectrum must be transformed back into linear frequency domain.\n",
    "\n",
    "Implement the missing procedure __EvaluateInverseTransformMatrix of the class CTransformSpectralEnvelope.\n",
    "The resulting matrix self.__Tinverse should fullfill the following conditions:\n",
    "1) self.__Tinverse[k, i] should be non-negative for all $k$ and all $i$,\n",
    "2) each column $i$ of self.__Tinverse[k, i] should be a multiple of the corresponding row of self.__T[i, k]: self.__Tinverse[k, i] $=d[i]\\cdot$self.__T[i, k] and\n",
    "3) a white (constant) spectrum transformed by the procedure ApplyMelFilterbankAndReverse should stay as constant as possible.\n",
    "\n",
    "Try out, for what smallest value of NumberOfBandsPerBark, the output of the vocoder is still understandable."
   ]
  },
  {
   "cell_type": "code",
   "execution_count": 6,
   "id": "4763b85a-b21b-4297-953e-3239762f66e6",
   "metadata": {},
   "outputs": [
    {
     "name": "stderr",
     "output_type": "stream",
     "text": [
      "test_LinearScaling (__main__.TestProgrammingExercise.test_LinearScaling) ... ok\n",
      "test_NonNegativitiy (__main__.TestProgrammingExercise.test_NonNegativitiy) ... ok\n",
      "test_SpectralShaping (__main__.TestProgrammingExercise.test_SpectralShaping) ... ok\n",
      "\n",
      "----------------------------------------------------------------------\n",
      "Ran 3 tests in 0.068s\n",
      "\n",
      "OK\n"
     ]
    },
    {
     "data": {
      "text/plain": [
       "<unittest.main.TestProgram at 0x177bedf45d0>"
      ]
     },
     "execution_count": 6,
     "metadata": {},
     "output_type": "execute_result"
    }
   ],
   "source": [
    "def Bark2KiloHertz(b):\n",
    "    return 1.96 * (b + 0.53) / (26.28 - b)\n",
    "\n",
    "def MelFilterBank(NumberOfCenterFrequenciesPerBark, NumberOfInputFrequencyBins, SamplingRate):\n",
    "    FFTLen = 2 * NumberOfInputFrequencyBins - 2\n",
    "    Deltaf = SamplingRate / FFTLen\n",
    "    f = np.arange(NumberOfInputFrequencyBins) * Deltaf\n",
    "    CutoffFrequenciesInBark = np.arange(24*NumberOfCenterFrequenciesPerBark+1) / NumberOfCenterFrequenciesPerBark\n",
    "    CutoffFrequenciesInHertz = Bark2KiloHertz(CutoffFrequenciesInBark) * 1000\n",
    "    CenterFrequenciesInHertz = np.diff(CutoffFrequenciesInHertz) / 2\n",
    "    CenterFrequenciesInHertz += CutoffFrequenciesInHertz[0:CutoffFrequenciesInHertz.shape[0]-1]\n",
    "    T_Hertz2Bark = np.zeros((CenterFrequenciesInHertz.shape[0], NumberOfInputFrequencyBins))\n",
    "    for b in range(T_Hertz2Bark.shape[0]):\n",
    "        m1 = (1 - 1/np.sqrt(2)) / (CenterFrequenciesInHertz[b] - CutoffFrequenciesInHertz[b]) # first derivative of first line\n",
    "        m2 = (1 - 1/np.sqrt(2)) / (CenterFrequenciesInHertz[b] - CutoffFrequenciesInHertz[b+1]) # first derivative of second line\n",
    "        assert m1 > 0, 'm1 must be greater 0'\n",
    "        assert m2 < 0, 'm2 must be smaller 0'\n",
    "        b1 = 1 - m1 * CenterFrequenciesInHertz[b] # offset of first line\n",
    "        b2 = 1 - m2 * CenterFrequenciesInHertz[b] # offset of second line\n",
    "        assert b1 < 1/np.sqrt(2), 'b1 must be smaller than 1/sqrt(2)'\n",
    "        assert b2 > 0, 'b2 must be greater 0'\n",
    "        v1 = m1 * f + b1\n",
    "        v2 = m2 * f + b2\n",
    "        v3 = np.minimum(v1, v2)\n",
    "        T_Hertz2Bark[b, :] = np.maximum(v3, 0.0)\n",
    "    return T_Hertz2Bark, CenterFrequenciesInHertz\n",
    "\n",
    "class CTransformSpectralEnvelope(object):\n",
    "    \n",
    "    def __init__(self):\n",
    "        self.__NumberOfBandsPerBark = -1.0\n",
    "        self.__XShape0 = 0\n",
    "    \n",
    "    def __EvaluateTransformMatrix(self, SamplingRate):\n",
    "        self.__T, CenterFrequenciesInHertz = MelFilterBank(NumberOfCenterFrequenciesPerBark = self.__NumberOfBandsPerBark, NumberOfInputFrequencyBins = self.__XShape0, SamplingRate = SamplingRate)\n",
    "        assert np.amin(self.__T) >= 0.0, 'self.__T must be greater or equal zero'\n",
    "    \n",
    "    def TransformSpectralEnvelope(self, X, SamplingRate, NumberOfBandsPerBark):\n",
    "        assert NumberOfBandsPerBark > 0, 'only positive number of bands per Bark are reasonable'\n",
    "        SomethingChanged = np.abs(NumberOfBandsPerBark - self.__NumberOfBandsPerBark) > 1e-3\n",
    "        SomethingChanged = SomethingChanged or (np.abs(self.__XShape0 - X.shape[0]) > 1e-3)\n",
    "        if SomethingChanged:\n",
    "            self.__NumberOfBandsPerBark = NumberOfBandsPerBark\n",
    "            self.__XShape0 = X.shape[0]\n",
    "            self.__EvaluateTransformMatrix(SamplingRate)\n",
    "            self.__EvaluateInverseTransformMatrix()\n",
    "        return np.matmul(self.__T, X)  \n",
    "\n",
    "    def GetTransformMatrix(self):\n",
    "        return self.__T\n",
    "    \n",
    "    def GetInverseTransformMatrix(self):\n",
    "        return self.__Tinverse\n",
    "\n",
    "    def __EvaluateInverseTransformMatrix(self):\n",
    "        self.__Tinverse = 0.0\n",
    "\n",
    "        ### solution begins\n",
    "        d = (np.sum(self.__T**0.2, axis = 1) + 1e-6)**-1.0\n",
    "        self.__Tinverse = np.matmul(np.transpose(self.__T), np.diag(d))\n",
    "        ### solution ends\n",
    "                \n",
    "            \n",
    "NumberOfBandsPerBark = 27\n",
    "ATransformSpectralEnvelope = CTransformSpectralEnvelope()\n",
    "def ApplyMelFilterbankAndReverse(X, SamplingRate):\n",
    "    Y = ATransformSpectralEnvelope.TransformSpectralEnvelope(X, SamplingRate, NumberOfBandsPerBark)\n",
    "    return np.matmul(ATransformSpectralEnvelope.GetInverseTransformMatrix(), Y)\n",
    "\n",
    "import unittest\n",
    "\n",
    "class TestProgrammingExercise(unittest.TestCase):\n",
    "\n",
    "    def test_NonNegativitiy(self):\n",
    "        X = np.random.rand(1023, 5)\n",
    "        SamplingRate = 48000\n",
    "        NOBPB = 27\n",
    "        ATransformSpectralEnvelope = CTransformSpectralEnvelope()\n",
    "        Y = ATransformSpectralEnvelope.TransformSpectralEnvelope(X, SamplingRate, NOBPB)\n",
    "        Tinverse = ATransformSpectralEnvelope.GetInverseTransformMatrix()\n",
    "        self.assertGreaterEqual(np.amin(Tinverse), 0.0)\n",
    "\n",
    "    def test_LinearScaling(self):\n",
    "        X = np.random.rand(1023, 5)\n",
    "        SamplingRate = 48000\n",
    "        NOBPB = 7\n",
    "        ATransformSpectralEnvelope = CTransformSpectralEnvelope()\n",
    "        Y = ATransformSpectralEnvelope.TransformSpectralEnvelope(X, SamplingRate, NOBPB)\n",
    "        T = ATransformSpectralEnvelope.GetTransformMatrix()\n",
    "        Tinverse = ATransformSpectralEnvelope.GetInverseTransformMatrix()\n",
    "        for n in range(T.shape[0]):\n",
    "            x = T[n, :]\n",
    "            y = Tinverse[:, n]\n",
    "            a = np.sum(x*y)/np.sum(y**2)\n",
    "            self.assertLess(np.sum(np.abs(x-a*y)), 1e-6)\n",
    "\n",
    "    def test_SpectralShaping(self):\n",
    "        X = np.ones((1023))\n",
    "        SamplingRate = 48000\n",
    "        NOBPB = 8\n",
    "        ATransformSpectralEnvelope = CTransformSpectralEnvelope()\n",
    "        Y = ATransformSpectralEnvelope.TransformSpectralEnvelope(X, SamplingRate, NOBPB)\n",
    "        T = ATransformSpectralEnvelope.GetTransformMatrix()\n",
    "        Tinverse = ATransformSpectralEnvelope.GetInverseTransformMatrix()\n",
    "        Z = np.matmul(Tinverse, Y)\n",
    "        SNR = 10*np.log10(np.sum(X**2)/np.sum((X-Z)**2))\n",
    "        self.assertGreater(SNR, 9.0)\n",
    "\n",
    "unittest.main(argv=[''], verbosity=2, exit=False)"
   ]
  },
  {
   "attachments": {},
   "cell_type": "markdown",
   "id": "a1e1f1fa",
   "metadata": {},
   "source": [
    "## Exam preparation:\n",
    "\n",
    "1) The pitch shifting is done by linear interpolation of two neighbouring values. Assuming the result of the DFT at the given positions: $X\\left(k=3\\right)=7$ and $X\\left(k=4\\right)=17$. Evaluate the magnitudes at the positions $k=3.1$ and $k=3.6$ by linear interpolation (approximation of the envelope by a linear polynomial).\n",
    "\n",
    "2) Additionally to part task 1) now also the value $X\\left(k=5\\right)=12$ is given. Evaluate the magnitudes at the positions $k=3.1$ and $k=3.6$ by quadratic interpolation (approximation of the envelope by a squared polynomial).\n",
    "\n",
    "3) Evaluate the data rate for the given phase vocoder for a hopsize of 10 milliseconds and one bandpass per Bark. This corresponds to a total of 24 bandpasses. Assume, that a floating point variable needs $4$ bytes per value and it is sufficient for encoding a bandpass output.\n",
    "\n",
    "4) Is human voice understandable for different values of the parameter TimeStretchFactor?\n",
    "\n",
    "5) Is human voice understandable for different values of the parameter PitchShiftFactor?\n",
    "\n",
    "6) If the parameter NumberOfBandsPerBark is reduced to small values, e.g. NumberOfBandsPerBark$=1$, only the envelope of the local spectrum is transmitted. Is human voice understandable if only the local envelope of the spectra are analysed?\n",
    "\n",
    "7) Which of the following parameters is relevant / irrelevant for speech intelligibility?\n",
    "\n",
    "   a) Pitch\n",
    "\n",
    "   b) Speed of talking\n",
    "   \n",
    "   c) Envelope of the local spectrum"
   ]
  },
  {
   "cell_type": "code",
   "execution_count": null,
   "id": "662dba96",
   "metadata": {},
   "outputs": [],
   "source": []
  }
 ],
 "metadata": {
  "kernelspec": {
   "display_name": "Python 3 (ipykernel)",
   "language": "python",
   "name": "python3"
  },
  "language_info": {
   "codemirror_mode": {
    "name": "ipython",
    "version": 3
   },
   "file_extension": ".py",
   "mimetype": "text/x-python",
   "name": "python",
   "nbconvert_exporter": "python",
   "pygments_lexer": "ipython3",
   "version": "3.11.4"
  }
 },
 "nbformat": 4,
 "nbformat_minor": 5
}
