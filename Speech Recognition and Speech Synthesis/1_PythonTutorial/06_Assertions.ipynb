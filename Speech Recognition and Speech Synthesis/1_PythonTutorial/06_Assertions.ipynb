{
 "cells": [
  {
   "cell_type": "markdown",
   "id": "a80c4aa1",
   "metadata": {},
   "source": [
    "# Assertions\n",
    "\n",
    "Assertions are a very simple way to check the code during runtime.\n",
    "An assertion is build by the keyword assert, followed by a boolean expression, followed by an error message.\n",
    "An assertion passes, if the boolean expression returns True.\n",
    "The error message is thrown, if the boolean expression returns False:"
   ]
  },
  {
   "cell_type": "code",
   "execution_count": 4,
   "id": "9ae0510b",
   "metadata": {},
   "outputs": [
    {
     "name": "stdout",
     "output_type": "stream",
     "text": [
      "x =  [0.26918047]\n"
     ]
    },
    {
     "ename": "AssertionError",
     "evalue": "the square root of a negative number is forbidden for real values",
     "output_type": "error",
     "traceback": [
      "\u001b[1;31m---------------------------------------------------------------------------\u001b[0m",
      "\u001b[1;31mAssertionError\u001b[0m                            Traceback (most recent call last)",
      "Cell \u001b[1;32mIn[4], line 8\u001b[0m\n\u001b[0;32m      4\u001b[0m \u001b[38;5;28mprint\u001b[39m(\u001b[38;5;124m'\u001b[39m\u001b[38;5;124mx = \u001b[39m\u001b[38;5;124m'\u001b[39m, x)\n\u001b[0;32m      6\u001b[0m x \u001b[38;5;241m=\u001b[39m \u001b[38;5;241m-\u001b[39m\u001b[38;5;241m2\u001b[39m\n\u001b[1;32m----> 8\u001b[0m \u001b[38;5;28;01massert\u001b[39;00m x \u001b[38;5;241m>\u001b[39m\u001b[38;5;241m=\u001b[39m \u001b[38;5;241m0.0\u001b[39m, \u001b[38;5;124m'\u001b[39m\u001b[38;5;124mthe square root of a negative number is forbidden for real values\u001b[39m\u001b[38;5;124m'\u001b[39m\n\u001b[0;32m      9\u001b[0m y \u001b[38;5;241m=\u001b[39m np\u001b[38;5;241m.\u001b[39msqrt(x)\n\u001b[0;32m     10\u001b[0m \u001b[38;5;28mprint\u001b[39m(\u001b[38;5;124m'\u001b[39m\u001b[38;5;124my = sqrt(x) = \u001b[39m\u001b[38;5;124m'\u001b[39m, y)\n",
      "\u001b[1;31mAssertionError\u001b[0m: the square root of a negative number is forbidden for real values"
     ]
    }
   ],
   "source": [
    "import numpy as np\n",
    "\n",
    "x = np.random.randn(1)\n",
    "print('x = ', x)\n",
    "\n",
    "assert x >= 0.0, 'the square root of a negative number is forbidden for real values'\n",
    "y = np.sqrt(x)\n",
    "print('y = sqrt(x) = ', y)"
   ]
  },
  {
   "cell_type": "markdown",
   "id": "24d3470e",
   "metadata": {},
   "source": [
    "## Test code versus business code\n",
    "A big advantage of assertions is:\n",
    "They can be disabled during runtime. By this, the developer has all assertions active in his code version and is able to check all parts of his code. On the other hand, all assertions can be disabled for the customer in the business code. By this, the code runs faster and no error messages can confuse the customer.\n",
    "\n",
    "## Code coverage\n",
    "Code coverage explains how much lines of your code are tested continuously by assertions. A code coverage of 100 % means that all of your business code is tested by assertions."
   ]
  },
  {
   "cell_type": "markdown",
   "id": "a6955d90",
   "metadata": {},
   "source": [
    "## Exercise:\n",
    "\n",
    "Write an assertion, which throws an exception, if a random number x is in the range 0.2..0.5."
   ]
  },
  {
   "cell_type": "code",
   "execution_count": null,
   "id": "4c68dad5",
   "metadata": {},
   "outputs": [],
   "source": []
  }
 ],
 "metadata": {
  "kernelspec": {
   "display_name": "Python 3 (ipykernel)",
   "language": "python",
   "name": "python3"
  },
  "language_info": {
   "codemirror_mode": {
    "name": "ipython",
    "version": 3
   },
   "file_extension": ".py",
   "mimetype": "text/x-python",
   "name": "python",
   "nbconvert_exporter": "python",
   "pygments_lexer": "ipython3",
   "version": "3.12.4"
  }
 },
 "nbformat": 4,
 "nbformat_minor": 5
}
