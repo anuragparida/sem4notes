{
 "cells": [
  {
   "cell_type": "code",
   "execution_count": 1,
   "id": "f5dda283-6158-463a-b70e-ea3cb9a84893",
   "metadata": {},
   "outputs": [],
   "source": [
    "# mocking\n",
    "\n",
    "class CMotor(object):\n",
    "\n",
    "    def __init__(self):\n",
    "        pass\n",
    "\n",
    "    def Initialize(self):\n",
    "        # check if hardware is connected\n",
    "        # crash otherwise\n",
    "        pass\n",
    "\n",
    "    def Turnon(self):\n",
    "        # turn hardware on\n",
    "        pass\n",
    "\n",
    "    def Turnoff(self):\n",
    "        # turn hardware off\n",
    "        pass\n",
    "\n",
    "    def GetState(self):\n",
    "        # check hardware state\n",
    "        return True\n"
   ]
  },
  {
   "cell_type": "code",
   "execution_count": null,
   "id": "f5f93c07-0a28-4213-9bf4-4f22bda12593",
   "metadata": {},
   "outputs": [],
   "source": [
    "class CMotorMock(object):\n",
    "\n",
    "    def __init__(self):\n",
    "        self.__InternalState = False\n",
    "\n",
    "    def Initialize(self):\n",
    "        # check if hardware is connected\n",
    "        # crash otherwise\n",
    "        pass\n",
    "\n",
    "    def Turnon(self):\n",
    "        # turn hardware on\n",
    "        self.__InternalState = True\n",
    "\n",
    "    def Turnoff(self):\n",
    "        # turn hardware off\n",
    "        self.__InternalState = False\n",
    "\n",
    "    def GetState(self):\n",
    "        # check hardware state\n",
    "        return self.__InternalState"
   ]
  },
  {
   "cell_type": "code",
   "execution_count": null,
   "id": "8f5aab33-3ba3-430e-a17b-7d3372649f7c",
   "metadata": {},
   "outputs": [],
   "source": [
    "def FactoryMotor():\n",
    "    #return CMotor()\n",
    "    return CMotorMock()"
   ]
  },
  {
   "cell_type": "code",
   "execution_count": null,
   "id": "9a1561cb-7853-45a4-a34d-62d1fc68be6c",
   "metadata": {},
   "outputs": [],
   "source": [
    "class CStateMachine(object):\n",
    "\n",
    "    def __init__(self):\n",
    "        self.__MotorA = FactoryMotor()\n",
    "        self.__MotorB = FactoryMotor()"
   ]
  }
 ],
 "metadata": {
  "kernelspec": {
   "display_name": "Python 3 (ipykernel)",
   "language": "python",
   "name": "python3"
  },
  "language_info": {
   "codemirror_mode": {
    "name": "ipython",
    "version": 3
   },
   "file_extension": ".py",
   "mimetype": "text/x-python",
   "name": "python",
   "nbconvert_exporter": "python",
   "pygments_lexer": "ipython3",
   "version": "3.11.4"
  }
 },
 "nbformat": 4,
 "nbformat_minor": 5
}
