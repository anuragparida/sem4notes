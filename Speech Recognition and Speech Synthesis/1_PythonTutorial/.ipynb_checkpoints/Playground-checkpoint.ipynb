{
 "cells": [
  {
   "cell_type": "markdown",
   "id": "93186b5d-d07a-42ca-bd06-bc94cb00966e",
   "metadata": {},
   "source": [
    "# Playground\n",
    "Wher I want to explain you something"
   ]
  },
  {
   "cell_type": "code",
   "execution_count": 1,
   "id": "f81a3a30-13ae-46e0-97c0-708b6f863697",
   "metadata": {},
   "outputs": [
    {
     "name": "stdout",
     "output_type": "stream",
     "text": [
      "Hello World\n"
     ]
    }
   ],
   "source": [
    "print('Hello World')"
   ]
  },
  {
   "cell_type": "code",
   "execution_count": 3,
   "id": "082eed3e-ba9d-4712-94dd-709efe919485",
   "metadata": {},
   "outputs": [
    {
     "name": "stdout",
     "output_type": "stream",
     "text": [
      "-2.3\n",
      "12.3\n",
      "-36.5\n",
      "125\n"
     ]
    }
   ],
   "source": [
    "a=5\n",
    "b=-7.3\n",
    "print(a+b)\n",
    "print(a-b)\n",
    "print(a*b)\n",
    "print(a**3)"
   ]
  },
  {
   "cell_type": "code",
   "execution_count": 5,
   "id": "8fc6e54e-0630-4872-baf9-119e321a410f",
   "metadata": {},
   "outputs": [
    {
     "name": "stdout",
     "output_type": "stream",
     "text": [
      "0.6989700043360189\n"
     ]
    }
   ],
   "source": [
    "import numpy as np\n",
    "\n",
    "print(np.log10(a))"
   ]
  },
  {
   "cell_type": "code",
   "execution_count": 6,
   "id": "0878dc68-d073-4c71-9be0-fba7a531772c",
   "metadata": {},
   "outputs": [
    {
     "name": "stdout",
     "output_type": "stream",
     "text": [
      "21\n"
     ]
    }
   ],
   "source": [
    "print(0+1+2+3+4+5+6)"
   ]
  },
  {
   "cell_type": "code",
   "execution_count": 13,
   "id": "a5c002ac-c7b2-4750-94cd-567a29f585aa",
   "metadata": {},
   "outputs": [
    {
     "name": "stdout",
     "output_type": "stream",
     "text": [
      "0\n",
      "1\n",
      "2\n",
      "3\n",
      "4\n",
      "5\n",
      "6\n",
      "21\n"
     ]
    }
   ],
   "source": [
    "# for-loop\n",
    "r = 0\n",
    "for i in range(7):\n",
    "    print(i)\n",
    "    r = r + i\n",
    "print(r)"
   ]
  },
  {
   "cell_type": "code",
   "execution_count": 14,
   "id": "8675c7d7-22b3-40ff-a6bb-13996012b271",
   "metadata": {},
   "outputs": [
    {
     "name": "stdout",
     "output_type": "stream",
     "text": [
      "21\n"
     ]
    }
   ],
   "source": [
    "# while loop\n",
    "r = 0\n",
    "i = 0\n",
    "while i < 7:\n",
    "    r = r + i\n",
    "    i = i + 1\n",
    "print(r)"
   ]
  },
  {
   "cell_type": "code",
   "execution_count": 32,
   "id": "0dc82c18-63ec-4fa0-8d5e-64e72866d1be",
   "metadata": {},
   "outputs": [
    {
     "name": "stdout",
     "output_type": "stream",
     "text": [
      "12\n",
      "506\n",
      "506\n",
      "506\n",
      "4.5\n",
      "Hello World\n",
      "False\n"
     ]
    }
   ],
   "source": [
    "# lists\n",
    "AList = []\n",
    "InitialLengthOfList = 12\n",
    "for i in range(InitialLengthOfList):\n",
    "    AList.append(i**2)\n",
    "print(len(AList))\n",
    "\n",
    "# DRY - Dont repeat yourself\n",
    "# always use clear and unique variable names\n",
    "SumOfElements = 0\n",
    "for i in range(len(AList)):\n",
    "    SumOfElements += AList[i]\n",
    "print(SumOfElements)\n",
    "\n",
    "SumOfElements = 0\n",
    "for AElement in AList:\n",
    "    SumOfElements += AElement\n",
    "print(SumOfElements)\n",
    "\n",
    "print(sum(AList))\n",
    "\n",
    "AList2 = []\n",
    "AList2.append(4.5)\n",
    "AList2.append('Hello World')\n",
    "AList2.append(False)\n",
    "for AElement in AList2:\n",
    "    print(AElement)"
   ]
  },
  {
   "cell_type": "code",
   "execution_count": 43,
   "id": "bf704898-0e5e-4f0d-baba-e30ed1200ce2",
   "metadata": {},
   "outputs": [
    {
     "name": "stdout",
     "output_type": "stream",
     "text": [
      "negative\n",
      "positive\n",
      "negative\n",
      "negative\n",
      "positive\n",
      "negative\n",
      "negative\n",
      "negative\n",
      "positive\n",
      "negative\n",
      "negative\n",
      "negative\n",
      "negative\n",
      "positive\n",
      "positive\n",
      "negative\n",
      "negative\n",
      "positive\n",
      "positive\n",
      "negative\n",
      "positive\n",
      "positive\n",
      "positive\n",
      "positive\n",
      "positive\n",
      "positive\n",
      "positive\n",
      "positive\n",
      "positive\n",
      "negative\n",
      "positive\n",
      "positive\n",
      "negative\n",
      "negative\n",
      "negative\n",
      "positive\n",
      "negative\n",
      "positive\n",
      "negative\n",
      "positive\n",
      "negative\n",
      "negative\n",
      "positive\n",
      "negative\n",
      "positive\n",
      "positive\n",
      "positive\n",
      "negative\n",
      "negative\n",
      "negative\n",
      "positive\n",
      "negative\n",
      "negative\n",
      "positive\n",
      "negative\n",
      "positive\n",
      "positive\n",
      "negative\n",
      "negative\n",
      "negative\n",
      "negative\n",
      "negative\n",
      "negative\n",
      "negative\n",
      "negative\n",
      "negative\n",
      "positive\n",
      "positive\n",
      "negative\n",
      "positive\n",
      "positive\n",
      "positive\n",
      "positive\n",
      "positive\n",
      "positive\n",
      "it is really negative\n",
      "positive\n",
      "positive\n",
      "positive\n",
      "negative\n",
      "positive\n",
      "positive\n",
      "positive\n",
      "negative\n",
      "positive\n",
      "negative\n",
      "negative\n",
      "negative\n",
      "negative\n",
      "negative\n",
      "positive\n",
      "positive\n",
      "positive\n",
      "negative\n",
      "positive\n",
      "positive\n",
      "positive\n",
      "positive\n",
      "positive\n",
      "positive\n",
      "[-3.06325706]\n",
      "0.0\n"
     ]
    }
   ],
   "source": [
    "# Control structures\n",
    "NumberOfRandomNumbers = 1\n",
    "SumOfNegativeElements = 0.0\n",
    "SumOfPositiveElements = 0.0\n",
    "for i in range(100):\n",
    "    x = np.random.randn(NumberOfRandomNumbers) # normal distributed single number\n",
    "    y = np.random.randint(5, 11) # random integer number from 5..10\n",
    "    z = np.random.rand(1) # uniform distributed random number out of the interval 0..1\n",
    "    #print(y)\n",
    "    if (y < 5) or (y > 10):\n",
    "        print('error')\n",
    "    \n",
    "    if (x < -3.0):\n",
    "        print('it is really negative')\n",
    "        SumOfNegativeElements += x\n",
    "    elif (x < 0.0):\n",
    "        print('negative')\n",
    "    elif (x < 3.0):\n",
    "        print('positive')\n",
    "    else:\n",
    "        print('it is really positive')\n",
    "        SumOfPositiveElements += x\n",
    "print(SumOfNegativeElements)\n",
    "print(SumOfPositiveElements)"
   ]
  },
  {
   "cell_type": "code",
   "execution_count": null,
   "id": "6ef074ca-dea5-4a8a-b393-f50cd16660bd",
   "metadata": {},
   "outputs": [],
   "source": []
  },
  {
   "cell_type": "code",
   "execution_count": null,
   "id": "e56d39dc-482b-4067-8cd6-48b1a48e9903",
   "metadata": {},
   "outputs": [],
   "source": []
  }
 ],
 "metadata": {
  "kernelspec": {
   "display_name": "Python 3 (ipykernel)",
   "language": "python",
   "name": "python3"
  },
  "language_info": {
   "codemirror_mode": {
    "name": "ipython",
    "version": 3
   },
   "file_extension": ".py",
   "mimetype": "text/x-python",
   "name": "python",
   "nbconvert_exporter": "python",
   "pygments_lexer": "ipython3",
   "version": "3.11.4"
  }
 },
 "nbformat": 4,
 "nbformat_minor": 5
}
