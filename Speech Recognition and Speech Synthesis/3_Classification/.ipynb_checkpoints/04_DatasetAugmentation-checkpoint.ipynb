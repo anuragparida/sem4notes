{
 "cells": [
  {
   "cell_type": "markdown",
   "id": "ee6b9ee1",
   "metadata": {},
   "source": [
    "# Dataset Augmentation\n",
    "\n",
    "Dataset augmentation increases the usable data for training by resonable data modifications.\n",
    "With the increased amount of data, larger networks can be trained."
   ]
  },
  {
   "cell_type": "markdown",
   "id": "69c15ab8",
   "metadata": {},
   "source": [
    "## Dataset Augmentation for images\n",
    "\n",
    "For images, reasonable modifications can be:\n",
    "\n",
    "flip left/right (creating a mirror image)\n",
    "\n",
    "adding noise\n",
    "\n",
    "masking small parts of the image with black boxes\n",
    "\n",
    "turning left / turning right\n",
    "\n",
    "changing the brightness of the image\n",
    "\n",
    "transforming a coloured image into a grayscale image\n",
    "\n",
    "increasing/decreasing the image size\n",
    "\n",
    "..."
   ]
  },
  {
   "cell_type": "markdown",
   "id": "7158da41",
   "metadata": {},
   "source": [
    "## Dataset Augmentation for audio\n",
    "For audio/speech data, reasonable modifications can be:\n",
    "\n",
    "time stretch (e.g. by the phase vocoder)\n",
    "\n",
    "pitch shift (e.g. by the phase vocoder)\n",
    "\n",
    "random phase changes (e.g. by the phase vocoder)\n",
    "\n",
    "masking of 20 ms of audio (comparable to a packet loss in a VoIP-System)\n",
    "\n",
    "changing the level\n",
    "\n",
    "adding noise\n",
    "\n",
    "..."
   ]
  },
  {
   "cell_type": "markdown",
   "id": "1fa1d38f",
   "metadata": {},
   "source": [
    "## Exercise:\n",
    "\n",
    "Write a script which adds Gaussian white noise at a level of 30 dB SNR to a sinus and plot the first three periods of the noisy sinus."
   ]
  },
  {
   "cell_type": "code",
   "execution_count": 1,
   "id": "c004cd63",
   "metadata": {},
   "outputs": [],
   "source": [
    "### solution\n",
    "import numpy as np\n",
    "f = 440\n",
    "Fs = 48000\n",
    "n = np.arange(Fs)\n",
    "x = np.sin(2*np.pi*f*n/Fs)\n",
    "Noise = np.random.randn(x.shape[0])\n",
    "TargetSNR = 30\n",
    "a = np.sqrt(np.sum(x**2)/(10**(TargetSNR/10)*np.sum(Noise**2)))\n",
    "\n",
    "y = x + a*Noise\n",
    "\n",
    "SNR = 10*np.log10(np.sum(x**2)/np.sum((x-y)**2))\n",
    "assert np.abs(SNR-TargetSNR) < 1e-2, 'wrong SNR'"
   ]
  }
 ],
 "metadata": {
  "kernelspec": {
   "display_name": "Python 3 (ipykernel)",
   "language": "python",
   "name": "python3"
  },
  "language_info": {
   "codemirror_mode": {
    "name": "ipython",
    "version": 3
   },
   "file_extension": ".py",
   "mimetype": "text/x-python",
   "name": "python",
   "nbconvert_exporter": "python",
   "pygments_lexer": "ipython3",
   "version": "3.9.7"
  }
 },
 "nbformat": 4,
 "nbformat_minor": 5
}
