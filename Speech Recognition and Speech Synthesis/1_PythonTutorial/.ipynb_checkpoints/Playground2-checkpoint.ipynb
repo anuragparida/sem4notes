{
 "cells": [
  {
   "cell_type": "code",
   "execution_count": 4,
   "id": "9ea2e0f4-a46f-4250-87d7-e2f2f68615f0",
   "metadata": {},
   "outputs": [
    {
     "name": "stdout",
     "output_type": "stream",
     "text": [
      "Hello World\n"
     ]
    }
   ],
   "source": [
    "print('Hello World')"
   ]
  },
  {
   "cell_type": "code",
   "execution_count": 5,
   "id": "8cd01884-621f-4ad7-9e62-5e5d4761f10b",
   "metadata": {},
   "outputs": [],
   "source": [
    "# Variablen\n",
    "a = 17\n",
    "b=5"
   ]
  },
  {
   "cell_type": "code",
   "execution_count": 6,
   "id": "fbbf1270-9bb0-4734-adcc-c0837146c263",
   "metadata": {},
   "outputs": [
    {
     "name": "stdout",
     "output_type": "stream",
     "text": [
      "22\n",
      "3.4\n",
      "4913\n",
      "4913\n"
     ]
    }
   ],
   "source": [
    "# Operatoren\n",
    "c = a+b\n",
    "print(c)\n",
    "d = a-b\n",
    "e = a*b\n",
    "f = a / b\n",
    "print(f)\n",
    "\n",
    "print(a**3)\n",
    "print(a*a*a)"
   ]
  },
  {
   "cell_type": "code",
   "execution_count": 7,
   "id": "7e66b8f0-ab5e-490d-be07-9a95e9e2eb84",
   "metadata": {},
   "outputs": [
    {
     "name": "stdout",
     "output_type": "stream",
     "text": [
      "4.123105625617661\n",
      "4.123105625617661\n",
      "4.123105625617661\n"
     ]
    }
   ],
   "source": [
    "# einbinden von bibliotheken\n",
    "import numpy # numerical python\n",
    "\n",
    "print(a**0.5)\n",
    "print(numpy.sqrt(a))\n",
    "\n",
    "import numpy as np\n",
    "print(np.sqrt(a))"
   ]
  },
  {
   "cell_type": "code",
   "execution_count": 15,
   "id": "c209a2a7-8a66-4785-86f8-b926b89ea91c",
   "metadata": {},
   "outputs": [
    {
     "name": "stdout",
     "output_type": "stream",
     "text": [
      "4950.0\n"
     ]
    }
   ],
   "source": [
    "# addiere die ersten N Zahlen auf und gib die Summe aus\n",
    "MySum = 1 + 2 + 3 + 4 + 5\n",
    "\n",
    "# bessere implementierung als Schleife\n",
    "MySum = 0.0\n",
    "for n in range(100):\n",
    "    #MySum = MySum + n\n",
    "    MySum += n\n",
    "\n",
    "print(MySum)\n",
    "\n"
   ]
  },
  {
   "cell_type": "code",
   "execution_count": 20,
   "id": "735d2d3a-4793-460b-942e-b82a7c795aac",
   "metadata": {},
   "outputs": [
    {
     "name": "stdout",
     "output_type": "stream",
     "text": [
      "[[-0.15465369  1.0070103   0.2131135  -0.04211951 -0.35452028]\n",
      " [ 1.4199163   0.28696811  0.4488951   0.44519144  0.78229238]\n",
      " [ 0.43592276 -1.09645811 -1.60188527  1.53005428 -0.11181654]\n",
      " [-0.7935456  -0.95597213  1.449469   -0.1731295   0.61499916]\n",
      " [ 1.04590558 -0.52764624 -0.45173661 -0.7012889  -0.93612167]]\n",
      "sum over row =  0.6688303143509111\n",
      "sum over row =  3.383263338115717\n",
      "sum over row =  -0.8441828832019969\n",
      "sum over row =  0.1418209221949392\n",
      "sum over row =  -1.5708878328137224\n",
      "sum over matrix =  1.778843858645847\n"
     ]
    }
   ],
   "source": [
    "A = np.random.randn(5,5) # Matrix mit Zufallswerten\n",
    "print(A)\n",
    "\n",
    "SumOverMatrix = 0.0\n",
    "for row in range(A.shape[0]):\n",
    "    SumOverRows = 0.0\n",
    "    for col in range(A.shape[1]):\n",
    "        SumOverMatrix += A[row, col]\n",
    "        SumOverRows += A[row, col]\n",
    "    print('sum over row = ', SumOverRows)\n",
    "\n",
    "print('sum over matrix = ', SumOverMatrix)"
   ]
  },
  {
   "cell_type": "code",
   "execution_count": 23,
   "id": "8f7255ef-304a-4f70-9e06-545432076bde",
   "metadata": {},
   "outputs": [
    {
     "name": "stdout",
     "output_type": "stream",
     "text": [
      "4950\n"
     ]
    }
   ],
   "source": [
    "# while loop\n",
    "MySum = 0\n",
    "N = 100 # Limit\n",
    "n = 0 # Laufvariable\n",
    "while n < N:\n",
    "    MySum += n\n",
    "    n += 1\n",
    "    \n",
    "print(MySum)"
   ]
  },
  {
   "cell_type": "code",
   "execution_count": 36,
   "id": "8165d6b8-25a2-4fc2-8320-e0cf5be7f8cf",
   "metadata": {},
   "outputs": [
    {
     "name": "stdout",
     "output_type": "stream",
     "text": [
      "[-0.34859229]\n",
      "something else\n",
      "0\n"
     ]
    }
   ],
   "source": [
    "# Kontrollstrukturen\n",
    "# if, elif, else\n",
    "a = np.random.randn(1) # einzelne Zufallsvariable\n",
    "print(a)\n",
    "if a > 1:\n",
    "    print('a > 1')\n",
    "    b = 13\n",
    "elif a > 0:\n",
    "    print('a > 0')\n",
    "    b = 11\n",
    "elif a > 2:\n",
    "    print('a > 2') # toter Code -> sehr schlecht\n",
    "else:\n",
    "    print('something else')\n",
    "    b = 0\n",
    "print(b)\n",
    "\n",
    "x = np.random.randn(1) # normalverteilte Zufallszahl, Mittelwert 0, Standardabweichung 1\n",
    "y = np.random.rand(1) # gleichverteilt 0..1\n",
    "z = np.random.randint(20) # gleichverteilte integerwerte 0...19"
   ]
  },
  {
   "cell_type": "code",
   "execution_count": 39,
   "id": "521d7bad-c551-47aa-a9fb-698f5cadd247",
   "metadata": {},
   "outputs": [
    {
     "name": "stdout",
     "output_type": "stream",
     "text": [
      "0\n",
      "1\n",
      "2\n",
      "3\n",
      "4\n",
      "5\n",
      "6\n",
      "7\n",
      "8\n",
      "9\n",
      "45\n",
      "45\n"
     ]
    }
   ],
   "source": [
    "# Listen\n",
    "LengthOfList = 10\n",
    "MyList = [] # Definition einer Liste\n",
    "for n in range(LengthOfList):\n",
    "    MyList.append(n) # Liste befüllen\n",
    "\n",
    "# Zugriff auf Liste:\n",
    "for n in range(LengthOfList):\n",
    "    print(MyList[n]) # Ausgabe\n",
    "\n",
    "MySum = 0\n",
    "for n in range(len(MyList)):\n",
    "    MySum += MyList[n]\n",
    "print(MySum)\n",
    "\n",
    "MySum = 0\n",
    "for MyElement in MyList:\n",
    "    MySum += MyElement\n",
    "print(MySum)"
   ]
  },
  {
   "cell_type": "code",
   "execution_count": null,
   "id": "c92b0bba-6142-4a50-b678-5468dcd978d5",
   "metadata": {},
   "outputs": [],
   "source": []
  }
 ],
 "metadata": {
  "kernelspec": {
   "display_name": "Python 3 (ipykernel)",
   "language": "python",
   "name": "python3"
  },
  "language_info": {
   "codemirror_mode": {
    "name": "ipython",
    "version": 3
   },
   "file_extension": ".py",
   "mimetype": "text/x-python",
   "name": "python",
   "nbconvert_exporter": "python",
   "pygments_lexer": "ipython3",
   "version": "3.11.4"
  }
 },
 "nbformat": 4,
 "nbformat_minor": 5
}
