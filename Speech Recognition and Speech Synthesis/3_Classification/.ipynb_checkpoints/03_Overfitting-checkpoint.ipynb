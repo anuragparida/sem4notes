{
 "cells": [
  {
   "cell_type": "markdown",
   "id": "6c765728",
   "metadata": {},
   "source": [
    "# Tensorflow\n",
    "\n",
    "One of the biggest advantages of the scripting language Python is the strong support of the big companies with libraries for deep learning. Tensorflow is the dee learning package from the company Google. Other examples are PyTorch from the company Facebook.\n",
    "\n",
    "In the following, the library Tensorflow is explained by sample code for image classification taken from:\n",
    "\n",
    "https://www.tensorflow.org/tutorials/keras/classification"
   ]
  },
  {
   "cell_type": "code",
   "execution_count": 1,
   "id": "27c766ed",
   "metadata": {},
   "outputs": [
    {
     "name": "stdout",
     "output_type": "stream",
     "text": [
      "installed version of Tensorflow:  2.14.0\n"
     ]
    }
   ],
   "source": [
    "# TensorFlow and tf.keras\n",
    "import tensorflow as tf\n",
    "\n",
    "# Helper libraries\n",
    "import numpy as np\n",
    "import matplotlib.pyplot as plt\n",
    "\n",
    "print('installed version of Tensorflow: ', tf.__version__)"
   ]
  },
  {
   "cell_type": "markdown",
   "id": "9278d4b6",
   "metadata": {},
   "source": [
    "## Supervised Learning\n",
    "In a supervised learning scenario, the neural network should learn the target behaviour by labelled data. In the given example of image classification, a training sample consists of a single image (e.g. a boot) and the corresponding label ('boot' encoded by an integer corresponding to the class name)."
   ]
  },
  {
   "cell_type": "code",
   "execution_count": 2,
   "id": "ce99f597",
   "metadata": {},
   "outputs": [],
   "source": [
    "fashion_mnist = tf.keras.datasets.fashion_mnist\n",
    "\n",
    "(train_images, train_labels), (test_images, test_labels) = fashion_mnist.load_data()"
   ]
  },
  {
   "cell_type": "markdown",
   "id": "081e9800",
   "metadata": {},
   "source": [
    "## Normalization\n",
    "Neural networks usually perform better, if the input data is normalized to zero mean and unit variance.\n",
    "\n",
    "Another mode of normalization is shown here: The input data is normalized to the interval $0..1$."
   ]
  },
  {
   "cell_type": "code",
   "execution_count": 3,
   "id": "20b5c3ee",
   "metadata": {},
   "outputs": [],
   "source": [
    "train_images = train_images / 255.0\n",
    "\n",
    "test_images = test_images / 255.0"
   ]
  },
  {
   "cell_type": "markdown",
   "id": "575afaa3",
   "metadata": {},
   "source": [
    "## Defining the tensorflow model\n",
    "In the following a very simple neural network is defined:\n",
    "A sequential model is also called feedforward network in the literature.\n",
    "The flatten-layer converts the input image into a vector.\n",
    "The dense layers are fully connected layers.\n",
    "The final layer in a classification network should have the same number of output neurons as classes exists, here: 10.\n",
    "\n",
    "Finally, the model need to be compiled before the training process can start."
   ]
  },
  {
   "cell_type": "code",
   "execution_count": 4,
   "id": "569f2b83",
   "metadata": {},
   "outputs": [],
   "source": [
    "model = tf.keras.Sequential([\n",
    "    tf.keras.layers.Flatten(input_shape=(28, 28)),\n",
    "    tf.keras.layers.Dense(1000, activation='relu'),\n",
    "    #tf.keras.layers.Dense(1000, activation='relu'),\n",
    "    #tf.keras.layers.Dense(1000, activation='relu'),\n",
    "    #tf.keras.layers.Dense(1000, activation='relu'),\n",
    "    #tf.keras.layers.Dense(1000, activation='relu'),\n",
    "    #tf.keras.layers.Dense(1000, activation='relu'),\n",
    "    tf.keras.layers.Dense(10)\n",
    "])\n",
    "\n",
    "model.compile(optimizer='adam',\n",
    "              loss=tf.keras.losses.SparseCategoricalCrossentropy(from_logits=True),\n",
    "              metrics=['accuracy'])\n"
   ]
  },
  {
   "cell_type": "markdown",
   "id": "f5bb2ac9",
   "metadata": {},
   "source": [
    "## Training\n",
    "The training is performed on the training data for a given number of epochs.\n",
    "\n",
    "Afterwards, the training success is evaluated on the test data.\n",
    "\n",
    "The test accuracy should be comparable to the training accuracy. Otherwise, overfitting may have occured."
   ]
  },
  {
   "cell_type": "code",
   "execution_count": 6,
   "id": "2a86800e",
   "metadata": {},
   "outputs": [
    {
     "name": "stdout",
     "output_type": "stream",
     "text": [
      "Epoch 1/2\n",
      "1875/1875 [==============================] - 17s 9ms/step - loss: 0.2750 - accuracy: 0.8975\n",
      "Epoch 2/2\n",
      "1875/1875 [==============================] - 16s 9ms/step - loss: 0.2578 - accuracy: 0.9028\n",
      "313/313 - 1s - loss: 0.3224 - accuracy: 0.8892 - 1s/epoch - 4ms/step\n",
      "1875/1875 - 6s - loss: 0.2251 - accuracy: 0.9158 - 6s/epoch - 3ms/step\n",
      "Epoch 1/2\n",
      "1875/1875 [==============================] - 20s 10ms/step - loss: 0.2445 - accuracy: 0.9078\n",
      "Epoch 2/2\n",
      "1875/1875 [==============================] - 19s 10ms/step - loss: 0.2327 - accuracy: 0.9133\n",
      "313/313 - 1s - loss: 0.3319 - accuracy: 0.8865 - 755ms/epoch - 2ms/step\n",
      "1875/1875 - 5s - loss: 0.2118 - accuracy: 0.9204 - 5s/epoch - 3ms/step\n",
      "Epoch 1/2\n",
      "1875/1875 [==============================] - 18s 10ms/step - loss: 0.2253 - accuracy: 0.9160\n",
      "Epoch 2/2\n",
      "1875/1875 [==============================] - 18s 9ms/step - loss: 0.2158 - accuracy: 0.9192\n",
      "313/313 - 1s - loss: 0.3359 - accuracy: 0.8914 - 1s/epoch - 5ms/step\n",
      "1875/1875 - 5s - loss: 0.1982 - accuracy: 0.9252 - 5s/epoch - 3ms/step\n",
      "Epoch 1/2\n",
      "1875/1875 [==============================] - 17s 9ms/step - loss: 0.2084 - accuracy: 0.9217\n",
      "Epoch 2/2\n",
      "1875/1875 [==============================] - 17s 9ms/step - loss: 0.1995 - accuracy: 0.9246\n",
      "313/313 - 1s - loss: 0.3149 - accuracy: 0.8947 - 715ms/epoch - 2ms/step\n",
      "1875/1875 - 5s - loss: 0.1722 - accuracy: 0.9359 - 5s/epoch - 2ms/step\n",
      "Epoch 1/2\n",
      "1875/1875 [==============================] - 18s 10ms/step - loss: 0.1904 - accuracy: 0.9273\n",
      "Epoch 2/2\n",
      "1875/1875 [==============================] - 18s 10ms/step - loss: 0.1864 - accuracy: 0.9293\n",
      "313/313 - 1s - loss: 0.3945 - accuracy: 0.8821 - 770ms/epoch - 2ms/step\n",
      "1875/1875 - 5s - loss: 0.2091 - accuracy: 0.9277 - 5s/epoch - 3ms/step\n"
     ]
    },
    {
     "data": {
      "image/png": "[encoded data removed]",
      "text/plain": [
       "<Figure size 640x480 with 1 Axes>"
      ]
     },
     "metadata": {},
     "output_type": "display_data"
    },
    {
     "data": {
      "image/png": "[encoded data removed]",
      "text/plain": [
       "<Figure size 640x480 with 1 Axes>"
      ]
     },
     "metadata": {},
     "output_type": "display_data"
    }
   ],
   "source": [
    "MaxIter = 5\n",
    "test_loss = np.zeros((MaxIter))\n",
    "test_acc = np.zeros((MaxIter))\n",
    "train_loss = np.zeros((MaxIter))\n",
    "train_acc = np.zeros((MaxIter))\n",
    "for iter in range(MaxIter):\n",
    "    model.fit(train_images, train_labels, epochs=2)\n",
    "\n",
    "    test_loss[iter], test_acc[iter] = model.evaluate(test_images,  test_labels, verbose=2)\n",
    "    train_loss[iter], train_acc[iter] = model.evaluate(train_images,  train_labels, verbose=2)\n",
    "\n",
    "plt.plot(test_loss, 'r')\n",
    "plt.plot(train_loss, 'b')\n",
    "plt.show()\n",
    "plt.plot(test_acc, 'r')\n",
    "plt.plot(train_acc, 'b')\n",
    "plt.show()"
   ]
  },
  {
   "cell_type": "markdown",
   "id": "3c954ddf",
   "metadata": {},
   "source": [
    "## Prediction\n",
    "In order to predict unknown data with the trained model, the procedure predict must be called.\n",
    "If you want to have the information, how reliable the prediction process is, you can interprete the output of a softmax layer. If the final layer of the trained model is not a softmax layer, a softmax layer can be appended.\n",
    "\n",
    "The outputs of a softmax layer add up to a sum of one.\n",
    "Therefore, the output can be interpreted as a probability density function."
   ]
  },
  {
   "cell_type": "code",
   "execution_count": 9,
   "id": "aebcd30d",
   "metadata": {},
   "outputs": [
    {
     "name": "stdout",
     "output_type": "stream",
     "text": [
      "313/313 [==============================] - 1s 2ms/step\n",
      "prediction image number  8053\n",
      "the image contains a  Trouser\n",
      "the network predicts a  Trouser\n",
      "the probability of this prediction is  0.99999607\n"
     ]
    }
   ],
   "source": [
    "probability_model = tf.keras.Sequential([model, \n",
    "                                         tf.keras.layers.Softmax()])\n",
    "ProbabilityOfPredictions = probability_model.predict(test_images)\n",
    "\n",
    "RandomIndex = int(np.random.randint(test_images.shape[0]))\n",
    "PredictedClassIndex = np.argmax(ProbabilityOfPredictions[RandomIndex])\n",
    "print('prediction image number ', RandomIndex)\n",
    "print('the image contains a ', class_names[test_labels[RandomIndex]])\n",
    "print('the network predicts a ', class_names[PredictedClassIndex])\n",
    "print('the probability of this prediction is ', str(ProbabilityOfPredictions[RandomIndex, PredictedClassIndex]))"
   ]
  },
  {
   "cell_type": "markdown",
   "id": "c011bf50-1b70-455e-bde0-b027615d81de",
   "metadata": {},
   "source": [
    "## Programming exercise\n",
    "Evaluate the confusion matrix for the test data."
   ]
  },
  {
   "cell_type": "code",
   "execution_count": null,
   "id": "71b19e41-d46e-4fd3-bd77-828b63cf5de8",
   "metadata": {},
   "outputs": [],
   "source": []
  }
 ],
 "metadata": {
  "kernelspec": {
   "display_name": "Python 3 (ipykernel)",
   "language": "python",
   "name": "python3"
  },
  "language_info": {
   "codemirror_mode": {
    "name": "ipython",
    "version": 3
   },
   "file_extension": ".py",
   "mimetype": "text/x-python",
   "name": "python",
   "nbconvert_exporter": "python",
   "pygments_lexer": "ipython3",
   "version": "3.11.4"
  }
 },
 "nbformat": 4,
 "nbformat_minor": 5
}
