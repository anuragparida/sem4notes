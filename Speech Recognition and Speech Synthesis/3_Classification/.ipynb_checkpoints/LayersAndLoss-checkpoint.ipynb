{
 "cells": [
  {
   "cell_type": "markdown",
   "id": "576c86cf-3817-43f5-85a4-7b110fec73c6",
   "metadata": {},
   "source": [
    "# Loss\n",
    "In a supervised learning scenario, the loss defines the difference between the wanted true output $o_j$ of a neural network and the current output during the learning process $z_j$. If the loss approaches zero, there is no more difference between the current learned output and the true wanted output: the learning is finished with a perfect result.\n",
    "\n",
    "Two commonly used loss functions are the squared Euclidean distance\n",
    "\n",
    "$L=\\frac{1}{2}\\sum_j \\left(z_j - o_j\\right)^2$ for approximation tasks\n",
    "\n",
    "or the cross entropy\n",
    "\n",
    "$L=-\\sum_j o_j\\cdot\\log z_j$ for classification tasks."
   ]
  },
  {
   "cell_type": "markdown",
   "id": "1f006e88-f8c0-4584-a316-7a48b0a6d17c",
   "metadata": {},
   "source": [
    "## Gradient\n",
    "In order to use the loss in a gradient descent scenario for supervised training, the first derivate need be evaluated.\n",
    "\n",
    "The gradient of the Euclidean distance can be evaluated with the following equation:\n",
    "\n",
    "$\\frac{dL}{dz_j} = z_j - o_j$\n",
    "\n",
    "The gradient of the cross entropy is:\n",
    "\n",
    "$\\frac{dL}{dz_j} = -\\frac{o_j}{z_j}$"
   ]
  },
  {
   "cell_type": "markdown",
   "id": "cc08db3a-1c1c-4706-942d-e60c583ab932",
   "metadata": {},
   "source": [
    "# Layers\n",
    "Neural networks consists typically of a list of layers. In the following a set of commonly used layer types is introduced. The layers are defined by the three procedures\n",
    "\n",
    "1) forward: $y=f(x)$, where $f(x)$ is usually defined by weights or parameters $w$, which can be optimized.\n",
    "\n",
    "2) backward: $\\frac{dL}{dx}=\\frac{dL}{dy}\\cdot\\frac{dy}{dx}$ and $\\frac{dL}{dw}=\\frac{dL}{dy}\\cdot\\frac{dy}{dw}$\n",
    "\n",
    "3) update: apply the gradient descent with learning rate $\\mu$ to the layer parameters $w\\leftarrow w-\\mu\\cdot\\frac{dL}{dw}$"
   ]
  },
  {
   "cell_type": "markdown",
   "id": "b3236206-7b18-4a1e-8441-38433dfd22dc",
   "metadata": {},
   "source": [
    "## Dense\n",
    "\n",
    "The simplest layer is the dense layer, which maps the input $x_i$ to the output $y_j$ by a matrix multiplication with the weights $w_{j,i}$ and the addition of a bias $b_j$:\n",
    "\n",
    "1) forward: $y_j = b_j + \\sum_{i=0}^{I-1}x_i\\cdot w_{j,i}$\n",
    "\n",
    "2) backward:\n",
    "\n",
    "$\\frac{dy_j}{dx_i} = w_{ji}$\n",
    "\n",
    "$\\frac{dy_j}{db_j} = 1$\n",
    "\n",
    "$\\frac{dy_j}{dw_{j,i}} = x_i$"
   ]
  },
  {
   "cell_type": "code",
   "execution_count": null,
   "id": "98c7e562-1513-4125-8776-9c6dbed515c6",
   "metadata": {},
   "outputs": [],
   "source": [
    "class CAnnLayerDense(object):\n",
    "    \n",
    "    def __init__(self, NumberOfInputs, NumberOfOutputs):\n",
    "      self.__Weights = np.random.randn(NumberOfOutputs, NumberOfInputs)\n",
    "      self.__Bias = np.random.randn(NumberOfOutputs)\n",
    "      self.__Reset()\n",
    "        \n",
    "    def __Reset(self):\n",
    "      self.__d_L_d_Weights = np.zeros(self.__Weights.shape)\n",
    "      self.__d_L_d_Bias    = np.zeros(self.__Bias.shape)\n",
    "        \n",
    "    def forward(self, input):\n",
    "      self.__LastInput = np.copy(input)\n",
    "      return np.matmul(self.__Weights, self.__LastInput) + self.__Bias\n",
    "    \n",
    "    def backward(self, d_L_d_out):\n",
    "      d_L_d_Input = np.matmul(self.__Weights.transpose(), d_L_d_out)\n",
    "      self.__d_L_d_Weights += np.outer(d_L_d_out, self.__LastInput)\n",
    "      self.__d_L_d_Bias += d_L_d_out\n",
    "      return d_L_d_Input\n",
    "    \n",
    "    def update(self):\n",
    "      LearningRate = 1e-2\n",
    "      self.__Weights -= LearningRate * self.__d_L_d_Weights\n",
    "      self.__Bias    -= LearningRate * self.__d_L_d_Bias\n",
    "      self.__Reset()"
   ]
  },
  {
   "cell_type": "markdown",
   "id": "2d4bcb2c-89f2-4be7-91f5-8812a27a7ab1",
   "metadata": {},
   "source": [
    "## Sigmoid\n",
    "In order to enable the neuron to evaluate nonlinear tasks, a nonlinearity is applied to the output $y$. The simplest nonlinearity is the sigmoid:\n",
    "\n",
    "$y_j=\\frac{1}{1+e^{-x_j}}=\\frac{1}{2}\\left(1+\\tanh\\frac{x_j}{2}\\right)$"
   ]
  },
  {
   "cell_type": "code",
   "execution_count": null,
   "id": "a46ac9d8-8b2e-4da4-9e2c-49e81360ed32",
   "metadata": {},
   "outputs": [],
   "source": [
    "import numpy as np\n",
    "import matplotlib.pyplot as plt\n",
    "\n",
    "class CAnnLayerSigmoid(object):\n",
    "  \n",
    "  def forward(self, input):\n",
    "    self.__LastOutput = 0.5 * (1 + np.tanh(0.5 * input))\n",
    "    return self.__LastOutput\n",
    "\n",
    "  def backward(self, d_L_d_out):\n",
    "    d_L_d_inputs = d_L_d_out * self.__LastOutput * (1 - self.__LastOutput)\n",
    "    return d_L_d_inputs\n",
    "\n",
    "  def update(self):\n",
    "    pass # no parameters to train\n",
    "\n",
    "x = np.arange(100) / 10\n",
    "x -= np.mean(x)\n",
    "ASigmoid = CAnnLayerSigmoid()\n",
    "y = ASigmoid.forward(x)\n",
    "plt.plot(x, y)\n",
    "plt.show()"
   ]
  },
  {
   "cell_type": "markdown",
   "id": "9871f90b-68c4-4be3-ae74-99943cc531f4",
   "metadata": {},
   "source": [
    "## Leaky ReLu\n",
    "In image processing with neural networks, the rectified linear unit (ReLu) or the leaky rectified linear unit are commonly used.\n",
    "\n",
    "$y_j =\n",
    "    \\begin{cases}\n",
    "        x_j & \\text{if } x \\geq 0\\\\\n",
    "        \\alpha\\cdot x_j & \\text{ else}\n",
    "    \\end{cases}$\n",
    "The constant $alpha$ is set to zero for the standard rectified linear unit. If $\\alpha\\neq0$ the unit is called leaky ReLU.\n",
    "\n",
    "For the backward algorithm, the derivative can be evaluated:\n",
    "\n",
    "$\\frac{dy_j}{dx_j}=\n",
    "    \\begin{cases}\n",
    "        1 & \\text{if } x \\geq 0\\\\\n",
    "        \\alpha & \\text{ else}\n",
    "    \\end{cases}$\n",
    "\n",
    "In the following, the layer ReLU is implemented. The transfer function $y_j = \\text{ReLU}(x_j)$ is plotted for the standard ReLU (blue) and for the leaky ReLU (red)."
   ]
  },
  {
   "cell_type": "code",
   "execution_count": 1,
   "id": "93b86a59-cf86-4bc1-b757-f877bc627ecb",
   "metadata": {},
   "outputs": [
    {
     "data": {
      "image/png": "[encoded data removed]",
      "text/plain": [
       "<Figure size 640x480 with 1 Axes>"
      ]
     },
     "metadata": {},
     "output_type": "display_data"
    }
   ],
   "source": [
    "import numpy as np\n",
    "import matplotlib.pyplot as plt\n",
    "import sys\n",
    "\n",
    "class CAnnLayerReLU():\n",
    "    \n",
    "  def __init__(self, alpha = 0.3):\n",
    "    self.__alpha = alpha\n",
    "  \n",
    "  def forward(self, input):\n",
    "    self.__mask = (input < 0)\n",
    "    output = np.copy(input)\n",
    "    output[self.__mask] *= self.__alpha\n",
    "    return output\n",
    "\n",
    "  def backward(self, d_L_d_out):\n",
    "    d_L_d_inputs = np.copy(d_L_d_out)\n",
    "    d_L_d_inputs[self.__mask] *= self.__alpha\n",
    "    return d_L_d_inputs\n",
    "  \n",
    "  def update(self):\n",
    "    pass\n",
    "\n",
    "x = np.arange(100) / 100 - 0.5\n",
    "AReLU = CAnnLayerReLU(alpha = 0.0)\n",
    "y1 = AReLU.forward(x)\n",
    "AReLU = CAnnLayerReLU(alpha = 0.3)\n",
    "y2 = AReLU.forward(x)\n",
    "plt.plot(x, y1, 'b')\n",
    "plt.plot(x, y2, 'r')\n",
    "plt.show()"
   ]
  },
  {
   "cell_type": "markdown",
   "id": "d104b6ae-e0f0-4fa0-91a3-66694d0bc9af",
   "metadata": {},
   "source": [
    "## Softmax\n",
    "In a classification task, you want to have a last layer in your neural network, which outputs values, which can be interpreted as a probability distribution.\n",
    "\n",
    "In the following example, we are assuming a classification task with three different classes.\n",
    "The softmax operation consists of two steps:\n",
    "\n",
    "a) Evaluate the exponential function.\n",
    "\n",
    "b) Normalize the output values to a sum of $1$.\n",
    "\n",
    "$y_j = \\frac{e^{x_j}}{\\sum_{l=0}^{J-1} e^{x_l}}$\n",
    "\n",
    "The exponential function is numerical unstable. For very large $x$, the exponential function leads to values, which cannot be expressed as floating point values.\n",
    "Typically, the values $x$ are normalized to values smaller or equal zero.\n",
    "The softmax output is not changed by this operation.\n",
    "\n",
    "For implementing a Softmax-layer, we need a forward operation and a backward operation.\n",
    "The forward operation is implemented above.\n",
    "The backward operation evaluates the derivative $\\frac{dy_j}{dx_i}$.\n",
    "For this derivative, we have to distinguish two cases.\n",
    "For the first case, we assume $j=i$:\n",
    "\n",
    "$\\frac{dy_j}{dx_i}=\\frac{e^{x_j} \\cdot \\sum_{l=0}^{J-1} e^{x_l} - e^{x_j}\\cdot e^{x_j}}{\\left(\\sum_{l=0}^{J-1} e^{x_l}\\right)^2}=y_j - y_j^2=y_j\\cdot\\left(1-y_j\\right)$\n",
    "\n",
    "For the second case, we assume $j\\neq i$:\n",
    "\n",
    "$\\frac{dy_j}{dx_i}=e^{x_j}\\cdot(-1)\\cdot\\left(\\sum_{l=0}^{J-1} e^{x_l}\\right)^{-2}\\cdot e^{x_i}=y_j\\cdot\\left(0-y_i\\right)$\n",
    "\n",
    "With the Kronecker-Delta , the above equation can be simplified:"
   ]
  },
  {
   "cell_type": "code",
   "execution_count": null,
   "id": "dab7507f-aa45-47c4-b18b-8dd9b5ab5d14",
   "metadata": {},
   "outputs": [],
   "source": [
    "def KroneckerDelta(i, j):\n",
    "    if i==j:\n",
    "        return 1\n",
    "    else:\n",
    "        return 0"
   ]
  },
  {
   "cell_type": "markdown",
   "id": "aa579b2a-e1ef-480c-9935-1943e0d252b6",
   "metadata": {},
   "source": [
    "The gradient can be evaluated by:\n",
    "\n",
    "$\\frac{dy_j}{dx_i}=y_j\\cdot\\left(\\delta_{ij}-y_i\\right)$\n",
    "\n",
    "The final backpropagation step is:\n",
    "\n",
    "$\\frac{dL}{dx_i}\\sum_{j=0}^{J-1} \\frac{dL}{dy_j}\\cdot\\frac{dy_j}{dx_i}$"
   ]
  },
  {
   "cell_type": "code",
   "execution_count": null,
   "id": "b89694dc-b847-42c4-b4a6-1d5d67055ed8",
   "metadata": {},
   "outputs": [],
   "source": [
    "class CAnnLayerSoftmax():\n",
    "    \n",
    "  def __init__(self):\n",
    "    pass\n",
    "  \n",
    "  def forward(self, input):\n",
    "    y = input - np.amax(input)\n",
    "    y = np.exp(y)\n",
    "    self.__LastOutput = y / np.sum(y)\n",
    "    return self.__LastOutput\n",
    "\n",
    "  def backward(self, d_L_d_out):\n",
    "    d_L_d_in = np.zeros(d_L_d_out.shape)\n",
    "    for i in range(d_L_d_out.shape[0]):\n",
    "        for j in range(d_L_d_out.shape[0]):\n",
    "            d_L_d_in[i] +=  d_L_d_out[j] * self.__LastOutput[j] * (KroneckerDelta(i, j) - self.__LastOutput[i])\n",
    "    return d_L_d_in\n",
    "  \n",
    "  def update(self):\n",
    "    pass"
   ]
  },
  {
   "cell_type": "code",
   "execution_count": null,
   "id": "23fb07e4-a75b-4b4c-a913-0525192da970",
   "metadata": {},
   "outputs": [],
   "source": [
    "class CANN(object):\n",
    "\n",
    "    def __init__(self, NumberOfInputs, NumberOfHiddenStates, NumberOfOutputs):\n",
    "        self.__ListOfLayers = []\n",
    "        self.__ListOfLayers.append(CAnnLayerDense(NumberOfInputs, NumberOfHiddenStates))\n",
    "        self.__ListOfLayers.append(CAnnLayerSigmoid())\n",
    "        self.__ListOfLayers.append(CAnnLayerDense(NumberOfHiddenStates, NumberOfOutputs))\n",
    "        self.__ListOfLayers.append(CAnnLayerSigmoid())\n",
    "\n",
    "    def __forward(self, x):\n",
    "        y = np.copy(x)\n",
    "        for i in range(len(self.__ListOfLayers)):\n",
    "            y = self.__ListOfLayers[i].forward(y)\n",
    "        return y\n",
    "\n",
    "    def __backprop(self, x):\n",
    "        y = np.copy(x)\n",
    "        for i in range(len(self.__ListOfLayers)):\n",
    "            y = self.__ListOfLayers[len(self.__ListOfLayers)-1-i].backprop(y)    \n",
    "\n",
    "    def __update(self):\n",
    "        for Layer in self.__ListOfLayers:\n",
    "            Layer.update()        \n",
    "\n",
    "    def Train(self, x, o):\n",
    "        y = self.__forward(x)\n",
    "        d_L_d_out = y - o\n",
    "        Loss = 0.5*(d_L_d_out**2)\n",
    "        self.__backprop(d_L_d_out)\n",
    "        self.__update()\n",
    "        return Loss\n",
    "\n",
    "    def Inference(self, x):\n",
    "        return self.__forward(x)"
   ]
  },
  {
   "cell_type": "code",
   "execution_count": null,
   "id": "5e848882-e4e6-4b3b-97a3-8ca354fb8ff1",
   "metadata": {},
   "outputs": [],
   "source": [
    "AXOREstimator = CANN(2, 2, 1)\n",
    "\n",
    "TrainingsInput = np.zeros((4, 2))\n",
    "TrainingsInput[1, 1] = 1\n",
    "TrainingsInput[2, 0] = 1\n",
    "TrainingsInput[3, :] = 1\n",
    "\n",
    "iter = 0\n",
    "Loss = 1.0\n",
    "while Loss > 0.05:\n",
    "    Loss = 0.0\n",
    "    for batch in range(TrainingsInput.shape[0]):\n",
    "        x = TrainingsInput[batch, :]\n",
    "        y = (np.abs(np.sum(x) - 1) < 1e-1) + 0.0\n",
    "        Loss += AXOREstimator.Train(x, y)\n",
    "    Loss /= TrainingsInput.shape[0]\n",
    "    iter += 1\n",
    "    if (iter > 1000):\n",
    "        iter = 0\n",
    "        print('mean Loss = ', Loss)"
   ]
  },
  {
   "cell_type": "markdown",
   "id": "b77ae0cd-5d16-4a98-abe1-c5df3736372f",
   "metadata": {},
   "source": [
    "## Programming exercise\n",
    "Exchange the sigmoid layers by LeakyRelu. Is the convergence mor stable or not? Is the convergence of the algorithm faster or slower?"
   ]
  }
 ],
 "metadata": {
  "kernelspec": {
   "display_name": "Python 3 (ipykernel)",
   "language": "python",
   "name": "python3"
  },
  "language_info": {
   "codemirror_mode": {
    "name": "ipython",
    "version": 3
   },
   "file_extension": ".py",
   "mimetype": "text/x-python",
   "name": "python",
   "nbconvert_exporter": "python",
   "pygments_lexer": "ipython3",
   "version": "3.11.4"
  }
 },
 "nbformat": 4,
 "nbformat_minor": 5
}
