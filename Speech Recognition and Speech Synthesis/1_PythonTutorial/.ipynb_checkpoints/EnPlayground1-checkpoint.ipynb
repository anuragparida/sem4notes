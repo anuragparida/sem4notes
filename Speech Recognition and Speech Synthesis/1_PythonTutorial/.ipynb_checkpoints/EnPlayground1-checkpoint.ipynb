{
 "cells": [
  {
   "cell_type": "code",
   "execution_count": 2,
   "id": "b09a36ae-b812-491b-bdf4-d95ea87310a0",
   "metadata": {},
   "outputs": [],
   "source": [
    "import numpy as np\n",
    "\n",
    "class CCircle(object):\n",
    "    def __init__(self):\n",
    "        self.__radius = 0\n",
    "\n",
    "    def EvalArea(self):\n",
    "        return np.pi*(self.__radius**2)\n",
    "\n",
    "    def SetRadius(self, NewRadius):\n",
    "        assert NewRadius >= 0.0, 'NewRadius >= 0'\n",
    "        self.__radius = NewRadius"
   ]
  },
  {
   "cell_type": "code",
   "execution_count": null,
   "id": "fcbb324b-ff8d-4235-8c1b-69083e1562d3",
   "metadata": {},
   "outputs": [],
   "source": []
  }
 ],
 "metadata": {
  "kernelspec": {
   "display_name": "Python 3 (ipykernel)",
   "language": "python",
   "name": "python3"
  },
  "language_info": {
   "codemirror_mode": {
    "name": "ipython",
    "version": 3
   },
   "file_extension": ".py",
   "mimetype": "text/x-python",
   "name": "python",
   "nbconvert_exporter": "python",
   "pygments_lexer": "ipython3",
   "version": "3.11.4"
  }
 },
 "nbformat": 4,
 "nbformat_minor": 5
}
