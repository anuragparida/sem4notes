{
 "cells": [
  {
   "cell_type": "markdown",
   "id": "a80c4aa1",
   "metadata": {},
   "source": [
    "# Assertions\n",
    "\n",
    "Assertions are a very simple way to check the code during runtime.\n",
    "An assertion is build by the keyword assert, followed by a boolean expression, followed by an error message.\n",
    "An assertion passes, if the boolean expression returns True.\n",
    "The error message is thrown, if the boolean expression returns False:"
   ]
  },
  {
   "cell_type": "code",
   "execution_count": 5,
   "id": "9ae0510b",
   "metadata": {},
   "outputs": [
    {
     "name": "stdout",
     "output_type": "stream",
     "text": [
      "x =  [0.23333166]\n",
      "y = sqrt(x) =  [0.48304416]\n"
     ]
    }
   ],
   "source": [
    "import numpy as np\n",
    "\n",
    "x = np.random.randn(1)\n",
    "print('x = ', x)\n",
    "\n",
    "assert x >= 0.0, 'the square root of a negative number is forbidden for real values'\n",
    "y = np.sqrt(x)\n",
    "print('y = sqrt(x) = ', y)"
   ]
  },
  {
   "cell_type": "markdown",
   "id": "24d3470e",
   "metadata": {},
   "source": [
    "## Test code versus business code\n",
    "A big advantage of assertions is:\n",
    "They can be disabled during runtime. By this, the developer has all assertions active in his code version and is able to check all parts of his code. On the other hand, all assertions can be disabled for the customer in the business code. By this, the code runs faster and no error messages can confuse the customer.\n",
    "\n",
    "## Code coverage\n",
    "Code coverage explains how much lines of your code are tested continuously by assertions. A code coverage of 100 % means that all of your business code is tested by assertions."
   ]
  },
  {
   "cell_type": "markdown",
   "id": "a6955d90",
   "metadata": {},
   "source": [
    "## Exercise:\n",
    "\n",
    "Write an assertion, which throws an exception, if a random number x is in the range 0.2..0.5."
   ]
  },
  {
   "cell_type": "code",
   "execution_count": null,
   "id": "4c68dad5",
   "metadata": {},
   "outputs": [],
   "source": []
  }
 ],
 "metadata": {
  "kernelspec": {
   "display_name": "Python 3 (ipykernel)",
   "language": "python",
   "name": "python3"
  },
  "language_info": {
   "codemirror_mode": {
    "name": "ipython",
    "version": 3
   },
   "file_extension": ".py",
   "mimetype": "text/x-python",
   "name": "python",
   "nbconvert_exporter": "python",
   "pygments_lexer": "ipython3",
   "version": "3.9.7"
  }
 },
 "nbformat": 4,
 "nbformat_minor": 5
}
