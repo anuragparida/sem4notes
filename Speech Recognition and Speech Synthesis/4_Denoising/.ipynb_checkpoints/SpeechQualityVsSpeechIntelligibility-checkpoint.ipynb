{
 "cells": [
  {
   "cell_type": "markdown",
   "id": "c2336969-9026-4373-9761-d1634ab890ae",
   "metadata": {},
   "source": [
    "## Speech Quality\n",
    "The segmental SNR is a good objective measure for speech quality."
   ]
  },
  {
   "cell_type": "code",
   "execution_count": null,
   "id": "054154b1-6558-425e-ae7c-885fba5c08c4",
   "metadata": {},
   "outputs": [],
   "source": [
    "def SegmentalSNR(x, y, r):\n",
    "    assert x.shape == y.shape, 'x.shape must be euqal to y.shape'\n",
    "    LowerLimit = 0.0\n",
    "    UpperLimit = 35.0\n",
    "    BlockLengthInMs = 10.0\n",
    "    BlockLengthInSamples = int(BlockLengthInMs*r/1000)\n",
    "    SNR = 0.0\n",
    "    idx1 = 0\n",
    "    idx2 = BlockLengthInSamples\n",
    "    BlockCounter = 0\n",
    "    while idx2 < x.shape[0]:\n",
    "        LocalSNR = 10*np.log10(np.sum(x[idx1:idx2]**2) / np.sum((x[idx1:idx2] - y[idx1:idx2])**2))\n",
    "        if LocalSNR > UpperLimit: LocalSNR = UpperLimit\n",
    "        if LocalSNR < LowerLimit: LocaLSNR = LowerLimit\n",
    "        SNR += LocaLSNR\n",
    "        idx1 += BlockLengthInSamples\n",
    "        idx2 += BlockLengthInSamples\n",
    "        BlockCounter += 1\n",
    "    return SNR / BlockCounter"
   ]
  }
 ],
 "metadata": {
  "kernelspec": {
   "display_name": "Python 3 (ipykernel)",
   "language": "python",
   "name": "python3"
  },
  "language_info": {
   "codemirror_mode": {
    "name": "ipython",
    "version": 3
   },
   "file_extension": ".py",
   "mimetype": "text/x-python",
   "name": "python",
   "nbconvert_exporter": "python",
   "pygments_lexer": "ipython3",
   "version": "3.11.4"
  }
 },
 "nbformat": 4,
 "nbformat_minor": 5
}
