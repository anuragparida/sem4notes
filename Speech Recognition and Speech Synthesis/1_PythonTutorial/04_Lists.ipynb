{
 "cells": [
  {
   "cell_type": "markdown",
   "id": "8fc2318f",
   "metadata": {},
   "source": [
    "# Lists\n",
    "\n",
    "Lists can contain any elements, from simple variables up to big structs or even classes.\n",
    "\n",
    "The following example shows the initialization of a list and the filling of the list with some values, e.g. the squared numbers."
   ]
  },
  {
   "cell_type": "code",
   "execution_count": 1,
   "id": "63571833",
   "metadata": {},
   "outputs": [],
   "source": [
    "AList = []\n",
    "for n in range(10):\n",
    "    AList.append(n**2)"
   ]
  },
  {
   "cell_type": "markdown",
   "id": "58f451fe",
   "metadata": {},
   "source": [
    "The list length can be checked by the function len(..):"
   ]
  },
  {
   "cell_type": "code",
   "execution_count": 2,
   "id": "3757b3c2",
   "metadata": {},
   "outputs": [
    {
     "name": "stdout",
     "output_type": "stream",
     "text": [
      "length of the list:  10\n"
     ]
    }
   ],
   "source": [
    "print('length of the list: ', len(AList))"
   ]
  },
  {
   "cell_type": "markdown",
   "id": "bff5e005",
   "metadata": {},
   "source": [
    "The elements of the list can be accesd either bei an iteration over the list:"
   ]
  },
  {
   "cell_type": "code",
   "execution_count": 3,
   "id": "4ed92699",
   "metadata": {},
   "outputs": [
    {
     "name": "stdout",
     "output_type": "stream",
     "text": [
      "the  0 -th element is:  0\n",
      "the  1 -th element is:  1\n",
      "the  2 -th element is:  4\n",
      "the  3 -th element is:  9\n",
      "the  4 -th element is:  16\n",
      "the  5 -th element is:  25\n",
      "the  6 -th element is:  36\n",
      "the  7 -th element is:  49\n",
      "the  8 -th element is:  64\n",
      "the  9 -th element is:  81\n"
     ]
    }
   ],
   "source": [
    "for n in range(len(AList)):\n",
    "    print('the ', n, '-th element is: ', AList[n])"
   ]
  },
  {
   "cell_type": "markdown",
   "id": "be1aa102",
   "metadata": {},
   "source": [
    "Another way of accessing the elements of a list is by direct access:"
   ]
  },
  {
   "cell_type": "code",
   "execution_count": 4,
   "id": "f773b311",
   "metadata": {},
   "outputs": [
    {
     "name": "stdout",
     "output_type": "stream",
     "text": [
      "An element of the list is:  0\n",
      "An element of the list is:  1\n",
      "An element of the list is:  4\n",
      "An element of the list is:  9\n",
      "An element of the list is:  16\n",
      "An element of the list is:  25\n",
      "An element of the list is:  36\n",
      "An element of the list is:  49\n",
      "An element of the list is:  64\n",
      "An element of the list is:  81\n"
     ]
    }
   ],
   "source": [
    "for AElement in AList:\n",
    "    print('An element of the list is: ', AElement)"
   ]
  },
  {
   "cell_type": "markdown",
   "id": "94245a71",
   "metadata": {},
   "source": [
    "## Exercise:\n",
    "\n",
    "Program a loop, which adds up all elements in the list."
   ]
  },
  {
   "cell_type": "code",
   "execution_count": null,
   "id": "6a547fda",
   "metadata": {},
   "outputs": [],
   "source": []
  }
 ],
 "metadata": {
  "kernelspec": {
   "display_name": "Python 3 (ipykernel)",
   "language": "python",
   "name": "python3"
  },
  "language_info": {
   "codemirror_mode": {
    "name": "ipython",
    "version": 3
   },
   "file_extension": ".py",
   "mimetype": "text/x-python",
   "name": "python",
   "nbconvert_exporter": "python",
   "pygments_lexer": "ipython3",
   "version": "3.9.7"
  }
 },
 "nbformat": 4,
 "nbformat_minor": 5
}
