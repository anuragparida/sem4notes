{
 "cells": [
  {
   "cell_type": "markdown",
   "id": "83838965",
   "metadata": {},
   "source": [
    "# Classes\n",
    "Objects are the basic ideas of object orientation.\n",
    "Objects are instances of classes.\n",
    "A class is a collection of procedures and variables, which belongs together.\n",
    "\n",
    "In the following example, the class CCircle describes a circle. This circle has a single property, its radius.\n",
    "\n",
    "A class starts with the keyword \"class\". As always in python, everything belonging to the class is indented.\n",
    "\n",
    "The constructor is always named __init__ in python. The constructor is called, when the class is initialized. The constructor is a good place for initialization of all class variables.\n",
    "\n",
    "If you want to have informations about the object, you use normally getter-functions. This simple example has three getter-functions:\n",
    "GetArea evaluates the area, GetSurrounding evaluates the surrounding and GetRadius returns the internal property, the radius of the circle.\n",
    "\n",
    "If you want to modify properties of the object, setter-functions can be used. This simple example has only one setter-function: SetRadius."
   ]
  },
  {
   "cell_type": "code",
   "execution_count": 2,
   "id": "a9b29e12",
   "metadata": {},
   "outputs": [
    {
     "name": "stdout",
     "output_type": "stream",
     "text": [
      "The area after calling the constructor is A =  0.0\n",
      "The area after setting the Radius is A =  907.9202768874502\n"
     ]
    }
   ],
   "source": [
    "import numpy as np\n",
    "\n",
    "# definition of a class\n",
    "class CCircle():\n",
    "    \n",
    "    # constructor, typically used to initialize all internal variables\n",
    "    def __init__(self):\n",
    "        self.__Radius = 0.0\n",
    "    \n",
    "    # All procedures of the class have the first argument self.\n",
    "    def EvaluateArea(self):\n",
    "        return np.pi * (self.__Radius**2)\n",
    "    \n",
    "    def EvaluateSurrounding(self):\n",
    "        return np.pi * 2 * self.__Radius\n",
    "    \n",
    "    # Access to internal states of the class are usually defined by getter-procedures.\n",
    "    def GetRadius(self):\n",
    "        return self.__Radius\n",
    "    \n",
    "    # Write access to internal states is usually defined by setter-procedures.\n",
    "    def SetRadius(self, NewRadius):\n",
    "        # Setter-Procedures are a good place for securing the internal class states by assertions.\n",
    "        # Never trust a user of a class.\n",
    "        assert NewRadius >= 0.0, 'negative radius is not allowed'\n",
    "        self.__Radius = NewRadius\n",
    "        \n",
    "# the first instance of the class:\n",
    "MyFirstCircle = CCircle() # by this line of code, the constructor is called.\n",
    "print('The area after calling the constructor is A = ', MyFirstCircle.EvaluateArea())\n",
    "MyFirstCircle.SetRadius(17)\n",
    "print('The area after setting the Radius is A = ', MyFirstCircle.EvaluateArea())\n",
    "# checking the functionality of a class by assertions:\n",
    "MyFirstCircle.SetRadius(0)\n",
    "assert np.abs(MyFirstCircle.EvaluateArea() - 0.0) < 1e-10, 'error in evaluation of first area'\n",
    "MyFirstCircle.SetRadius(1)\n",
    "assert np.abs(MyFirstCircle.EvaluateArea() - np.pi) < 1e-10, 'error in evaluation of second area'\n",
    "assert np.abs(MyFirstCircle.EvaluateSurrounding() - 2 * np.pi) < 1e-10, 'error in evaluation of surrounding'"
   ]
  },
  {
   "cell_type": "markdown",
   "id": "12fc93b0",
   "metadata": {},
   "source": [
    "It is possible to create several instances of a class, e.g. in a list:"
   ]
  },
  {
   "cell_type": "code",
   "execution_count": 4,
   "id": "c3b619e2",
   "metadata": {},
   "outputs": [
    {
     "name": "stdout",
     "output_type": "stream",
     "text": [
      "The Surrounding is U =  0.0\n",
      "The Surrounding is U =  6.283185307179586\n",
      "The Surrounding is U =  12.566370614359172\n",
      "The Surrounding is U =  18.84955592153876\n",
      "The Surrounding is U =  25.132741228718345\n",
      "The Surrounding is U =  31.41592653589793\n",
      "The Surrounding is U =  37.69911184307752\n",
      "The Surrounding is U =  43.982297150257104\n",
      "The Surrounding is U =  50.26548245743669\n",
      "The Surrounding is U =  56.548667764616276\n"
     ]
    }
   ],
   "source": [
    "# creating a list of instances\n",
    "AListOfCircles = []\n",
    "for n in range(10):\n",
    "    AListOfCircles.append(CCircle())\n",
    "    AListOfCircles[-1].SetRadius(n)\n",
    "\n",
    "# accessing a list of instances\n",
    "for ACircle in AListOfCircles:\n",
    "    print('The Surrounding is U = ', ACircle.EvaluateSurrounding())"
   ]
  },
  {
   "cell_type": "markdown",
   "id": "82fed140",
   "metadata": {},
   "source": [
    "## Exercise:\n",
    "\n",
    "Write a class, which defines a rectangle. The long side and the short side can be assigned by setter-functions and accessed by getter-functions. The class should have a function to evaluate the area of the rectangle and another function for evaluate the surrounding of the rectangle."
   ]
  },
  {
   "cell_type": "code",
   "execution_count": null,
   "id": "c81714b8",
   "metadata": {},
   "outputs": [],
   "source": []
  }
 ],
 "metadata": {
  "kernelspec": {
   "display_name": "Python 3 (ipykernel)",
   "language": "python",
   "name": "python3"
  },
  "language_info": {
   "codemirror_mode": {
    "name": "ipython",
    "version": 3
   },
   "file_extension": ".py",
   "mimetype": "text/x-python",
   "name": "python",
   "nbconvert_exporter": "python",
   "pygments_lexer": "ipython3",
   "version": "3.9.7"
  }
 },
 "nbformat": 4,
 "nbformat_minor": 5
}
