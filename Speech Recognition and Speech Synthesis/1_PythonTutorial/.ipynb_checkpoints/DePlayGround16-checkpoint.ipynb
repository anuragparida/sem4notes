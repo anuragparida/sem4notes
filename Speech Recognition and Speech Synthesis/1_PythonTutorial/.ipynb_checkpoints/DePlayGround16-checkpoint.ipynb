{
 "cells": [
  {
   "cell_type": "code",
   "execution_count": null,
   "id": "f9b1a4f9-e64d-40d9-bb1a-9c0adb4bb21e",
   "metadata": {},
   "outputs": [],
   "source": [
    "try\n",
    "    p.open(input=True, output = True)\n",
    "except\n",
    "    pass\n",
    "try\n",
    "    if p is not open:\n",
    "        p.open(input=True, output = False)\n",
    "    ThePlaybackBuffer.Deactivate()\n",
    "except\n",
    "    warning('no microfone found')"
   ]
  }
 ],
 "metadata": {
  "kernelspec": {
   "display_name": "Python 3 (ipykernel)",
   "language": "python",
   "name": "python3"
  },
  "language_info": {
   "codemirror_mode": {
    "name": "ipython",
    "version": 3
   },
   "file_extension": ".py",
   "mimetype": "text/x-python",
   "name": "python",
   "nbconvert_exporter": "python",
   "pygments_lexer": "ipython3",
   "version": "3.11.4"
  }
 },
 "nbformat": 4,
 "nbformat_minor": 5
}
