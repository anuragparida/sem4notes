{
 "cells": [
  {
   "cell_type": "markdown",
   "id": "c4b300dd",
   "metadata": {},
   "source": [
    "# Function Pointer\n",
    "\n",
    "Sometimes, code must be flexible enough, to exchange different procedures or functions. Function pointer are a good way to handle such problems.\n",
    "\n",
    "A function pointer is not the function/procedure itself, but the address in the memory of this function/procedure.\n",
    "In order to access this address, the procedure is called without any brackets or arguments:"
   ]
  },
  {
   "cell_type": "code",
   "execution_count": 2,
   "id": "56131f34",
   "metadata": {},
   "outputs": [
    {
     "name": "stdout",
     "output_type": "stream",
     "text": [
      "3+4= 7\n",
      "Address of this procedure in memory is:  <function EvaluateSum at 0x0000027AD5A9F4C0>\n"
     ]
    }
   ],
   "source": [
    "def EvaluateSum(SummandA, SummandB):\n",
    "    return SummandA + SummandB\n",
    "\n",
    "print('3+4=', EvaluateSum(3, 4))   \n",
    "print('Address of this procedure in memory is: ', EvaluateSum)\n"
   ]
  },
  {
   "cell_type": "markdown",
   "id": "a0e8eda5",
   "metadata": {},
   "source": [
    "A simple example for using function pointer is shown below. A class CSignalFlowBlock is defined, which manages its own transfer function defined by a function pointer. Beside this, the signal flow block organises the transfer of the output data to the next processing step and finally it memorizes the last evaluation result."
   ]
  },
  {
   "cell_type": "code",
   "execution_count": 10,
   "id": "6bdce1b8",
   "metadata": {},
   "outputs": [],
   "source": [
    "class CSignalFlowBlock(object):\n",
    "    \n",
    "    def __init__(self, TransferFunctionPointer):\n",
    "        self.__TransferFunctionPointer = TransferFunctionPointer\n",
    "        self.__Output = None\n",
    "        self.__LastOutput = None\n",
    "        \n",
    "    def RegisterOutput(self, NewOutput):\n",
    "        self.__Output = NewOutput\n",
    "        \n",
    "    def ProcessNewData(self, NewData):\n",
    "        self.__LastOutput = self.__TransferFunctionPointer(NewData)\n",
    "        if self.__Output is not None:\n",
    "            self.__Output.ProcessNewData(self.__LastOutput)\n",
    "        return self.__LastOutput\n",
    "    \n",
    "    def GetLastOutput(self):\n",
    "        return self.__LastOutput"
   ]
  },
  {
   "cell_type": "markdown",
   "id": "9b2da013",
   "metadata": {},
   "source": [
    "In the following a set of simple transfer functions are defined:"
   ]
  },
  {
   "cell_type": "code",
   "execution_count": 11,
   "id": "f7632768",
   "metadata": {},
   "outputs": [],
   "source": [
    "import numpy as np\n",
    "\n",
    "def Transferfunction1(x):\n",
    "    return 3*x+1\n",
    "\n",
    "def Transferfunction2(x):\n",
    "    return x**2\n",
    "\n",
    "def Transferfunction3(x):\n",
    "    if np.sum(x) > 0:\n",
    "        return 1.0\n",
    "    else:\n",
    "        return -1.0"
   ]
  },
  {
   "cell_type": "markdown",
   "id": "57c18831",
   "metadata": {},
   "source": [
    "A list of processing steps can be administrated easily by such a concept of signal flow blocks:\n",
    "\n",
    "A list of signal flow blocks is established. All input data is given to the first signal flow block in the list. Each signal flow block organises the transfer function and the propagation of the data to the next signal flow block.\n",
    "\n",
    "The final result can be extracted from the last signal flow block in the list."
   ]
  },
  {
   "cell_type": "code",
   "execution_count": 12,
   "id": "44a37929",
   "metadata": {},
   "outputs": [
    {
     "name": "stdout",
     "output_type": "stream",
     "text": [
      "the result of this chain of signal flow blocks is:  1.0\n"
     ]
    }
   ],
   "source": [
    "ListOfSignalFlowBlocks = []\n",
    "ListOfSignalFlowBlocks.append(CSignalFlowBlock(Transferfunction1))\n",
    "ListOfSignalFlowBlocks.append(CSignalFlowBlock(Transferfunction2))\n",
    "ListOfSignalFlowBlocks.append(CSignalFlowBlock(Transferfunction3))\n",
    "\n",
    "for n in range(len(ListOfSignalFlowBlocks)-1):\n",
    "    ListOfSignalFlowBlocks[n].RegisterOutput(ListOfSignalFlowBlocks[n+1])\n",
    "    \n",
    "ListOfSignalFlowBlocks[0].ProcessNewData(42)\n",
    "print('the result of this chain of signal flow blocks is: ', ListOfSignalFlowBlocks[-1].GetLastOutput())"
   ]
  },
  {
   "cell_type": "markdown",
   "id": "0e0bb0f4",
   "metadata": {},
   "source": [
    "## Exercise:\n",
    "Implement a transfer function, which implements the neutral element (input equal to output)."
   ]
  },
  {
   "cell_type": "code",
   "execution_count": null,
   "id": "faecc997",
   "metadata": {},
   "outputs": [],
   "source": []
  }
 ],
 "metadata": {
  "kernelspec": {
   "display_name": "Python 3 (ipykernel)",
   "language": "python",
   "name": "python3"
  },
  "language_info": {
   "codemirror_mode": {
    "name": "ipython",
    "version": 3
   },
   "file_extension": ".py",
   "mimetype": "text/x-python",
   "name": "python",
   "nbconvert_exporter": "python",
   "pygments_lexer": "ipython3",
   "version": "3.9.7"
  }
 },
 "nbformat": 4,
 "nbformat_minor": 5
}
