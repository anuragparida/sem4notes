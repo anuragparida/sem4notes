{
 "cells": [
  {
   "cell_type": "code",
   "execution_count": null,
   "id": "9188c995-de9a-4b14-8553-e394dc988e4d",
   "metadata": {},
   "outputs": [],
   "source": [
    "class CWriteBuffer(object):\n",
    "\n",
    "    def __init__(self):\n",
    "        self.__Buffer = np.array([0])\n",
    "\n",
    "    def AppendNewSamplesForPlayback(self, NewSamples):\n",
    "        np.concatenate((self.__Buffer, NewSamples))\n",
    "\n",
    "    def GetSamplesForPlayback(self, Buffersize):\n",
    "        # fall 1: weniger Samples vorhanden im self.__Buffer als Buffersize: mit nullen aufgefüllt werden\n",
    "        # fall 2: mehr samples: liefer die ersten Buffersize samples, und verkleinere den buffer.\n",
    "\n",
    "TheWriteBuffer = CWriteBuffer()"
   ]
  },
  {
   "cell_type": "code",
   "execution_count": 2,
   "id": "84f14f08-1a05-462c-bb5f-bd55423ec43b",
   "metadata": {},
   "outputs": [
    {
     "name": "stdout",
     "output_type": "stream",
     "text": [
      "C\n"
     ]
    }
   ],
   "source": [
    "import enum\n",
    "\n",
    "def StateMachineA():\n",
    "    print('A')\n",
    "\n",
    "def StateMachineB():\n",
    "    print('B')\n",
    "\n",
    "def StateMachineC():\n",
    "    print('C')\n",
    "\n",
    "def StateMachineD():\n",
    "    print('D')\n",
    "\n",
    "AProcedureList = []\n",
    "AProcedureList.append(StateMachine.TheStateMachine.getTurnMotorAEvent)\n",
    "AProcedureList.append(StateMachine.TheStateMachine.getTurnMotorBEvent)\n",
    "AProcedureList.append(StateMachineC)\n",
    "AProcedureList.append(StateMachineD)\n",
    "\n",
    "def MotorIfTriggered(MotorIndex):\n",
    "    assert MotorIndex < len(AProcedureList), 'wrong indexing'\n",
    "    assert MotorIndex >= 0, 'wrong indexing'\n",
    "    #if StateMachine.TheStateMachine.getTurnMotorAEvent() & (not self.__checkIfMotorsAreOn()):\n",
    "    if AProcedureList[MotorIndex]() & (not self.__checkIfMotorsAreOn()):\n",
    "MotorIfTriggered(2)\n"
   ]
  },
  {
   "cell_type": "code",
   "execution_count": null,
   "id": "aeb80f61-a071-4c46-98ac-5151ec0be4d8",
   "metadata": {},
   "outputs": [],
   "source": [
    "class CVStacker(self):\n",
    "\n",
    "    def __init__(self):\n",
    "        self.__x = None\n",
    "\n",
    "    def Append(self, f, x):\n",
    "        if self.__x is None:\n",
    "            self.__x = x\n",
    "        else:\n",
    "            self.__x = vstack((self.__x, x))\n",
    "\n",
    "    def Get_x(self):\n",
    "        return self.__x\n"
   ]
  },
  {
   "cell_type": "code",
   "execution_count": null,
   "id": "a3d5c79c-0c8e-4d3c-8e06-3e1ecfd39e44",
   "metadata": {},
   "outputs": [],
   "source": []
  }
 ],
 "metadata": {
  "kernelspec": {
   "display_name": "Python 3 (ipykernel)",
   "language": "python",
   "name": "python3"
  },
  "language_info": {
   "codemirror_mode": {
    "name": "ipython",
    "version": 3
   },
   "file_extension": ".py",
   "mimetype": "text/x-python",
   "name": "python",
   "nbconvert_exporter": "python",
   "pygments_lexer": "ipython3",
   "version": "3.11.4"
  }
 },
 "nbformat": 4,
 "nbformat_minor": 5
}
