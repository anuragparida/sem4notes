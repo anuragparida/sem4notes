{
 "cells": [
  {
   "cell_type": "markdown",
   "id": "060c3132",
   "metadata": {},
   "source": [
    "# Test Driven Development\n",
    "Test Driven Development follows the idea: first implement the interface of the class, then implement the tests, which define the behaviour of this interface. Finally, implement the code for this code.\n",
    "\n",
    "This development strategy ensures, that all classes are tested before used."
   ]
  },
  {
   "cell_type": "markdown",
   "id": "7010c04e",
   "metadata": {},
   "source": [
    "## Exercise:\n",
    "Write the necessary code for the following class, such that all assertions pass and no errors occur."
   ]
  },
  {
   "cell_type": "code",
   "execution_count": 2,
   "id": "d664fc25",
   "metadata": {},
   "outputs": [
    {
     "ename": "TypeError",
     "evalue": "unsupported operand type(s) for -: 'float' and 'NoneType'",
     "output_type": "error",
     "traceback": [
      "\u001b[1;31m---------------------------------------------------------------------------\u001b[0m",
      "\u001b[1;31mTypeError\u001b[0m                                 Traceback (most recent call last)",
      "Input \u001b[1;32mIn [2]\u001b[0m, in \u001b[0;36m<module>\u001b[1;34m\u001b[0m\n\u001b[0;32m      8\u001b[0m x \u001b[38;5;241m=\u001b[39m np\u001b[38;5;241m.\u001b[39mrandom\u001b[38;5;241m.\u001b[39mrandn(\u001b[38;5;241m1000\u001b[39m)\n\u001b[0;32m      9\u001b[0m A1Convolution \u001b[38;5;241m=\u001b[39m CConvolution()\n\u001b[1;32m---> 10\u001b[0m \u001b[38;5;28;01massert\u001b[39;00m np\u001b[38;5;241m.\u001b[39msum(np\u001b[38;5;241m.\u001b[39mabs(\u001b[43mx\u001b[49m\u001b[43m \u001b[49m\u001b[38;5;241;43m-\u001b[39;49m\u001b[43m \u001b[49m\u001b[43mA1Convolution\u001b[49m\u001b[38;5;241;43m.\u001b[39;49m\u001b[43mProcess\u001b[49m\u001b[43m(\u001b[49m\u001b[43mx\u001b[49m\u001b[43m)\u001b[49m)) \u001b[38;5;241m<\u001b[39m \u001b[38;5;241m1e-10\u001b[39m, \u001b[38;5;124m'\u001b[39m\u001b[38;5;124mthe default constructor should assume a convolution with the delta impulse.\u001b[39m\u001b[38;5;124m'\u001b[39m\n\u001b[0;32m     12\u001b[0m h \u001b[38;5;241m=\u001b[39m np\u001b[38;5;241m.\u001b[39mrandom\u001b[38;5;241m.\u001b[39mrandn(\u001b[38;5;241m11\u001b[39m)\n\u001b[0;32m     13\u001b[0m A2Convolution \u001b[38;5;241m=\u001b[39m CConvolution(h)\n",
      "\u001b[1;31mTypeError\u001b[0m: unsupported operand type(s) for -: 'float' and 'NoneType'"
     ]
    }
   ],
   "source": [
    "import numpy as np\n",
    "\n",
    "class CConvolution(object):\n",
    "    \n",
    "    def Process(self, x):\n",
    "        pass\n",
    "\n",
    "x = np.random.randn(1000)\n",
    "A1Convolution = CConvolution()\n",
    "assert np.sum(np.abs(x - A1Convolution.Process(x))) < 1e-10, 'the default constructor should assume a convolution with the delta impulse.'\n",
    "\n",
    "h = np.random.randn(11)\n",
    "A2Convolution = CConvolution(h)\n",
    "y1 = A2Convolution.Process(x)\n",
    "y2 = np.convolve(x, h)\n",
    "y2 = y2[0:x.shape[0]]\n",
    "assert np.sum(np.abs(y1 - y2)), 'error in evaluation of convolution'\n",
    "\n",
    "N = x.shape[0] // 2\n",
    "A3Convolution = CConvolution(h)\n",
    "y3 = A3Convolution.Process(x[0:N])\n",
    "y4 = A3Convolution.Process(x[N:x.shape[0]])\n",
    "y5 = np.concatenate((y3, y4), axis = 0)\n",
    "assert np.sum(np.abs(y1 - y5)), 'error in evaluation of convolion of non overlapping consecutive blocks'\n"
   ]
  }
 ],
 "metadata": {
  "kernelspec": {
   "display_name": "Python 3 (ipykernel)",
   "language": "python",
   "name": "python3"
  },
  "language_info": {
   "codemirror_mode": {
    "name": "ipython",
    "version": 3
   },
   "file_extension": ".py",
   "mimetype": "text/x-python",
   "name": "python",
   "nbconvert_exporter": "python",
   "pygments_lexer": "ipython3",
   "version": "3.9.7"
  }
 },
 "nbformat": 4,
 "nbformat_minor": 5
}
