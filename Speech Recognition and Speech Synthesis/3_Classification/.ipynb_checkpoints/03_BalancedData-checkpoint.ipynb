{
 "cells": [
  {
   "cell_type": "markdown",
   "id": "2e6f4d52",
   "metadata": {},
   "source": [
    "# Balanced data\n",
    "In a supervised learning classification scenario, it is crucial, that all classes has nearly the same number of training samples.\n",
    "\n",
    "A simple counter example for this thesis follows:\n",
    "Assuming a binary classification task, which has to decide if currently voice is active or not. Such a classification task is called voice activity detection (vad). A typical scenario can be: in 90 % of all cases, there is silent. In 10 % of all cases, there is active voice.\n",
    "The trainings data consists of 90 % silence and 10 % of voice recordings.\n",
    "A simple neural network which always classifies silence would produce a 90 % accuracy over this test set. But even with this high accuracy, nothing meaningful is detected by the neural network, because it states always silence.\n",
    "\n",
    "If the classes in the dataset are not represented equally, the data is called imbalanced.\n",
    "If the classes in the dataset are nearly represented equally, the data is called balanced."
   ]
  },
  {
   "cell_type": "code",
   "execution_count": 1,
   "id": "7f7b31c2",
   "metadata": {},
   "outputs": [
    {
     "data": {
      "image/png": "[encoded data removed]",
      "text/plain": [
       "<Figure size 432x288 with 1 Axes>"
      ]
     },
     "metadata": {
      "needs_background": "light"
     },
     "output_type": "display_data"
    },
    {
     "data": {
      "image/png": "[encoded data removed]",
      "text/plain": [
       "<Figure size 432x288 with 1 Axes>"
      ]
     },
     "metadata": {
      "needs_background": "light"
     },
     "output_type": "display_data"
    }
   ],
   "source": [
    "import numpy as np\n",
    "import matplotlib.pyplot as plt\n",
    "\n",
    "x0 = np.ceil(6 * np.random.rand(1000))\n",
    "plt.hist(x0, 6)\n",
    "plt.title('simple example of (nearly) balanced data: simulated dice rolls')\n",
    "plt.show()\n",
    "\n",
    "x1 = (np.random.rand(1000) < 0.1) + 0.0\n",
    "plt.hist(x1, 2)\n",
    "plt.title('simple example of imbalanced data: rainy days and sunny days in Unterfranken')\n",
    "plt.show()"
   ]
  },
  {
   "cell_type": "markdown",
   "id": "dc48ae45",
   "metadata": {},
   "source": [
    "From the above examples it can be derived, that the naming balanced and imbalanced is a statistical classification. By this, it is a bit fuzzy.\n",
    "\n",
    "In order to detect balanced or imbalanced data, the Pearsons chi-squared test can be used\n",
    "(https://en.wikipedia.org/wiki/Pearson%27s_chi-squared_test):\n",
    "\n",
    "We are assuming $N$ observations within $K$ different classes: For a dice roll, we have six different classes ($K=6$). Assuming $N=1000$ dice rolls.\n",
    "The parameter $K$ is also called degree of freedom.\n",
    "\n",
    "For perfectly uniform distributed data, we would expect for each class the observation of $E_i=\\frac{N}{K}\\approx166.67$ occurences.\n",
    "\n",
    "The true number of observations are $O_i$. For a good balanced dice, the number of observations and the expected number of observations should be nearly equal: $O_i\\approx E_i$.\n",
    "\n",
    "The normalised squared error for this assumtion is $X_i^2 = \\frac{\\left(O_i-E_i\\right)^2}{E_i}$.\n",
    "This squared error is summed up over all possible elements (for a dice roll it is summed up six times).\n",
    "\n",
    "Finally, a level of significance is defined, typically $\\alpha=0.05$.\n",
    "The summed up normalised squared error must be smaller than a critical value. In this case, the observed data is uniformly distributed, otherwise not.\n",
    "\n",
    "The critical value is given by the following table.\n",
    "The row is given by $K-1$.\n",
    "The column is given by $1-\\alpha$."
   ]
  },
  {
   "cell_type": "code",
   "execution_count": 5,
   "id": "92b17d9b",
   "metadata": {},
   "outputs": [
    {
     "name": "stdout",
     "output_type": "stream",
     "text": [
      ", 2.705543454095404, 3.841458820694124, 6.6348966010212145\n",
      ", 4.605170185988092, 5.991464547107979, 9.21034037197618\n",
      ", 6.251388631170325, 7.814727903251179, 11.344866730144373\n",
      ", 7.779440339734858, 9.487729036781154, 13.276704135987622\n"
     ]
    }
   ],
   "source": [
    "from scipy.stats import chi2\n",
    "\n",
    "for K in range(2, 6):\n",
    "    s = ''\n",
    "    for alpha in [0.1, 0.05, 0.01]:\n",
    "        CriticalValue = chi2.ppf(1-alpha, K-1)\n",
    "        s += ', ' + str(CriticalValue)\n",
    "    print(s)"
   ]
  },
  {
   "cell_type": "code",
   "execution_count": 2,
   "id": "fbac3281",
   "metadata": {},
   "outputs": [
    {
     "name": "stdout",
     "output_type": "stream",
     "text": [
      "x0 is uniformly distributed\n",
      "x1 is not uniformly distributed\n"
     ]
    }
   ],
   "source": [
    "def PearsonsChiSquaredTestIfObservationIsUniformlyDistributed(x):\n",
    "    UniqueElements = np.unique(x)\n",
    "    E_i = x.shape[0] / UniqueElements.shape[0]\n",
    "    X2 = 0\n",
    "    DegreesOfFreedom = UniqueElements.shape[0]\n",
    "    for n in range(DegreesOfFreedom):\n",
    "        O_i = np.sum(x == UniqueElements[n])\n",
    "        X2 += ((O_i - E_i)**2) / E_i\n",
    "    DegreesOfFreedom -= 1\n",
    "    CriticalValue = chi2.ppf(0.95, DegreesOfFreedom)\n",
    "    return X2 < CriticalValue\n",
    "    \n",
    "if PearsonsChiSquaredTestIfObservationIsUniformlyDistributed(x0):\n",
    "    print('x0 is uniformly distributed')\n",
    "else:\n",
    "    print('x0 is not uniformly distributed')\n",
    "    \n",
    "if PearsonsChiSquaredTestIfObservationIsUniformlyDistributed(x1):\n",
    "    print('x1 is uniformly distributed')\n",
    "else:\n",
    "    print('x1 is not uniformly distributed')"
   ]
  },
  {
   "cell_type": "markdown",
   "id": "ba0b28ec",
   "metadata": {},
   "source": [
    "## Programming exercise:\n",
    "\n",
    "You have collected images from two different animals in wildlife: apes and unicorns.\n",
    "\n",
    "The number of ape-images is 1024.\n",
    "\n",
    "In which range can the number of unicorn-images be, such that these both classes are uniformly distributed."
   ]
  },
  {
   "cell_type": "code",
   "execution_count": 7,
   "id": "d2ee6322",
   "metadata": {},
   "outputs": [
    {
     "name": "stdout",
     "output_type": "stream",
     "text": [
      "Minimum number of unicorns for data being balanced:  938\n",
      "Maximum number of unicorns for data being balanced:  1115\n"
     ]
    }
   ],
   "source": [
    "### solution\n",
    "NumberOfApes = 1024\n",
    "FirstBalancedNumber = -1\n",
    "LastBalancedNumber = -1\n",
    "for n in range(2*NumberOfApes):\n",
    "    x = np.zeros((NumberOfApes + n))\n",
    "    x[0:NumberOfApes] = 1\n",
    "    if PearsonsChiSquaredTestIfObservationIsUniformlyDistributed(x) and (FirstBalancedNumber < 0):\n",
    "        FirstBalancedNumber = n\n",
    "    if (not PearsonsChiSquaredTestIfObservationIsUniformlyDistributed(x)) and (FirstBalancedNumber >= 0) and (LastBalancedNumber < 0):\n",
    "        LastBalancedNumber = n\n",
    "\n",
    "print('Minimum number of unicorns for data being balanced: ', FirstBalancedNumber)\n",
    "print('Maximum number of unicorns for data being balanced: ', LastBalancedNumber)"
   ]
  }
 ],
 "metadata": {
  "kernelspec": {
   "display_name": "Python 3 (ipykernel)",
   "language": "python",
   "name": "python3"
  },
  "language_info": {
   "codemirror_mode": {
    "name": "ipython",
    "version": 3
   },
   "file_extension": ".py",
   "mimetype": "text/x-python",
   "name": "python",
   "nbconvert_exporter": "python",
   "pygments_lexer": "ipython3",
   "version": "3.11.4"
  }
 },
 "nbformat": 4,
 "nbformat_minor": 5
}
