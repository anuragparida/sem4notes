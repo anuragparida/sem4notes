{
 "cells": [
  {
   "cell_type": "code",
   "execution_count": 3,
   "id": "082500ec-6572-400f-a9e5-2121c105c709",
   "metadata": {},
   "outputs": [
    {
     "name": "stdout",
     "output_type": "stream",
     "text": [
      "constructor call\n",
      "constructor call\n",
      "static experiment starts\n",
      "10\n"
     ]
    }
   ],
   "source": [
    "class CSimpleEvaluator(object):\n",
    "\n",
    "    def __init__(self):\n",
    "        print('constructor call')\n",
    "\n",
    "    def EvalSomething(self, x):\n",
    "        return x*x\n",
    "\n",
    "    @staticmethod\n",
    "    def EvalSomethingElse(x):\n",
    "        return x+3\n",
    "        \n",
    "\n",
    "ASimpleEvaluator = CSimpleEvaluator()\n",
    "y = ASimpleEvaluator.EvalSomething(9.3)\n",
    "\n",
    "y = CSimpleEvaluator().EvalSomething(9.3)\n",
    "\n",
    "print('static experiment starts')\n",
    "y = CSimpleEvaluator.EvalSomethingElse(7)\n",
    "print(y)"
   ]
  },
  {
   "cell_type": "code",
   "execution_count": 4,
   "id": "609f8a57-0977-4241-a0f6-7ffcade899b6",
   "metadata": {},
   "outputs": [
    {
     "name": "stdout",
     "output_type": "stream",
     "text": [
      "3.1\n"
     ]
    }
   ],
   "source": [
    "class CVariables(object):\n",
    "\n",
    "    def __init__(self, x, y):\n",
    "        self.__x = x\n",
    "        self.__y = y\n",
    "\n",
    "    def GetX(self):\n",
    "        return self.__x\n",
    "\n",
    "    def GetY(self):\n",
    "        return self.__y\n",
    "\n",
    "AVariables = CVariables(3.1, 2.7)\n",
    "BVariables = CVariables(15, 23)\n",
    "print(AVariables.GetX())\n"
   ]
  },
  {
   "cell_type": "code",
   "execution_count": null,
   "id": "962935a0-fb56-4367-95cb-8e3f13edbe08",
   "metadata": {},
   "outputs": [],
   "source": [
    "class CMasking(object):\n",
    "\n",
    "    def __init__(self, MagnitudeSpec, SamplingRate):\n",
    "        self.__FrequencyHearingThreshold = CFrequencyMaskingFast()\n",
    "        self.__TemporalHearingThreshold = CTemporalHearingThreshold()\n",
    "\n",
    "    def GetMaximumMaskedAmplitudes(self):\n",
    "        y = self.__FrequencyMasking.EvalSomething()\n",
    "        z = self.__TemporalMasking.EvalSomething(y)\n",
    "        return z"
   ]
  }
 ],
 "metadata": {
  "kernelspec": {
   "display_name": "Python 3 (ipykernel)",
   "language": "python",
   "name": "python3"
  },
  "language_info": {
   "codemirror_mode": {
    "name": "ipython",
    "version": 3
   },
   "file_extension": ".py",
   "mimetype": "text/x-python",
   "name": "python",
   "nbconvert_exporter": "python",
   "pygments_lexer": "ipython3",
   "version": "3.11.4"
  }
 },
 "nbformat": 4,
 "nbformat_minor": 5
}
