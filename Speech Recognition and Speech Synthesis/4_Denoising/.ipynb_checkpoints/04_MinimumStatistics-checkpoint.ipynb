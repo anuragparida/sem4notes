{
 "cells": [
  {
   "cell_type": "markdown",
   "id": "0e7e28cc-6619-403d-a786-137a0e2574c8",
   "metadata": {},
   "source": [
    "# Minimum Statistic"
   ]
  },
  {
   "cell_type": "code",
   "execution_count": 3,
   "id": "9b20e7dc-26e3-47d7-9fc3-071ec3a554ba",
   "metadata": {},
   "outputs": [],
   "source": [
    "import wave\n",
    "import numpy as np\n",
    "import os\n",
    "os.chdir('../Python')\n",
    "\n",
    "Filename = 'OldenburgerSatztest.wav'\n",
    "with wave.open(Filename, 'rb') as wave_datei:\n",
    "    rohdaten = wave_datei.readframes(wave_datei.getnframes())\n",
    "    Fs = wave_datei.getframerate()\n",
    "    x = np.frombuffer(rohdaten, dtype=np.int16) / (2**15)"
   ]
  },
  {
   "cell_type": "code",
   "execution_count": 11,
   "id": "4a538d87-45d0-4b05-9905-0b28a7c15ec1",
   "metadata": {},
   "outputs": [],
   "source": [
    "hs_in_ms = 10\n",
    "hs = int(hs_in_ms * Fs / 1000)\n",
    "ws = 2*hs\n",
    "FFTLen = int(2**np.ceil(np.log2(ws)))\n",
    "w = (1-np.cos(2*np.pi*(np.arange(ws)+0.5)/ws)) * 0.5\n",
    "w = np.sqrt(w)\n",
    "NyquistIndex = FFTLen // 2 + 1\n",
    "\n",
    "def GetIndices(col):\n",
    "    idx1 = col*hs\n",
    "    idx2 = idx1+ws\n",
    "    return idx1, idx2\n",
    "\n",
    "def STFT(x):\n",
    "    NumberOfColumns = (x.shape[0] - ws) // hs + 1\n",
    "    X = np.zeros((NyquistIndex, NumberOfColumns), dtype=complex)\n",
    "    for col in range(NumberOfColumns):\n",
    "        idx1, idx2 = GetIndices(col)\n",
    "        x_w = x[idx1:idx2] * w\n",
    "        X[:, col] = np.fft.rfft(x_w, n=FFTLen)\n",
    "    return X\n",
    "\n",
    "def ISTFT(X):\n",
    "    x = np.zeros((X.shape[1] * hs + ws - hs))\n",
    "    for col in range(X.shape[1]):\n",
    "        idx1, idx2 = GetIndices(col)\n",
    "        x_w = np.fft.irfft(X[:, col])\n",
    "        x[idx1:idx2] += x_w[0:ws] * w\n",
    "    return x\n",
    "\n",
    "x_tmp = np.copy(x)\n",
    "X = STFT(x_tmp)\n",
    "y_tmp = ISTFT(X)\n",
    "x_tmp = x_tmp[hs:]\n",
    "y_tmp = y_tmp[hs:-hs]\n",
    "x_tmp = x_tmp[:y_tmp.shape[0]]\n",
    "SNR = 10*np.log10(np.sum(x_tmp**2) / np.sum((x_tmp-y_tmp)**2))\n",
    "assert SNR > 200, 'error in STFT / ISTFT'"
   ]
  },
  {
   "cell_type": "code",
   "execution_count": 13,
   "id": "c8112df8-44d0-4f04-b9d1-ee47b805f4ff",
   "metadata": {},
   "outputs": [],
   "source": [
    "TargetSNR = 10\n",
    "d = np.random.randn(x.shape[0])\n",
    "noise_gain = np.sqrt(np.sum(x**2)/(np.sum(d**2)*(10**(TargetSNR/10))))\n",
    "y = x + noise_gain*d"
   ]
  },
  {
   "cell_type": "code",
   "execution_count": 18,
   "id": "474e6248-2fb3-4022-9857-4dacfb391a12",
   "metadata": {},
   "outputs": [
    {
     "name": "stdout",
     "output_type": "stream",
     "text": [
      "SNR before denoiser =  10.194564977571236\n",
      "SNR after denoiser =  12.328243312282476\n"
     ]
    }
   ],
   "source": [
    "MemoryLengthInMs = 500\n",
    "MemoryLengthInColumns = int(MemoryLengthInMs / hs_in_ms)\n",
    "def ApplyMinimumStatisticDenoiser(X):\n",
    "    X_abs = np.abs(X)\n",
    "    Y = np.zeros(X.shape, dtype = complex)\n",
    "    Buffer = np.zeros((X.shape[0], MemoryLengthInColumns))\n",
    "    OldestColumnInBuffer = 0\n",
    "    for col in range(X.shape[0]):\n",
    "        Buffer[:, OldestColumnInBuffer] = np.copy(X_abs[:, col])\n",
    "        OldestColumnInBuffer = np.mod(OldestColumnInBuffer + 1, Buffer.shape[1])\n",
    "        Noise = np.min(Buffer, axis = 1)\n",
    "        Y[:, col] = X_abs[:, col] - Noise\n",
    "    Y *= np.exp(1j*np.angle(X))\n",
    "    return Y\n",
    "\n",
    "X = STFT(x)\n",
    "Y = STFT(y)\n",
    "Z = ApplyMinimumStatisticDenoiser(Y)\n",
    "\n",
    "SNR_BeforeDenoiser = 10*np.log10(np.sum(np.abs(X)**2) / np.sum((np.abs(X - Y))**2))\n",
    "SNR_AfterDenoiser  = 10*np.log10(np.sum(np.abs(X)**2) / np.sum((np.abs(X - Z))**2))\n",
    "print('SNR before denoiser = ', SNR_BeforeDenoiser)\n",
    "print('SNR after denoiser = ', SNR_AfterDenoiser)"
   ]
  },
  {
   "cell_type": "markdown",
   "id": "ab09757e-4593-498f-9463-02991c2286e3",
   "metadata": {},
   "source": [
    "## Programming Exercise\n",
    "\n",
    "The minimum statistic denoiser decreases the offset of a signal locally to zero. Therefore, it can be interpreted as a lowpass filter. Estimate the impulse response of the minimum statistic denoiser for each frequency band by either the least squares approach or the NLMS algorithm.\n",
    "Transform this impulse response into the transfer function.\n",
    "Is the transfer function a lowpass, a bandpass, a highpass oder an allpass?"
   ]
  }
 ],
 "metadata": {
  "kernelspec": {
   "display_name": "Python 3 (ipykernel)",
   "language": "python",
   "name": "python3"
  },
  "language_info": {
   "codemirror_mode": {
    "name": "ipython",
    "version": 3
   },
   "file_extension": ".py",
   "mimetype": "text/x-python",
   "name": "python",
   "nbconvert_exporter": "python",
   "pygments_lexer": "ipython3",
   "version": "3.11.4"
  }
 },
 "nbformat": 4,
 "nbformat_minor": 5
}
