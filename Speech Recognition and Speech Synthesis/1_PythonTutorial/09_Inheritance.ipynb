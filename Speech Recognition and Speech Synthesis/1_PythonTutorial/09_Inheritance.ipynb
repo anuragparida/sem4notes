{
 "cells": [
  {
   "cell_type": "markdown",
   "id": "f34894a9",
   "metadata": {},
   "source": [
    "# Inheritance\n",
    "In the following example, two classes are introduced.\n",
    "A car with technical parameters like consumption of fuel and amount of fuel.\n",
    "A truck with the same technical parameters as the car. In Germany, trucks need to have a break after a certain amount of driving time. Therefore, the driving time since the last break is recorded in this class."
   ]
  },
  {
   "cell_type": "code",
   "execution_count": 1,
   "id": "fa48b1a5",
   "metadata": {},
   "outputs": [],
   "source": [
    "import numpy as np\n",
    "\n",
    "class CCar(object):\n",
    "    \n",
    "    def __init__(self):\n",
    "        self.__ConsumptionPer100kmInLiter = 6.0\n",
    "        self.__AmountOfFuelInLiter = 0.0\n",
    "        self.__MaximumFuelInLiter = 60.0\n",
    "        self.__DrivenKm = 0.0\n",
    "        \n",
    "    def EvaluateRange(self):\n",
    "        return self.__AmountOfFuelInLiter * 100 / self.__ConsumptionPer100kmInLiter\n",
    "    \n",
    "    def Refuel(self, NewFuelInLiter):\n",
    "        assert NewFuelInLiter >= 0.0, 'someone is stealing your fuel'\n",
    "        self.__AmountOfFuelInLiter += NewFuelInLiter\n",
    "        if self.__AmountOfFuelInLiter > self.__MaximumFuelInLiter:\n",
    "            self.__AmountOfFuelInLiter = self.__MaximumFuelInLiter\n",
    "            \n",
    "    def Drive(self, NewKm):\n",
    "        MaximumRange = self.EvaluateRange()\n",
    "        if NewKm > MaximumRange:\n",
    "            NewKm = MaximumRange\n",
    "        self.__DrivenKm += NewKm\n",
    "        self.__AmountOfFuelInLiter -= self.__ConsumptionPer100kmInLiter * NewKm / 100\n",
    "            \n",
    "class CTruck(object):\n",
    "    \n",
    "    def __init__(self):\n",
    "        self.__ConsumptionPer100kmInLiter = 12.0\n",
    "        self.__AmountOfFuelInLiter = 0.0\n",
    "        self.__MaximumFuelInLiter = 200.0\n",
    "        self.__DrivenKm = 0.0\n",
    "        self.__DrivingTimeSinceLastBreakInHours = 0.0\n",
    "        \n",
    "    def EvaluateRange(self):\n",
    "        return self.__AmountOfFuelInLiter * 100 / self.__ConsumptionPer100kmInLiter\n",
    "    \n",
    "    def Refuel(self, NewFuelInLiter):\n",
    "        assert NewFuelInLiter >= 0.0, 'someone is stealing your fuel'\n",
    "        self.__AmountOfFuelInLiter += NewFuelInLiter\n",
    "        if self.__AmountOfFuelInLiter > self.__MaximumFuelInLiter:\n",
    "            self.__AmountOfFuelInLiter = self.__MaximumFuelInLiter\n",
    "            \n",
    "    def Drive(self, NewKm, SpeedInKmPerHour):\n",
    "        MaximumRange = self.EvaluateRange()\n",
    "        if NewKm > MaximumRange:\n",
    "            NewKm = MaximumRange\n",
    "        self.__DrivenKm += NewKm\n",
    "        self.__AmountOfFuelInLiter -= self.__ConsumptionPer100kmInLiter * NewKm / 100\n",
    "        self.__DrivingTimeSinceLastBreakInHours += NewKm / SpeedInKmPerHour\n",
    "        \n",
    "    def MakeBreak(self):\n",
    "        self.__DrivingTimeSinceLastBreakInHours = 0.0"
   ]
  },
  {
   "cell_type": "markdown",
   "id": "76234dd9",
   "metadata": {},
   "source": [
    "Obviously, a lot of code is written twice for these two very similar classes.\n",
    "On possibility to avoid these code duplications is inheritance, which is one of the basic principles for object orientation.\n",
    "A class is defined, which defines the shared properties and procedures. In python, this class is called super-class.\n",
    "From this super-class variations can be inherited."
   ]
  },
  {
   "cell_type": "code",
   "execution_count": 1,
   "id": "69a19a94",
   "metadata": {},
   "outputs": [],
   "source": [
    "class CCar(object):\n",
    "    \n",
    "    def __init__(self, ConsumptionPer100kmInLiter = 6.0, MaximumFuelInLiter = 60.0):\n",
    "        self.__ConsumptionPer100kmInLiter = ConsumptionPer100kmInLiter\n",
    "        self.__AmountOfFuelInLiter = 0.0\n",
    "        self.__MaximumFuelInLiter = MaximumFuelInLiter\n",
    "        self.__DrivenKm = 0.0\n",
    "        \n",
    "    def EvaluateRange(self):\n",
    "        return self.__AmountOfFuelInLiter * 100 / self.__ConsumptionPer100kmInLiter\n",
    "    \n",
    "    def Refuel(self, NewFuelInLiter):\n",
    "        assert NewFuelInLiter >= 0.0, 'someone is stealing your fuel'\n",
    "        self.__AmountOfFuelInLiter += NewFuelInLiter\n",
    "        if self.__AmountOfFuelInLiter > self.__MaximumFuelInLiter:\n",
    "            self.__AmountOfFuelInLiter = self.__MaximumFuelInLiter\n",
    "            \n",
    "    def Drive(self, NewKm):\n",
    "        MaximumRange = self.EvaluateRange()\n",
    "        if NewKm > MaximumRange:\n",
    "            NewKm = MaximumRange\n",
    "        self.__DrivenKm += NewKm\n",
    "        self.__AmountOfFuelInLiter -= self.__ConsumptionPer100kmInLiter * NewKm / 100\n",
    "        return NewKm\n",
    "\n",
    "class CTruck(CCar):\n",
    "    \n",
    "    def __init__(self):\n",
    "        super().__init__(self, ConsumptionPer100kmInLiter = 12, MaximumFuelInLiter = 200)\n",
    "        self.__DrivingTimeSinceLastBreakInHours = 0.0\n",
    "            \n",
    "    def Drive(self, NewKm, SpeedInKmPerHour):\n",
    "        NewKm = super().Drive(NewKm)\n",
    "        self.__DrivingTimeSinceLastBreakInHours += NewKm / SpeedInKmPerHour\n",
    "        \n",
    "    def MakeBreak(self):\n",
    "        self.__DrivingTimeSinceLastBreakInHours = 0.0"
   ]
  },
  {
   "cell_type": "markdown",
   "id": "a94867a6",
   "metadata": {},
   "source": [
    "## Exercise:\n",
    "\n",
    "Write a third class COmnibus, which has all the properties of the class CTruck. The drivers of an omnibus needs to take care of its driving hours, too.\n",
    "Additionally, the class COmnibus should have a property '__NumberOfPassengers', which should be accessed by a Getter- and a Setter-Procedure."
   ]
  },
  {
   "cell_type": "code",
   "execution_count": null,
   "id": "fc714e51",
   "metadata": {},
   "outputs": [],
   "source": []
  }
 ],
 "metadata": {
  "kernelspec": {
   "display_name": "Python 3 (ipykernel)",
   "language": "python",
   "name": "python3"
  },
  "language_info": {
   "codemirror_mode": {
    "name": "ipython",
    "version": 3
   },
   "file_extension": ".py",
   "mimetype": "text/x-python",
   "name": "python",
   "nbconvert_exporter": "python",
   "pygments_lexer": "ipython3",
   "version": "3.11.4"
  }
 },
 "nbformat": 4,
 "nbformat_minor": 5
}
