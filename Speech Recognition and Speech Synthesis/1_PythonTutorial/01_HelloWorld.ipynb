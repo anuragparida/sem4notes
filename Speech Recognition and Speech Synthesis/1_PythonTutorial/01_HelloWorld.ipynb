{
 "cells": [
  {
   "cell_type": "markdown",
   "id": "5e8d0b81",
   "metadata": {},
   "source": [
    "# Hello World\n",
    "Nearly every programming tutorial starts with a 'Hellor World' program.\n",
    "If you can read this text, the installation of jupyter notebook was successfull.\n",
    "Textboxes like this are used for explaination of the following parts of code.\n",
    "\n",
    "Below this textbox, you can see a code snipplet.\n",
    "In order to execute this piece of code, just press the arrow left of the box containing the code."
   ]
  },
  {
   "cell_type": "code",
   "execution_count": 1,
   "id": "c2a94a9f",
   "metadata": {},
   "outputs": [
    {
     "name": "stdout",
     "output_type": "stream",
     "text": [
      "Hello world\n"
     ]
    }
   ],
   "source": [
    "print('Hello world')"
   ]
  },
  {
   "cell_type": "markdown",
   "id": "e21a3656",
   "metadata": {},
   "source": [
    "After executing the code, the ouput of the code is printed below the box.\n",
    "In this case, only 'Hello world' is printed.\n",
    "\n",
    "Congratulations, you have executed your first python program in a jupyter notebook."
   ]
  },
  {
   "cell_type": "markdown",
   "id": "174d99b5",
   "metadata": {},
   "source": [
    "If you want to add a single line of comments, you can start the comment by a #.\n",
    "\n",
    "If you want to add several lines of comments, you can start and end the comment block by '''."
   ]
  },
  {
   "cell_type": "code",
   "execution_count": 2,
   "id": "af36d98d",
   "metadata": {},
   "outputs": [
    {
     "name": "stdout",
     "output_type": "stream",
     "text": [
      "This is an introduction to comments.\n",
      "Comments are not executed during runtime.\n"
     ]
    }
   ],
   "source": [
    "# This program is a simple HelloWorld example.\n",
    "# These comments can be used, to explain the code.\n",
    "\n",
    "'''\n",
    "If you want to use several lines of code, you can beginn and end them by three quotation marks.\n",
    "Now several lines can be used as comments.\n",
    "'''\n",
    "print('This is an introduction to comments.')\n",
    "# comments can be inserted everywhere.\n",
    "print('Comments are not executed during runtime.')"
   ]
  },
  {
   "cell_type": "markdown",
   "id": "24e0a557",
   "metadata": {},
   "source": [
    "## Exercise:\n",
    "Write a program which outputs the final answer 42.\n",
    "Write a comment block, in which book the final answer is set to 42 forever."
   ]
  },
  {
   "cell_type": "code",
   "execution_count": null,
   "id": "85d01efd",
   "metadata": {},
   "outputs": [],
   "source": []
  }
 ],
 "metadata": {
  "kernelspec": {
   "display_name": "Python 3 (ipykernel)",
   "language": "python",
   "name": "python3"
  },
  "language_info": {
   "codemirror_mode": {
    "name": "ipython",
    "version": 3
   },
   "file_extension": ".py",
   "mimetype": "text/x-python",
   "name": "python",
   "nbconvert_exporter": "python",
   "pygments_lexer": "ipython3",
   "version": "3.11.4"
  }
 },
 "nbformat": 4,
 "nbformat_minor": 5
}
