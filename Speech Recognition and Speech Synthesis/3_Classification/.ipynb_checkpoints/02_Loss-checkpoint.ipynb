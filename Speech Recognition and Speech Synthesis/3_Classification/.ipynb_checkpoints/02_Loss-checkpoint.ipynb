{
 "cells": [
  {
   "cell_type": "markdown",
   "id": "0c3a190a",
   "metadata": {},
   "source": [
    "# Loss\n",
    "In a supervised learning scenario, the loss defines the difference between the wanted true output $o_j$ of a neural network and the current output during the learning process $z_j$. If the loss approaches zero, there is no more difference between the current learned output and the true wanted output: the learning is finished with a perfect result.\n",
    "\n",
    "Two commonly used loss functions are the squared Euclidean distance\n",
    "\n",
    "$L=\\frac{1}{2}\\sum_j \\left(z_j - o_j\\right)^2$\n",
    "\n",
    "or the cross entropy\n",
    "\n",
    "$L=-\\sum_j o_j\\cdot\\log z_j$."
   ]
  },
  {
   "cell_type": "code",
   "execution_count": 1,
   "id": "d855c764",
   "metadata": {},
   "outputs": [
    {
     "name": "stdout",
     "output_type": "stream",
     "text": [
      "squared Euclidean distance =  0.18228927031757786\n",
      "cross entropy =  0.3788834795564171\n"
     ]
    }
   ],
   "source": [
    "import numpy as np\n",
    "\n",
    "o = np.array([0,0,1])\n",
    "z = np.random.rand(o.shape[0])\n",
    "\n",
    "def SquaredEuclideanDistance(x, y):\n",
    "    return 0.5 * np.sum((x-y)**2)\n",
    "\n",
    "def CrossEntropy(x, y):\n",
    "    return -np.sum(x * np.log(y))\n",
    "\n",
    "print('squared Euclidean distance = ', SquaredEuclideanDistance(o, z))\n",
    "print('cross entropy = ', CrossEntropy(o, z))"
   ]
  },
  {
   "cell_type": "markdown",
   "id": "64d3f106",
   "metadata": {},
   "source": [
    "## Gradient\n",
    "In order to use the loss in a gradient descent scenario for supervised training, the first derivate need to be evaluated.\n",
    "\n",
    "The gradient of the Euclidean distance can be evaluated with the following equation:\n",
    "\n",
    "$\\frac{dL}{dz_j} = z_j - o_j$\n",
    "\n",
    "The gradient of the cross entropy is:\n",
    "\n",
    "$\\frac{dL}{dz_j} = -\\frac{o_j}{z_j}$"
   ]
  },
  {
   "cell_type": "code",
   "execution_count": 2,
   "id": "27165732",
   "metadata": {},
   "outputs": [
    {
     "name": "stdout",
     "output_type": "stream",
     "text": [
      "current loss (Euclidean distance)=  0.22061549636963396\n",
      "current loss (Euclidean distance)=  0.1786985520594035\n",
      "current loss (Euclidean distance)=  0.14474582716811682\n",
      "current loss (Euclidean distance)=  0.11724412000617464\n",
      "current loss (Euclidean distance)=  0.09496773720500144\n",
      "current loss (Euclidean distance)=  0.07692386713605116\n",
      "current loss (Euclidean distance)=  0.062308332380201434\n",
      "current loss (Euclidean distance)=  0.050469749227963163\n",
      "current loss (Euclidean distance)=  0.040880496874650174\n",
      "current loss (Euclidean distance)=  0.033113202468466635\n",
      "current loss (cross entropy)=  0.20278110954009274\n",
      "current loss (cross entropy)=  0.0630064999815834\n",
      "current loss (cross entropy)=  -0.04443856375590421\n",
      "current loss (cross entropy)=  -0.13198761190914673\n",
      "current loss (cross entropy)=  -0.2059806015631846\n",
      "current loss (cross entropy)=  -0.27011435072867984\n",
      "current loss (cross entropy)=  -0.32674181735249996\n",
      "current loss (cross entropy)=  -0.3774568253445666\n",
      "current loss (cross entropy)=  -0.42339064753385675\n",
      "current loss (cross entropy)=  -0.4653760806031587\n"
     ]
    }
   ],
   "source": [
    "def SquaredEuclideanDistanceExtended(o, z):\n",
    "    L = 0.5 * np.sum((o - z)**2)\n",
    "    dL_dz = z - o\n",
    "    return L, dL_dz\n",
    "\n",
    "def CrossEntropyExtended(o, z):\n",
    "    L = -np.sum(o * np.log(z))\n",
    "    dL_dz = -o/z\n",
    "    return L, dL_dz\n",
    "\n",
    "# using the gradient descent\n",
    "z = np.random.rand(o.shape[0])\n",
    "mu = 0.1\n",
    "for iter in range(10):\n",
    "    L, dL_dz = SquaredEuclideanDistanceExtended(o, z)\n",
    "    z -= mu * dL_dz\n",
    "    print('current loss (Euclidean distance)= ', L)\n",
    "    \n",
    "# using the gradient descent\n",
    "z = np.random.rand(o.shape[0])\n",
    "mu = 0.1\n",
    "for iter in range(10):\n",
    "    L, dL_dz = CrossEntropyExtended(o, z)\n",
    "    z -= mu * dL_dz\n",
    "    print('current loss (cross entropy)= ', L)"
   ]
  },
  {
   "cell_type": "markdown",
   "id": "0c85f944",
   "metadata": {},
   "source": [
    "## Metric\n",
    "A distance $d$ between two vectors $o$ and $z$ must fullfill three conditions in order to be a metric:\n",
    "\n",
    "a) A metric must be symmetric: $d(o, z) = d(z, o)$.\n",
    "\n",
    "b) A metric must be non-negative: $d(o, z)>0$ for $o\\neq z$ and $d(o, z) = 0$ if and only if $o = z$.\n",
    "\n",
    "c) A metric must fullfill the triangle inequality: $d(o, z) \\leq d(o, x) + d(x, z)$.\n",
    "\n",
    "This is shown in a very simple set of procedures, which checks these three conditions:"
   ]
  },
  {
   "cell_type": "code",
   "execution_count": 3,
   "id": "997934ef",
   "metadata": {},
   "outputs": [
    {
     "name": "stdout",
     "output_type": "stream",
     "text": [
      "no counter examples found,  <function SquaredEuclideanDistance at 0x0000029A310C60C0>   may be a metric\n",
      "counter example found,  <function CrossEntropy at 0x0000029A310C5DA0>  is not a metric.\n"
     ]
    }
   ],
   "source": [
    "eps = 1e-10\n",
    "\n",
    "def CheckSymmetry(FunctionPointer, x, y):\n",
    "    d1 = FunctionPointer(x, y)\n",
    "    d2 = FunctionPointer(y, x)\n",
    "    return np.abs(d1 - d2) < eps\n",
    "\n",
    "def CheckNonNegative(FunctionPointer, x, y):\n",
    "    FirstCheck = np.abs(FunctionPointer(x, x))< eps\n",
    "    SecondCheck = np.abs(FunctionPointer(y, y))< eps\n",
    "    ThirdCheck = FunctionPointer(x, y) >= 0\n",
    "    FourthCheck = FunctionPointer(y, x) >= 0\n",
    "    return (FirstCheck and SecondCheck and ThirdCheck and FourthCheck)\n",
    "\n",
    "def CheckTriangleInequality(FunctionPointer, x, y):\n",
    "    z = np.random.randn(x.shape[0])\n",
    "    d0 = FunctionPointer(x, y)\n",
    "    d1 = FunctionPointer(x, z)\n",
    "    d2 = FunctionPointer(z, y)\n",
    "    return d0 <= (d1 + d2)\n",
    "\n",
    "def CheckMetricByExamples(FunctionPointer):\n",
    "    n = 0\n",
    "    IsMetric = True\n",
    "    while IsMetric and (n < 1000):\n",
    "        n += 1\n",
    "        x = np.abs(np.random.rand(100))\n",
    "        y = np.abs(np.random.rand(x.shape[0]))\n",
    "        IsMetric = IsMetric and CheckSymmetry(FunctionPointer, x, y)\n",
    "        IsMetric = IsMetric and CheckNonNegative(FunctionPointer, x, y)\n",
    "        IsMetric = IsMetric and CheckTriangleInequality(FunctionPointer, x, y)\n",
    "    \n",
    "    if IsMetric:\n",
    "        print('no counter examples found, ', str(FunctionPointer), '  may be a metric')\n",
    "    else:\n",
    "        print('counter example found, ', str(FunctionPointer), ' is not a metric.')\n",
    "        \n",
    "CheckMetricByExamples(SquaredEuclideanDistance)\n",
    "CheckMetricByExamples(CrossEntropy)"
   ]
  },
  {
   "cell_type": "markdown",
   "id": "2affb842",
   "metadata": {},
   "source": [
    "## Exercise:\n",
    "\n",
    "Modify the function 'CheckMetricByExamples', such that that the information is availabe, which condition of a metric is violated."
   ]
  },
  {
   "cell_type": "code",
   "execution_count": 4,
   "id": "c2da184e",
   "metadata": {},
   "outputs": [
    {
     "name": "stdout",
     "output_type": "stream",
     "text": [
      "no counter examples found,  <function SquaredEuclideanDistance at 0x0000029A310C60C0>   may be a metric\n",
      "counter example found,  <function CrossEntropy at 0x0000029A310C5DA0>  is not a metric.\n",
      "symmetry violated\n",
      "non-negativity violated\n",
      "triangle inequality violated\n"
     ]
    },
    {
     "name": "stderr",
     "output_type": "stream",
     "text": [
      "C:\\Users\\spiertz\\AppData\\Local\\Temp\\ipykernel_14928\\444764344.py:10: RuntimeWarning: invalid value encountered in log\n",
      "  return -np.sum(x * np.log(y))\n"
     ]
    }
   ],
   "source": [
    "### solution\n",
    "def CheckMetricByExamples(FunctionPointer):\n",
    "    n = 0\n",
    "    IsMetric = True\n",
    "    while IsMetric and (n < 1000):\n",
    "        n += 1\n",
    "        x = np.abs(np.random.rand(100))\n",
    "        y = np.abs(np.random.rand(x.shape[0]))\n",
    "        SymmetryPassed = CheckSymmetry(FunctionPointer, x, y)\n",
    "        NonNegativityPassed = CheckNonNegative(FunctionPointer, x, y)\n",
    "        TriangleInequalityPassed = CheckTriangleInequality(FunctionPointer, x, y)\n",
    "        IsMetric = IsMetric and SymmetryPassed and NonNegativityPassed and TriangleInequalityPassed\n",
    "    if IsMetric:\n",
    "        print('no counter examples found, ', str(FunctionPointer), '  may be a metric')\n",
    "    else:\n",
    "        print('counter example found, ', str(FunctionPointer), ' is not a metric.')\n",
    "        if not SymmetryPassed: print('symmetry violated')\n",
    "        if not NonNegativityPassed: print('non-negativity violated')\n",
    "        if not TriangleInequalityPassed: print('triangle inequality violated')\n",
    "        \n",
    "CheckMetricByExamples(SquaredEuclideanDistance)\n",
    "CheckMetricByExamples(CrossEntropy)"
   ]
  },
  {
   "cell_type": "code",
   "execution_count": null,
   "id": "de39e307-ef68-46b1-beff-737973cdc346",
   "metadata": {},
   "outputs": [],
   "source": []
  }
 ],
 "metadata": {
  "kernelspec": {
   "display_name": "Python 3 (ipykernel)",
   "language": "python",
   "name": "python3"
  },
  "language_info": {
   "codemirror_mode": {
    "name": "ipython",
    "version": 3
   },
   "file_extension": ".py",
   "mimetype": "text/x-python",
   "name": "python",
   "nbconvert_exporter": "python",
   "pygments_lexer": "ipython3",
   "version": "3.11.4"
  }
 },
 "nbformat": 4,
 "nbformat_minor": 5
}
