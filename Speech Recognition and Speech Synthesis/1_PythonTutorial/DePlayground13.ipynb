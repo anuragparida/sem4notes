{
 "cells": [
  {
   "cell_type": "code",
   "execution_count": null,
   "id": "676d74d2-ba1c-4010-b242-2a8eb6246a7f",
   "metadata": {},
   "outputs": [],
   "source": [
    "class CHMMTrain(obect):\n",
    "\n",
    "    def Train(self):\n",
    "        pass\n",
    "\n",
    "class CHMMPredict(object):\n",
    "\n",
    "    def EvalLogLikelihoods(self):\n",
    "        pass\n",
    "\n",
    "class CHMMSingleCommand(object):\n",
    "\n",
    "    def __init__(self):\n",
    "        self.__HMMTrain = None\n",
    "        self.__HMMPRedict = None\n",
    "\n",
    "    def __GetHMMTrain(self):\n",
    "        if self.__HMMTrain is None:\n",
    "            self.__HMMTrain = CHMMTrain()\n",
    "        return self.__HMMTrain\n",
    "\n",
    "    def __GetHMMPredict(self):\n",
    "        if self.__HMMPRedict is None:\n",
    "            self.__HMMPRedict = CHMMPredict()\n",
    "        return self.__HMMPRedict\n",
    "    \n",
    "    def GetSomething(self):\n",
    "        return 42\n",
    "    \n",
    "    def Train(self):\n",
    "        return self.__GetHMMTrain().Train()\n",
    "\n",
    "    def EvalLogLikelihoods(self):\n",
    "        pass"
   ]
  },
  {
   "cell_type": "code",
   "execution_count": null,
   "id": "fdefec71-3bb9-4ec5-bfc4-06499652a238",
   "metadata": {},
   "outputs": [],
   "source": [
    "class CConstants(object):\n",
    "\n",
    "    def __init__(self):\n",
    "        self.__Logging = True\n",
    "\n",
    "    def GetLogging(self):\n",
    "        return self.__Logging\n",
    "TheConstants = CConstants()\n",
    "\n",
    "class CBusinessCode(object):\n",
    "\n",
    "    def DoSomething(self, LoggingTestFlag = TheConstants.GetLogging()):\n",
    "        if LoggingTestFlag:\n",
    "            return 13\n",
    "        else:\n",
    "            return 17\n",
    "\n",
    "ABusinessCode = CBusinessCode()\n",
    "assert ABusinessCode.DoSomething() == 13, 'something went wrong'\n",
    "assert ABusinessCode.DoSomething(False) == 17, 'something went terrible wrong'"
   ]
  },
  {
   "cell_type": "code",
   "execution_count": null,
   "id": "0a5e1738-75c6-4edc-86f6-6ac883ba6992",
   "metadata": {},
   "outputs": [],
   "source": [
    "import librosa\n",
    "x, Fs, bits = WaveInterface.WaveRead(...)\n",
    "y = librosa.resample(x, Fs, TargetSamplingRate)\n",
    "AVoskSFB = CVoskSignalFlowBlock()\n",
    "AVoskSFB.Initialize(TargetSamplingRate)\n",
    "AVoskSFB.Start()\n",
    "output = AVoskSFB.InputConnector(y)\n",
    "d = lev(output, 'Pferde schnauben nicht die Nase')"
   ]
  }
 ],
 "metadata": {
  "kernelspec": {
   "display_name": "Python 3 (ipykernel)",
   "language": "python",
   "name": "python3"
  },
  "language_info": {
   "codemirror_mode": {
    "name": "ipython",
    "version": 3
   },
   "file_extension": ".py",
   "mimetype": "text/x-python",
   "name": "python",
   "nbconvert_exporter": "python",
   "pygments_lexer": "ipython3",
   "version": "3.11.4"
  }
 },
 "nbformat": 4,
 "nbformat_minor": 5
}
