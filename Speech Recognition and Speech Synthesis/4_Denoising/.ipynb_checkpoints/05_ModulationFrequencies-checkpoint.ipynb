{
 "cells": [
  {
   "cell_type": "markdown",
   "id": "7311945f-0237-4e99-9b80-644a5ffc1212",
   "metadata": {},
   "source": [
    "# Modulation Frequencies"
   ]
  },
  {
   "cell_type": "markdown",
   "id": "2a58b230-d2e2-4464-85ac-b71be599406e",
   "metadata": {},
   "source": [
    "## Speech Transmission Index"
   ]
  },
  {
   "cell_type": "code",
   "execution_count": null,
   "id": "05a44ec3-1d5d-46f4-95e8-85ec46e23710",
   "metadata": {},
   "outputs": [],
   "source": [
    "# code by ChatGPT\n",
    "def generate_modulated_signal(frequency, modulation_index, duration, sampling_rate):\n",
    "    t = np.linspace(0, duration, int(sampling_rate * duration), endpoint=False)\n",
    "    signal = np.sin(2 * np.pi * frequency * t)\n",
    "    modulator = 1 + modulation_index * np.sin(2 * np.pi * 3 * t)  # Beispielhaftes Modulationssignal\n",
    "\n",
    "    modulated_signal = signal * modulator\n",
    "\n",
    "    return modulated_signal, t"
   ]
  }
 ],
 "metadata": {
  "kernelspec": {
   "display_name": "Python 3 (ipykernel)",
   "language": "python",
   "name": "python3"
  },
  "language_info": {
   "codemirror_mode": {
    "name": "ipython",
    "version": 3
   },
   "file_extension": ".py",
   "mimetype": "text/x-python",
   "name": "python",
   "nbconvert_exporter": "python",
   "pygments_lexer": "ipython3",
   "version": "3.11.4"
  }
 },
 "nbformat": 4,
 "nbformat_minor": 5
}
